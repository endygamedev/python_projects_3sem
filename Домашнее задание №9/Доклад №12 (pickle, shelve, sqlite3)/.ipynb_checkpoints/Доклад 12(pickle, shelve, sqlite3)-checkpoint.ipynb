{
 "cells": [
  {
   "cell_type": "markdown",
   "metadata": {
    "id": "xgYCOduEqN17"
   },
   "source": [
    "# **Pickle**"
   ]
  },
  {
   "cell_type": "markdown",
   "metadata": {
    "id": "t3Em32D_q8fH"
   },
   "source": [
    "Модуль pickle предназначен для удобной сериализации и десериализации объектов Python. \n",
    "\n",
    "**Сериализация** - процесс преобразования объекта Python в поток байтов.\n",
    "\n",
    "**Десериализация** - обратная операция, в результате которой поток байтов преобразуется обратно в Python-объект."
   ]
  },
  {
   "cell_type": "markdown",
   "metadata": {
    "id": "1QN3hbZQ8sVv"
   },
   "source": [
    "[Ссылка на официальную документацию](https://docs.python.org/3/library/pickle.html)"
   ]
  },
  {
   "cell_type": "markdown",
   "metadata": {
    "id": "iVVjACYH7_KP"
   },
   "source": [
    "## Основные методы\n",
    "\n"
   ]
  },
  {
   "cell_type": "markdown",
   "metadata": {
    "id": "l1OC4ojvrhRe"
   },
   "source": [
    "Модуль pickle предоставляет следующие функции для удобства сохранения/загрузки объектов:"
   ]
  },
  {
   "cell_type": "code",
   "execution_count": null,
   "metadata": {
    "id": "7ZSGJzmYGXBi"
   },
   "outputs": [],
   "source": [
    "import pickle\n",
    "\n",
    "testData = {\n",
    "    'a': [1, 2.0, 3, (4+6j)], \n",
    "    'b': ('character string', b'byte string'), \n",
    "    'c': {None, True, False}\n",
    "}"
   ]
  },
  {
   "cell_type": "markdown",
   "metadata": {
    "id": "ioOg3v2urD_w"
   },
   "source": [
    "1) **dump** - записывает сериализованный объект в файл. "
   ]
  },
  {
   "cell_type": "code",
   "execution_count": null,
   "metadata": {
    "id": "GFx_qcmCvfDk"
   },
   "outputs": [],
   "source": [
    "with open('data.pickle', 'wb') as f:\n",
    "    pickle.dump(testData, f)"
   ]
  },
  {
   "cell_type": "markdown",
   "metadata": {
    "id": "kPsuCd5DyapA"
   },
   "source": [
    "2) **load** - загружает объект из файла."
   ]
  },
  {
   "cell_type": "code",
   "execution_count": null,
   "metadata": {
    "colab": {
     "base_uri": "https://localhost:8080/"
    },
    "id": "R8gzvg2Vv4ik",
    "outputId": "2741240d-ec55-486a-bbbf-bce920f85a22"
   },
   "outputs": [
    {
     "name": "stdout",
     "output_type": "stream",
     "text": [
      "{'a': [1, 2.0, 3, (4+6j)], 'b': ('character string', b'byte string'), 'c': {None, True, False}}\n"
     ]
    }
   ],
   "source": [
    "with open('data.pickle', 'rb') as f:\n",
    "    data_new = pickle.load(f)\n",
    "\n",
    "print(data_new)"
   ]
  },
  {
   "cell_type": "markdown",
   "metadata": {
    "id": "jI-D7ebTzNZ0"
   },
   "source": [
    "3) **dumps** - возвращает сериализованный объект."
   ]
  },
  {
   "cell_type": "code",
   "execution_count": null,
   "metadata": {
    "colab": {
     "base_uri": "https://localhost:8080/",
     "height": 55
    },
    "id": "TKvW2RG3zXez",
    "outputId": "649ec6ca-147a-4b07-dcf3-78ff1317da64"
   },
   "outputs": [
    {
     "name": "stdout",
     "output_type": "stream",
     "text": [
      "b'\\x80\\x03}q\\x00(X\\x01\\x00\\x00\\x00aq\\x01]q\\x02(K\\x01G@\\x00\\x00\\x00\\x00\\x00\\x00\\x00K\\x03cbuiltins\\ncomplex\\nq\\x03G@\\x10\\x00\\x00\\x00\\x00\\x00\\x00G@\\x18\\x00\\x00\\x00\\x00\\x00\\x00\\x86q\\x04Rq\\x05eX\\x01\\x00\\x00\\x00bq\\x06X\\x10\\x00\\x00\\x00character stringq\\x07C\\x0bbyte stringq\\x08\\x86q\\tX\\x01\\x00\\x00\\x00cq\\ncbuiltins\\nset\\nq\\x0b]q\\x0c(N\\x88\\x89e\\x85q\\rRq\\x0eu.'\n"
     ]
    }
   ],
   "source": [
    "binaryData = pickle.dumps(testData)\n",
    "print(binaryData)"
   ]
  },
  {
   "cell_type": "markdown",
   "metadata": {
    "id": "cENy9ZhPrbGf"
   },
   "source": [
    "4) **loads** - загружает объект из потока байт."
   ]
  },
  {
   "cell_type": "code",
   "execution_count": null,
   "metadata": {
    "colab": {
     "base_uri": "https://localhost:8080/",
     "height": 35
    },
    "id": "uwEfc4hiz5gC",
    "outputId": "ef90f1c5-e977-4cff-fbef-d9dda813bcf5"
   },
   "outputs": [
    {
     "name": "stdout",
     "output_type": "stream",
     "text": [
      "{'a': [1, 2.0, 3, (4+6j)], 'b': ('character string', b'byte string'), 'c': {None, True, False}}\n"
     ]
    }
   ],
   "source": [
    "originalData = pickle.loads(binaryData)\n",
    "print(originalData)"
   ]
  },
  {
   "cell_type": "markdown",
   "metadata": {
    "id": "aHhS7DifSuWc"
   },
   "source": [
    "Pickle работает не только со встроенными типами python, но также с *пользовательскими типами*"
   ]
  },
  {
   "cell_type": "markdown",
   "metadata": {
    "id": "LKINoGd6U-Qe"
   },
   "source": [
    "## Задание"
   ]
  },
  {
   "cell_type": "markdown",
   "metadata": {
    "id": "miIsbNJbVHaS"
   },
   "source": [
    "Создайте свой класс и с помощью **pickle** запишите его в файл под название \"MyClassInFile\"\n"
   ]
  },
  {
   "cell_type": "markdown",
   "metadata": {
    "id": "e504Nk1JqSWR"
   },
   "source": [
    "# **Shelve**"
   ]
  },
  {
   "cell_type": "markdown",
   "metadata": {
    "id": "A_iD5YH-EIgp"
   },
   "source": [
    "Shelve позволяет работать с файлом, как со словарем\n",
    "\n",
    "Он сохраняет объекты в файл с определенным ключом. Затем по этому ключу может извлечь ранее сохраненный объект из файла."
   ]
  },
  {
   "cell_type": "markdown",
   "metadata": {
    "id": "Z4vRiJqRE3Wv"
   },
   "source": [
    "[Ссылка на официальную документацию](https://docs.python.org/3/library/shelve.html)"
   ]
  },
  {
   "cell_type": "code",
   "execution_count": null,
   "metadata": {
    "colab": {
     "base_uri": "https://localhost:8080/"
    },
    "id": "ctLSy_OxUL_c",
    "outputId": "29f694b8-02b5-4586-a64c-384aa02fd8b6"
   },
   "outputs": [
    {
     "name": "stdout",
     "output_type": "stream",
     "text": [
      "Great Britain\n",
      "Spain\n"
     ]
    }
   ],
   "source": [
    "import shelve\n",
    " \n",
    "with shelve.open(\"states\") as states:\n",
    "    states[\"London\"] = \"Great Britain\"\n",
    "    states[\"Paris\"] = \"France\"\n",
    "    states[\"Berlin\"] = \"Germany\"\n",
    "    states[\"Madrid\"] = \"Spain\"\n",
    " \n",
    "with shelve.open(\"states\") as states:\n",
    "    print(states[\"London\"])\n",
    "    print(states[\"Madrid\"])"
   ]
  },
  {
   "cell_type": "markdown",
   "metadata": {
    "id": "7SyRGmLcbqlF"
   },
   "source": [
    "## Получение данных"
   ]
  },
  {
   "cell_type": "markdown",
   "metadata": {
    "id": "N4BwHpDpdSGg"
   },
   "source": [
    "Для получения данных можно использовать метод **get()**. Первый параметр метода - ключ, по которому следует получить значение, а второй - значение по умолчанию, которое возвращается, если ключ не найден."
   ]
  },
  {
   "cell_type": "code",
   "execution_count": null,
   "metadata": {
    "colab": {
     "base_uri": "https://localhost:8080/",
     "height": 35
    },
    "id": "2W3vGF7jdYaf",
    "outputId": "cf2a72c4-e76a-4b07-a555-1dc8d5ce8b4e"
   },
   "outputs": [
    {
     "name": "stdout",
     "output_type": "stream",
     "text": [
      "Belgium\n"
     ]
    }
   ],
   "source": [
    "with shelve.open(\"states\") as states:\n",
    "    state = states.get(\"Brussels\", \"Undefined\")\n",
    "    print(state)"
   ]
  },
  {
   "cell_type": "markdown",
   "metadata": {
    "id": "1VCTD-xfdbcv"
   },
   "source": [
    "Используя цикл for, можно перебрать все значения из файла:"
   ]
  },
  {
   "cell_type": "code",
   "execution_count": null,
   "metadata": {
    "colab": {
     "base_uri": "https://localhost:8080/",
     "height": 90
    },
    "id": "vRGDo4Kjdh-m",
    "outputId": "b2631de2-2ffc-4b43-f515-341a6885a22d"
   },
   "outputs": [
    {
     "name": "stdout",
     "output_type": "stream",
     "text": [
      "Berlin  -  Germany\n",
      "London  -  United Kingdom\n",
      "Brussels  -  Belgium\n",
      "Paris  -  France\n"
     ]
    }
   ],
   "source": [
    "with shelve.open(\"states\") as states:\n",
    "    for key in states:\n",
    "        print(key,\" - \", states[key])"
   ]
  },
  {
   "cell_type": "markdown",
   "metadata": {
    "id": "PAQGTJ8od_we"
   },
   "source": [
    "Метод **keys()** возвращает все ключи из файла, а метод **values()** - все значения"
   ]
  },
  {
   "cell_type": "code",
   "execution_count": null,
   "metadata": {
    "colab": {
     "base_uri": "https://localhost:8080/",
     "height": 54
    },
    "id": "olXgodQEeEyM",
    "outputId": "478f0c53-0a66-441f-d0fc-f158f967f3aa"
   },
   "outputs": [
    {
     "name": "stdout",
     "output_type": "stream",
     "text": [
      "Berlin London Brussels Paris \n",
      "Germany United Kingdom Belgium France "
     ]
    }
   ],
   "source": [
    "with shelve.open(\"states\") as states: \n",
    "    for city in states.keys():\n",
    "        print(city, end=\" \")\n",
    "    print()\n",
    "    for country in states.values():\n",
    "        print(country, end=\" \")"
   ]
  },
  {
   "cell_type": "markdown",
   "metadata": {
    "id": "vedK7596eDQw"
   },
   "source": [
    "Еще один метод **items()** возвращает набор кортежей. Каждый кортеж содержит ключ и значение"
   ]
  },
  {
   "cell_type": "code",
   "execution_count": null,
   "metadata": {
    "colab": {
     "base_uri": "https://localhost:8080/",
     "height": 90
    },
    "id": "ejpAByPaeXpl",
    "outputId": "666befe1-a7a5-4b57-fe1a-8bbc06d5fab5"
   },
   "outputs": [
    {
     "name": "stdout",
     "output_type": "stream",
     "text": [
      "('Berlin', 'Germany')\n",
      "('London', 'United Kingdom')\n",
      "('Brussels', 'Belgium')\n",
      "('Paris', 'France')\n"
     ]
    }
   ],
   "source": [
    "with shelve.open(\"states\") as states: \n",
    "    for state in states.items():\n",
    "        print(state)"
   ]
  },
  {
   "cell_type": "markdown",
   "metadata": {
    "id": "xitCnKHxa-jf"
   },
   "source": [
    "## Обновление данных"
   ]
  },
  {
   "cell_type": "markdown",
   "metadata": {
    "id": "R1UOWNUAbFO3"
   },
   "source": [
    "Для изменения данных достаточно присвоить по ключу новое значение, а для добавления данных - определить новый ключ"
   ]
  },
  {
   "cell_type": "code",
   "execution_count": null,
   "metadata": {
    "colab": {
     "base_uri": "https://localhost:8080/",
     "height": 90
    },
    "id": "4JpptYgmbJRm",
    "outputId": "23411960-5824-404e-ac05-efa331953a51"
   },
   "outputs": [
    {
     "name": "stdout",
     "output_type": "stream",
     "text": [
      "Berlin  -  Germany\n",
      "London  -  United Kingdom\n",
      "Brussels  -  Belgium\n",
      "Paris  -  France\n"
     ]
    }
   ],
   "source": [
    "with shelve.open(\"states\") as states:\n",
    "    states[\"London\"] = \"United Kingdom\"\n",
    "    states[\"Brussels\"] = \"Belgium\"\n",
    "    \n",
    "    for key in states:\n",
    "        print(key, \" - \", states[key])"
   ]
  },
  {
   "cell_type": "markdown",
   "metadata": {
    "id": "e3MP1uraZu3D"
   },
   "source": [
    "## Удаление данных"
   ]
  },
  {
   "cell_type": "markdown",
   "metadata": {
    "id": "mAk_aRJbaAYq"
   },
   "source": [
    "Для удаления с одновременным получением можно использовать функцию **pop**, в которую передается ключ элемента и значение по умолчанию, если ключ не найден"
   ]
  },
  {
   "cell_type": "code",
   "execution_count": null,
   "metadata": {
    "colab": {
     "base_uri": "https://localhost:8080/",
     "height": 35
    },
    "id": "lEpd1iltaHBS",
    "outputId": "20b52748-8a8d-41de-9e24-e8231ca0f76e"
   },
   "outputs": [
    {
     "name": "stdout",
     "output_type": "stream",
     "text": [
      "United Kingdom\n"
     ]
    }
   ],
   "source": [
    "with shelve.open(\"states\") as states:\n",
    "    state = states.pop(\"London\", \"NotFound\")\n",
    "    print(state)"
   ]
  },
  {
   "cell_type": "markdown",
   "metadata": {
    "id": "lGW38ToDajTE"
   },
   "source": [
    "Также для удаления может применяться оператор **del**"
   ]
  },
  {
   "cell_type": "code",
   "execution_count": null,
   "metadata": {
    "id": "1OeixyF9aoBh"
   },
   "outputs": [],
   "source": [
    "with shelve.open(\"states\") as states:\n",
    "    del states[\"Madrid\"]  "
   ]
  },
  {
   "cell_type": "markdown",
   "metadata": {
    "id": "-786lMHGa0mY"
   },
   "source": [
    "Для удаления всех элементов можно использовать метод **clear**"
   ]
  },
  {
   "cell_type": "code",
   "execution_count": null,
   "metadata": {
    "id": "N1EbJvnTa5K4"
   },
   "outputs": [],
   "source": [
    "with shelve.open(FILENAME) as states:\n",
    "    states.clear()"
   ]
  },
  {
   "cell_type": "markdown",
   "metadata": {
    "id": "r9GPzbTjk0zo"
   },
   "source": [
    "## Задание"
   ]
  },
  {
   "cell_type": "markdown",
   "metadata": {
    "id": "0MIfxPGqOynV"
   },
   "source": [
    "С помощью **shelve** создайте файл \"MyFavoriteMovies\", и запишите в него названия своих любимых фильмов. В качестве ключей используйте имена режисеров"
   ]
  },
  {
   "cell_type": "markdown",
   "metadata": {
    "id": "BGo-5hn0qV1R"
   },
   "source": [
    "# **Sqlite3**"
   ]
  },
  {
   "cell_type": "markdown",
   "metadata": {
    "id": "xtECUswU0rOT"
   },
   "source": [
    "Sqlite3 - это модуль, позволяющий использовать базу данных на диске, без подключения к серверу"
   ]
  },
  {
   "cell_type": "markdown",
   "metadata": {
    "id": "93RMtIS714D4"
   },
   "source": [
    "[Ссылка на официальную документацию](https://docs.python.org/2/library/sqlite3.html)"
   ]
  },
  {
   "cell_type": "markdown",
   "metadata": {
    "id": "vA0i8r-D2AO_"
   },
   "source": [
    "## Создание базы данных"
   ]
  },
  {
   "cell_type": "markdown",
   "metadata": {
    "id": "xJtU623y2aBw"
   },
   "source": [
    "Сначала с помощью функции **connect(name)** создадим связь с базой данных, в переменную **name** можно передать название файла или специальную строку **“:memory:”** для создания базы данных в памяти."
   ]
  },
  {
   "cell_type": "code",
   "execution_count": null,
   "metadata": {
    "id": "AbFlIUFh2S0Y"
   },
   "outputs": [],
   "source": [
    "import sqlite3\n",
    " \n",
    "conn = sqlite3.connect(\"mydatabase.db\") # или :memory: чтобы сохранить в RAM"
   ]
  },
  {
   "cell_type": "markdown",
   "metadata": {
    "id": "vYuK-sXB3nr3"
   },
   "source": [
    "Далее мы создаем объект **cursor**, который позволяет нам взаимодействовать с базой данных и добавлять записи"
   ]
  },
  {
   "cell_type": "code",
   "execution_count": null,
   "metadata": {
    "id": "xzAOR5Qf3eE2"
   },
   "outputs": [],
   "source": [
    "cursor = conn.cursor()"
   ]
  },
  {
   "cell_type": "markdown",
   "metadata": {
    "id": "sZr6Inh44JB9"
   },
   "source": [
    "С помощью метода **execute** мы можем выполнять любые *sql-команды* на нашей базе данных. Здесь мы создаем таблицу под названием albums с тремя следующими полями: title, artist, release_date. \n",
    "\n",
    "SQLite поддерживает только пять типов данных: **null, integer, real, text и blob**. "
   ]
  },
  {
   "cell_type": "code",
   "execution_count": null,
   "metadata": {
    "colab": {
     "base_uri": "https://localhost:8080/",
     "height": 35
    },
    "id": "-N6Fw24q3tdG",
    "outputId": "1ad5b3cd-fae5-4522-b42e-7927b5b70fff"
   },
   "outputs": [
    {
     "data": {
      "text/plain": [
       "<sqlite3.Cursor at 0x7fb0037fdc70>"
      ]
     },
     "execution_count": 3,
     "metadata": {
      "tags": []
     },
     "output_type": "execute_result"
    }
   ],
   "source": [
    "cursor.execute(\"CREATE TABLE albums (title text, artist text, release_date text)\")"
   ]
  },
  {
   "cell_type": "markdown",
   "metadata": {
    "id": "XWCex9FL5Evl"
   },
   "source": [
    "Если запустить команду **CREATE TABLE**, и при этом база данных уже существует, вы получите сообщение об ошибке."
   ]
  },
  {
   "cell_type": "code",
   "execution_count": null,
   "metadata": {
    "colab": {
     "base_uri": "https://localhost:8080/",
     "height": 172
    },
    "id": "wjbLgloM5fil",
    "outputId": "5072e68e-6c4d-461f-9cd2-4c2b21518ef8"
   },
   "outputs": [
    {
     "ename": "OperationalError",
     "evalue": "ignored",
     "output_type": "error",
     "traceback": [
      "\u001b[0;31m---------------------------------------------------------------------------\u001b[0m",
      "\u001b[0;31mOperationalError\u001b[0m                          Traceback (most recent call last)",
      "\u001b[0;32m<ipython-input-4-39daf900bc5b>\u001b[0m in \u001b[0;36m<module>\u001b[0;34m()\u001b[0m\n\u001b[0;32m----> 1\u001b[0;31m \u001b[0mcursor\u001b[0m\u001b[0;34m.\u001b[0m\u001b[0mexecute\u001b[0m\u001b[0;34m(\u001b[0m\u001b[0;34m\"CREATE TABLE albums (title text, artist text, release_date text)\"\u001b[0m\u001b[0;34m)\u001b[0m\u001b[0;34m\u001b[0m\u001b[0;34m\u001b[0m\u001b[0m\n\u001b[0m",
      "\u001b[0;31mOperationalError\u001b[0m: table albums already exists"
     ]
    }
   ],
   "source": [
    "cursor.execute(\"CREATE TABLE albums (title text, artist text, release_date text)\")"
   ]
  },
  {
   "cell_type": "markdown",
   "metadata": {
    "id": "oVDKMYCO54Hl"
   },
   "source": [
    "## Вставка данных"
   ]
  },
  {
   "cell_type": "markdown",
   "metadata": {
    "id": "tB9VQlqG5-6M"
   },
   "source": [
    "Используем команду **INSERT INTO** чтобы вставить запись в нашу базу данных. Обратите внимание на то, что каждый объект находится в *одинарных кавычках*."
   ]
  },
  {
   "cell_type": "code",
   "execution_count": null,
   "metadata": {
    "colab": {
     "base_uri": "https://localhost:8080/"
    },
    "id": "d41ugCH-_GBB",
    "outputId": "53c3682f-15e4-410c-a30b-d11979df7482"
   },
   "outputs": [
    {
     "data": {
      "text/plain": [
       "<sqlite3.Cursor at 0x7fb0037fdc70>"
      ]
     },
     "execution_count": 5,
     "metadata": {
      "tags": []
     },
     "output_type": "execute_result"
    }
   ],
   "source": [
    "cursor.execute(\"INSERT INTO albums VALUES ('Glow', 'Andy Hunter', '7/24/2012')\")"
   ]
  },
  {
   "cell_type": "markdown",
   "metadata": {
    "id": "Wh6gSaaE_SY2"
   },
   "source": [
    "Метод **commit** сохраняет внесенные изменения в базу данных"
   ]
  },
  {
   "cell_type": "code",
   "execution_count": null,
   "metadata": {
    "id": "Kk59DTnV_a4W"
   },
   "outputs": [],
   "source": [
    "conn.commit()"
   ]
  },
  {
   "cell_type": "markdown",
   "metadata": {
    "id": "wUbmy4Ac_nHO"
   },
   "source": [
    "Метод **executemany** позволяет добавить сразу несколько записей"
   ]
  },
  {
   "cell_type": "code",
   "execution_count": null,
   "metadata": {
    "id": "3KnjZhs1_7GH"
   },
   "outputs": [],
   "source": [
    "albums = [('Exodus', 'Andy Hunter', '7/9/2002'),\n",
    "          ('Until We Have Faces', 'Red', '2/1/2011'),\n",
    "          ('The End is Where We Begin', 'Thousand Foot Krutch', '4/17/2012'),\n",
    "          ('The Good Life', 'Trip Lee', '4/10/2012')]\n",
    "\n",
    "cursor.executemany(\"INSERT INTO albums VALUES (?,?,?)\", albums)\n",
    "conn.commit()"
   ]
  },
  {
   "cell_type": "markdown",
   "metadata": {
    "id": "On5BiykMrYZO"
   },
   "source": [
    "## Обновление и удаление данных"
   ]
  },
  {
   "cell_type": "markdown",
   "metadata": {
    "id": "VCym5kpGApCk"
   },
   "source": [
    "Таким же образом можно легко *обновлять и удалять* данные."
   ]
  },
  {
   "cell_type": "code",
   "execution_count": null,
   "metadata": {
    "id": "SkB3RV-VA7J8"
   },
   "outputs": [],
   "source": [
    "sql = \"\"\"\n",
    "UPDATE albums \n",
    "SET artist = 'John Doe' \n",
    "WHERE artist = 'Andy Hunter'\n",
    "\"\"\"\n",
    " \n",
    "cursor.execute(sql)\n",
    "conn.commit()"
   ]
  },
  {
   "cell_type": "code",
   "execution_count": null,
   "metadata": {
    "id": "sqe3LxDNA9M8"
   },
   "outputs": [],
   "source": [
    "sql = \"DELETE FROM albums WHERE artist = 'John Doe'\"\n",
    " \n",
    "cursor.execute(sql)\n",
    "conn.commit()"
   ]
  },
  {
   "cell_type": "markdown",
   "metadata": {
    "id": "_ZUrPMOErndq"
   },
   "source": [
    "## Получение данных из таблицы"
   ]
  },
  {
   "cell_type": "markdown",
   "metadata": {
    "id": "xO3tjGBtB5_b"
   },
   "source": [
    "Чтобы *получить* данные из таблицы, необходимо сначала исполнить соответствующую sql-команду, затем данные можно получить с помощью одного из трех методов: **fetchone**, **fetchmany**, **fetchall**"
   ]
  },
  {
   "cell_type": "code",
   "execution_count": null,
   "metadata": {
    "colab": {
     "base_uri": "https://localhost:8080/",
     "height": 35
    },
    "id": "5w3hWPVzBPZN",
    "outputId": "6e1b2ca8-2259-4b3b-df82-b6f95b8f2b32"
   },
   "outputs": [
    {
     "data": {
      "text/plain": [
       "<sqlite3.Cursor at 0x7fb0037fdc70>"
      ]
     },
     "execution_count": 10,
     "metadata": {
      "tags": []
     },
     "output_type": "execute_result"
    }
   ],
   "source": [
    "sql = \"SELECT rowid, * FROM albums ORDER BY artist\"\n",
    "cursor.execute(sql)"
   ]
  },
  {
   "cell_type": "code",
   "execution_count": null,
   "metadata": {
    "colab": {
     "base_uri": "https://localhost:8080/",
     "height": 35
    },
    "id": "YrkZux5Cpl6S",
    "outputId": "c9952787-9abf-4925-9e5a-97a05625b6c1"
   },
   "outputs": [
    {
     "data": {
      "text/plain": [
       "(3, 'Until We Have Faces', 'Red', '2/1/2011')"
      ]
     },
     "execution_count": 11,
     "metadata": {
      "tags": []
     },
     "output_type": "execute_result"
    }
   ],
   "source": [
    "cursor.fetchone()"
   ]
  },
  {
   "cell_type": "code",
   "execution_count": null,
   "metadata": {
    "colab": {
     "base_uri": "https://localhost:8080/",
     "height": 35
    },
    "id": "lIU4PvaH4uT0",
    "outputId": "c23ec5d5-3fe4-4dcf-f20b-41890f97fec7"
   },
   "outputs": [
    {
     "data": {
      "text/plain": [
       "(4, 'The End is Where We Begin', 'Thousand Foot Krutch', '4/17/2012')"
      ]
     },
     "execution_count": 12,
     "metadata": {
      "tags": []
     },
     "output_type": "execute_result"
    }
   ],
   "source": [
    "cursor.fetchone()"
   ]
  },
  {
   "cell_type": "code",
   "execution_count": null,
   "metadata": {
    "colab": {
     "base_uri": "https://localhost:8080/",
     "height": 35
    },
    "id": "RYup_cre4vVE",
    "outputId": "773fc835-ad41-4253-b583-53e3c47137d5"
   },
   "outputs": [
    {
     "data": {
      "text/plain": [
       "(5, 'The Good Life', 'Trip Lee', '4/10/2012')"
      ]
     },
     "execution_count": 13,
     "metadata": {
      "tags": []
     },
     "output_type": "execute_result"
    }
   ],
   "source": [
    "cursor.fetchone()"
   ]
  },
  {
   "cell_type": "code",
   "execution_count": null,
   "metadata": {
    "colab": {
     "base_uri": "https://localhost:8080/",
     "height": 54
    },
    "id": "dMZh194spn85",
    "outputId": "5062b938-cda3-4808-86e1-a525f042b719"
   },
   "outputs": [
    {
     "data": {
      "text/plain": [
       "[(3, 'Until We Have Faces', 'Red', '2/1/2011'),\n",
       " (4, 'The End is Where We Begin', 'Thousand Foot Krutch', '4/17/2012')]"
      ]
     },
     "execution_count": 92,
     "metadata": {
      "tags": []
     },
     "output_type": "execute_result"
    }
   ],
   "source": [
    "cursor.fetchmany(2)"
   ]
  },
  {
   "cell_type": "code",
   "execution_count": null,
   "metadata": {
    "colab": {
     "base_uri": "https://localhost:8080/",
     "height": 72
    },
    "id": "s3BwBfUPpqkx",
    "outputId": "10be764d-9971-49d0-88fa-4a5354a4696b"
   },
   "outputs": [
    {
     "data": {
      "text/plain": [
       "[(3, 'Until We Have Faces', 'Red', '2/1/2011'),\n",
       " (4, 'The End is Where We Begin', 'Thousand Foot Krutch', '4/17/2012'),\n",
       " (5, 'The Good Life', 'Trip Lee', '4/10/2012')]"
      ]
     },
     "execution_count": 94,
     "metadata": {
      "tags": []
     },
     "output_type": "execute_result"
    }
   ],
   "source": [
    "cursor.fetchall()"
   ]
  },
  {
   "cell_type": "markdown",
   "metadata": {
    "id": "nLabCdllqfVA"
   },
   "source": [
    "Метод **execute** при отборе данных из таблицы возвращает итератор"
   ]
  },
  {
   "cell_type": "code",
   "execution_count": null,
   "metadata": {
    "colab": {
     "base_uri": "https://localhost:8080/",
     "height": 72
    },
    "id": "aIaiNOQ-qTtX",
    "outputId": "3bd0bc03-ef78-4860-c8fe-7485d362bd13"
   },
   "outputs": [
    {
     "name": "stdout",
     "output_type": "stream",
     "text": [
      "(3, 'Until We Have Faces', 'Red', '2/1/2011')\n",
      "(4, 'The End is Where We Begin', 'Thousand Foot Krutch', '4/17/2012')\n",
      "(5, 'The Good Life', 'Trip Lee', '4/10/2012')\n"
     ]
    }
   ],
   "source": [
    "for row in cursor.execute(\"SELECT rowid, * FROM albums ORDER BY artist\"):\n",
    "    print(row)"
   ]
  },
  {
   "cell_type": "code",
   "execution_count": null,
   "metadata": {
    "colab": {
     "base_uri": "https://localhost:8080/",
     "height": 72
    },
    "id": "Hahc3KQIr5bt",
    "outputId": "3068fb70-54b5-4aa7-d67f-76f218ca3b82"
   },
   "outputs": [
    {
     "data": {
      "text/plain": [
       "[(3, 'Until We Have Faces', 'Red', '2/1/2011'),\n",
       " (4, 'The End is Where We Begin', 'Thousand Foot Krutch', '4/17/2012'),\n",
       " (5, 'The Good Life', 'Trip Lee', '4/10/2012')]"
      ]
     },
     "execution_count": 98,
     "metadata": {
      "tags": []
     },
     "output_type": "execute_result"
    }
   ],
   "source": [
    "list(cursor.execute(\"SELECT rowid, * FROM albums ORDER BY artist\"))"
   ]
  },
  {
   "cell_type": "markdown",
   "metadata": {
    "id": "trm6Dyv4vzAj"
   },
   "source": [
    "## Объекты Row"
   ]
  },
  {
   "cell_type": "markdown",
   "metadata": {
    "id": "PbHu9bevv02Z"
   },
   "source": [
    "Создадим еще одну базу данных, только присвоим атрибуту **row_factory** значение **sqlite3.Row**"
   ]
  },
  {
   "cell_type": "code",
   "execution_count": null,
   "metadata": {
    "id": "mckCvZLkuo5d"
   },
   "outputs": [],
   "source": [
    "import sqlite3\n",
    "\n",
    "conn = sqlite3.connect(\"mydatabase2.db\")\n",
    "\n",
    "conn.row_factory = sqlite3.Row\n",
    "\n",
    "cursor = conn.cursor()\n",
    "cursor.execute(\"CREATE TABLE albums (title text, artist text, release_date text)\")"
   ]
  },
  {
   "cell_type": "markdown",
   "metadata": {
    "id": "dRMGwTBl4-YL"
   },
   "source": [
    "Заполним таблицу некоторыми данными"
   ]
  },
  {
   "cell_type": "code",
   "execution_count": null,
   "metadata": {
    "id": "5TjOtEkp49V9"
   },
   "outputs": [],
   "source": [
    "albums = [('Exodus', 'Andy Hunter', '7/9/2002'),\n",
    "          ('Until We Have Faces', 'Red', '2/1/2011'),\n",
    "          ('The End is Where We Begin', 'Thousand Foot Krutch', '4/17/2012'),\n",
    "          ('The Good Life', 'Trip Lee', '4/10/2012')]\n",
    "\n",
    "cursor.executemany(\"INSERT INTO albums VALUES (?,?,?)\", albums)\n",
    "conn.commit()"
   ]
  },
  {
   "cell_type": "markdown",
   "metadata": {
    "id": "4-R7Z2pwwoZ9"
   },
   "source": [
    "Теперь метод **execute** возвращает при отборе данных объекты **Row**"
   ]
  },
  {
   "cell_type": "code",
   "execution_count": null,
   "metadata": {
    "colab": {
     "base_uri": "https://localhost:8080/",
     "height": 90
    },
    "id": "AlbEQ4R4wfsB",
    "outputId": "052483f1-129b-4a15-afd0-0f40088a2e83"
   },
   "outputs": [
    {
     "data": {
      "text/plain": [
       "[<sqlite3.Row at 0x7fa15de44dd0>,\n",
       " <sqlite3.Row at 0x7fa15dd7d190>,\n",
       " <sqlite3.Row at 0x7fa15dd7d0f0>,\n",
       " <sqlite3.Row at 0x7fa15dd7d210>]"
      ]
     },
     "execution_count": 104,
     "metadata": {
      "tags": []
     },
     "output_type": "execute_result"
    }
   ],
   "source": [
    "rows = list(cursor.execute(\"SELECT rowid, * FROM albums ORDER BY artist\"))\n",
    "rows"
   ]
  },
  {
   "cell_type": "markdown",
   "metadata": {
    "id": "xYXv_kRcxU2h"
   },
   "source": [
    "Они подобны словарям Python и дают вам доступ к полям строк точь в точь, как и словарь"
   ]
  },
  {
   "cell_type": "code",
   "execution_count": null,
   "metadata": {
    "colab": {
     "base_uri": "https://localhost:8080/",
     "height": 36
    },
    "id": "5uNtzQ8axIWo",
    "outputId": "c36d73a0-d2c6-4223-c0fb-a53c80db06da"
   },
   "outputs": [
    {
     "data": {
      "application/vnd.google.colaboratory.intrinsic+json": {
       "type": "string"
      },
      "text/plain": [
       "'Exodus'"
      ]
     },
     "execution_count": 103,
     "metadata": {
      "tags": []
     },
     "output_type": "execute_result"
    }
   ],
   "source": [
    "rows[0]['title']"
   ]
  },
  {
   "cell_type": "markdown",
   "metadata": {
    "id": "moE0NuVRsVtO"
   },
   "source": [
    "## Задание"
   ]
  },
  {
   "cell_type": "markdown",
   "metadata": {
    "id": "Ue11f1BYGj9_"
   },
   "source": [
    "Создайте таблицу employees и заполните ее данными, как на картинке. Повысьте зарплату на 1000 долларов всем работикам младше 30 лет и удалите из таблицы работников старше 40"
   ]
  },
  {
   "cell_type": "markdown",
   "metadata": {
    "id": "VFjhH7paNeCq"
   },
   "source": [
    "![изображение.png](data:image/png;base64,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)"
   ]
  }
 ],
 "metadata": {
  "colab": {
   "collapsed_sections": [
    "xgYCOduEqN17",
    "iVVjACYH7_KP",
    "LKINoGd6U-Qe",
    "e504Nk1JqSWR",
    "7SyRGmLcbqlF",
    "xitCnKHxa-jf",
    "e3MP1uraZu3D",
    "r9GPzbTjk0zo",
    "BGo-5hn0qV1R",
    "vA0i8r-D2AO_",
    "oVDKMYCO54Hl",
    "On5BiykMrYZO",
    "_ZUrPMOErndq",
    "trm6Dyv4vzAj",
    "moE0NuVRsVtO"
   ],
   "name": "Доклад12.ipynb",
   "provenance": []
  },
  "kernelspec": {
   "display_name": "Python 3",
   "language": "python",
   "name": "python3"
  },
  "language_info": {
   "codemirror_mode": {
    "name": "ipython",
    "version": 3
   },
   "file_extension": ".py",
   "mimetype": "text/x-python",
   "name": "python",
   "nbconvert_exporter": "python",
   "pygments_lexer": "ipython3",
   "version": "3.8.5"
  }
 },
 "nbformat": 4,
 "nbformat_minor": 1
}

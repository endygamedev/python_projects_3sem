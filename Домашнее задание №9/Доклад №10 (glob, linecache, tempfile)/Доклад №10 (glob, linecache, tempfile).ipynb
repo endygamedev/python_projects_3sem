{
 "cells": [
  {
   "cell_type": "markdown",
   "metadata": {},
   "source": [
    "МОДУЛЬ GLOB\n"
   ]
  },
  {
   "cell_type": "markdown",
   "metadata": {},
   "source": [
    "Он полезен в ситуациях, когда программе требуется доступ к списку файлов c именами, соответствующими указанному шаблону. Чтобы получить список имен файлов, имеющих определенное расширение либо префикс или содержащих определенную подстроку в имени, достаточно использовать модуль glob, что избавит от необходимости написания собственного кода для просмотра содержимого каталогов."
   ]
  },
  {
   "cell_type": "raw",
   "metadata": {},
   "source": [
    "dir\n",
    "dir/file.txt\n",
    "dir/filel.txt\n",
    "dir/file2.txt\n",
    "dir/filea.txt\n",
    "dir/fileb.txt\n",
    "dir/file[.txt\n",
    "dir/subdir\n",
    "dir/subdir/subfile.txt"
   ]
  },
  {
   "cell_type": "markdown",
   "metadata": {},
   "source": [
    " "
   ]
  },
  {
   "cell_type": "code",
   "execution_count": 64,
   "metadata": {},
   "outputs": [
    {
     "name": "stdout",
     "output_type": "stream",
     "text": [
      "dir\\file.txt\n",
      "dir\\file1.txt\n",
      "dir\\file2.txt\n",
      "dir\\file[.txt\n",
      "dir\\filea.txt\n",
      "dir\\fileb.txt\n",
      "dir\\subdir\n"
     ]
    }
   ],
   "source": [
    "import glob\n",
    "for name in sorted(glob.glob(\"dir/*\")):\n",
    "    print(name)"
   ]
  },
  {
   "cell_type": "markdown",
   "metadata": {},
   "source": [
    "Этому шаблону соответствует имя любого пути (к файлу или каталогу) в каталоге dir, причем рекурсивный просмотр подкаталогов не выполняется. Данные,возвращенные методом glob (), не сортируются, поэтому в примерах их приходится дополнительно сортировать, чтобы упростить чтение результатов."
   ]
  },
  {
   "cell_type": "markdown",
   "metadata": {},
   "source": [
    " "
   ]
  },
  {
   "cell_type": "markdown",
   "metadata": {},
   "source": [
    "Чтобы получить список файлов, находящихся в определенном подкаталоге, следует включить имя этого подкаталога в шаблон."
   ]
  },
  {
   "cell_type": "code",
   "execution_count": 26,
   "metadata": {},
   "outputs": [
    {
     "name": "stdout",
     "output_type": "stream",
     "text": [
      "Имя каталога явно:\n",
      " dir/subdir\\subfile.txt\n",
      "Имя каталога неявно:\n",
      " dir\\subdir\\subfile.txt\n"
     ]
    }
   ],
   "source": [
    "print('Имя каталога явно:')\n",
    "for name in sorted(glob.glob('dir/subdir/*')):\n",
    "    print(' {}'.format(name))\n",
    "    \n",
    "print('Имя каталога неявно:')\n",
    "for name in sorted(glob.glob('dir/*/*')):\n",
    "    print(' {}'.format(name))"
   ]
  },
  {
   "cell_type": "markdown",
   "metadata": {},
   "source": [
    " "
   ]
  },
  {
   "cell_type": "markdown",
   "metadata": {},
   "source": [
    "Другим метасимволом является вопросительный знак (?). В имени ему соответствуетлюбой одиночный символ, находящийся в данной позиции."
   ]
  },
  {
   "cell_type": "code",
   "execution_count": 30,
   "metadata": {},
   "outputs": [
    {
     "name": "stdout",
     "output_type": "stream",
     "text": [
      "dir\\file1.txt\n",
      "dir\\file2.txt\n",
      "dir\\file[.txt\n",
      "dir\\filea.txt\n",
      "dir\\fileb.txt\n"
     ]
    }
   ],
   "source": [
    "for name in sorted(glob.glob(\"dir/file?.txt\")):\n",
    "    print(name)"
   ]
  },
  {
   "cell_type": "markdown",
   "metadata": {},
   "source": [
    "В этом примере отыскиваются все файлы c именами, начинающимися c подстроки file, за которой может следовать один произвольный символ, и имеющими расширение .txt."
   ]
  },
  {
   "cell_type": "markdown",
   "metadata": {},
   "source": [
    " "
   ]
  },
  {
   "cell_type": "markdown",
   "metadata": {},
   "source": [
    "Для поиска соответствия одному из нескольких возможных символов используется диапазон символов ([a-z]). В следующем примере выполняется поиск всех файлов, имена которых содержат цифру перед расширением."
   ]
  },
  {
   "cell_type": "code",
   "execution_count": 31,
   "metadata": {},
   "outputs": [
    {
     "name": "stdout",
     "output_type": "stream",
     "text": [
      "dir\\file1.txt\n",
      "dir\\file2.txt\n"
     ]
    }
   ],
   "source": [
    "for name in sorted(glob.glob(\"dir/*[0-9].*\")):\n",
    "    print(name)"
   ]
  },
  {
   "cell_type": "markdown",
   "metadata": {},
   "source": [
    "Диапазону [0-9] соответствуетлюбая одиночная цифра. Диапазоны упорядочиваются на основе числовых кодов символов, а дефис обозначает непрерывную последовательность символов. Тот же самый диапазон можно было бы записать в виде [0123456789]."
   ]
  },
  {
   "cell_type": "markdown",
   "metadata": {},
   "source": [
    " "
   ]
  },
  {
   "cell_type": "markdown",
   "metadata": {},
   "source": [
    "Иногда возникает необходимость в поиске файлов, имена которых содержат специальные символы, используемые в шаблонах модуля glob. Метод escape() позволяет создать подходящий шаблон, в котором специальные символы экранируются таким образом, чтобы они не заменялись никакими другими значениями и не интерпретировались как специальные модулем glob."
   ]
  },
  {
   "cell_type": "code",
   "execution_count": 43,
   "metadata": {},
   "outputs": [
    {
     "name": "stdout",
     "output_type": "stream",
     "text": [
      "Поиск по: 'dir/*[?].txt'\n",
      "\n",
      "Поиск по: 'dir/*[*].txt'\n",
      "\n",
      "Поиск по: 'dir/*[[].txt'\n",
      "dir\\file[.txt\n",
      "\n"
     ]
    }
   ],
   "source": [
    "specials = \"?*[\"\n",
    "\n",
    "for char in specials:\n",
    "    pattern = 'dir/*' + glob.escape(char) + '.txt'\n",
    "    print('Поиск по: {!r}'.format(pattern))\n",
    "    for name in sorted(glob.glob(pattern)):\n",
    "        print(name)\n",
    "    print()"
   ]
  },
  {
   "cell_type": "markdown",
   "metadata": {},
   "source": [
    " "
   ]
  },
  {
   "cell_type": "markdown",
   "metadata": {},
   "source": [
    "МОДУЛЬ LINECACHE"
   ]
  },
  {
   "cell_type": "markdown",
   "metadata": {},
   "source": [
    "Модуль linecache используется другими компонентами стандартной библиотеки Python при работе c исходными файлами на языке Python. Реализация кеша сохраняет содержимое файлов, разобранное на отдельные строки, в памяти. Соответствующий API возвращает затребованные строки в виде индексированного списка, экономя время при повторных попытках чтения файлов и поиске нужных строк. Этот модуль особенно полезен в тех случаях, когда приходится просматривать множество строк одного и того же файла, например c целью получения трассировочной информации для вывода отчета об ошибке."
   ]
  },
  {
   "cell_type": "markdown",
   "metadata": {},
   "source": [
    " "
   ]
  },
  {
   "cell_type": "code",
   "execution_count": 3,
   "metadata": {},
   "outputs": [],
   "source": [
    "import os\n",
    "import tempfile\n",
    "\n",
    "lorem = '''Lorem ipsum dolor sit amet, consectetuer\n",
    "adipiscing elit.  Vivamus eget elit. In posuere mi non\n",
    "risus. Mauris id quam posuere lectus sollicitudin\n",
    "varius. Praesent at mi. Nunc eu velit. Sed augue massa,\n",
    "fermentum id, nonummy a, nonummy sit amet, ligula. Curabitur\n",
    "eros pede, egestas at, ultricies ac, apellentesque eu,\n",
    "tellus.\n",
    "\n",
    "Sed sed odio sed mi luctus mollis. Integer et nulla ac augue\n",
    "convallis accumsan. Ut felis. Donec lectus sapien, elementum\n",
    "nec, condimentum ac, interdum non, tellus. Aenean viverra,\n",
    "mauris vehicula semper porttitor, ipsum odio consectetuer\n",
    "lorem, ac imperdiet eros odio a sapien. Nulla mauris tellus,\n",
    "aliquam non, egestas a, nonummy et, erat. Vivamus sagittis\n",
    "porttitor eros.'''\n",
    "\n",
    "\n",
    "def make_tempfile():\n",
    "    fd, temp_file_name = tempfile.mkstemp()\n",
    "    os.close(fd)\n",
    "    with open(temp_file_name, 'wt') as f:\n",
    "        f.write(lorem)\n",
    "    return temp_file_name\n",
    "\n",
    "\n",
    "def cleanup(filename):\n",
    "    os.unlink(filename)"
   ]
  },
  {
   "cell_type": "markdown",
   "metadata": {},
   "source": [
    " "
   ]
  },
  {
   "cell_type": "markdown",
   "metadata": {},
   "source": [
    "Нумерация строк, которые читаются c помощью модуля linecache, начинается c 1, хотя обычно отсчет индексов элементов массива начинается c 0."
   ]
  },
  {
   "cell_type": "code",
   "execution_count": 4,
   "metadata": {},
   "outputs": [
    {
     "name": "stdout",
     "output_type": "stream",
     "text": [
      "SOURCE:\n",
      "'fermentum id, nonummy a, nonummy sit amet, ligula. Curabitur'\n",
      "\n",
      "CACHE:\n",
      "'fermentum id, nonummy a, nonummy sit amet, ligula. Curabitur\\n'\n"
     ]
    }
   ],
   "source": [
    "import linecache\n",
    "\n",
    "filename = make_tempfile()\n",
    "\n",
    "print('SOURCE:')\n",
    "print('{!r}'.format(lorem.split('\\n')[4]))\n",
    "print()\n",
    "print('CACHE:')\n",
    "print('{!r}'.format(linecache.getline(filename, 5)))\n",
    "\n",
    "cleanup(filename)"
   ]
  },
  {
   "cell_type": "markdown",
   "metadata": {},
   "source": [
    " "
   ]
  },
  {
   "cell_type": "markdown",
   "metadata": {},
   "source": [
    "Возвращаемое значение всегда содержит завершающий символ перевода строки. Таким образом, в случае пустой строки этот символ является единственным в возвращенном значении."
   ]
  },
  {
   "cell_type": "code",
   "execution_count": 5,
   "metadata": {},
   "outputs": [
    {
     "name": "stdout",
     "output_type": "stream",
     "text": [
      "BLANK : '\\n'\n"
     ]
    }
   ],
   "source": [
    "filename = make_tempfile()\n",
    "\n",
    "# Пустые строки включают символ перевода строки\n",
    "\n",
    "print('BLANK : {!r}'.format(linecache.getline(filename, 8)))\n",
    "\n",
    "cleanup(filename)"
   ]
  },
  {
   "cell_type": "markdown",
   "metadata": {},
   "source": [
    "Строка 8 во входном файле не содержит текста."
   ]
  },
  {
   "cell_type": "markdown",
   "metadata": {},
   "source": [
    " "
   ]
  },
  {
   "cell_type": "markdown",
   "metadata": {},
   "source": [
    "Если запрошенный номер строки превышает общее количество строк, содержащихся в файле, функция getline () возвращает пустую строку."
   ]
  },
  {
   "cell_type": "code",
   "execution_count": 6,
   "metadata": {},
   "outputs": [
    {
     "name": "stdout",
     "output_type": "stream",
     "text": [
      "NOT THERE: '' includes 0 characters\n"
     ]
    }
   ],
   "source": [
    "filename = make_tempfile()\n",
    "\n",
    "# Кеш всегда возвращает строку, используя пустую строку для\n",
    "# указания того, что запрошенная строка не существует\n",
    "\n",
    "not_there = linecache.getline(filename, 500)\n",
    "print('NOT THERE: {!r} includes {} characters'.format(not_there, len(not_there)))\n",
    "\n",
    "cleanup(filename)\n"
   ]
  },
  {
   "cell_type": "markdown",
   "metadata": {},
   "source": [
    "Входной файл содержит только 15 строк, поэтому запрашивать строку 500 — это все равно что пытаться выполнить чтение за пределами файла."
   ]
  },
  {
   "cell_type": "markdown",
   "metadata": {},
   "source": [
    "Точно так же обрабатываются попытки чтения из файла, которого не существует."
   ]
  },
  {
   "cell_type": "code",
   "execution_count": 7,
   "metadata": {},
   "outputs": [
    {
     "name": "stdout",
     "output_type": "stream",
     "text": [
      "NO FILE: ''\n"
     ]
    }
   ],
   "source": [
    "#Если модулю linecache не удается найти файл, то ошибка скрывается\n",
    "no_such_file = linecache.getline(\"this_file_does_not_exist.txt\", 1,)\n",
    "print(\"NO FILE: {!r}\".format(no_such_file)) "
   ]
  },
  {
   "cell_type": "markdown",
   "metadata": {},
   "source": [
    " "
   ]
  },
  {
   "cell_type": "markdown",
   "metadata": {},
   "source": [
    "MОДУЛЬ TEMPFILE"
   ]
  },
  {
   "cell_type": "markdown",
   "metadata": {},
   "source": [
    "Создание временных файлов c надежными уникальными именами, загрудняющими определение назначения файлов злоумышленниками c целью взлома триложения или кражи данных, — непростая задача. Модуль tempfile предоcтавляет несколько функций, обеспечивающих безопасное создание временных файлов системных ресурсов. Функция TemporaryFile () открывает и возвращает теименованный файл, функция NamedTemporaryFile () открывает и возвращает именованный файл, функция SpooledTemporaryFile () сохраняет содержимое в памяти перед записью на диск, тогда как функция TemporaryDirectory() — это менеджер контекста, удаляющий каталог, когда контекст закрывается."
   ]
  },
  {
   "cell_type": "markdown",
   "metadata": {},
   "source": [
    "Приложения, нуждающиеся во временных файлах для сохранения промежугочных данных в условиях, когда не требуется совместное использование файта другими приложениями, должны создавать такие файлы c помощью функции remporaryFile(). На тех платформах, где это возможно, соответствующая запись в каталоге уничтожается сразу же после создания файла. Как следствие, другие программы не могут найти или открыть этот файл ввиду отсутствия ссылки на него в таблице файловой системы. Созданный функцией TemporaryFile() файл автоматически уничтожается при его закрытии как в случае использования метода close (), так и совместного использования API менеджера контекста c инструкцией with."
   ]
  },
  {
   "cell_type": "code",
   "execution_count": 33,
   "metadata": {},
   "outputs": [
    {
     "name": "stdout",
     "output_type": "stream",
     "text": [
      "Building а filename with PID:\n",
      "temp:\n",
      " <_io.BufferedRandom name='file.txt'>\n",
      "temp.name:\n",
      " 'file.txt'\n",
      "\n",
      "TemporaryFile:\n",
      "temp:\n",
      " <tempfile._TemporaryFileWrapper object at 0x00000258273EB088>\n",
      "temp.name:\n",
      " 'C:\\\\Users\\\\Dinar\\\\AppData\\\\Local\\\\Temp\\\\tmp7xiied02'\n"
     ]
    }
   ],
   "source": [
    "import os\n",
    "import tempfile\n",
    "\n",
    "print('Building а filename with PID:')\n",
    "filename = 'file.txt'.format(os.getpid())\n",
    "with open(filename, 'w+b') as temp:\n",
    "    print('temp:')\n",
    "    print(' {!r}'.format(temp))\n",
    "    print('temp.name:')\n",
    "    print(' {!r}'.format(temp.name))\n",
    "             \n",
    "# Самостоятельное удаление временного файла            \n",
    "os.remove(filename)\n",
    "             \n",
    "print()\n",
    "print('TemporaryFile:')\n",
    "with tempfile.TemporaryFile() as temp:\n",
    "    print('temp:')\n",
    "    print(' {!r}'.format(temp))\n",
    "    print('temp.name:')\n",
    "    print(' {!r}'.format(temp.name))\n",
    "# Автоматическое уничтожение файла"
   ]
  },
  {
   "cell_type": "markdown",
   "metadata": {},
   "source": [
    "Этот пример иллюстрирует различие в способах создания временного файла c помощью общего шаблона для конструирования имен и c помощью функции TemporaryFile(). У файла, возвращенного функцией TemporaryFile(), нет имени."
   ]
  },
  {
   "cell_type": "markdown",
   "metadata": {},
   "source": [
    "По умолчанию дескриптор файла создается c использованием режима \" w+b \",что обеспечивает его согласованное поведение на всех платформах и позволяет вызывающему коду использовать его для выполнения файловых операций чтения и записи."
   ]
  },
  {
   "cell_type": "markdown",
   "metadata": {},
   "source": [
    " "
   ]
  },
  {
   "cell_type": "code",
   "execution_count": 35,
   "metadata": {},
   "outputs": [
    {
     "name": "stdout",
     "output_type": "stream",
     "text": [
      "b'Some data'\n"
     ]
    }
   ],
   "source": [
    "with tempfile.TemporaryFile() as temp:\n",
    "    temp.write(b'Some data')\n",
    "    \n",
    "    temp.seek(0)\n",
    "    print(temp.read())"
   ]
  },
  {
   "cell_type": "markdown",
   "metadata": {},
   "source": [
    "После выполнения записи файловый дескриптор следует “перемотать назад” c помощью метода seek (), чтобы обеспечить возможность последующего чтения данных."
   ]
  },
  {
   "cell_type": "markdown",
   "metadata": {},
   "source": [
    " "
   ]
  },
  {
   "cell_type": "markdown",
   "metadata": {},
   "source": [
    "Чтобы открыть файл в текстовом режиме, при его создании следует задать аргумент mode равным \"w+t\"."
   ]
  },
  {
   "cell_type": "code",
   "execution_count": 38,
   "metadata": {},
   "outputs": [
    {
     "name": "stdout",
     "output_type": "stream",
     "text": [
      "first\n",
      "second\n"
     ]
    }
   ],
   "source": [
    "with tempfile.TemporaryFile(mode=\"w+t\") as f:\n",
    "    f.writelines([\"first\\n\", \"second\\n\"])\n",
    "    \n",
    "    f.seek(0)\n",
    "    for line in f:\n",
    "        print(line.rstrip())"
   ]
  },
  {
   "cell_type": "markdown",
   "metadata": {},
   "source": [
    "В этом случае данные обрабатываются как текстовые."
   ]
  },
  {
   "cell_type": "markdown",
   "metadata": {},
   "source": [
    " "
   ]
  },
  {
   "cell_type": "markdown",
   "metadata": {},
   "source": [
    "В некоторых случаях наличие именованного временного файла играет важную роль. В случае приложений, охватывающих несколько процессов или даже хостов, именование файла является простейшим способом организации его передачи между различными частями приложения. Функция NamedTemporaryFile () создает файл без разрыва его связи c файловой системой, поэтому он сохраняет свое имя (доступное через атрибут name)."
   ]
  },
  {
   "cell_type": "code",
   "execution_count": 41,
   "metadata": {},
   "outputs": [
    {
     "name": "stdout",
     "output_type": "stream",
     "text": [
      "temp:\n",
      " <tempfile._TemporaryFileWrapper object at 0x00000258273D65C8>\n",
      "temp.name:\n",
      " 'C:\\\\Users\\\\Dinar\\\\AppData\\\\Local\\\\Temp\\\\tmp8r_i7d42'\n",
      "Exists after close: False\n"
     ]
    }
   ],
   "source": [
    "import pathlib\n",
    "\n",
    "with tempfile.NamedTemporaryFile() as temp:\n",
    "    print('temp:')\n",
    "    print(' {!r}'.format(temp))\n",
    "    print('temp.name:')\n",
    "    print(' {!r}'.format(temp.name))\n",
    "              \n",
    "    f = pathlib.Path(temp.name)\n",
    "              \n",
    "print('Exists after close:', f.exists())"
   ]
  },
  {
   "cell_type": "markdown",
   "metadata": {},
   "source": [
    "После закрытия дескриптора этот файл удаляется."
   ]
  },
  {
   "cell_type": "markdown",
   "metadata": {},
   "source": [
    " "
   ]
  },
  {
   "cell_type": "markdown",
   "metadata": {},
   "source": [
    "В случае временных файлов, содержащих относительно небольшие объемы данных, более эффективным будет использование функции SpooledTemporaryFile(), поскольку она сохраняет содержимое файла в буферных объектах  BytesIO или StringIO, где оно будет храниться, пока объем данных не превысит заданного порогового значения. По достижении этого значения данные записываются на диск, а буфер заменяется обычным объектом TemporaryFile."
   ]
  },
  {
   "cell_type": "code",
   "execution_count": 42,
   "metadata": {},
   "outputs": [
    {
     "name": "stdout",
     "output_type": "stream",
     "text": [
      "temp: <tempfile.SpooledTemporaryFile object at 0x0000025827322448>\n",
      "False <_io.StringIO object at 0x00000258273CB798>\n",
      "False <_io.StringIO object at 0x00000258273CB798>\n",
      "True <tempfile._TemporaryFileWrapper object at 0x00000258273D65C8>\n"
     ]
    }
   ],
   "source": [
    "with tempfile.SpooledTemporaryFile(max_size=100,mode='w+t',encoding='utf-8') as temp:\n",
    "    print('temp: {!r}'.format(temp))\n",
    "    for i in range(3):\n",
    "        temp.write('This line is repeated over and over.\\n')\n",
    "        print(temp._rolled, temp._file)"
   ]
  },
  {
   "cell_type": "markdown",
   "metadata": {},
   "source": [
    "В этом примере для определения того момента, когда данные сбрасываются на диск, используются закрытые атрибуты объекта SpooledTemporaryFile. Необходимость в этом возникает лишь изредка, за исключением случаев, когда требуется настройка размера буфера."
   ]
  },
  {
   "cell_type": "markdown",
   "metadata": {},
   "source": [
    " "
   ]
  },
  {
   "cell_type": "markdown",
   "metadata": {},
   "source": [
    "Для принудительного сброса содержимого буфера и записи его на диск следует вызвать метод rollover () или fileno ()."
   ]
  },
  {
   "cell_type": "code",
   "execution_count": 43,
   "metadata": {},
   "outputs": [
    {
     "name": "stdout",
     "output_type": "stream",
     "text": [
      "temp: <tempfile.SpooledTemporaryFile object at 0x00000258273BC348>\n",
      "False <_io.StringIO object at 0x00000258273E04C8>\n",
      "False <_io.StringIO object at 0x00000258273E04C8>\n",
      "False <_io.StringIO object at 0x00000258273E04C8>\n",
      "rolling over\n",
      "True <tempfile._TemporaryFileWrapper object at 0x00000258273D6108>\n"
     ]
    }
   ],
   "source": [
    "with tempfile.SpooledTemporaryFile(max_size=1000,mode='w+t',encoding='utf-8') as temp:\n",
    "                                   \n",
    "    print('temp: {!r}'.format(temp))\n",
    "                                   \n",
    "    for i in range(3):\n",
    "        temp.write('This line is repeated over and over.\\n')\n",
    "        print(temp._rolled, temp._file)\n",
    "    print('rolling over')\n",
    "    temp.rollover()\n",
    "    print(temp._rolled, temp._file)"
   ]
  },
  {
   "cell_type": "markdown",
   "metadata": {},
   "source": [
    "Поскольку размер буфера в этом примере намного превышает объем имеющихся данных, файл не создается до тех пор, пока не вызывается метод rollover()."
   ]
  },
  {
   "cell_type": "markdown",
   "metadata": {},
   "source": [
    " "
   ]
  },
  {
   "cell_type": "markdown",
   "metadata": {},
   "source": [
    "Задание № 1"
   ]
  },
  {
   "cell_type": "markdown",
   "metadata": {},
   "source": [
    "Создайте такую же структуру файлов,как указанно в начале, и с помощбю модуля glob выведите одним ответом файлы file[.txt, filel.txt\n",
    "file2.txt, filea.txt"
   ]
  },
  {
   "cell_type": "markdown",
   "metadata": {},
   "source": [
    "Задание № 2"
   ]
  },
  {
   "cell_type": "markdown",
   "metadata": {},
   "source": [
    "Возьмите произвольный текст и с помощью модуля linecache выведите из этого текста первую и последнюю строчку, несуществующую строчку(по номеру), а также попробуйте открывать файл,которого не существует."
   ]
  },
  {
   "cell_type": "code",
   "execution_count": null,
   "metadata": {},
   "outputs": [],
   "source": []
  }
 ],
 "metadata": {
  "kernelspec": {
   "display_name": "Python 3",
   "language": "python",
   "name": "python3"
  },
  "language_info": {
   "codemirror_mode": {
    "name": "ipython",
    "version": 3
   },
   "file_extension": ".py",
   "mimetype": "text/x-python",
   "name": "python",
   "nbconvert_exporter": "python",
   "pygments_lexer": "ipython3",
   "version": "3.8.5"
  }
 },
 "nbformat": 4,
 "nbformat_minor": 4
}

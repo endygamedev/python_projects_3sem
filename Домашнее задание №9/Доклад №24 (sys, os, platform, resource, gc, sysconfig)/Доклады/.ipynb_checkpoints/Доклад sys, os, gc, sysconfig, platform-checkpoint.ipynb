{
 "cells": [
  {
   "cell_type": "markdown",
   "metadata": {},
   "source": [
    "# Модуль sys"
   ]
  },
  {
   "cell_type": "markdown",
   "metadata": {},
   "source": [
    "### Модуль sys содержит средства, обеспечивающие определение или изменение конфигурации интерпретатора во время выполнения и взаимодействие текущей программы c операционным окружением."
   ]
  },
  {
   "cell_type": "markdown",
   "metadata": {},
   "source": [
    "[официальная документация](https://docs.python.org/3.7/library/sys.html)"
   ]
  },
  {
   "cell_type": "code",
   "execution_count": null,
   "metadata": {},
   "outputs": [],
   "source": [
    "import sys"
   ]
  },
  {
   "cell_type": "code",
   "execution_count": 12,
   "metadata": {},
   "outputs": [
    {
     "name": "stdout",
     "output_type": "stream",
     "text": [
      "['C:\\\\ProgramData\\\\Anaconda3\\\\lib\\\\site-packages\\\\ipykernel_launcher.py', '-f', 'C:\\\\Users\\\\Влада\\\\AppData\\\\Roaming\\\\jupyter\\\\runtime\\\\kernel-1d106318-0828-4d7b-ab3b-3a94a53d83fe.json']\n",
      "C:\\ProgramData\\Anaconda3\\lib\\site-packages\\ipykernel_launcher.py\n",
      "C:\\ProgramData\\Anaconda3\\python.exe\n",
      "utf-8\n"
     ]
    }
   ],
   "source": [
    "print(sys.argv) #список аргументов командной строки\n",
    "print(sys.argv[0]) #имя скрипта\n",
    "print(sys.executable) #путь к интерпретатору Python\n",
    "print(sys.getdefaultencoding()) #кодировка по умолчанию"
   ]
  },
  {
   "cell_type": "code",
   "execution_count": 17,
   "metadata": {},
   "outputs": [
    {
     "name": "stdout",
     "output_type": "stream",
     "text": [
      "3.7.4 (default, Aug  9 2019, 18:34:13) [MSC v.1915 64 bit (AMD64)]\n",
      "sys.getwindowsversion(major=10, minor=0, build=19041, platform=2, service_pack='')\n",
      "win32\n",
      "sys.version_info(major=3, minor=7, micro=4, releaselevel='final', serial=0)\n"
     ]
    }
   ],
   "source": [
    "print(sys.version) #версия Python\n",
    "print(sys.getwindowsversion()) #кортеж, описывающий версию Windows\n",
    "print(sys.platform)  #информация об операционной системе\n",
    "print(sys.implementation.version) #информация об интерпретаторе"
   ]
  },
  {
   "cell_type": "code",
   "execution_count": 8,
   "metadata": {},
   "outputs": [
    {
     "name": "stdout",
     "output_type": "stream",
     "text": [
      "['sys', 'builtins', '_frozen_importlib', '_imp', '_thread']\n",
      "('_abc', '_ast', '_bisect', '_blake2', '_codecs', '_codecs_cn', '_codecs_hk', '_codecs_iso2022', '_codecs_jp', '_codecs_kr', '_codecs_tw', '_collections', '_contextvars', '_csv', '_datetime', '_functools', '_heapq', '_imp', '_io', '_json', '_locale', '_lsprof', '_md5', '_multibytecodec', '_opcode', '_operator', '_pickle', '_random', '_sha1', '_sha256', '_sha3', '_sha512', '_signal', '_sre', '_stat', '_string', '_struct', '_symtable', '_thread', '_tracemalloc', '_warnings', '_weakref', '_winapi', 'array', 'atexit', 'audioop', 'binascii', 'builtins', 'cmath', 'errno', 'faulthandler', 'gc', 'itertools', 'marshal', 'math', 'mmap', 'msvcrt', 'nt', 'parser', 'sys', 'time', 'winreg', 'xxsubtype', 'zipimport', 'zlib')\n"
     ]
    }
   ],
   "source": [
    "print(list(sys.modules)[:5]) #словарь загруженных модулей, изменяем (ха)\n",
    "print(sys.builtin_module_names) #кортеж строк, содержащий имена всех доступных модулей"
   ]
  },
  {
   "cell_type": "markdown",
   "metadata": {},
   "source": [
    "##### С помощью sys можно установить собственный предел рекурсии"
   ]
  },
  {
   "cell_type": "code",
   "execution_count": 1,
   "metadata": {},
   "outputs": [
    {
     "name": "stdout",
     "output_type": "stream",
     "text": [
      "3000\n",
      "64\n"
     ]
    }
   ],
   "source": [
    "default_recursion_limit=sys.getrecursionlimit()\n",
    "print(sys.getrecursionlimit())\n",
    "sys.setrecursionlimit(64) #не меньше 64\n",
    "print(sys.getrecursionlimit())"
   ]
  },
  {
   "cell_type": "code",
   "execution_count": 4,
   "metadata": {},
   "outputs": [],
   "source": [
    "def recursion(n):   \n",
    "    if n == 1:        \n",
    "        return 1    \n",
    "    return n + recursion(n - 1)"
   ]
  },
  {
   "cell_type": "code",
   "execution_count": null,
   "metadata": {},
   "outputs": [],
   "source": [
    "recursion(30) #ошибка"
   ]
  },
  {
   "cell_type": "code",
   "execution_count": 2,
   "metadata": {},
   "outputs": [],
   "source": [
    "sys.setrecursionlimit(default_recursion_limit)"
   ]
  },
  {
   "cell_type": "code",
   "execution_count": 5,
   "metadata": {},
   "outputs": [
    {
     "data": {
      "text/plain": [
       "465"
      ]
     },
     "execution_count": 5,
     "metadata": {},
     "output_type": "execute_result"
    }
   ],
   "source": [
    "recursion(30)"
   ]
  },
  {
   "cell_type": "markdown",
   "metadata": {},
   "source": [
    "##### Можно изменить приглашения"
   ]
  },
  {
   "cell_type": "code",
   "execution_count": 1,
   "metadata": {},
   "outputs": [
    {
     "name": "stdout",
     "output_type": "stream",
     "text": [
      "In : \n",
      "...: \n"
     ]
    }
   ],
   "source": [
    " print(sys.ps1) #первичное приглашение\n",
    "print(sys.ps2) #вторичное приглашение"
   ]
  },
  {
   "cell_type": "code",
   "execution_count": 2,
   "metadata": {},
   "outputs": [
    {
     "name": "stdout",
     "output_type": "stream",
     "text": [
      "write :\n"
     ]
    }
   ],
   "source": [
    "sys.ps1= 'write :'\n",
    "print(sys.ps1)"
   ]
  },
  {
   "cell_type": "markdown",
   "metadata": {},
   "source": [
    "##### Контроль ошибок "
   ]
  },
  {
   "cell_type": "markdown",
   "metadata": {},
   "source": [
    "Разработчики приложений, написанных на Python, могут пожелать скрыть все предупреждения уровня Python от своих пользователей по умолчанию и отображать их только при выполнении тестов или другой работе с приложением.sys.warnoptions может быть использован в качестве маркерa, чтобы указать , должны ли предупреждения быть отключены."
   ]
  },
  {
   "cell_type": "code",
   "execution_count": 10,
   "metadata": {},
   "outputs": [],
   "source": [
    "if not sys.warnoptions:\n",
    "    import warnings\n",
    "    warnings.simplefilter(\"ignore\")"
   ]
  },
  {
   "cell_type": "code",
   "execution_count": 7,
   "metadata": {},
   "outputs": [],
   "source": [
    "args = []\n",
    "for opt in sys.warnoptions:\n",
    "    args.append('-W' + opt)"
   ]
  },
  {
   "cell_type": "markdown",
   "metadata": {},
   "source": [
    "# Модуль os"
   ]
  },
  {
   "cell_type": "markdown",
   "metadata": {},
   "source": [
    "[официальная документация](https://docs.python.org/3.7/library/os.html)"
   ]
  },
  {
   "cell_type": "code",
   "execution_count": 1,
   "metadata": {},
   "outputs": [],
   "source": [
    "import os"
   ]
  },
  {
   "cell_type": "code",
   "execution_count": 7,
   "metadata": {},
   "outputs": [
    {
     "name": "stdout",
     "output_type": "stream",
     "text": [
      "nt\n",
      "C:\\Users\\Влада\n",
      "['в ней папка', 'и текст.txt']\n"
     ]
    }
   ],
   "source": [
    "print(os.name) #имя операционной системы\n",
    "print(os.getcwd()) #текущая рабочая директория\n",
    "print(os.listdir('C:\\\\Users\\\\Влада\\\\Desktop\\\\папка')) #список файлов и директорий в папке"
   ]
  },
  {
   "cell_type": "code",
   "execution_count": 12,
   "metadata": {},
   "outputs": [],
   "source": [
    "os.removedirs('C:\\\\Users\\\\Влада\\\\Desktop\\\\папка') #позволяет удалить директорию (рекурсивно)\n",
    "os.mkdir('C:\\\\Users\\\\Влада\\\\Desktop\\\\папка') #создаем директорию\n",
    "os.makedirs('C:\\\\Users\\\\Влада\\\\Desktop\\\\папка\\\\в ней еще папка') #создаёт дир-ю, создавая при этом промежуточные дир-ии"
   ]
  },
  {
   "cell_type": "markdown",
   "metadata": {},
   "source": [
    "**os.access** позволяет получать информацию о доступе к объекту у текущего пользователя\n",
    "Флаги: \n",
    "- os.F_OK - объект существует, \n",
    "- os.R_OK - доступен на чтение, \n",
    "- os.W_OK - доступен на запись, \n",
    "- os.X_OK - доступен на исполнение"
   ]
  },
  {
   "cell_type": "code",
   "execution_count": 13,
   "metadata": {},
   "outputs": [
    {
     "name": "stdout",
     "output_type": "stream",
     "text": [
      "True\n",
      "True\n",
      "True\n",
      "True\n"
     ]
    }
   ],
   "source": [
    "print(os.access('C:\\\\Users\\\\Влада\\\\Desktop\\\\папка',os.F_OK))\n",
    "print(os.access('C:\\\\Users\\\\Влада\\\\Desktop\\\\папка\\\\в ней еще папка',os.R_OK))\n",
    "print(os.access('C:\\\\Users\\\\Влада\\\\Desktop\\\\папка\\\\в ней еще папка',os.W_OK))\n",
    "print(os.access('C:\\\\Users\\\\Влада\\\\Desktop\\\\папка\\\\в ней еще папка',os.X_OK))"
   ]
  },
  {
   "cell_type": "code",
   "execution_count": 17,
   "metadata": {},
   "outputs": [],
   "source": [
    "os.chmod('C:\\\\Users\\\\Влада\\\\Desktop\\\\папка\\\\в ней еще папка', 0o007) #смена прав доступа\n",
    "#другие пользователи имеют полный доступ "
   ]
  },
  {
   "cell_type": "code",
   "execution_count": 21,
   "metadata": {},
   "outputs": [
    {
     "data": {
      "text/plain": [
       "[('C:\\\\Users\\\\Влада\\\\Desktop\\\\папка', ['в ней еще папка'], []),\n",
       " ('C:\\\\Users\\\\Влада\\\\Desktop\\\\папка\\\\в ней еще папка', [], [])]"
      ]
     },
     "execution_count": 21,
     "metadata": {},
     "output_type": "execute_result"
    }
   ],
   "source": [
    "list(os.walk('C:\\\\Users\\\\Влада\\\\Desktop\\\\папка')) #(путь к каталогу, список каталогов, список файлов) "
   ]
  },
  {
   "cell_type": "code",
   "execution_count": 22,
   "metadata": {},
   "outputs": [
    {
     "data": {
      "text/plain": [
       "0"
      ]
     },
     "execution_count": 22,
     "metadata": {},
     "output_type": "execute_result"
    }
   ],
   "source": [
    "os.system('notepad') #исполняет системную команду, возвращает код её завершения (в случае успеха 0)"
   ]
  },
  {
   "cell_type": "markdown",
   "metadata": {},
   "source": [
    "# Модуль platform"
   ]
  },
  {
   "cell_type": "markdown",
   "metadata": {},
   "source": [
    "[официальная документация](https://docs.python.org/3.7/library/platform.html)"
   ]
  },
  {
   "cell_type": "code",
   "execution_count": 35,
   "metadata": {},
   "outputs": [],
   "source": [
    "import platform"
   ]
  },
  {
   "cell_type": "markdown",
   "metadata": {},
   "source": [
    "Для получения информации о текущем интерпретаторе Python используются четыре функции. Функции **python_version()** и **python_version_tuple()** возвращают разные формы представления версии Python, каждая из которых включает старший и младший номера версии, а также уровень обновления. Функция **python_compiler()** предоставляет информацию о компиляторе, который использовался для сборки интерпретатора, а функция **python_build()** — строку c номером и датой сборки интерпретатора"
   ]
  },
  {
   "cell_type": "code",
   "execution_count": 30,
   "metadata": {},
   "outputs": [
    {
     "name": "stdout",
     "output_type": "stream",
     "text": [
      "Version : 3.7.4\n",
      "Version tuple ('3', '7', '4')\n",
      "Compiler : MSC v.1915 64 bit (AMD64)\n",
      "Build : ('default', 'Aug  9 2019 18:34:13')\n"
     ]
    }
   ],
   "source": [
    "print('Version :', platform.python_version())\n",
    "print('Version tuple', platform.python_version_tuple())\n",
    "print('Compiler :', platform.python_compiler())\n",
    "print('Build :', platform.python_build())"
   ]
  },
  {
   "cell_type": "markdown",
   "metadata": {},
   "source": [
    "Функция **platform ()** возвращает строку, содержащую универсальный идентификатор платформы. Эта функция имеет два необязательных булевых аргумента. Если аргумент aliased равен True, то имена в возвращаемом значении преобразуются из формального представления в более удобочитаемый вид. Если аргумент terse равен True, то вместо полной строки возвращается ее сокращенный вариант"
   ]
  },
  {
   "cell_type": "code",
   "execution_count": 32,
   "metadata": {},
   "outputs": [
    {
     "name": "stdout",
     "output_type": "stream",
     "text": [
      "Normal : Windows-10-10.0.19041-SP0\n",
      "Aliased: Windows-10-10.0.19041-SP0\n",
      "Terse : Windows-10\n"
     ]
    }
   ],
   "source": [
    "print('Normal :', platform.platform())\n",
    "print('Aliased:', platform.platform(aliased=True))\n",
    "print('Terse :', platform.platform(terse=True))"
   ]
  },
  {
   "cell_type": "markdown",
   "metadata": {},
   "source": [
    "Также существует возможность получения более подробной информации об операционной системе и оборудовании платформы, на которой выполняется интерпретатор. Функция **uname ()** возвращает кортеж, содержащий значения шести атрибутов: system, node, release, version, machine и processor. К каждому из этих значений можно обращаться по отдельности c помощью следующих функций:"
   ]
  },
  {
   "cell_type": "code",
   "execution_count": 33,
   "metadata": {},
   "outputs": [
    {
     "name": "stdout",
     "output_type": "stream",
     "text": [
      "uname: uname_result(system='Windows', node='LAPTOP-V06QSARE', release='10', version='10.0.19041', machine='AMD64', processor='Intel64 Family 6 Model 142 Stepping 10, GenuineIntel')\n",
      "\n",
      "system : Windows\n",
      "node : LAPTOP-V06QSARE\n",
      "release : 10\n",
      "version : 10.0.19041\n",
      "machine : AMD64\n",
      "processor: Intel64 Family 6 Model 142 Stepping 10, GenuineIntel\n"
     ]
    }
   ],
   "source": [
    "import platform\n",
    "print('uname:', platform.uname())\n",
    "print()\n",
    "print('system :', platform.system())\n",
    "print('node :', platform.node())\n",
    "print('release :', platform.release())\n",
    "print('version :', platform.version())\n",
    "print('machine :', platform.machine())\n",
    "print('processor:', platform.processor())"
   ]
  },
  {
   "cell_type": "markdown",
   "metadata": {},
   "source": [
    "Информацию об архитектуре отдельной программы можно получить c помощью функции **architecture ()**. Ее первым аргументом является путь к исполняемой программе (по умолчанию — sys.executable, интерпретатор Python), а возвращаемым значением — кортеж, содержащий разрядность архитектуры и используемый формат связывания."
   ]
  },
  {
   "cell_type": "code",
   "execution_count": 34,
   "metadata": {},
   "outputs": [
    {
     "name": "stdout",
     "output_type": "stream",
     "text": [
      "interpreter: ('64bit', 'WindowsPE')\n",
      "/bin/ls : ('64bit', '')\n"
     ]
    }
   ],
   "source": [
    "print('interpreter:', platform.architecture())\n",
    "print('/bin/ls :', platform.architecture('/bin/ls'))"
   ]
  },
  {
   "cell_type": "markdown",
   "metadata": {},
   "source": [
    "# Модуль gc"
   ]
  },
  {
   "cell_type": "markdown",
   "metadata": {},
   "source": [
    "[официальная документация](https://docs.python.org/3.7/library/gc.html)"
   ]
  },
  {
   "cell_type": "code",
   "execution_count": 11,
   "metadata": {},
   "outputs": [],
   "source": [
    "import gc\n",
    "import pprint\n",
    "class Graph:\n",
    "    def __init__ (self, name):\n",
    "        self.name = name\n",
    "        self.next = None\n",
    "    def set_next(self, next1):\n",
    "        print('Linking nodes {}.next = {}'.format(self, next1))\n",
    "        self.next = next1\n",
    "    def __repr__(self):\n",
    "        return 'Graph({})'.format(self.name)"
   ]
  },
  {
   "cell_type": "markdown",
   "metadata": {},
   "source": [
    "Функция **get_referents ()** отображает объекты, на которые ссылаются входные аргументы\n",
    "В данном случае экземпляр three класса Graph содержит ссылки на свой словарь (в атрибуте dict ) и свой класс."
   ]
  },
  {
   "cell_type": "code",
   "execution_count": 12,
   "metadata": {},
   "outputs": [
    {
     "name": "stdout",
     "output_type": "stream",
     "text": [
      "Linking nodes Graph(one).next = Graph(two)\n",
      "Linking nodes Graph(two).next = Graph(three)\n",
      "Linking nodes Graph(three).next = Graph(one)\n",
      "\n",
      "three refers to:\n",
      "{'name': 'three', 'next': Graph(one)}\n",
      "<class '__main__.Graph'>\n"
     ]
    }
   ],
   "source": [
    "one = Graph('one')\n",
    "two = Graph('two')\n",
    "three = Graph('three')\n",
    "one.set_next(two)\n",
    "two.set_next(three)\n",
    "three.set_next(one)\n",
    "print()\n",
    "print('three refers to:')\n",
    "for r in gc.get_referents(three):\n",
    "    pprint.pprint(r)"
   ]
  },
  {
   "cell_type": "markdown",
   "metadata": {},
   "source": [
    "Сборщик мусора можно запускать в определенные моменты времени, если необходимо освободить намять от большого количества ненужных объектов или если выполняется лишь небольшой объем полезной работы и запуск сборщика не повлияет на производительность программы"
   ]
  },
  {
   "cell_type": "markdown",
   "metadata": {},
   "source": [
    "В этом примере цикл удаляется сразу же, как только выполняется сборка мусора, поскольку на узлы Graph не ссылаются никакие другие объекты, кроме них самих. Функция **collect ()** возвращает количество “недостижимых” объектов, которые ей удалось обнаружить"
   ]
  },
  {
   "cell_type": "code",
   "execution_count": 13,
   "metadata": {},
   "outputs": [
    {
     "name": "stdout",
     "output_type": "stream",
     "text": [
      "Linking nodes Graph(one).next = Graph(two)\n",
      "Linking nodes Graph(two).next = Graph(three)\n",
      "Linking nodes Graph(three).next = Graph(one)\n",
      "\n",
      "Collecting 0 ...\n",
      "Unreachable objects: 88\n",
      "Remaining Garbage: []\n",
      "\n",
      "Collecting 1 ...\n",
      "Unreachable objects: 0\n",
      "Remaining Garbage: []\n"
     ]
    }
   ],
   "source": [
    "one = Graph('one')\n",
    "two = Graph('two')\n",
    "three = Graph('three')\n",
    "one.set_next(two)\n",
    "two.set_next(three)\n",
    "three.set_next(one)\n",
    "# Удалить ссылки на узлы графа в пространстве имен данного модуля\n",
    "one = two = three = None\n",
    "# Продемонстрировать эффект сборки мусора\n",
    "for i in range(2):\n",
    "    print('\\nCollecting {} ...'.format(i))\n",
    "    n = gc.collect()\n",
    "    print('Unreachable objects:', n)\n",
    "    print('Remaining Garbage:', end=' ')\n",
    "    pprint.pprint(gc.garbage)"
   ]
  },
  {
   "cell_type": "markdown",
   "metadata": {},
   "source": [
    "Выполняемые сборщиком рутинные операции можно настраивать так, чтобы они осуществлялись c различной частотой на основании разницы между количествами размещаемых и удаляемых объектов от запуска к запуску. Если количество размещений объектов минус количество удалений превышает установленный для данного поколения порог, запускается сборщик мусора. Для получения текущих пороговых значений следует использовать функцию **get_threshold ()**."
   ]
  },
  {
   "cell_type": "code",
   "execution_count": 18,
   "metadata": {},
   "outputs": [
    {
     "name": "stdout",
     "output_type": "stream",
     "text": [
      "(700, 10, 10)\n"
     ]
    }
   ],
   "source": [
    "print(gc.get_threshold()) #(в первом поколении, во втором, в третьем)"
   ]
  },
  {
   "cell_type": "markdown",
   "metadata": {},
   "source": [
    "Для изменения пороговых значений следует использовать функцию **set_threshold()**"
   ]
  },
  {
   "cell_type": "code",
   "execution_count": 20,
   "metadata": {},
   "outputs": [
    {
     "name": "stdout",
     "output_type": "stream",
     "text": [
      "Thresholds: (10, 1, 1)\n"
     ]
    }
   ],
   "source": [
    "gc.set_threshold(10, 1, 1)\n",
    "print('Thresholds:', gc.get_threshold())"
   ]
  },
  {
   "cell_type": "markdown",
   "metadata": {},
   "source": [
    "- **gc.enable()** включает автоматический сборщик мусора\n",
    "- **gc.disable()** отключает автоматический сборщик мусора\n",
    "- **gc.get_stats()** возвращает список из трех словарей для каждого поколения, содержащих статистику сбора с момента запуска интерпретатора"
   ]
  },
  {
   "cell_type": "markdown",
   "metadata": {},
   "source": [
    "# Модуль sysconfig"
   ]
  },
  {
   "cell_type": "markdown",
   "metadata": {},
   "source": [
    "[официальная документация](https://docs.python.org/3.7/library/sysconfig.html)"
   ]
  },
  {
   "cell_type": "markdown",
   "metadata": {},
   "source": [
    "#### Этот модуль включает функции, которые определяют настройки, используемые для компиляции и установки текущего интерпретатора.\n"
   ]
  },
  {
   "cell_type": "markdown",
   "metadata": {},
   "source": [
    "Доступ к конфигурационным параметрам времени сборки предоставляют две функции: **get_config_vars()** и **get_config_var()**."
   ]
  },
  {
   "cell_type": "code",
   "execution_count": 22,
   "metadata": {},
   "outputs": [],
   "source": [
    "import sysconfig"
   ]
  },
  {
   "cell_type": "code",
   "execution_count": 33,
   "metadata": {},
   "outputs": [
    {
     "name": "stdout",
     "output_type": "stream",
     "text": [
      " Found 21 configuration settings\n",
      " \n",
      " Some highlights:Xn\n",
      " Installation prefixes:\n",
      " prefix=C:\\ProgramData\\Anaconda3\n",
      " exec_prefix=C:\\ProgramData\\Anaconda3\n",
      "\n",
      " Version info:\n",
      " py_version=3.7.4\n",
      " py_version_short=3.7\n",
      " py_version_nodot=37\n",
      " Xn Base directories:\n",
      " base=C:\\ProgramData\\Anaconda3\n",
      " platbase=C:\\ProgramData\\Anaconda3\n",
      " userbase=C:\\Users\\Влада\\AppData\\Roaming\\Python\n",
      " srcdir=C:\\ProgramData\\Anaconda3\n",
      " Xn Compiler and linker flags:\n"
     ]
    }
   ],
   "source": [
    "config_values = sysconfig.get_config_vars()\n",
    "print(' Found {} configuration settings'.format(\n",
    "len(config_values.keys())))\n",
    "print(' \\n Some highlights:Xn')\n",
    "print(' Installation prefixes:')\n",
    "print(' prefix={prefix}'.format(**config_values))\n",
    "print(' exec_prefix={exec_prefix}'.format(**config_values))\n",
    "print('\\n Version info:')\n",
    "print(' py_version={py_version}'.format(**config_values))\n",
    "print(' py_version_short={py_version_short}'.format(\n",
    "**config_values))\n",
    "print(' py_version_nodot={py_version_nodot}'.format(\n",
    "**config_values))\n",
    "print(' Xn Base directories:')\n",
    "print(' base={base}'.format(**config_values))\n",
    "print(' platbase={platbase}'.format(**config_values))\n",
    "print(' userbase={userbase}'.format(**config_values))\n",
    "print(' srcdir={srcdir}'.format(**config_values))\n",
    "print(' Xn Compiler and linker flags:')"
   ]
  },
  {
   "cell_type": "markdown",
   "metadata": {},
   "source": [
    "В этом примере создается список базовых каталогов установки, которые удается найти в текущей системе.Если найти переменную не удается, функция **get_config_var ()** не возбуждает исключение, а возвращает значение None."
   ]
  },
  {
   "cell_type": "code",
   "execution_count": 35,
   "metadata": {},
   "outputs": [
    {
     "name": "stdout",
     "output_type": "stream",
     "text": [
      "Base directories:\n",
      "  C:\\ProgramData\\Anaconda3\n",
      "  C:\\ProgramData\\Anaconda3\n",
      "  C:\\Users\\Влада\\AppData\\Roaming\\Python\n"
     ]
    }
   ],
   "source": [
    "bases = sysconfig.get_config_vars('base', 'platbase', 'userbase')\n",
    "print('Base directories:')\n",
    "for b in bases:\n",
    "    print(' ', b) "
   ]
  },
  {
   "cell_type": "markdown",
   "metadata": {},
   "source": [
    "Схема — это набор платформозависимых каталогов, заданных но умолчанию и организованных в соответствии со стандартами и рекомендациями по созданию пакетов для данной платформы. Для установки в расположения, доступные всему сайту, или в личные каталоги, принадлежащие конкретным пользователям, используются различные схемы. Полный набор схем можно получить c помощью функции **get__scheme_names ()**."
   ]
  },
  {
   "cell_type": "code",
   "execution_count": 36,
   "metadata": {},
   "outputs": [
    {
     "name": "stdout",
     "output_type": "stream",
     "text": [
      "nt\n",
      "nt_user\n",
      "osx_framework_user\n",
      "posix_home\n",
      "posix_prefix\n",
      "posix_user\n"
     ]
    }
   ],
   "source": [
    "import sysconfig\n",
    "for name in sysconfig.get_scheme_names():\n",
    "    print(name)"
   ]
  },
  {
   "cell_type": "markdown",
   "metadata": {},
   "source": [
    "Каждая схема определяет набор путей, используемых для установки пакетов. Для получения списка имен этих путей следует использовать функцию **get_path_names()**."
   ]
  },
  {
   "cell_type": "code",
   "execution_count": 37,
   "metadata": {},
   "outputs": [
    {
     "name": "stdout",
     "output_type": "stream",
     "text": [
      "stdlib\n",
      "platstdlib\n",
      "purelib\n",
      "platlib\n",
      "include\n",
      "scripts\n",
      "data\n"
     ]
    }
   ],
   "source": [
    "import sysconfig\n",
    "for name in sysconfig.get_path_names():\n",
    "    print(name)"
   ]
  },
  {
   "cell_type": "markdown",
   "metadata": {},
   "source": [
    "Фактические пути, ассоциированные со схсмой, можно получить c помощью функции **get_paths ()**."
   ]
  },
  {
   "cell_type": "markdown",
   "metadata": {},
   "source": [
    "Для получения более точного спецификатора платформы следует использовать функцию **get_platform ()**."
   ]
  },
  {
   "cell_type": "code",
   "execution_count": 38,
   "metadata": {},
   "outputs": [
    {
     "name": "stdout",
     "output_type": "stream",
     "text": [
      "win-amd64\n"
     ]
    }
   ],
   "source": [
    "import sysconfig\n",
    "print(sysconfig.get_platform())"
   ]
  },
  {
   "cell_type": "markdown",
   "metadata": {},
   "source": [
    "Функция **get_python_version()** возвращает строку, которую можно использовать для создания пути, специфического для версии."
   ]
  },
  {
   "cell_type": "code",
   "execution_count": 40,
   "metadata": {},
   "outputs": [
    {
     "name": "stdout",
     "output_type": "stream",
     "text": [
      "sysconfig.get_python_version(): 3.7\n",
      "\n",
      " sys.version_info:\n",
      " major : 3\n",
      " minor : 7\n",
      " micro : 4\n",
      " releaselevel: final\n",
      " serial : 0\n"
     ]
    }
   ],
   "source": [
    "import sysconfig\n",
    "import sys\n",
    "print('sysconfig.get_python_version():',\n",
    "sysconfig.get_python_version())\n",
    "print('\\n sys.version_info:')\n",
    "print(' major :', sys.version_info.major)\n",
    "print(' minor :', sys.version_info.minor)\n",
    "print(' micro :', sys.version_info.micro)\n",
    "print(' releaselevel:', sys.version_info.releaselevel)\n",
    "print(' serial :', sys.version_info.serial)"
   ]
  },
  {
   "cell_type": "markdown",
   "metadata": {},
   "source": [
    "# Домашкааааа"
   ]
  },
  {
   "cell_type": "markdown",
   "metadata": {},
   "source": [
    "- **1.** Подключить автоматический сборщик мусора с пороговым значением, равным 6 для первого поколения (для второго и третьего оставить по умолчанию)\n",
    "- **2.** Напишите рекурсивную функцию fib, вычисляющую n-ое число Фибоначчи (так, чтобы внутри был всего один рекурсивный вызов fib). fib внутри себя устанавливает случайный предел рекурсии (от 64 до 1000). Если вычисления не происходят из-за нарушения предела рекурсии, fib возвращает \"не повезло\".\n",
    "- **3.** Получите имя папки в текущей директории, в которой меньше всего файлов (не вложенных папок!)\n",
    "- **4.** Определите, сколько лет назад был собран Ваш интерпретатор. Выведите \"пора обновиться\", если интерпретатору не 0 лет."
   ]
  },
  {
   "cell_type": "code",
   "execution_count": null,
   "metadata": {},
   "outputs": [],
   "source": []
  }
 ],
 "metadata": {
  "kernelspec": {
   "display_name": "Python 3",
   "language": "python",
   "name": "python3"
  },
  "language_info": {
   "codemirror_mode": {
    "name": "ipython",
    "version": 3
   },
   "file_extension": ".py",
   "mimetype": "text/x-python",
   "name": "python",
   "nbconvert_exporter": "python",
   "pygments_lexer": "ipython3",
   "version": "3.8.5"
  }
 },
 "nbformat": 4,
 "nbformat_minor": 2
}

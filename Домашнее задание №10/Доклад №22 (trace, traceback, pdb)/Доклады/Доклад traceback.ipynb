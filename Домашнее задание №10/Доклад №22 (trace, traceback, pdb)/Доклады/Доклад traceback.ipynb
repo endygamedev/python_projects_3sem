{
 "cells": [
  {
   "cell_type": "markdown",
   "metadata": {},
   "source": [
    "# Traceback"
   ]
  },
  {
   "cell_type": "markdown",
   "metadata": {},
   "source": [
    "https://pymotw.com/3/traceback/index.html"
   ]
  },
  {
   "cell_type": "markdown",
   "metadata": {},
   "source": [
    "Модуль traceback позволяет извлекать, форматировать и выводить трассировочную информацию, которой обычно сопровождаются неперехватываемые исключения. По умолчанию модуль traceback воспроизводит форматирование, применяемое Python. Однако модуль traceback обеспечивает возможность более детального\n",
    "управления форматом вывода трассировочной информации. Он предоставляет множество функций, предназначенных для этих целей"
   ]
  },
  {
   "cell_type": "markdown",
   "metadata": {},
   "source": [
    "Модуль использует объекты трассировки - это тип объекта, который сохраняется в переменной sys.last_traceback и возвращается как третий элемент из sys.exc_info()."
   ]
  },
  {
   "cell_type": "markdown",
   "metadata": {},
   "source": [
    "Вспомогательная  функция:"
   ]
  },
  {
   "cell_type": "code",
   "execution_count": 10,
   "metadata": {},
   "outputs": [],
   "source": [
    "import traceback\n",
    "import sys\n",
    "\n",
    "def produce_exception(recursion_level=2):\n",
    "    sys.stdout.flush()\n",
    "    if recursion_level:\n",
    "        produce_exception(recursion_level - 1)\n",
    "    else:\n",
    "        raise RuntimeError()\n",
    "\n",
    "\n",
    "def call_function(f, recursion_level=2):\n",
    "    if recursion_level:\n",
    "        return call_function(f, recursion_level - 1)\n",
    "    else:\n",
    "        return f()"
   ]
  },
  {
   "cell_type": "markdown",
   "metadata": {},
   "source": [
    "Функция traceback.extract_tb() возвращает объект traceback.StackSummary, представляющий список \"предварительно обработанных\" записей трассировки стека, извлеченных из объекта трассировки."
   ]
  },
  {
   "cell_type": "markdown",
   "metadata": {},
   "source": [
    "\"Предварительно обработанная\" запись трассировки стека - это объект FrameSummary, содержащий атрибуты filename, lineno, name и line, представляющую информацию, которая обычно печатается для трассировки стека."
   ]
  },
  {
   "cell_type": "markdown",
   "metadata": {},
   "source": [
    "Walk_stack - проходится по стеку получая номер строки фрейма. Если номер фрейма не указан, то используется текущий стек."
   ]
  },
  {
   "cell_type": "code",
   "execution_count": 17,
   "metadata": {},
   "outputs": [
    {
     "name": "stdout",
     "output_type": "stream",
     "text": [
      "Calling f() directly:\n",
      "  File \"<ipython-input-17-eadd8a9c914e>\", line 2, in f\n",
      "    summary = traceback.StackSummary.extract(\n",
      "  File \"<ipython-input-17-eadd8a9c914e>\", line 9, in <module>\n",
      "    f()\n",
      "  File \"C:\\Users\\vkoso\\anaconda3\\lib\\site-packages\\IPython\\core\\interactiveshell.py\", line 3343, in run_code\n",
      "    exec(code_obj, self.user_global_ns, self.user_ns)\n",
      "  File \"C:\\Users\\vkoso\\anaconda3\\lib\\site-packages\\IPython\\core\\interactiveshell.py\", line 3263, in run_ast_nodes\n",
      "    if (await self.run_code(code, result,  async_=asy)):\n",
      "  File \"C:\\Users\\vkoso\\anaconda3\\lib\\site-packages\\IPython\\core\\interactiveshell.py\", line 3071, in run_cell_async\n",
      "    has_raised = await self.run_ast_nodes(code_ast.body, cell_name,\n",
      "  File \"C:\\Users\\vkoso\\anaconda3\\lib\\site-packages\\IPython\\core\\async_helpers.py\", line 68, in _pseudo_sync_runner\n",
      "    coro.send(None)\n",
      "  File \"C:\\Users\\vkoso\\anaconda3\\lib\\site-packages\\IPython\\core\\interactiveshell.py\", line 2895, in _run_cell\n",
      "    return runner(coro)\n",
      "  File \"C:\\Users\\vkoso\\anaconda3\\lib\\site-packages\\IPython\\core\\interactiveshell.py\", line 2866, in run_cell\n",
      "    result = self._run_cell(\n",
      "  File \"C:\\Users\\vkoso\\anaconda3\\lib\\site-packages\\ipykernel\\zmqshell.py\", line 536, in run_cell\n",
      "    return super(ZMQInteractiveShell, self).run_cell(*args, **kwargs)\n",
      "  File \"C:\\Users\\vkoso\\anaconda3\\lib\\site-packages\\ipykernel\\ipkernel.py\", line 306, in do_execute\n",
      "    res = shell.run_cell(code, store_history=store_history, silent=silent)\n",
      "  File \"C:\\Users\\vkoso\\anaconda3\\lib\\site-packages\\tornado\\gen.py\", line 209, in wrapper\n",
      "    yielded = next(result)\n",
      "  File \"C:\\Users\\vkoso\\anaconda3\\lib\\site-packages\\ipykernel\\kernelbase.py\", line 543, in execute_request\n",
      "    self.do_execute(\n",
      "  File \"C:\\Users\\vkoso\\anaconda3\\lib\\site-packages\\tornado\\gen.py\", line 209, in wrapper\n",
      "    yielded = next(result)\n",
      "  File \"C:\\Users\\vkoso\\anaconda3\\lib\\site-packages\\ipykernel\\kernelbase.py\", line 268, in dispatch_shell\n",
      "    yield gen.maybe_future(handler(stream, idents, msg))\n",
      "  File \"C:\\Users\\vkoso\\anaconda3\\lib\\site-packages\\tornado\\gen.py\", line 209, in wrapper\n",
      "    yielded = next(result)\n",
      "  File \"C:\\Users\\vkoso\\anaconda3\\lib\\site-packages\\ipykernel\\kernelbase.py\", line 365, in process_one\n",
      "    yield gen.maybe_future(dispatch(*args))\n",
      "  File \"C:\\Users\\vkoso\\anaconda3\\lib\\site-packages\\tornado\\gen.py\", line 748, in run\n",
      "    yielded = self.gen.send(value)\n",
      "  File \"C:\\Users\\vkoso\\anaconda3\\lib\\site-packages\\tornado\\gen.py\", line 787, in inner\n",
      "    self.run()\n",
      "  File \"C:\\Users\\vkoso\\anaconda3\\lib\\site-packages\\tornado\\ioloop.py\", line 743, in _run_callback\n",
      "    ret = callback()\n",
      "  File \"C:\\Users\\vkoso\\anaconda3\\lib\\site-packages\\tornado\\ioloop.py\", line 690, in <lambda>\n",
      "    lambda f: self._run_callback(functools.partial(callback, future))\n",
      "  File \"C:\\Users\\vkoso\\anaconda3\\lib\\asyncio\\events.py\", line 81, in _run\n",
      "    self._context.run(self._callback, *self._args)\n",
      "  File \"C:\\Users\\vkoso\\anaconda3\\lib\\asyncio\\base_events.py\", line 1859, in _run_once\n",
      "    handle._run()\n",
      "  File \"C:\\Users\\vkoso\\anaconda3\\lib\\asyncio\\base_events.py\", line 570, in run_forever\n",
      "    self._run_once()\n",
      "  File \"C:\\Users\\vkoso\\anaconda3\\lib\\site-packages\\tornado\\platform\\asyncio.py\", line 149, in start\n",
      "    self.asyncio_loop.run_forever()\n",
      "  File \"C:\\Users\\vkoso\\anaconda3\\lib\\site-packages\\ipykernel\\kernelapp.py\", line 612, in start\n",
      "    self.io_loop.start()\n",
      "  File \"C:\\Users\\vkoso\\anaconda3\\lib\\site-packages\\traitlets\\config\\application.py\", line 664, in launch_instance\n",
      "    app.start()\n",
      "  File \"C:\\Users\\vkoso\\anaconda3\\lib\\site-packages\\ipykernel_launcher.py\", line 16, in <module>\n",
      "    app.launch_new_instance()\n",
      "  File \"C:\\Users\\vkoso\\anaconda3\\lib\\runpy.py\", line 87, in _run_code\n",
      "    exec(code, run_globals)\n",
      "  File \"C:\\Users\\vkoso\\anaconda3\\lib\\runpy.py\", line 194, in _run_module_as_main\n",
      "    return _run_code(code, main_globals, None,\n",
      "\n",
      "\n",
      "Calling f() from 3 levels deep:\n",
      "  File \"<ipython-input-17-eadd8a9c914e>\", line 2, in f\n",
      "    summary = traceback.StackSummary.extract(\n",
      "  File \"<ipython-input-10-4f843cf6171f>\", line 16, in call_function\n",
      "    return f()\n",
      "  File \"<ipython-input-10-4f843cf6171f>\", line 14, in call_function\n",
      "    return call_function(f, recursion_level - 1)\n",
      "  File \"<ipython-input-10-4f843cf6171f>\", line 14, in call_function\n",
      "    return call_function(f, recursion_level - 1)\n",
      "  File \"<ipython-input-17-eadd8a9c914e>\", line 13, in <module>\n",
      "    call_function(f)\n",
      "  File \"C:\\Users\\vkoso\\anaconda3\\lib\\site-packages\\IPython\\core\\interactiveshell.py\", line 3343, in run_code\n",
      "    exec(code_obj, self.user_global_ns, self.user_ns)\n",
      "  File \"C:\\Users\\vkoso\\anaconda3\\lib\\site-packages\\IPython\\core\\interactiveshell.py\", line 3263, in run_ast_nodes\n",
      "    if (await self.run_code(code, result,  async_=asy)):\n",
      "  File \"C:\\Users\\vkoso\\anaconda3\\lib\\site-packages\\IPython\\core\\interactiveshell.py\", line 3071, in run_cell_async\n",
      "    has_raised = await self.run_ast_nodes(code_ast.body, cell_name,\n",
      "  File \"C:\\Users\\vkoso\\anaconda3\\lib\\site-packages\\IPython\\core\\async_helpers.py\", line 68, in _pseudo_sync_runner\n",
      "    coro.send(None)\n",
      "  File \"C:\\Users\\vkoso\\anaconda3\\lib\\site-packages\\IPython\\core\\interactiveshell.py\", line 2895, in _run_cell\n",
      "    return runner(coro)\n",
      "  File \"C:\\Users\\vkoso\\anaconda3\\lib\\site-packages\\IPython\\core\\interactiveshell.py\", line 2866, in run_cell\n",
      "    result = self._run_cell(\n",
      "  File \"C:\\Users\\vkoso\\anaconda3\\lib\\site-packages\\ipykernel\\zmqshell.py\", line 536, in run_cell\n",
      "    return super(ZMQInteractiveShell, self).run_cell(*args, **kwargs)\n",
      "  File \"C:\\Users\\vkoso\\anaconda3\\lib\\site-packages\\ipykernel\\ipkernel.py\", line 306, in do_execute\n",
      "    res = shell.run_cell(code, store_history=store_history, silent=silent)\n",
      "  File \"C:\\Users\\vkoso\\anaconda3\\lib\\site-packages\\tornado\\gen.py\", line 209, in wrapper\n",
      "    yielded = next(result)\n",
      "  File \"C:\\Users\\vkoso\\anaconda3\\lib\\site-packages\\ipykernel\\kernelbase.py\", line 543, in execute_request\n",
      "    self.do_execute(\n",
      "  File \"C:\\Users\\vkoso\\anaconda3\\lib\\site-packages\\tornado\\gen.py\", line 209, in wrapper\n",
      "    yielded = next(result)\n",
      "  File \"C:\\Users\\vkoso\\anaconda3\\lib\\site-packages\\ipykernel\\kernelbase.py\", line 268, in dispatch_shell\n",
      "    yield gen.maybe_future(handler(stream, idents, msg))\n",
      "  File \"C:\\Users\\vkoso\\anaconda3\\lib\\site-packages\\tornado\\gen.py\", line 209, in wrapper\n",
      "    yielded = next(result)\n",
      "  File \"C:\\Users\\vkoso\\anaconda3\\lib\\site-packages\\ipykernel\\kernelbase.py\", line 365, in process_one\n",
      "    yield gen.maybe_future(dispatch(*args))\n",
      "  File \"C:\\Users\\vkoso\\anaconda3\\lib\\site-packages\\tornado\\gen.py\", line 748, in run\n",
      "    yielded = self.gen.send(value)\n",
      "  File \"C:\\Users\\vkoso\\anaconda3\\lib\\site-packages\\tornado\\gen.py\", line 787, in inner\n",
      "    self.run()\n",
      "  File \"C:\\Users\\vkoso\\anaconda3\\lib\\site-packages\\tornado\\ioloop.py\", line 743, in _run_callback\n",
      "    ret = callback()\n",
      "  File \"C:\\Users\\vkoso\\anaconda3\\lib\\site-packages\\tornado\\ioloop.py\", line 690, in <lambda>\n",
      "    lambda f: self._run_callback(functools.partial(callback, future))\n",
      "  File \"C:\\Users\\vkoso\\anaconda3\\lib\\asyncio\\events.py\", line 81, in _run\n",
      "    self._context.run(self._callback, *self._args)\n",
      "  File \"C:\\Users\\vkoso\\anaconda3\\lib\\asyncio\\base_events.py\", line 1859, in _run_once\n",
      "    handle._run()\n",
      "  File \"C:\\Users\\vkoso\\anaconda3\\lib\\asyncio\\base_events.py\", line 570, in run_forever\n",
      "    self._run_once()\n",
      "  File \"C:\\Users\\vkoso\\anaconda3\\lib\\site-packages\\tornado\\platform\\asyncio.py\", line 149, in start\n",
      "    self.asyncio_loop.run_forever()\n",
      "  File \"C:\\Users\\vkoso\\anaconda3\\lib\\site-packages\\ipykernel\\kernelapp.py\", line 612, in start\n",
      "    self.io_loop.start()\n",
      "  File \"C:\\Users\\vkoso\\anaconda3\\lib\\site-packages\\traitlets\\config\\application.py\", line 664, in launch_instance\n",
      "    app.start()\n",
      "  File \"C:\\Users\\vkoso\\anaconda3\\lib\\site-packages\\ipykernel_launcher.py\", line 16, in <module>\n",
      "    app.launch_new_instance()\n",
      "  File \"C:\\Users\\vkoso\\anaconda3\\lib\\runpy.py\", line 87, in _run_code\n",
      "    exec(code, run_globals)\n",
      "  File \"C:\\Users\\vkoso\\anaconda3\\lib\\runpy.py\", line 194, in _run_module_as_main\n",
      "    return _run_code(code, main_globals, None,\n",
      "\n"
     ]
    }
   ],
   "source": [
    "def f():\n",
    "    summary = traceback.StackSummary.extract(\n",
    "        traceback.walk_stack(None)\n",
    "    )\n",
    "    print(''.join(summary.format()))\n",
    "\n",
    "\n",
    "print('Calling f() directly:')\n",
    "f()\n",
    "\n",
    "print()\n",
    "print('Calling f() from 3 levels deep:')\n",
    "call_function(f)"
   ]
  },
  {
   "cell_type": "markdown",
   "metadata": {},
   "source": [
    "Также мы можем задавать шаблоны."
   ]
  },
  {
   "cell_type": "code",
   "execution_count": 34,
   "metadata": {},
   "outputs": [
    {
     "name": "stdout",
     "output_type": "stream",
     "text": [
      "Calling f() directly:\n",
      "<ipython-input-34-f4af61e84c36>:6:f:\n",
      "    summary = traceback.StackSummary.extract(\n",
      "<ipython-input-34-f4af61e84c36>:14:<module>:\n",
      "    f()\n",
      "C:\\Users\\vkoso\\anaconda3\\lib\\site-packages\\IPython\\core\\interactiveshell.py:3343:run_code:\n",
      "    exec(code_obj, self.user_global_ns, self.user_ns)\n",
      "C:\\Users\\vkoso\\anaconda3\\lib\\site-packages\\IPython\\core\\interactiveshell.py:3263:run_ast_nodes:\n",
      "    if (await self.run_code(code, result,  async_=asy)):\n",
      "C:\\Users\\vkoso\\anaconda3\\lib\\site-packages\\IPython\\core\\interactiveshell.py:3071:run_cell_async:\n",
      "    has_raised = await self.run_ast_nodes(code_ast.body, cell_name,\n",
      "C:\\Users\\vkoso\\anaconda3\\lib\\site-packages\\IPython\\core\\async_helpers.py:68:_pseudo_sync_runner:\n",
      "    coro.send(None)\n",
      "C:\\Users\\vkoso\\anaconda3\\lib\\site-packages\\IPython\\core\\interactiveshell.py:2895:_run_cell:\n",
      "    return runner(coro)\n",
      "C:\\Users\\vkoso\\anaconda3\\lib\\site-packages\\IPython\\core\\interactiveshell.py:2866:run_cell:\n",
      "    result = self._run_cell(\n",
      "C:\\Users\\vkoso\\anaconda3\\lib\\site-packages\\ipykernel\\zmqshell.py:536:run_cell:\n",
      "    return super(ZMQInteractiveShell, self).run_cell(*args, **kwargs)\n",
      "C:\\Users\\vkoso\\anaconda3\\lib\\site-packages\\ipykernel\\ipkernel.py:306:do_execute:\n",
      "    res = shell.run_cell(code, store_history=store_history, silent=silent)\n",
      "C:\\Users\\vkoso\\anaconda3\\lib\\site-packages\\tornado\\gen.py:209:wrapper:\n",
      "    yielded = next(result)\n",
      "C:\\Users\\vkoso\\anaconda3\\lib\\site-packages\\ipykernel\\kernelbase.py:543:execute_request:\n",
      "    self.do_execute(\n",
      "C:\\Users\\vkoso\\anaconda3\\lib\\site-packages\\tornado\\gen.py:209:wrapper:\n",
      "    yielded = next(result)\n",
      "C:\\Users\\vkoso\\anaconda3\\lib\\site-packages\\ipykernel\\kernelbase.py:268:dispatch_shell:\n",
      "    yield gen.maybe_future(handler(stream, idents, msg))\n",
      "C:\\Users\\vkoso\\anaconda3\\lib\\site-packages\\tornado\\gen.py:209:wrapper:\n",
      "    yielded = next(result)\n",
      "C:\\Users\\vkoso\\anaconda3\\lib\\site-packages\\ipykernel\\kernelbase.py:365:process_one:\n",
      "    yield gen.maybe_future(dispatch(*args))\n",
      "C:\\Users\\vkoso\\anaconda3\\lib\\site-packages\\tornado\\gen.py:748:run:\n",
      "    yielded = self.gen.send(value)\n",
      "C:\\Users\\vkoso\\anaconda3\\lib\\site-packages\\tornado\\gen.py:787:inner:\n",
      "    self.run()\n",
      "C:\\Users\\vkoso\\anaconda3\\lib\\site-packages\\tornado\\ioloop.py:743:_run_callback:\n",
      "    ret = callback()\n",
      "C:\\Users\\vkoso\\anaconda3\\lib\\site-packages\\tornado\\ioloop.py:690:<lambda>:\n",
      "    lambda f: self._run_callback(functools.partial(callback, future))\n",
      "C:\\Users\\vkoso\\anaconda3\\lib\\asyncio\\events.py:81:_run:\n",
      "    self._context.run(self._callback, *self._args)\n",
      "C:\\Users\\vkoso\\anaconda3\\lib\\asyncio\\base_events.py:1859:_run_once:\n",
      "    handle._run()\n",
      "C:\\Users\\vkoso\\anaconda3\\lib\\asyncio\\base_events.py:570:run_forever:\n",
      "    self._run_once()\n",
      "C:\\Users\\vkoso\\anaconda3\\lib\\site-packages\\tornado\\platform\\asyncio.py:149:start:\n",
      "    self.asyncio_loop.run_forever()\n",
      "C:\\Users\\vkoso\\anaconda3\\lib\\site-packages\\ipykernel\\kernelapp.py:612:start:\n",
      "    self.io_loop.start()\n",
      "C:\\Users\\vkoso\\anaconda3\\lib\\site-packages\\traitlets\\config\\application.py:664:launch_instance:\n",
      "    app.start()\n",
      "C:\\Users\\vkoso\\anaconda3\\lib\\site-packages\\ipykernel_launcher.py:16:<module>:\n",
      "    app.launch_new_instance()\n",
      "C:\\Users\\vkoso\\anaconda3\\lib\\runpy.py:87:_run_code:\n",
      "    exec(code, run_globals)\n",
      "C:\\Users\\vkoso\\anaconda3\\lib\\runpy.py:194:_run_module_as_main:\n",
      "    return _run_code(code, main_globals, None,\n",
      "\n",
      "Calling f() from 3 levels deep:\n",
      "<ipython-input-34-f4af61e84c36>:6:f:\n",
      "    summary = traceback.StackSummary.extract(\n",
      "<ipython-input-10-4f843cf6171f>:16:call_function:\n",
      "    return f()\n",
      "<ipython-input-10-4f843cf6171f>:14:call_function:\n",
      "    return call_function(f, recursion_level - 1)\n",
      "<ipython-input-10-4f843cf6171f>:14:call_function:\n",
      "    return call_function(f, recursion_level - 1)\n",
      "<ipython-input-34-f4af61e84c36>:18:<module>:\n",
      "    call_function(f)\n",
      "C:\\Users\\vkoso\\anaconda3\\lib\\site-packages\\IPython\\core\\interactiveshell.py:3343:run_code:\n",
      "    exec(code_obj, self.user_global_ns, self.user_ns)\n",
      "C:\\Users\\vkoso\\anaconda3\\lib\\site-packages\\IPython\\core\\interactiveshell.py:3263:run_ast_nodes:\n",
      "    if (await self.run_code(code, result,  async_=asy)):\n",
      "C:\\Users\\vkoso\\anaconda3\\lib\\site-packages\\IPython\\core\\interactiveshell.py:3071:run_cell_async:\n",
      "    has_raised = await self.run_ast_nodes(code_ast.body, cell_name,\n",
      "C:\\Users\\vkoso\\anaconda3\\lib\\site-packages\\IPython\\core\\async_helpers.py:68:_pseudo_sync_runner:\n",
      "    coro.send(None)\n",
      "C:\\Users\\vkoso\\anaconda3\\lib\\site-packages\\IPython\\core\\interactiveshell.py:2895:_run_cell:\n",
      "    return runner(coro)\n",
      "C:\\Users\\vkoso\\anaconda3\\lib\\site-packages\\IPython\\core\\interactiveshell.py:2866:run_cell:\n",
      "    result = self._run_cell(\n",
      "C:\\Users\\vkoso\\anaconda3\\lib\\site-packages\\ipykernel\\zmqshell.py:536:run_cell:\n",
      "    return super(ZMQInteractiveShell, self).run_cell(*args, **kwargs)\n",
      "C:\\Users\\vkoso\\anaconda3\\lib\\site-packages\\ipykernel\\ipkernel.py:306:do_execute:\n",
      "    res = shell.run_cell(code, store_history=store_history, silent=silent)\n",
      "C:\\Users\\vkoso\\anaconda3\\lib\\site-packages\\tornado\\gen.py:209:wrapper:\n",
      "    yielded = next(result)\n",
      "C:\\Users\\vkoso\\anaconda3\\lib\\site-packages\\ipykernel\\kernelbase.py:543:execute_request:\n",
      "    self.do_execute(\n",
      "C:\\Users\\vkoso\\anaconda3\\lib\\site-packages\\tornado\\gen.py:209:wrapper:\n",
      "    yielded = next(result)\n",
      "C:\\Users\\vkoso\\anaconda3\\lib\\site-packages\\ipykernel\\kernelbase.py:268:dispatch_shell:\n",
      "    yield gen.maybe_future(handler(stream, idents, msg))\n",
      "C:\\Users\\vkoso\\anaconda3\\lib\\site-packages\\tornado\\gen.py:209:wrapper:\n",
      "    yielded = next(result)\n",
      "C:\\Users\\vkoso\\anaconda3\\lib\\site-packages\\ipykernel\\kernelbase.py:365:process_one:\n",
      "    yield gen.maybe_future(dispatch(*args))\n",
      "C:\\Users\\vkoso\\anaconda3\\lib\\site-packages\\tornado\\gen.py:748:run:\n",
      "    yielded = self.gen.send(value)\n",
      "C:\\Users\\vkoso\\anaconda3\\lib\\site-packages\\tornado\\gen.py:787:inner:\n",
      "    self.run()\n",
      "C:\\Users\\vkoso\\anaconda3\\lib\\site-packages\\tornado\\ioloop.py:743:_run_callback:\n",
      "    ret = callback()\n",
      "C:\\Users\\vkoso\\anaconda3\\lib\\site-packages\\tornado\\ioloop.py:690:<lambda>:\n",
      "    lambda f: self._run_callback(functools.partial(callback, future))\n",
      "C:\\Users\\vkoso\\anaconda3\\lib\\asyncio\\events.py:81:_run:\n",
      "    self._context.run(self._callback, *self._args)\n",
      "C:\\Users\\vkoso\\anaconda3\\lib\\asyncio\\base_events.py:1859:_run_once:\n",
      "    handle._run()\n",
      "C:\\Users\\vkoso\\anaconda3\\lib\\asyncio\\base_events.py:570:run_forever:\n",
      "    self._run_once()\n",
      "C:\\Users\\vkoso\\anaconda3\\lib\\site-packages\\tornado\\platform\\asyncio.py:149:start:\n",
      "    self.asyncio_loop.run_forever()\n",
      "C:\\Users\\vkoso\\anaconda3\\lib\\site-packages\\ipykernel\\kernelapp.py:612:start:\n",
      "    self.io_loop.start()\n",
      "C:\\Users\\vkoso\\anaconda3\\lib\\site-packages\\traitlets\\config\\application.py:664:launch_instance:\n",
      "    app.start()\n",
      "C:\\Users\\vkoso\\anaconda3\\lib\\site-packages\\ipykernel_launcher.py:16:<module>:\n",
      "    app.launch_new_instance()\n",
      "C:\\Users\\vkoso\\anaconda3\\lib\\runpy.py:87:_run_code:\n",
      "    exec(code, run_globals)\n",
      "C:\\Users\\vkoso\\anaconda3\\lib\\runpy.py:194:_run_module_as_main:\n",
      "    return _run_code(code, main_globals, None,\n"
     ]
    }
   ],
   "source": [
    "template = (\n",
    "    '{fs.filename:<26}:{fs.lineno}:{fs.name}:\\n'\n",
    "    '    {fs.line}'\n",
    ")\n",
    "def f():\n",
    "    summary = traceback.StackSummary.extract(\n",
    "        traceback.walk_stack(None)\n",
    "    )\n",
    "    for fs in summary:\n",
    "        print(template.format(fs=fs))\n",
    "\n",
    "\n",
    "print('Calling f() directly:')\n",
    "f()\n",
    "\n",
    "print()\n",
    "print('Calling f() from 3 levels deep:')\n",
    "call_function(f)"
   ]
  },
  {
   "cell_type": "markdown",
   "metadata": {},
   "source": [
    "Для большенства случаев обработки исключений подойдет функция print_exc()"
   ]
  },
  {
   "cell_type": "markdown",
   "metadata": {},
   "source": [
    "Она использует функцию sys.exc_info() для получения информации об исключении для текущего потока, форматирования результатов и печати текста в дескриптор файла (по умолчанию sys.stderr)."
   ]
  },
  {
   "cell_type": "code",
   "execution_count": 22,
   "metadata": {},
   "outputs": [
    {
     "name": "stdout",
     "output_type": "stream",
     "text": [
      "print_exc() with no exception:\n",
      "NoneType: None\n",
      "\n",
      "print_exc():\n",
      "Traceback (most recent call last):\n",
      "  File \"<ipython-input-22-7f110025ef23>\", line 6, in <module>\n",
      "    produce_exception()\n",
      "  File \"<ipython-input-10-4f843cf6171f>\", line 7, in produce_exception\n",
      "    produce_exception(recursion_level - 1)\n",
      "  File \"<ipython-input-10-4f843cf6171f>\", line 7, in produce_exception\n",
      "    produce_exception(recursion_level - 1)\n",
      "  File \"<ipython-input-10-4f843cf6171f>\", line 9, in produce_exception\n",
      "    raise RuntimeError()\n",
      "RuntimeError\n",
      "\n",
      "print_exc(1):\n",
      "Traceback (most recent call last):\n",
      "  File \"<ipython-input-22-7f110025ef23>\", line 6, in <module>\n",
      "    produce_exception()\n",
      "RuntimeError\n"
     ]
    }
   ],
   "source": [
    "print('print_exc() with no exception:')\n",
    "traceback.print_exc(file=sys.stdout)\n",
    "print()\n",
    "\n",
    "try:\n",
    "    produce_exception()\n",
    "except Exception as err:\n",
    "    print('print_exc():')\n",
    "    traceback.print_exc(file=sys.stdout)\n",
    "    print()\n",
    "    print('print_exc(1):')\n",
    "    traceback.print_exc(limit=1, file=sys.stdout)"
   ]
  },
  {
   "cell_type": "markdown",
   "metadata": {},
   "source": [
    "Чтобы обработать обратную трассировку каким-либо другим способом, например отформатировать ее по-другому, можно использовать extract_tb (), чтобы получить данные в удобном для использования виде."
   ]
  },
  {
   "cell_type": "code",
   "execution_count": 28,
   "metadata": {},
   "outputs": [
    {
     "name": "stdout",
     "output_type": "stream",
     "text": [
      "format_exception():\n",
      "<ipython-input-28-794f005026a3>:4:<module>:produce_exception()\n",
      "<ipython-input-10-4f843cf6171f>:7:produce_exception():produce_exception(recursion_level - 1)\n",
      "<ipython-input-10-4f843cf6171f>:7:produce_exception():produce_exception(recursion_level - 1)\n",
      "<ipython-input-10-4f843cf6171f>:9:produce_exception():raise RuntimeError()\n"
     ]
    }
   ],
   "source": [
    "import os\n",
    "template = '{filename:<23}:{linenum}:{funcname}:{source}'\n",
    "try:\n",
    "    produce_exception()\n",
    "except Exception as err:\n",
    "    print('format_exception():')\n",
    "    exc_type, exc_value, exc_tb = sys.exc_info()\n",
    "    for tb_info in traceback.extract_tb(exc_tb):\n",
    "        filename, linenum, funcname, source = tb_info\n",
    "        if funcname != '<module>':\n",
    "            funcname = funcname + '()'\n",
    "        print(template.format(\n",
    "            filename=os.path.basename(filename),\n",
    "            linenum=linenum,\n",
    "            source=source,\n",
    "            funcname=funcname)\n",
    "        )"
   ]
  },
  {
   "cell_type": "markdown",
   "metadata": {},
   "source": [
    "Возвращаемое значение представляет собой список записей с каждого уровня стека, представленных трассировкой. Каждая запись представляет собой кортеж из четырех частей: имя исходного файла, номер строки в этом файле, имя функции и исходный текст из этой строки с вычеркнутыми пробелами ."
   ]
  },
  {
   "cell_type": "code",
   "execution_count": null,
   "metadata": {},
   "outputs": [],
   "source": []
  }
 ],
 "metadata": {
  "kernelspec": {
   "display_name": "Python 3",
   "language": "python",
   "name": "python3"
  },
  "language_info": {
   "codemirror_mode": {
    "name": "ipython",
    "version": 3
   },
   "file_extension": ".py",
   "mimetype": "text/x-python",
   "name": "python",
   "nbconvert_exporter": "python",
   "pygments_lexer": "ipython3",
   "version": "3.8.5"
  }
 },
 "nbformat": 4,
 "nbformat_minor": 4
}

{
 "cells": [
  {
   "cell_type": "markdown",
   "metadata": {
    "colab_type": "text",
    "id": "XDvIjXU01_ua",
    "source": [
     "<a href=\"https://colab.research.google.com/drive/1OFbSj-d0S9g4NDJfd7tGCFbaWsBklrFr\"><img align=\"left\" src=\"https://colab.research.google.com/assets/colab-badge.svg\" alt=\"Open in Colab\" title=\"Open and Execute in Google Colaboratory\" target=\"_blank\"></a>"
    ]
   },
   "source": [
    "# Домашнее задание №1 "
   ]
  },
  {
   "cell_type": "markdown",
   "metadata": {
    "colab_type": "text",
    "id": "1nwh5nM22F6Z"
   },
   "source": [
    "## Задание №1"
   ]
  },
  {
   "cell_type": "markdown",
   "metadata": {
    "colab_type": "text",
    "id": "Qy0cZ-F4KFQJ"
   },
   "source": [
    "*Способ №1*"
   ]
  },
  {
   "cell_type": "code",
   "execution_count": 4,
   "metadata": {
    "colab": {
     "base_uri": "https://localhost:8080/",
     "height": 68
    },
    "colab_type": "code",
    "executionInfo": {
     "elapsed": 2179,
     "status": "ok",
     "timestamp": 1599591803424,
     "user": {
      "displayName": "Egor Bronnikov",
      "photoUrl": "https://lh3.googleusercontent.com/a-/AOh14GhweVQJI7BiE5TaPetwNnKNCwUO1mynGtoA5-pe4Q=s64",
      "userId": "14770815761046424264"
     },
     "user_tz": -180
    },
    "id": "fE_C1cFu1tFA",
    "outputId": "4974cc15-c7d4-4901-c2d3-7a9b07fcf8ed"
   },
   "outputs": [
    {
     "name": "stdout",
     "output_type": "stream",
     "text": [
      "[1, 1, 1, 1, 2, 2, 1, 1, 1, 3, 3, 3, 3]\n",
      "[1, 1, 1, 1, 2, 2, 1, 1, 1, 3, 3, 3, 3]\n",
      "True\n"
     ]
    }
   ],
   "source": [
    "class CompressedList(list):\n",
    "    def __iter__(self):\n",
    "        return ComressedListIterator(self)\n",
    "\n",
    "class ComressedListIterator:\n",
    "    def __init__(self, arr):\n",
    "        self.arr = arr\n",
    "        self.counter = 0\n",
    "        self.index = 0\n",
    "\n",
    "    def __next__(self):\n",
    "        if self.index < len(self.arr):                            \n",
    "            if self.counter + 1 < self.arr[self.index][1]:          # если не все повторяющиеся элементы \n",
    "                self.counter += 1                                   # текущей паре self.index выдали - увеличиваем counter\n",
    "                return self.arr[self.index][0]                      # выдаем еще один элемент\n",
    "            else:\n",
    "                self.counter = 0                                    # если все элементы текущей пары выдали, переходим к \n",
    "                self.index += 1                                     # следующей паре\n",
    "                return self.arr[self.index-1][0]\n",
    "        else:\n",
    "            raise StopIteration()                                   # если все пары перебрали, raise StopIteration()\n",
    "\n",
    "original = [1, 1, 1, 1, 2, 2, 1, 1, 1, 3, 3, 3, 3]\n",
    "compressed = CompressedList([(1, 4), (2, 2), (1, 3), (3, 4)])\n",
    "\n",
    "decompressed = [x for x in compressed]\n",
    "\n",
    "print(original)\n",
    "print(decompressed)\n",
    "print(original == decompressed)"
   ]
  },
  {
   "cell_type": "markdown",
   "metadata": {
    "colab_type": "text",
    "id": "JfarXqN7ICwZ"
   },
   "source": [
    "По-моему этот вариант лучше, но \"бесшовного\" перехода не получается :(\n",
    "  \n",
    "Из-за этого надо потом убирать None"
   ]
  },
  {
   "cell_type": "markdown",
   "metadata": {
    "colab_type": "text",
    "id": "sz-qf39aLMc3"
   },
   "source": [
    "*Способ №2*"
   ]
  },
  {
   "cell_type": "code",
   "execution_count": 15,
   "metadata": {
    "colab": {
     "base_uri": "https://localhost:8080/",
     "height": 68
    },
    "colab_type": "code",
    "executionInfo": {
     "elapsed": 2936,
     "status": "ok",
     "timestamp": 1599592190041,
     "user": {
      "displayName": "Egor Bronnikov",
      "photoUrl": "https://lh3.googleusercontent.com/a-/AOh14GhweVQJI7BiE5TaPetwNnKNCwUO1mynGtoA5-pe4Q=s64",
      "userId": "14770815761046424264"
     },
     "user_tz": -180
    },
    "id": "Z7Wz3BAGGn1x",
    "outputId": "0e99b82a-5621-4781-8708-4fa942fb2367"
   },
   "outputs": [
    {
     "name": "stdout",
     "output_type": "stream",
     "text": [
      "[1, 1, 1, 1, 2, 2, 1, 1, 1, 3, 3, 3, 3]\n",
      "[1, 1, 1, 1, None, 2, 2, None, 1, 1, 1, None, 3, 3, 3, 3, None]\n",
      "True\n"
     ]
    }
   ],
   "source": [
    "class CompressedList(list):\n",
    "    def __iter__(self):\n",
    "        return ComressedListIterator(self)\n",
    "\n",
    "class ComressedListIterator:\n",
    "    def __init__(self, arr):\n",
    "        self.arr = arr\n",
    "        self.counter = 0\n",
    "        self.index = 0\n",
    "\n",
    "    def __next__(self):\n",
    "        if self.index < len(self.arr):                            \n",
    "            while self.counter < self.arr[self.index][1]:           # если не все повторяющиеся элементы \n",
    "                self.counter += 1                                   # текущей паре self.index выдали - увеличиваем counter\n",
    "                return self.arr[self.index][0]                      # выдаем еще один элемент\n",
    "            self.counter = 0                                        # если все элементы текущей пары выдали, переходим к \n",
    "            self.index += 1                                         # следующей пар\n",
    "        else:\n",
    "            raise StopIteration()                                   # если все пары перебрали, raise StopIteration()\n",
    "\n",
    "original = [1, 1, 1, 1, 2, 2, 1, 1, 1, 3, 3, 3, 3]\n",
    "compressed = CompressedList([(1, 4), (2, 2), (1, 3), (3, 4)])\n",
    "\n",
    "decompressed = [x for x in compressed]\n",
    "\n",
    "print(original)\n",
    "print(decompressed)\n",
    "print(original == list(filter(lambda _: _ is not None, decompressed)))"
   ]
  },
  {
   "cell_type": "markdown",
   "metadata": {
    "colab_type": "text",
    "id": "6X7GIqSl3AKu"
   },
   "source": [
    "## Задание №2"
   ]
  },
  {
   "cell_type": "markdown",
   "metadata": {
    "colab_type": "text",
    "id": "qycH6OiC3J_A"
   },
   "source": [
    "Создать класс для генерации ограниченной арифметичесой прогрессии чисел произвольного типа:\n",
    "\n",
    "```Python\n",
    ">>> ap = ArithProgress(0, 1, 3)\n",
    ">>> list(ap)\n",
    "[0, 1, 2]\n",
    ">>> ap = ArithProgress(1, .5, 3)\n",
    ">>> list(ap)\n",
    "[1.0, 1.5, 2.0, 2.5]\n",
    "```"
   ]
  },
  {
   "cell_type": "code",
   "execution_count": 7,
   "metadata": {
    "colab": {},
    "colab_type": "code",
    "executionInfo": {
     "elapsed": 911,
     "status": "ok",
     "timestamp": 1599659666430,
     "user": {
      "displayName": "Egor Bronnikov",
      "photoUrl": "https://lh3.googleusercontent.com/a-/AOh14GhweVQJI7BiE5TaPetwNnKNCwUO1mynGtoA5-pe4Q=s64",
      "userId": "14770815761046424264"
     },
     "user_tz": -180
    },
    "id": "gSvoqXyn2f4j"
   },
   "outputs": [],
   "source": [
    "class ArithProgress:\n",
    "    def __init__(self, start, step, stop):\n",
    "        self.start = start\n",
    "        self.stop = stop\n",
    "        self.step = step\n",
    "\n",
    "    def __iter__(self):\n",
    "        curr = self.start\n",
    "        while curr < self.stop:\n",
    "            yield curr\n",
    "            curr += self.step"
   ]
  },
  {
   "cell_type": "code",
   "execution_count": 8,
   "metadata": {
    "colab": {
     "base_uri": "https://localhost:8080/",
     "height": 31
    },
    "colab_type": "code",
    "executionInfo": {
     "elapsed": 663,
     "status": "ok",
     "timestamp": 1599659382946,
     "user": {
      "displayName": "Egor Bronnikov",
      "photoUrl": "https://lh3.googleusercontent.com/a-/AOh14GhweVQJI7BiE5TaPetwNnKNCwUO1mynGtoA5-pe4Q=s64",
      "userId": "14770815761046424264"
     },
     "user_tz": -180
    },
    "id": "F0FEbpjB3azi",
    "outputId": "4b9cd2bd-5a14-4936-f944-ac930a26a9ce"
   },
   "outputs": [
    {
     "data": {
      "text/plain": [
       "[0, 1, 2]"
      ]
     },
     "execution_count": 8,
     "metadata": {},
     "output_type": "execute_result"
    }
   ],
   "source": [
    "ap = ArithProgress(0, 1, 3)\n",
    "list(ap)"
   ]
  },
  {
   "cell_type": "code",
   "execution_count": 9,
   "metadata": {
    "colab": {
     "base_uri": "https://localhost:8080/",
     "height": 31
    },
    "colab_type": "code",
    "executionInfo": {
     "elapsed": 704,
     "status": "ok",
     "timestamp": 1599659384087,
     "user": {
      "displayName": "Egor Bronnikov",
      "photoUrl": "https://lh3.googleusercontent.com/a-/AOh14GhweVQJI7BiE5TaPetwNnKNCwUO1mynGtoA5-pe4Q=s64",
      "userId": "14770815761046424264"
     },
     "user_tz": -180
    },
    "id": "K_sS2QqB3lHF",
    "outputId": "79975aba-cea8-4d96-bd72-25c90af94bc0"
   },
   "outputs": [
    {
     "data": {
      "text/plain": [
       "[1, 1.5, 2.0, 2.5]"
      ]
     },
     "execution_count": 9,
     "metadata": {},
     "output_type": "execute_result"
    }
   ],
   "source": [
    "ap = ArithProgress(1, .5, 3)  # только тут '1' не вещественная как в примере, но для этого мы должны были в объявлении функции задать вещественное значение\n",
    "list(ap)"
   ]
  },
  {
   "cell_type": "markdown",
   "metadata": {
    "colab_type": "text",
    "id": "WJSrYk1L3xoc"
   },
   "source": [
    "## Задание №3"
   ]
  },
  {
   "cell_type": "markdown",
   "metadata": {
    "colab_type": "text",
    "id": "wX4T3t8DJmte"
   },
   "source": [
    "Я прочитал на StackOverflow, что: '\\__next\\__ should *return* an item, not *yield* it.'\n",
    "\n",
    "Поэтому есть несколько способов для решения задачи"
   ]
  },
  {
   "cell_type": "markdown",
   "metadata": {
    "colab_type": "text",
    "id": "817VeZwLKBM2"
   },
   "source": [
    "*Способ №1*"
   ]
  },
  {
   "cell_type": "code",
   "execution_count": 10,
   "metadata": {
    "colab": {
     "base_uri": "https://localhost:8080/",
     "height": 59
    },
    "colab_type": "code",
    "executionInfo": {
     "elapsed": 902,
     "status": "ok",
     "timestamp": 1599659850986,
     "user": {
      "displayName": "Egor Bronnikov",
      "photoUrl": "https://lh3.googleusercontent.com/a-/AOh14GhweVQJI7BiE5TaPetwNnKNCwUO1mynGtoA5-pe4Q=s64",
      "userId": "14770815761046424264"
     },
     "user_tz": -180
    },
    "id": "XjSzEYUy3n2p",
    "outputId": "fd650a6f-20e7-4780-f0bb-69d043a83cec"
   },
   "outputs": [
    {
     "name": "stdout",
     "output_type": "stream",
     "text": [
      "[1, 1, 1, 1, 2, 2, 1, 1, 1, 3, 3, 3, 3]\n",
      "[1, 1, 1, 1, 2, 2, 1, 1, 1, 3, 3, 3, 3]\n",
      "True\n"
     ]
    }
   ],
   "source": [
    "class ComressedListIterator:\n",
    "    def __init__(self, arr):\n",
    "        self.arr = arr\n",
    "        self.counter = 0\n",
    "        self.index = 0\n",
    "\n",
    "    def __iter__(self):\n",
    "        while self.index < len(self.arr):                            \n",
    "            while self.counter < self.arr[self.index][1]:\n",
    "                yield self.arr[self.index][0]\n",
    "                self.counter += 1\n",
    "            self.index += 1\n",
    "            self.counter = 0\n",
    "\n",
    "original = [1, 1, 1, 1, 2, 2, 1, 1, 1, 3, 3, 3, 3]\n",
    "compressed = ComressedListIterator([(1, 4), (2, 2), (1, 3), (3, 4)])\n",
    "\n",
    "decompressed = list(compressed)\n",
    "\n",
    "print(original)\n",
    "print(decompressed)\n",
    "print(original == decompressed)"
   ]
  },
  {
   "cell_type": "markdown",
   "metadata": {
    "colab_type": "text",
    "id": "mepvp3xPKXfM"
   },
   "source": [
    "*Способ №2* (более странный)"
   ]
  },
  {
   "cell_type": "code",
   "execution_count": 11,
   "metadata": {
    "colab": {
     "base_uri": "https://localhost:8080/",
     "height": 59
    },
    "colab_type": "code",
    "executionInfo": {
     "elapsed": 1372,
     "status": "ok",
     "timestamp": 1599662447962,
     "user": {
      "displayName": "Egor Bronnikov",
      "photoUrl": "https://lh3.googleusercontent.com/a-/AOh14GhweVQJI7BiE5TaPetwNnKNCwUO1mynGtoA5-pe4Q=s64",
      "userId": "14770815761046424264"
     },
     "user_tz": -180
    },
    "id": "h0MGkqQmKafz",
    "outputId": "79ee86ce-7436-46f4-9d18-e7ff056cbf85"
   },
   "outputs": [
    {
     "name": "stdout",
     "output_type": "stream",
     "text": [
      "[1, 1, 1, 1, 2, 2, 1, 1, 1, 3, 3, 3, 3]\n",
      "[1, 1, 1, 1, 2, 2, 1, 1, 1, 3, 3, 3, 3]\n",
      "True\n"
     ]
    }
   ],
   "source": [
    "class CompressedList(list):\n",
    "    def __iter__(self):\n",
    "        return ComressedListIterator(self)\n",
    "\n",
    "def generator(arr, index, counter):\n",
    "    while index < len(arr):\n",
    "        while counter < arr[index][1]:\n",
    "            yield arr[index][0] \n",
    "            counter += 1\n",
    "        index += 1\n",
    "        counter = 0\n",
    "\n",
    "class ComressedListIterator:\n",
    "    def __init__(self, arr):\n",
    "        self.arr = arr\n",
    "        self.counter = 0\n",
    "        self.index = 0\n",
    "        self.generator = generator(self.arr, self.index, self.counter)\n",
    "\n",
    "    def __next__(self):\n",
    "        return next(self.generator)\n",
    "\n",
    "original = [1, 1, 1, 1, 2, 2, 1, 1, 1, 3, 3, 3, 3]\n",
    "compressed = CompressedList([(1, 4), (2, 2), (1, 3), (3, 4)])\n",
    "\n",
    "decompressed = [x for x in compressed]\n",
    "\n",
    "print(original)\n",
    "print(decompressed)\n",
    "print(original == decompressed)"
   ]
  }
 ],
 "metadata": {
  "colab": {
   "authorship_tag": "ABX9TyPUDMcd+b5tZazMhG21tYAq",
   "collapsed_sections": [],
   "name": "Домашнее задание №1.ipynb",
   "provenance": []
  },
  "kernelspec": {
   "display_name": "Python 3",
   "language": "python",
   "name": "python3"
  },
  "language_info": {
   "codemirror_mode": {
    "name": "ipython",
    "version": 3
   },
   "file_extension": ".py",
   "mimetype": "text/x-python",
   "name": "python",
   "nbconvert_exporter": "python",
   "pygments_lexer": "ipython3",
   "version": "3.8.2"
  }
 },
 "nbformat": 4,
 "nbformat_minor": 1
}

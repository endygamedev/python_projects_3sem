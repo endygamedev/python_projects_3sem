{
 "cells": [
  {
   "cell_type": "markdown",
   "metadata": {},
   "source": [
    "<h1><b>Shutil</b></h1>"
   ]
  },
  {
   "cell_type": "markdown",
   "metadata": {},
   "source": [
    "Модуль shutil содержит набор функций высокого уровня для обработки файлов, групп файлов, и папок. В частности, доступные здесь функции позволяют копировать, перемещать и удалять файлы и папки.\n",
    "\n",
    "Официальная документация <a href=\"https://docs.python.org/3/library/shutil.html\">тут</a>."
   ]
  },
  {
   "cell_type": "code",
   "execution_count": 1,
   "metadata": {},
   "outputs": [],
   "source": [
    "import shutil as sh"
   ]
  },
  {
   "cell_type": "markdown",
   "metadata": {},
   "source": [
    "<h2>Операции над файлами и директориями</h2>"
   ]
  },
  {
   "cell_type": "markdown",
   "metadata": {},
   "source": [
    "Функция <b>copyfileobj(fsrc: file, fdst: file, lenght: int) -> None</b> копирует содержание первого файла во второй файл. Но если позиция указателя в копируемом файле не 0, то будет производиться копирование, начиная с этой позиции. \n"
   ]
  },
  {
   "cell_type": "code",
   "execution_count": 2,
   "metadata": {},
   "outputs": [
    {
     "name": "stdout",
     "output_type": "stream",
     "text": [
      "я люблю жевать траву!\n",
      "чем зеленей, тем трава вкусней!\n"
     ]
    }
   ],
   "source": [
    "with open(\"shutil-1.txt\", \"r\", encoding = \"UTF-8\") as fsrc:\n",
    "    with open(\"shutil-2.txt\", \"w\") as fdst:\n",
    "        print(fsrc.read())\n",
    "        sh.copyfileobj(fsrc, fdst, 3)"
   ]
  },
  {
   "cell_type": "markdown",
   "metadata": {},
   "source": [
    "<b>shutil.copyfile(src: srting, dst: srting, follow_symlinks=True) -> string</b> - копирует содержимое (но не метаданные) файла src в файл dst. Возвращает dst (т.е. куда файл был скопирован). src и dst это строки - пути к файлам. dst должен быть полным именем файла.\n",
    "\n",
    "Если src и dst представляют собой один и тот же файл, исключение shutil.SameFileError.\n",
    "\n",
    "Если follow_symlinks=False и src является ссылкой на файл, то будет создана новая символическая ссылка вместо копирования файла, на который эта символическая ссылка указывает."
   ]
  },
  {
   "cell_type": "code",
   "execution_count": 3,
   "metadata": {},
   "outputs": [
    {
     "data": {
      "text/plain": [
       "'shutil-3.txt'"
      ]
     },
     "execution_count": 3,
     "metadata": {},
     "output_type": "execute_result"
    }
   ],
   "source": [
    "sh.copyfile(\"shutil-1.txt\", \"shutil-3.txt\", follow_symlinks = True)"
   ]
  },
  {
   "cell_type": "markdown",
   "metadata": {},
   "source": [
    "<b>shutil.copymode(src: string, dst: string, follow_symlinks=True) -> None</b> - копирует права доступа из src в dst. Содержимое файла, владелец, и группа не меняются."
   ]
  },
  {
   "cell_type": "code",
   "execution_count": 4,
   "metadata": {},
   "outputs": [],
   "source": [
    "sh.copymode(\"shutil-1.txt\", \"shutil-3.txt\", follow_symlinks=True)"
   ]
  },
  {
   "cell_type": "markdown",
   "metadata": {},
   "source": [
    "<b>shutil.copy(src: string, dst: string, follow_symlinks=True) -> string</b> - копирует содержимое файла src в файл или папку dst. Если dst является директорией, файл будет скопирован с тем же названием, что было в src. Функция возвращает путь к местонахождению нового скопированного файла.\n",
    "\n",
    "Если follow_symlinks=False, и src это ссылка, dst будет ссылкой.\n",
    "\n",
    "Если follow_symlinks=True, и src это ссылка, dst будет копией файла, на который ссылается src\n",
    "\n",
    "copy() копирует содержимое файла, и права доступа"
   ]
  },
  {
   "cell_type": "code",
   "execution_count": 5,
   "metadata": {},
   "outputs": [],
   "source": [
    "path = \"C:\\\\Users\\\\rpd13\\\\python\\\\hw\\\\modules\\\\11\\\\shutil_folder\""
   ]
  },
  {
   "cell_type": "code",
   "execution_count": 6,
   "metadata": {},
   "outputs": [
    {
     "data": {
      "text/plain": [
       "'C:\\\\Users\\\\rpd13\\\\python\\\\hw\\\\modules\\\\11\\\\shutil_folder\\\\shutil-4.txt'"
      ]
     },
     "execution_count": 6,
     "metadata": {},
     "output_type": "execute_result"
    }
   ],
   "source": [
    "sh.copy(\"shutil-1.txt\", path + \"\\\\shutil-4.txt\", follow_symlinks=True)"
   ]
  },
  {
   "cell_type": "markdown",
   "metadata": {},
   "source": [
    "<b>shutil.copy2(src: string, dst: string, follow_symlinks=True) -> string</b> - как copy(), но пытается копировать все метаданные."
   ]
  },
  {
   "cell_type": "markdown",
   "metadata": {},
   "source": [
    "<b>shutil.copytree(src: string, dst: string, symlinks=False, ignore=None, copy_function=copy2, ignore_dangling_symlinks=False) -> string</b> - рекурсивно копирует всё дерево директорий с корнем в src, возвращает директорию назначения.\n",
    "\n",
    "Директория dst не должна существовать. Она будет создана, вместе с пропущенными родительскими директориями.\n",
    "\n",
    "Права и времена у директорий копируются copystat(), файлы копируются с помощью функции copy_function (по умолчанию shutil.copy2()).\n",
    "\n",
    "Если symlinks=True, ссылки в дереве src будут ссылками в dst, и метаданные будут скопированы настолько, насколько это возможно.\n",
    "\n",
    "Если False (по умолчанию), будут скопированы содержимое и метаданные файлов, на которые указывали ссылки.\n",
    "\n",
    "Если symlinks=False, если файл, на который указывает ссылка, не существует, будет добавлено исключение в список ошибок, в исключении shutil.Error в конце копирования.\n",
    "\n",
    "Можно установить флаг ignore_dangling_symlinks=True, чтобы скрыть данную ошибку.\n",
    "\n",
    "Если ignore не None, то это должна быть функция, принимающая в качестве аргументов имя директории, в которой сейчас copytree(), и список содержимого, возвращаемый os.listdir(). Т.к. copytree() вызывается рекурсивно, ignore вызывается 1 раз для каждой поддиректории. Она должна возвращать список объектов относительно текущего имени директории (т.е. подмножество элементов во втором аргументе). Эти объекты не будут скопированы."
   ]
  },
  {
   "cell_type": "code",
   "execution_count": 7,
   "metadata": {},
   "outputs": [
    {
     "data": {
      "text/plain": [
       "'C:\\\\Users\\\\rpd13\\\\python\\\\hw\\\\modules\\\\11\\\\shutil_folder-1'"
      ]
     },
     "execution_count": 7,
     "metadata": {},
     "output_type": "execute_result"
    }
   ],
   "source": [
    "sh.copytree(path, path + \"-1\", symlinks=False, ignore=None, copy_function = sh.copy2, ignore_dangling_symlinks=False)"
   ]
  },
  {
   "cell_type": "markdown",
   "metadata": {},
   "source": [
    "<b>shutil.ignore_patterns(*patterns)</b> - функция, которая создаёт функцию, которая может быть использована в качестве ignore для copytree(), игнорируя файлы и директории, которые соответствуют glob-style шаблонам.\n",
    "\n",
    "Например, код \n",
    "<b>copytree(source, destination, ignore=ignore_patterns('*.pyc', 'tmp*'))</b>\n",
    "скопирует все файлы, кроме заканчивающихся на .pyc или начинающихся с tmp"
   ]
  },
  {
   "cell_type": "markdown",
   "metadata": {},
   "source": [
    "<b>shutil.move(src: string, dst: string, copy_function=shutil.copy2) -> string</b> - рекурсивно перемещает файл или директорию (src) в другое место (dst), и возвращает место назначения."
   ]
  },
  {
   "cell_type": "code",
   "execution_count": 8,
   "metadata": {},
   "outputs": [
    {
     "data": {
      "text/plain": [
       "'C:\\\\Users\\\\rpd13\\\\python\\\\hw\\\\modules\\\\11\\\\shutil_folder\\\\shutil-2.txt'"
      ]
     },
     "execution_count": 8,
     "metadata": {},
     "output_type": "execute_result"
    }
   ],
   "source": [
    "sh.move(\"shutil-2.txt\", path, copy_function=sh.copy2)"
   ]
  },
  {
   "cell_type": "markdown",
   "metadata": {},
   "source": [
    "<h2>Архивация</h2>"
   ]
  },
  {
   "cell_type": "markdown",
   "metadata": {},
   "source": [
    "Высокоуровневые функции для созданиия и чтения архивированных и сжатых файлов. Основаны на функциях из модулей zipfile и tarfile."
   ]
  },
  {
   "cell_type": "code",
   "execution_count": 9,
   "metadata": {},
   "outputs": [
    {
     "data": {
      "text/plain": [
       "[('bztar', \"bzip2'ed tar-file\"),\n",
       " ('gztar', \"gzip'ed tar-file\"),\n",
       " ('tar', 'uncompressed tar file'),\n",
       " ('xztar', \"xz'ed tar-file\"),\n",
       " ('zip', 'ZIP file')]"
      ]
     },
     "execution_count": 9,
     "metadata": {},
     "output_type": "execute_result"
    }
   ],
   "source": [
    "sh.get_archive_formats()"
   ]
  },
  {
   "cell_type": "markdown",
   "metadata": {},
   "source": [
    "shutil.make_archive(base_name, format, root_dir, base_dir, verbose, dry_run, owner, group, logger) - создаёт архив и возвращает его имя.\n",
    "\n",
    "base_name это имя файла для создания, включая путь, но не включая расширения (не нужно писать \".zip\" и т.д.).\n",
    "\n",
    "format - формат архива.\n",
    "\n",
    "root_dir - директория (относительно текущей), которую мы архивируем.\n",
    "\n",
    "base_dir - директория, в которую будет архивироваться (т.е. все файлы в архиве будут в данной папке).\n",
    "\n",
    "Если dry_run=True, архив не будет создан, но операции, которые должны были быть выполнены, запишутся в logger.\n",
    "\n",
    "owner и group используются при создании tar-архива."
   ]
  },
  {
   "cell_type": "code",
   "execution_count": 10,
   "metadata": {},
   "outputs": [
    {
     "data": {
      "text/plain": [
       "'C:\\\\Users\\\\rpd13\\\\python\\\\hw\\\\modules\\\\11\\\\kek.zip'"
      ]
     },
     "execution_count": 10,
     "metadata": {},
     "output_type": "execute_result"
    }
   ],
   "source": [
    "sh.make_archive(\"kek\", \"zip\", path)"
   ]
  },
  {
   "cell_type": "markdown",
   "metadata": {},
   "source": [
    "<b>shutil.unpack_archive(filename, extract_dir, format)</b> - распаковывает архив. filename - полный путь к архиву.\n",
    "\n",
    "extract_dir - то, куда будет извлекаться содержимое (по умолчанию в текущую).\n",
    "\n",
    "format - формат архива (по умолчанию пытается угадать по расширению файла)."
   ]
  },
  {
   "cell_type": "code",
   "execution_count": 11,
   "metadata": {},
   "outputs": [],
   "source": [
    "sh.unpack_archive(\"kek.zip\")"
   ]
  },
  {
   "cell_type": "markdown",
   "metadata": {},
   "source": [
    "<h1><b>Filecmp</b></h1>"
   ]
  },
  {
   "cell_type": "markdown",
   "metadata": {},
   "source": [
    "Модуль filecmp включает функции и класс для сравнения файлов и каталогов в файловой системе.\n",
    "\n",
    "Официальная документация <a href=\"https://docs.python.org/3/library/filecmp.html\">тут</a>."
   ]
  },
  {
   "cell_type": "code",
   "execution_count": 12,
   "metadata": {},
   "outputs": [],
   "source": [
    "import filecmp as fl"
   ]
  },
  {
   "cell_type": "markdown",
   "metadata": {},
   "source": [
    "<b>filecmp.cmp(f1, f2 , shallow = True) -> bool</b> \n",
    "Сравнивает файлы с именами f1 и f2 и возвращает True or False.\n",
    "\n",
    "Если shallow истинно, файлы с одинаковыми os.stat()подписями считаются равными. В противном случае сравнивается содержимое файлов.\n",
    "\n",
    "Обратите внимание, что из этой функции не вызываются никакие внешние программы, что обеспечивает ее переносимость и эффективность.\n",
    "\n",
    "Эта функция использует кеш для прошлых сравнений и результатов, причем записи кеша становятся недействительными, если os.stat()информация для файла изменяется. Весь кеш можно очистить с помощью clear_cache()."
   ]
  },
  {
   "cell_type": "code",
   "execution_count": 13,
   "metadata": {},
   "outputs": [],
   "source": [
    "import os"
   ]
  },
  {
   "cell_type": "code",
   "execution_count": 14,
   "metadata": {},
   "outputs": [
    {
     "data": {
      "text/plain": [
       "os.stat_result(st_mode=33206, st_ino=9288674231687876, st_dev=1350125538, st_nlink=1, st_uid=0, st_gid=0, st_size=0, st_atime=1603445653, st_mtime=1603445653, st_ctime=1603380949)"
      ]
     },
     "execution_count": 14,
     "metadata": {},
     "output_type": "execute_result"
    }
   ],
   "source": [
    "os.stat(path + \"//shutil-2.txt\")"
   ]
  },
  {
   "cell_type": "code",
   "execution_count": 15,
   "metadata": {},
   "outputs": [
    {
     "data": {
      "text/plain": [
       "True"
      ]
     },
     "execution_count": 15,
     "metadata": {},
     "output_type": "execute_result"
    }
   ],
   "source": [
    "fl.cmp(\"shutil-1.txt\", \"shutil-3.txt\" , shallow = True)"
   ]
  },
  {
   "cell_type": "code",
   "execution_count": 16,
   "metadata": {},
   "outputs": [
    {
     "data": {
      "text/plain": [
       "'C:\\\\Users\\\\rpd13\\\\python\\\\hw\\\\modules\\\\11'"
      ]
     },
     "execution_count": 16,
     "metadata": {},
     "output_type": "execute_result"
    }
   ],
   "source": [
    "path[:-14]"
   ]
  },
  {
   "cell_type": "markdown",
   "metadata": {},
   "source": [
    "<b>filecmp.cmpfiles( dir1: string , dir2: string , common: list , shallow = True ) -> (list, list, list)</b>\n",
    "Сравните файлы в двух каталогах dir1 и dir2 , имена которых даны как common .\n",
    "\n",
    "Возвращает три списка имен файлов: match, mismatch, errors. match содержит список файлов, которые совпадают, mismatch содержит имена тех, которые не совпадают, а errors перечисляет имена файлов, которые нельзя сравнивать. Файлы попадают в список ошибок, если они не существуют в одном из каталогов, у пользователя нет разрешения на их чтение или если сравнение не может быть выполнено по какой-либо другой причине.\n",
    "\n",
    "Параметр shallow имеет то же значение и значение по умолчанию, что и для filecmp.cmp()."
   ]
  },
  {
   "cell_type": "code",
   "execution_count": 17,
   "metadata": {},
   "outputs": [
    {
     "data": {
      "text/plain": [
       "(['shutil-4.txt'], [], [])"
      ]
     },
     "execution_count": 17,
     "metadata": {},
     "output_type": "execute_result"
    }
   ],
   "source": [
    "fl.cmpfiles(path[:-14], path, [\"shutil-4.txt\"], shallow = True )"
   ]
  },
  {
   "cell_type": "code",
   "execution_count": 18,
   "metadata": {},
   "outputs": [
    {
     "data": {
      "text/plain": [
       "['.', '..']"
      ]
     },
     "execution_count": 18,
     "metadata": {},
     "output_type": "execute_result"
    }
   ],
   "source": [
    "[os.curdir, os.pardir]"
   ]
  },
  {
   "cell_type": "code",
   "execution_count": 19,
   "metadata": {},
   "outputs": [
    {
     "data": {
      "text/plain": [
       "['RCS', 'CVS', 'tags', '.git', '.hg', '.bzr', '_darcs', '__pycache__']"
      ]
     },
     "execution_count": 19,
     "metadata": {},
     "output_type": "execute_result"
    }
   ],
   "source": [
    "fl.DEFAULT_IGNORES"
   ]
  },
  {
   "cell_type": "markdown",
   "metadata": {},
   "source": [
    "<h2>Класс dircmp</h2>"
   ]
  },
  {
   "cell_type": "markdown",
   "metadata": {},
   "source": [
    "<b>class filecmp.dircmp(a, b, ignore, hide)</b> \n",
    "\n",
    "Oбъект сравнения каталогов, чтобы сравнить каталоги a и b. ignore - это список имен, которые нужно игнорировать, по умолчанию, это  [os.curdir, os.pardir]. hide - это список имен, которые нужно скрыть, по умолчанию filecmp.DEFAULT_IGNORES.\n",
    "\n",
    "Класс сравнивает файлы, делая неглубокие сравнения , как описано в filecmp.cmp()."
   ]
  },
  {
   "cell_type": "code",
   "execution_count": 20,
   "metadata": {},
   "outputs": [],
   "source": [
    "cmp = fl.dircmp(path[:-14], path)"
   ]
  },
  {
   "cell_type": "markdown",
   "metadata": {},
   "source": [
    "Доступны следующие методы:\n",
    "- <b>report()</b> \n",
    "    \n",
    "    Выводит (в sys.stdout) сравнение между a и b.\n",
    "    \n",
    "- <b>report_partial_closure()</b>\n",
    "\n",
    "    Выводит сравнение между a и b и общими непосредственными подкаталогами.\n",
    "    \n",
    "- <b>report_full_closure()</b>\n",
    "\n",
    "    Распечатайте сравнение между a и b и общими подкаталогами (рекурсивно)."
   ]
  },
  {
   "cell_type": "code",
   "execution_count": 21,
   "metadata": {},
   "outputs": [
    {
     "name": "stdout",
     "output_type": "stream",
     "text": [
      "diff C:\\Users\\rpd13\\python\\hw\\modules\\11 C:\\Users\\rpd13\\python\\hw\\modules\\11\\shutil_folder\n",
      "Only in C:\\Users\\rpd13\\python\\hw\\modules\\11 : ['11.ipynb', 'kek.zip', 'large_text.txt', 'shutil-1.txt', 'shutil-3.txt', 'shutil_folder', 'shutil_folder-1']\n",
      "Identical files : ['shutil-2.txt', 'shutil-4.txt']\n",
      "Common subdirectories : ['.ipynb_checkpoints']\n"
     ]
    }
   ],
   "source": [
    "cmp.report()"
   ]
  },
  {
   "cell_type": "code",
   "execution_count": 22,
   "metadata": {},
   "outputs": [
    {
     "name": "stdout",
     "output_type": "stream",
     "text": [
      "diff C:\\Users\\rpd13\\python\\hw\\modules\\11 C:\\Users\\rpd13\\python\\hw\\modules\\11\\shutil_folder\n",
      "Only in C:\\Users\\rpd13\\python\\hw\\modules\\11 : ['11.ipynb', 'kek.zip', 'large_text.txt', 'shutil-1.txt', 'shutil-3.txt', 'shutil_folder', 'shutil_folder-1']\n",
      "Identical files : ['shutil-2.txt', 'shutil-4.txt']\n",
      "Common subdirectories : ['.ipynb_checkpoints']\n",
      "\n",
      "diff C:\\Users\\rpd13\\python\\hw\\modules\\11\\.ipynb_checkpoints C:\\Users\\rpd13\\python\\hw\\modules\\11\\shutil_folder\\.ipynb_checkpoints\n",
      "Only in C:\\Users\\rpd13\\python\\hw\\modules\\11\\.ipynb_checkpoints : ['11-checkpoint.ipynb', 'shutil-1-checkpoint.txt']\n"
     ]
    }
   ],
   "source": [
    "cmp.report_partial_closure()"
   ]
  },
  {
   "cell_type": "code",
   "execution_count": 23,
   "metadata": {},
   "outputs": [
    {
     "name": "stdout",
     "output_type": "stream",
     "text": [
      "diff C:\\Users\\rpd13\\python\\hw\\modules\\11 C:\\Users\\rpd13\\python\\hw\\modules\\11\\shutil_folder\n",
      "Only in C:\\Users\\rpd13\\python\\hw\\modules\\11 : ['11.ipynb', 'kek.zip', 'large_text.txt', 'shutil-1.txt', 'shutil-3.txt', 'shutil_folder', 'shutil_folder-1']\n",
      "Identical files : ['shutil-2.txt', 'shutil-4.txt']\n",
      "Common subdirectories : ['.ipynb_checkpoints']\n",
      "\n",
      "diff C:\\Users\\rpd13\\python\\hw\\modules\\11\\.ipynb_checkpoints C:\\Users\\rpd13\\python\\hw\\modules\\11\\shutil_folder\\.ipynb_checkpoints\n",
      "Only in C:\\Users\\rpd13\\python\\hw\\modules\\11\\.ipynb_checkpoints : ['11-checkpoint.ipynb', 'shutil-1-checkpoint.txt']\n"
     ]
    }
   ],
   "source": [
    "cmp.report_full_closure()"
   ]
  },
  {
   "cell_type": "markdown",
   "metadata": {},
   "source": [
    "Атрибуты класса:\n",
    "-  <b>left</b>\n",
    "\n",
    "Каталог a\n",
    "-  <b>right</b>\n",
    "\n",
    "Каталог b.\n",
    "-  <b>left_list</b>\n",
    "\n",
    "Файлы и подкаталоги в a, отфильтрованные по скрытию и игнорированию.\n",
    "-  <b>right_list</b>\n",
    "\n",
    "Файлы и подкаталоги в b, отфильтрованные по скрытию и игнорированию.\n",
    "-  <b>common</b>\n",
    "\n",
    "Файлы и подкаталоги как в a, так и в b.\n",
    "\n",
    "-  <b>left_only</b>\n",
    "\n",
    "Файлы и подкаталоги только в a.\n",
    "\n",
    "-  <b>right_only</b>\n",
    "\n",
    "Файлы и подкаталоги только в b.\n",
    "-  <b>common_dirs</b>\n",
    "\n",
    "Подкаталоги в a и b.\n",
    "-  <b>common_files</b>\n",
    "\n",
    "Файлы как в a, так и в b.\n",
    "-  <b>same_files</b>\n",
    "\n",
    "Файлы, которые идентичны как в a, так и в b, с использованием оператора сравнения файлов класса.\n",
    "-  <b>diff_files</b>\n",
    "\n",
    "Файлы, содержащиеся как в a, так и в b, содержимое которых различается в зависимости от оператора сравнения файлов класса.\n",
    "-  <b>funny_files</b>\n",
    "\n",
    "Файлы, которые есть как в a, так и в b , но не могут быть сравнены.\n"
   ]
  },
  {
   "cell_type": "markdown",
   "metadata": {},
   "source": [
    "<h1><b>Mmap</b></h1>"
   ]
  },
  {
   "cell_type": "markdown",
   "metadata": {},
   "source": [
    "Модуль mmap обеспечивает ввод и вывод файлов с отображением памяти (I / O). Это позволяет вам использовать функциональные возможности операционной системы нижнего уровня для чтения файлов, как если бы они были одной большой строкой или массивом . Это может обеспечить значительное повышение производительности кода, который требует большого количества файлового ввода-вывода.\n",
    "\n",
    "Официальная документация <a href=\"https://docs.python.org/3.0/library/mmap.html\">тут</a>.\n",
    "\n",
    "Подробнее о преимуществах можно почитать <a href=\"https://realpython.com/python-mmap/\">тут</a>."
   ]
  },
  {
   "cell_type": "markdown",
   "metadata": {},
   "source": [
    "Тогда привычная нам конструкция"
   ]
  },
  {
   "cell_type": "code",
   "execution_count": 24,
   "metadata": {},
   "outputs": [
    {
     "name": "stdout",
     "output_type": "stream",
     "text": [
      "4\n"
     ]
    }
   ],
   "source": [
    "with open(\"large_text.txt\", \"r\") as file:\n",
    "    text = file.read()\n",
    "    print(file.fileno())"
   ]
  },
  {
   "cell_type": "markdown",
   "metadata": {},
   "source": [
    "Может быть записана данным образом:"
   ]
  },
  {
   "cell_type": "code",
   "execution_count": 25,
   "metadata": {},
   "outputs": [],
   "source": [
    "import mmap"
   ]
  },
  {
   "cell_type": "code",
   "execution_count": 26,
   "metadata": {},
   "outputs": [],
   "source": [
    "with open(\"large_text.txt\", \"r\", encoding = \"utf-8\") as file:\n",
    "    with mmap.mmap(file.fileno(), length=0, access=mmap.ACCESS_READ) as mmap_obj:\n",
    "        text_mmap = mmap_obj.read()"
   ]
  },
  {
   "cell_type": "markdown",
   "metadata": {},
   "source": [
    "Однако, есть небольшие изменения:\n",
    "-  open(); Недостаточно открыть файл с помощью . Вам также необходимо использовать, mmap.mmap()чтобы сообщить операционной системе, что вы хотите, чтобы файл был отображен в ОЗУ.\n",
    "-  Вам необходимо убедиться, что используемый вами режим open()совместим с mmap.mmap(). Режим по умолчанию open()- для чтения, но режим по умолчанию mmap.mmap()- для чтения и записи. \n",
    "-  Вам необходимо выполнять все операции чтения и записи, используя mmapобъект вместо стандартного файлового объекта, возвращаемого open()."
   ]
  },
  {
   "cell_type": "markdown",
   "metadata": {},
   "source": [
    "Класс <b>mmap.mmap(fileno, length, tagname, access, offset)</b>\n",
    "\n",
    "fileno - файловый дескриптор, который нужен для ображения к файлу - file.fileno()\n",
    "\n",
    "Если длина больше текущего размера файла, файл расширяется. Если длина равна 0, максимальная длина карты - это текущий размер файла, за исключением того, что, если файл пуст, Windows вызывает исключение.\n",
    "\n",
    "tagname, если он указан и не указан None, представляет собой строку, дающую имя тега для отображения. Windows позволяет вам иметь много разных сопоставлений с одним и тем же файлом. Если вы указываете имя существующего тега, этот тег открывается, в противном случае создается новый тег с этим именем. Если этот параметр опущен или None, отображение создается без имени.\n",
    "\n",
    "access принимает одно из трех значений: ACCESS_READ, ACCESS_WRITEили ACCESS_COPY указать только для чтения, записи через или копирования на записи памяти соответственно.\n",
    "\n",
    "offset может быть указано как неотрицательное целое смещение. Ссылки mmap будут относиться к смещению от начала файла. offset по умолчанию равен 0."
   ]
  },
  {
   "cell_type": "markdown",
   "metadata": {},
   "source": [
    "Отображенные в память файловые объекты поддерживают следующие методы:\n",
    "-  <b>close()</b>\n",
    "\n",
    "Закрывает объект mmap. Последующие вызовы других методов объекта приведут к возникновению исключения ValueError.\n",
    "\n",
    "-  <b>find(str, start, end)</b>\n",
    "\n",
    "Возвращает наименьший индекс в объекте, в котором находится str в файле, так что строка содержится в диапазоне [ начало , конец ]. Необязательные аргументы start и end интерпретируются как в нотации среза. Возврат -1 в случае неудачи.\n",
    "-  <b>flush(offset, size)</b> \n",
    "\n",
    "Сбрасывает изменения, внесенные в копию файла в памяти, обратно на диск. Без использования этого вызова нет гарантии, что изменения будут записаны до того, как объект будет уничтожен. Если указаны смещение и размер, на диск будут сброшены только изменения в заданном диапазоне байтов; в противном случае сбрасываются изменения.\n",
    "-  <b>move(dest, src, count)</b>\n",
    "\n",
    "Скопировать count байтов, начиная со смещения src, в целевой индекс dest. Если mmap был создан с ACCESS_READ, то вызовы move вызовут исключение TypeError\n",
    "-  <b>read(num)</b>\n",
    "\n",
    "Возвращает строку, содержащую num байтов, начиная с текущей позиции файла; позиция файла обновляется до точки после возвращенных байтов.\n",
    "-  <b>read_byte()</b>\n",
    "\n",
    "Возвращает строку длиной 1, содержащую символ в текущей позиции файла, и увеличивает позицию файла на 1.\n",
    "-  <b>readline()</b>\n",
    "\n",
    "Возвращает одну строку, начиная с текущей позиции файла и до следующей новой строки.\n",
    "-  <b>resize(newsize)</b>\n",
    "\n",
    "Изменяет размер mmap и базового файла, если таковой имеется. Если mmap был создан с ACCESS_READ или ACCESS_COPY, изменение размера mmap вызовет исключение TypeError.\n",
    "-  <b>rfind(string, start, end)</b>\n",
    "\n",
    "Возвращает наивысший индекс в объекте, где находится строка подстроки, так что строка содержится в диапазоне [start, end]. Необязательные аргументы start и end интерпретируются как в нотации среза. Возвращает -1 в случае неудачи.\n",
    "-  <b>seek(pos)</b>\n",
    "\n",
    "Установите текущую позицию файла. аргумент откуда не обязателен и по умолчанию равен 0.\n",
    "-  <b>size()</b>\n",
    "\n",
    "Возвращает длину файла, которая может быть больше, чем размер отображенной в память области.\n",
    "-  <b>tell()</b>\n",
    "\n",
    "Возвращает текущую позицию указателя файла.\n",
    "-  <b>write(string)</b>\n",
    "\n",
    "Записывает байты в строку в память в текущей позиции файлового указателя; позиция файла обновляется до точки после записанных байтов. Если mmap был создан с ACCESS_READ, тогда запись в него вызовет исключение TypeError.\n",
    "-  <b>write_byte(byte)</b>\n",
    "\n",
    "Записывает байт односимвольной строки в память в текущую позицию указателя файла; позиция файла увеличивается на 1. Если mmap был создан с ACCESS_READ, тогда запись в него вызовет исключение TypeError."
   ]
  },
  {
   "cell_type": "markdown",
   "metadata": {},
   "source": [
    "<h1><b>Codecs</b></h1>"
   ]
  },
  {
   "cell_type": "markdown",
   "metadata": {},
   "source": [
    "Этот модуль определяет базовые классы для стандартных кодеков Python (кодировщики и декодеры) и предоставляет доступ к внутреннему реестру кодеков Python, который управляет процессом поиска кодеков и обработки ошибок.\n",
    "\n",
    "Официальная документация <a href=\"https://docs.python.org/3/library/codecs.html\">тут</a>."
   ]
  },
  {
   "cell_type": "markdown",
   "metadata": {},
   "source": [
    "Модуль определяет следующие функции для кодирования и декодирования любым codec"
   ]
  },
  {
   "cell_type": "code",
   "execution_count": 27,
   "metadata": {},
   "outputs": [],
   "source": [
    "import codecs as cd"
   ]
  },
  {
   "cell_type": "markdown",
   "metadata": {},
   "source": [
    "<b>codecs.encode(obj, encoding='utf-8', errors='strict')</b>\n",
    "\n",
    "Кодирует obj с использованием кодека, зарегистрированного для кодирования. Кодировка по умолчанию - ascii.\n",
    "Ошибки могут быть указаны для установки желаемой схемы обработки ошибок. Обработчик ошибок по умолчанию - «строгий», что означает, что ошибки кодирования вызывают ошибку ValueError (или более специфичный подкласс кодека, например UnicodeEncodeError). <a href=\"https://docs.python.org/2/library/codecs.html#codec-base-classes\">Тут</a> можно посмотреть другие обработчики ошибок.\n",
    "<a href=\"https://docs.python.org/2/library/codecs.html#standard-encodings\">Здесь</a> можно посмотреть все доступные кодировки."
   ]
  },
  {
   "cell_type": "code",
   "execution_count": 28,
   "metadata": {},
   "outputs": [
    {
     "data": {
      "text/plain": [
       "b'\\xd0\\xb4\\xd0\\xb0\\xd0\\xb0\\xd0\\xb0\\xd0\\xb0\\xd0\\xb0\\xd0\\xb0\\xd0\\xb0\\xd0\\xb0\\xd0\\xb0\\xd0\\xb0'"
      ]
     },
     "execution_count": 28,
     "metadata": {},
     "output_type": "execute_result"
    }
   ],
   "source": [
    "cd.encode(\"даааааааааа\", encoding = 'utf-8', errors = 'strict')"
   ]
  },
  {
   "cell_type": "markdown",
   "metadata": {},
   "source": [
    "<b>codecs.decode(obj, encoding, errors)</b>\n",
    "\n",
    "Параметры такие же, как и у предыдущей функции."
   ]
  },
  {
   "cell_type": "code",
   "execution_count": 31,
   "metadata": {},
   "outputs": [
    {
     "data": {
      "text/plain": [
       "'даааааааааа'"
      ]
     },
     "execution_count": 31,
     "metadata": {},
     "output_type": "execute_result"
    }
   ],
   "source": [
    "cd.decode(b'\\xd0\\xb4\\xd0\\xb0\\xd0\\xb0\\xd0\\xb0\\xd0\\xb0\\xd0\\xb0\\xd0\\xb0\\xd0\\xb0\\xd0\\xb0\\xd0\\xb0\\xd0\\xb0', encoding = \"utf-8\", errors = \"strict\")"
   ]
  },
  {
   "cell_type": "markdown",
   "metadata": {},
   "source": [
    "<b>codecs.open(filename, mode, encoding, errors, buffering)</b>\n",
    "\n",
    "Откройте закодированный файл, используя данный режим, и верните упакованную версию, обеспечивающую прозрачное кодирование / декодирование. Режим файла по умолчанию - «r», что означает открытие файла в режиме чтения.\n",
    "encoding указывает кодировку, которая будет использоваться для файла.\n",
    "Могут быть заданы правила для определения обработки ошибок. По умолчанию он имеет значение «strict», что приводит к возникновению ValueError в случае возникновения ошибки кодирования.\n",
    "buffering имеет то же значение, что и встроенная функция open(). По умолчанию используется строчная буферизация."
   ]
  },
  {
   "cell_type": "code",
   "execution_count": 32,
   "metadata": {},
   "outputs": [
    {
     "data": {
      "text/plain": [
       "<codecs.StreamReaderWriter at 0x5df25b0>"
      ]
     },
     "execution_count": 32,
     "metadata": {},
     "output_type": "execute_result"
    }
   ],
   "source": [
    "cd.open(\"shutil-1.txt\", \"r\", encoding = \"utf-8\", errors = \"strict\")"
   ]
  },
  {
   "cell_type": "markdown",
   "metadata": {},
   "source": [
    "Модуль <b>codecs</b> базовые классы, которые определяют интерфейс, а также могут быть использованы, чтобы легко создавать свои собственные кодеки для использования в Python.\n",
    "\n",
    "Каждый кодек должен определять четыре интерфейса, чтобы его можно было использовать в качестве кодека в Python: кодировщик без сохранения состояния, декодер без состояния, средство чтения и записи потоков. Устройство чтения и записи потока обычно повторно использует кодировщик / декодер без сохранения состояния для реализации файловых протоколов."
   ]
  },
  {
   "cell_type": "markdown",
   "metadata": {},
   "source": [
    "<h3>Класс Codec</h3>"
   ]
  },
  {
   "cell_type": "markdown",
   "metadata": {},
   "source": [
    "Класс <b>Codec</b> определяет методы, которые также определяют функциональные интерфейсы кодировщика и декодера без сохранения состояния (encode и decode)."
   ]
  },
  {
   "cell_type": "markdown",
   "metadata": {},
   "source": [
    "<b>codecs.Codec.encode(input, errors)</b>\n",
    "\n",
    "Кодирует объект input и возвращает кортеж (объект вывода, потребляемая длина).\n"
   ]
  },
  {
   "cell_type": "markdown",
   "metadata": {},
   "source": [
    "<b>codecs.Codec.decode(input, errors)</b>\n",
    "\n",
    "Декодирует ввод объекта и возвращает кортеж (объект вывода, потребляемая длина). В контексте Unicode декодирование преобразует простую строку, закодированную с использованием определенной кодировки набора символов, в объект Unicode.\n",
    "\n",
    "input должен быть объектом, который предоставляет bf_getreadbufбуферный слот. Строки Python, буферные объекты и файлы с отображением памяти являются примерами объектов, предоставляющих этот слот."
   ]
  },
  {
   "cell_type": "markdown",
   "metadata": {},
   "source": [
    "<h1><b>Домашнее задание</b></h1>"
   ]
  },
  {
   "cell_type": "markdown",
   "metadata": {},
   "source": [
    "С помощью представленных модулей выполнить следующие задания: \n",
    "-  предварительно создать в текущей директории произвольный текстовый файл, с которым будем работать\n",
    "-  скопировать файл в другой файл и проверить, что они совпадают\n",
    "-  создать архив из скопированного файла\n",
    "-  с помощью mmap прочитать изначальный файл (получится байт строка) и декодировать её (дабы избежать ошибок, рекомендую использовать errors = \"ignore\")"
   ]
  },
  {
   "cell_type": "code",
   "execution_count": null,
   "metadata": {},
   "outputs": [],
   "source": []
  },
  {
   "cell_type": "code",
   "execution_count": null,
   "metadata": {},
   "outputs": [],
   "source": []
  }
 ],
 "metadata": {
  "kernelspec": {
   "display_name": "Python 3",
   "language": "python",
   "name": "python3"
  },
  "language_info": {
   "codemirror_mode": {
    "name": "ipython",
    "version": 3
   },
   "file_extension": ".py",
   "mimetype": "text/x-python",
   "name": "python",
   "nbconvert_exporter": "python",
   "pygments_lexer": "ipython3",
   "version": "3.8.5"
  }
 },
 "nbformat": 4,
 "nbformat_minor": 4
}

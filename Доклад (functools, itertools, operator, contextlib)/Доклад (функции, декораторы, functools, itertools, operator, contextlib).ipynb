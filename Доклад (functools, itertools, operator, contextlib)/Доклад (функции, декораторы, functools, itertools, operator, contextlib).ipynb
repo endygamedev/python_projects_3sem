{
 "cells": [
  {
   "cell_type": "markdown",
   "metadata": {},
   "source": [
    "# Функции. Декораторы. \n",
    "# functools. itertools. operator. contextlib."
   ]
  },
  {
   "cell_type": "markdown",
   "metadata": {},
   "source": [
    "## Лекции по декораторам от CSC"
   ]
  },
  {
   "cell_type": "code",
   "execution_count": null,
   "metadata": {},
   "outputs": [],
   "source": [
    "from IPython.display import YouTubeVideo"
   ]
  },
  {
   "cell_type": "code",
   "execution_count": null,
   "metadata": {},
   "outputs": [],
   "source": [
    "YouTubeVideo(id = \"rkjg71GJPvA\", width = 800, height = 400)"
   ]
  },
  {
   "cell_type": "code",
   "execution_count": null,
   "metadata": {
    "scrolled": true
   },
   "outputs": [],
   "source": [
    "YouTubeVideo(id = \"h_B3O5jWMi4\", width = 800, height = 400)"
   ]
  },
  {
   "cell_type": "markdown",
   "metadata": {},
   "source": [
    "## Функции"
   ]
  },
  {
   "cell_type": "code",
   "execution_count": null,
   "metadata": {},
   "outputs": [],
   "source": [
    "def foo(x):\n",
    "    ''' foo(x) — я функция, которая просто возвращает полученное значение '''\n",
    "    return x"
   ]
  },
  {
   "cell_type": "markdown",
   "metadata": {},
   "source": [
    "Функции хранят достаточно много информации о себе и с помощью специальных литералов мы можем доставать из них эту информацию"
   ]
  },
  {
   "cell_type": "markdown",
   "metadata": {},
   "source": [
    "*Примеры:*"
   ]
  },
  {
   "cell_type": "code",
   "execution_count": null,
   "metadata": {},
   "outputs": [],
   "source": [
    "foo.__name__         # атрибут имени функции"
   ]
  },
  {
   "cell_type": "code",
   "execution_count": null,
   "metadata": {},
   "outputs": [],
   "source": [
    "foo.__doc__          # атрибут документации по функции"
   ]
  },
  {
   "cell_type": "code",
   "execution_count": null,
   "metadata": {},
   "outputs": [],
   "source": [
    "foo.__module__       # атрибут модуля (где находиться функция)"
   ]
  },
  {
   "cell_type": "code",
   "execution_count": null,
   "metadata": {},
   "outputs": [],
   "source": [
    "from math import *\n",
    "factorial.__module__ # атрибут модуля (где находиться функция)"
   ]
  },
  {
   "cell_type": "code",
   "execution_count": null,
   "metadata": {},
   "outputs": [],
   "source": [
    "int.__module__       # атрибут модуля (где находиться функция)"
   ]
  },
  {
   "cell_type": "markdown",
   "metadata": {},
   "source": [
    "Мы можем вызывать функцию как с именованными аргументами, так и с позиционными\n",
    "\n",
    "Однако когда мы вызываем функцию с именованными аргументами, то есть шансы, что мы при переименовании переменной функции можем забыть про наше изменение и получить ошибку, но когда у функции много аргументов, то это спасает"
   ]
  },
  {
   "cell_type": "markdown",
   "metadata": {},
   "source": [
    "*Примеры:*"
   ]
  },
  {
   "cell_type": "code",
   "execution_count": null,
   "metadata": {},
   "outputs": [],
   "source": [
    "def minimal(x, y):\n",
    "    ''' minimal(x, y) — я возвращаю минимальное из входных значений '''\n",
    "    return x if x < y else y"
   ]
  },
  {
   "cell_type": "code",
   "execution_count": null,
   "metadata": {},
   "outputs": [],
   "source": [
    "minimal(-10, 10)         # вызываем функции через позиционные аргументы\n",
    "minimal(y = 10, x = -10) # вызываем функцию через именованные аргументы\n",
    "minimal(-10, y = 10)     # вызываем функцию через позиционные и именованные аргументы"
   ]
  },
  {
   "cell_type": "markdown",
   "metadata": {},
   "source": [
    "Но что если мы захотели найти минимальное значение среди нескольних значений и мы не знаем сколько таких значений может быть\n",
    "\n",
    "На помощь нам придёт следующая конструкция:"
   ]
  },
  {
   "cell_type": "markdown",
   "metadata": {},
   "source": [
    "*какая-то_функция* (***аргументы_сюда**):\n",
    "    \n",
    "    что-то делает\n",
    "    ...\n",
    "    ..."
   ]
  },
  {
   "cell_type": "markdown",
   "metadata": {},
   "source": [
    "*Пример:*"
   ]
  },
  {
   "cell_type": "code",
   "execution_count": null,
   "metadata": {},
   "outputs": [],
   "source": [
    "def minimal(*args):\n",
    "    # type(args) => <class 'tuple'> (кортеж)\n",
    "    \n",
    "    res = float('inf') # берём значение +∞\n",
    "    for element in args:\n",
    "        res = element if element < res else res\n",
    "    return res"
   ]
  },
  {
   "cell_type": "code",
   "execution_count": null,
   "metadata": {},
   "outputs": [],
   "source": [
    "minimal(-30, 200, -300, 1000, -3000)"
   ]
  },
  {
   "cell_type": "code",
   "execution_count": null,
   "metadata": {},
   "outputs": [],
   "source": [
    "lst = [1, 2, 3]\n",
    "minimal(*lst)   # можно работать по любому объекту, которая может итерироваться\n",
    "                # c помощью \"*\" мы распаковали list"
   ]
  },
  {
   "cell_type": "markdown",
   "metadata": {},
   "source": [
    "Можно сделать так, чтобы мы требовали от пользователя хотя бы 1 аргумент"
   ]
  },
  {
   "cell_type": "markdown",
   "metadata": {},
   "source": [
    "*Пример:*"
   ]
  },
  {
   "cell_type": "code",
   "execution_count": null,
   "metadata": {},
   "outputs": [],
   "source": [
    "minimal()  # при отсутствии аргументов наша функция выдаёт +∞\n",
    "           # это логично, но печально :("
   ]
  },
  {
   "cell_type": "code",
   "execution_count": null,
   "metadata": {},
   "outputs": [],
   "source": [
    "def minimal(first, *rest):\n",
    "    res = first\n",
    "    for element in rest:\n",
    "        res = element if element < res else res\n",
    "    return res"
   ]
  },
  {
   "cell_type": "code",
   "execution_count": null,
   "metadata": {},
   "outputs": [],
   "source": [
    "minimal(1, 2, 3)"
   ]
  },
  {
   "cell_type": "code",
   "execution_count": null,
   "metadata": {},
   "outputs": [],
   "source": [
    "minimal('Hello', ',', ' ', 'World', '!')"
   ]
  },
  {
   "cell_type": "code",
   "execution_count": null,
   "metadata": {},
   "outputs": [],
   "source": [
    "minimal()  # теперь наша функция будет выдавать ошибку, если мы её будем вызывать без аргументов\n",
    "           # и это отлично :)"
   ]
  },
  {
   "cell_type": "markdown",
   "metadata": {},
   "source": [
    "Ещё в Python предусмотрен тот случай когда мы хотим вызывать аргументы только с именем, так называемые **ключевые аргументы** и если мы их будем вызывать как позиционные, то получим ошибку\n",
    "\n",
    "Для демонстрации этого можно рассмотреть функцию Flatten, которая уплощает список до определённой степени вложенности"
   ]
  },
  {
   "cell_type": "markdown",
   "metadata": {},
   "source": [
    "*Пример:*"
   ]
  },
  {
   "cell_type": "code",
   "execution_count": null,
   "metadata": {},
   "outputs": [],
   "source": [
    "def flat_once(lst: list) -> list:\n",
    "    ''' Уплощает список lst на 1 уровне\n",
    "    \n",
    "        Аргументы:\n",
    "            lst: list — список, который надо уплостить\n",
    "        \n",
    "        Возвращает:\n",
    "            list — список, который уплощён на 1 уровень\n",
    "    '''\n",
    "    \n",
    "    res = []\n",
    "    \n",
    "    for item in lst:\n",
    "        if type(item) is list:         # проверяемый элемент список (?)\n",
    "            res.extend(item)           # уплощаем его\n",
    "        else:\n",
    "            res.append(item)           # добавляем элемент в конец\n",
    "            \n",
    "    return res"
   ]
  },
  {
   "cell_type": "code",
   "execution_count": null,
   "metadata": {},
   "outputs": [],
   "source": [
    "lst = [1, [1, 2], [1, [3, [4]]]]       # степень вложенности - 3\n",
    "flat_once(lst)                         # добились только 2 степени вложенности :("
   ]
  },
  {
   "cell_type": "code",
   "execution_count": null,
   "metadata": {},
   "outputs": [],
   "source": [
    "def flatten(lst: list, *, depth: int = 1) -> list:\n",
    "    ''' Уплощает список на depth уровней\n",
    "    \n",
    "        Аргументы:\n",
    "            lst: list — список, который будет уплощён на depth уровней\n",
    "            depth: int — количество уровней на которое нужно уплостить список\n",
    "        \n",
    "        Возвращает:\n",
    "            list — уплощённый список на depth уровней\n",
    "    '''\n",
    "    \n",
    "    res = []                           # результирующий список\n",
    "    for item in lst:                   # итерируемся по элементам списка\n",
    "        current_depth = 0              # current_depth - текущая вложенность элемента\n",
    "        if type(item) is list:         # проверяемый элемент список (?)\n",
    "            more = True                # more - проверяет, нужно (можно, (надо)) ли нам ещё\n",
    "                                       #        \"углубляться\" в текуший элемент\n",
    "            while more and current_depth < depth - 1:  # пока нам нужно итерироваться  \n",
    "                current_depth += 1                     # добавляем \"глубину\"\n",
    "                more = any([type(_) is list for _ in item])  # если в рассматриваемом элементе \n",
    "                                                             # списки (?)\n",
    "                item = flat_once(item)                       # уплощаем список 1 раз\n",
    "            res.extend(item)                                 # добавляем содержимое расскрывая\n",
    "                                                             # список\n",
    "        else:\n",
    "            more = False\n",
    "            res.append(item)                                 # добавляем элемент\n",
    "    return res"
   ]
  },
  {
   "cell_type": "code",
   "execution_count": null,
   "metadata": {},
   "outputs": [],
   "source": [
    "flatten(lst)             # по умолчанию вложенность 1"
   ]
  },
  {
   "cell_type": "code",
   "execution_count": null,
   "metadata": {},
   "outputs": [],
   "source": [
    "flatten(lst, depth = 3)  # полностью сделали Flatten, как в Wolfram Mathematica\n",
    "                         # без доп. аргументов"
   ]
  },
  {
   "cell_type": "markdown",
   "metadata": {},
   "source": [
    "Если мы попытаемся вызвать аргумент *depth*  в качестве позиционного, то Python нас отругает за такое!"
   ]
  },
  {
   "cell_type": "code",
   "execution_count": null,
   "metadata": {
    "scrolled": false
   },
   "outputs": [],
   "source": [
    "flatten(lst, 3)"
   ]
  },
  {
   "cell_type": "markdown",
   "metadata": {},
   "source": [
    "Есть специальный синтаксис, как для позиционных аргументов, который позволяет нам вводить произволное количество только именованных аргументов"
   ]
  },
  {
   "cell_type": "markdown",
   "metadata": {},
   "source": [
    "*Пример:*"
   ]
  },
  {
   "cell_type": "code",
   "execution_count": null,
   "metadata": {},
   "outputs": [],
   "source": [
    "def example(*args, **kwargs):\n",
    "    return args, kwargs"
   ]
  },
  {
   "cell_type": "code",
   "execution_count": null,
   "metadata": {},
   "outputs": [],
   "source": [
    "args, kwargs = example(-10, 10, a = True, b = 'Hello')"
   ]
  },
  {
   "cell_type": "markdown",
   "metadata": {},
   "source": [
    "И так получается, что позиционные аргументы в Python - это tuple (кортеж), а ключевые аргументы - это dict (словарь)\n",
    "\n",
    "Поэтому имена двух ключевых аргументов не должны совпадать!\n",
    "\n",
    "Иначе, переменная примет последнее присвоенное ей значение, а первое будет забыто"
   ]
  },
  {
   "cell_type": "code",
   "execution_count": null,
   "metadata": {},
   "outputs": [],
   "source": [
    "print(args)\n",
    "type(args)"
   ]
  },
  {
   "cell_type": "code",
   "execution_count": null,
   "metadata": {},
   "outputs": [],
   "source": [
    "print(kwargs)\n",
    "type(kwargs)"
   ]
  },
  {
   "cell_type": "markdown",
   "metadata": {},
   "source": [
    "Получается, что ключевые аргументы тоже можно распаковывать\n",
    "\n",
    "Теперь распаковывать позиционные аргументы можно из списка с помощью \"*\", а распаковывать ключевые аргументы из словаря через \"**\""
   ]
  },
  {
   "cell_type": "markdown",
   "metadata": {},
   "source": [
    "*Пример:*"
   ]
  },
  {
   "cell_type": "code",
   "execution_count": null,
   "metadata": {},
   "outputs": [],
   "source": [
    "args, kwargs = example(*[-10, 10], **{'a': True, 'b': 'Hello'})\n",
    "args, kwargs"
   ]
  },
  {
   "cell_type": "markdown",
   "metadata": {},
   "source": [
    "## Декораторы"
   ]
  },
  {
   "cell_type": "markdown",
   "metadata": {},
   "source": [
    "### Да кто такой этот ваш декоратор?"
   ]
  },
  {
   "cell_type": "markdown",
   "metadata": {},
   "source": [
    "**Декоратор** — это \"обёртка\", которая даёт нам возможность изменить поведение функции, не изменяя её исходный код. По сути, это функции высшего порядка, которые принимают на вход функцию и возвращает тоже функцию, но при этом не меняет её исходный код"
   ]
  },
  {
   "cell_type": "code",
   "execution_count": null,
   "metadata": {},
   "outputs": [],
   "source": [
    "def trace(func):\n",
    "    def inner(*args, **kwargs):\n",
    "        print(func.__name__, args, kwargs)  # печатаем имя функции, которая в аргументе\n",
    "                                            # и аргументы этой функции\n",
    "        return func(*args, **kwargs)        # возвращаем эту же функцию\n",
    "    return inner"
   ]
  },
  {
   "cell_type": "code",
   "execution_count": null,
   "metadata": {},
   "outputs": [],
   "source": [
    "@trace  # первый вариант применения декоратора \"trace\"\n",
    "def example(x):\n",
    "    ''' Привет, я документация функции example. '''\n",
    "    return x"
   ]
  },
  {
   "cell_type": "code",
   "execution_count": null,
   "metadata": {},
   "outputs": [],
   "source": [
    "example(10)"
   ]
  },
  {
   "cell_type": "code",
   "execution_count": null,
   "metadata": {},
   "outputs": [],
   "source": [
    "# реинициализируем нашу функцию\n",
    "def example(x):\n",
    "    ''' Привет, я документация функции example. '''\n",
    "    return x"
   ]
  },
  {
   "cell_type": "markdown",
   "metadata": {},
   "source": [
    "Как можно видеть, то наша функция имеет атрибуты имени, документации, модуля"
   ]
  },
  {
   "cell_type": "code",
   "execution_count": null,
   "metadata": {},
   "outputs": [],
   "source": [
    "example.__name__, example.__doc__, example.__module__"
   ]
  },
  {
   "cell_type": "code",
   "execution_count": null,
   "metadata": {},
   "outputs": [],
   "source": [
    "example = trace(example)                              # второй вариант применения декоратора"
   ]
  },
  {
   "cell_type": "markdown",
   "metadata": {},
   "source": [
    "Однако после применения декоратора можно видеть, что у нас изменились все атрибуты нашей исходной функции и это достаточно неприятно и даже грустно :("
   ]
  },
  {
   "cell_type": "code",
   "execution_count": null,
   "metadata": {},
   "outputs": [],
   "source": [
    "example.__name__, example.__doc__, example.__module__"
   ]
  },
  {
   "cell_type": "markdown",
   "metadata": {},
   "source": [
    "Попробуем исправить эту неприятность"
   ]
  },
  {
   "cell_type": "code",
   "execution_count": null,
   "metadata": {},
   "outputs": [],
   "source": [
    "# реининциализируем наш декоратор\n",
    "def trace(func):\n",
    "    def inner(*args, **kwargs):\n",
    "        print(func.__name__, args, kwargs)  # печатаем имя функции, которая в аргументе\n",
    "                                            # и аргументы этой функции\n",
    "        return func(*args, **kwargs)        # возвращаем эту же функцию\n",
    "    inner.__module__ = func.__module__      # передаём атрибут модуля func в inner\n",
    "    inner.__doc__ = func.__doc__            # передаём атрибут документации func в inner\n",
    "    inner.__name__ = func.__name__          # передаём атрибут имени func в inner\n",
    "    return inner"
   ]
  },
  {
   "cell_type": "code",
   "execution_count": null,
   "metadata": {},
   "outputs": [],
   "source": [
    "# реинициализируем нашу функцию\n",
    "@trace\n",
    "def example(x):\n",
    "    ''' Привет, я документация функции example. '''\n",
    "    return x"
   ]
  },
  {
   "cell_type": "code",
   "execution_count": null,
   "metadata": {
    "scrolled": true
   },
   "outputs": [],
   "source": [
    "example.__name__, example.__doc__, example.__module__  # Ура! Мы молодцы!"
   ]
  },
  {
   "cell_type": "markdown",
   "metadata": {},
   "source": [
    "## functools: инструмент для манипулирования функциями"
   ]
  },
  {
   "cell_type": "markdown",
   "metadata": {},
   "source": [
    "[*ссылка на все методы в модуле functools*](https://docs.python.org/3/library/functools.html)"
   ]
  },
  {
   "cell_type": "markdown",
   "metadata": {},
   "source": [
    "### @functools.wraps"
   ]
  },
  {
   "cell_type": "markdown",
   "metadata": {},
   "source": [
    "Но в Python есть замечательный модуль functools и в нём есть метод wraps, который всё делает за нас и нам не надо явно присваивать все атрибуты исходной функции\n",
    "\n",
    "Поэтому можно сделать просто так:"
   ]
  },
  {
   "cell_type": "code",
   "execution_count": null,
   "metadata": {},
   "outputs": [],
   "source": [
    "import functools"
   ]
  },
  {
   "cell_type": "code",
   "execution_count": null,
   "metadata": {},
   "outputs": [],
   "source": [
    "# реининциализируем наш декоратор\n",
    "def trace(func):\n",
    "    @functools.wraps(func)                  # копируем все атрибуты исходной функции func\n",
    "    def inner(*args, **kwargs):\n",
    "        print(func.__name__, args, kwargs)  # печатаем имя функции, которая в аргументе\n",
    "                                            # и аргументы этой функции\n",
    "        return func(*args, **kwargs)        # возвращаем эту же функцию\n",
    "    return inner"
   ]
  },
  {
   "cell_type": "code",
   "execution_count": null,
   "metadata": {
    "scrolled": true
   },
   "outputs": [],
   "source": [
    "example.__name__, example.__doc__, example.__module__  # Ура! Всё получилось!"
   ]
  },
  {
   "cell_type": "markdown",
   "metadata": {},
   "source": [
    "## Примеры полезных  декораторов"
   ]
  },
  {
   "cell_type": "markdown",
   "metadata": {},
   "source": [
    "### Декоратор, который профилирует функции (считает количество обращений к функции)"
   ]
  },
  {
   "cell_type": "code",
   "execution_count": null,
   "metadata": {},
   "outputs": [],
   "source": [
    "def profiled(func):\n",
    "    @functools.wraps(func)\n",
    "    def inner(*args, **kwargs):\n",
    "        inner.__ncalls__ += 1      # задали новый атрибут, который будет считать кол-во\n",
    "                                   # обращений к функции\n",
    "        return func(*args, **kwargs)\n",
    "    \n",
    "    inner.__ncalls__ = 0           # обнуляем при новом запусков функции\n",
    "    return inner"
   ]
  },
  {
   "cell_type": "code",
   "execution_count": null,
   "metadata": {},
   "outputs": [],
   "source": [
    "def fibonacci(n: int = 1) -> int:\n",
    "    return 1 if n < 3 else fibonacci(n - 1) + fibonacci(n - 2)"
   ]
  },
  {
   "cell_type": "code",
   "execution_count": null,
   "metadata": {},
   "outputs": [],
   "source": [
    "fibonacci = profiled(fibonacci)"
   ]
  },
  {
   "cell_type": "code",
   "execution_count": null,
   "metadata": {},
   "outputs": [],
   "source": [
    "fibonacci.__ncalls__"
   ]
  },
  {
   "cell_type": "code",
   "execution_count": null,
   "metadata": {},
   "outputs": [],
   "source": [
    "fibonacci(20)"
   ]
  },
  {
   "cell_type": "code",
   "execution_count": null,
   "metadata": {},
   "outputs": [],
   "source": [
    "fibonacci.__ncalls__"
   ]
  },
  {
   "cell_type": "markdown",
   "metadata": {},
   "source": [
    "### Декоратор, который делает что-то один раз"
   ]
  },
  {
   "cell_type": "code",
   "execution_count": null,
   "metadata": {},
   "outputs": [],
   "source": [
    "def once(func):\n",
    "    @functools.wraps(func)\n",
    "    def inner(*args, **kwargs):\n",
    "        if not inner.__called__:  # новый атрибут, который будет проверять не вызывали ли мы  \n",
    "                                  # функцию ранее\n",
    "            inner.__called__ = True        \n",
    "            return func(*args, **kwargs)\n",
    "    inner.__called__ = False      # при повторном запуске реинциализируем\n",
    "    return inner"
   ]
  },
  {
   "cell_type": "code",
   "execution_count": null,
   "metadata": {},
   "outputs": [],
   "source": [
    "@once\n",
    "def initialization():\n",
    "    print('Я что-то инициализирую 1 раз')"
   ]
  },
  {
   "cell_type": "code",
   "execution_count": null,
   "metadata": {},
   "outputs": [],
   "source": [
    "initialization()  # вызвали первый раз - всё отлично"
   ]
  },
  {
   "cell_type": "code",
   "execution_count": null,
   "metadata": {},
   "outputs": [],
   "source": [
    "initialization()  # вызвали функцию второй раз и всё умерло"
   ]
  },
  {
   "cell_type": "markdown",
   "metadata": {},
   "source": [
    "### Декоратор мемоизации"
   ]
  },
  {
   "cell_type": "code",
   "execution_count": null,
   "metadata": {},
   "outputs": [],
   "source": [
    "def memoized(func):\n",
    "    cache = {}\n",
    "\n",
    "    @functools.wraps(func)\n",
    "    def inner(*args, **kwargs):\n",
    "        key = args + tuple(sorted(kwargs.items()))  # забираем все аргументы\n",
    "        if key not in cache:  # не запускали ли мы нашу функцию с такими аргументами (?)\n",
    "            cache[key] = func(*args, **kwargs)  # создаём новый ключ с вычисленным значением\n",
    "        return cache[key]\n",
    "    return inner"
   ]
  },
  {
   "cell_type": "markdown",
   "metadata": {},
   "source": [
    "**Функция Аккермана**\n",
    "\n",
    "Функция принимает на вход два неотрицательных целых числа, а на выходе мы получаем натуральное число\n",
    "\n",
    "Фишка этой функции в том, что она растёт ооочень быстро и при входных данных *A(4,4)* мы уже получим число, которое больше, чем количество атомов во Вселенной\n",
    "\n",
    "Ещё эта функция задаётся рекурсивно, что идеально подходит для использования декоратора - *memoized*\n",
    "\n",
    "<img src = \"https://wikimedia.org/api/rest_v1/media/math/render/svg/c8c2aa0b20532014ea35c4a09c2380a01b3d1423\" width = 800 />"
   ]
  },
  {
   "cell_type": "code",
   "execution_count": null,
   "metadata": {},
   "outputs": [],
   "source": [
    "@profiled\n",
    "def ackermann(m: int, n: int) -> int:\n",
    "    if m == 0:\n",
    "        return n + 1\n",
    "    elif m > 0 and n == 0:\n",
    "        return ackermann(m - 1, 1)\n",
    "    elif m > 0 and n > 0:\n",
    "        return ackermann(m - 1, ackermann(m, n - 1))\n",
    "    else:\n",
    "        return 'Некорректные значения'"
   ]
  },
  {
   "cell_type": "code",
   "execution_count": null,
   "metadata": {},
   "outputs": [],
   "source": [
    "ackermann(3, 7)"
   ]
  },
  {
   "cell_type": "code",
   "execution_count": null,
   "metadata": {},
   "outputs": [],
   "source": [
    "ackermann.__ncalls__"
   ]
  },
  {
   "cell_type": "code",
   "execution_count": null,
   "metadata": {},
   "outputs": [],
   "source": [
    "@profiled\n",
    "@memoized\n",
    "def ackermann(m, n):\n",
    "    if m == 0:\n",
    "        return n + 1\n",
    "    elif m > 0 and n == 0:\n",
    "        return ackermann(m - 1, 1)\n",
    "    elif m > 0 and n > 0:\n",
    "        return ackermann(m - 1, ackermann(m, n - 1))\n",
    "    else:\n",
    "        return 'Некорректные значения'"
   ]
  },
  {
   "cell_type": "code",
   "execution_count": null,
   "metadata": {},
   "outputs": [],
   "source": [
    "ackermann(3, 7)"
   ]
  },
  {
   "cell_type": "code",
   "execution_count": null,
   "metadata": {},
   "outputs": [],
   "source": [
    "ackermann.__ncalls__"
   ]
  },
  {
   "cell_type": "markdown",
   "metadata": {},
   "source": [
    "#### Как использовать два декоратора одновременно (?)"
   ]
  },
  {
   "cell_type": "markdown",
   "metadata": {},
   "source": [
    "**Нужно запомнить,** что декараторы применяются сверху внизу!\n",
    "\n",
    "Если же рассмотреть альтернативный вид записи, то по степени вложенности, первыми идут внешние декораторы, а дальше \"вглубь\""
   ]
  },
  {
   "cell_type": "markdown",
   "metadata": {},
   "source": [
    "*Пример:*"
   ]
  },
  {
   "cell_type": "code",
   "execution_count": null,
   "metadata": {},
   "outputs": [],
   "source": [
    "def square(func):\n",
    "    return lambda x: func(x * x)"
   ]
  },
  {
   "cell_type": "code",
   "execution_count": null,
   "metadata": {},
   "outputs": [],
   "source": [
    "def add_one(func):\n",
    "    return lambda x: func(x + 1)"
   ]
  },
  {
   "cell_type": "code",
   "execution_count": null,
   "metadata": {},
   "outputs": [],
   "source": [
    "# Пример №1\n",
    "@square         # сначала возвели в квадрат\n",
    "@add_one        # затем прибавили единицу \n",
    "def example(x):\n",
    "    return x"
   ]
  },
  {
   "cell_type": "code",
   "execution_count": null,
   "metadata": {},
   "outputs": [],
   "source": [
    "example(10)"
   ]
  },
  {
   "cell_type": "code",
   "execution_count": null,
   "metadata": {},
   "outputs": [],
   "source": [
    "# Пример №2 \n",
    "@add_one         # сначала прибавили единицу\n",
    "@square          # затем возвели в квадрат\n",
    "def example(x):\n",
    "    return x"
   ]
  },
  {
   "cell_type": "code",
   "execution_count": null,
   "metadata": {},
   "outputs": [],
   "source": [
    "example(10)"
   ]
  },
  {
   "cell_type": "code",
   "execution_count": null,
   "metadata": {},
   "outputs": [],
   "source": [
    "def example(x):\n",
    "    return x"
   ]
  },
  {
   "cell_type": "code",
   "execution_count": null,
   "metadata": {},
   "outputs": [],
   "source": [
    "example = square(add_one(example))  # пример №1, только в другом стиле записи\n",
    "example(10)                         # square => add_one"
   ]
  },
  {
   "cell_type": "code",
   "execution_count": null,
   "metadata": {},
   "outputs": [],
   "source": [
    "def example(x):\n",
    "    return x"
   ]
  },
  {
   "cell_type": "code",
   "execution_count": null,
   "metadata": {},
   "outputs": [],
   "source": [
    "example = add_one(square(example))  # пример №1, только в другом стиле записи\n",
    "example(10)                         # add_one => square"
   ]
  },
  {
   "cell_type": "markdown",
   "metadata": {},
   "source": [
    "### @functools.lru_cache"
   ]
  },
  {
   "cell_type": "markdown",
   "metadata": {},
   "source": [
    "**@functools.lru_cache(maxsize = 128, typed = False)** — декоратор, который сохраняет результаты *maxsize* последних вызовов. Это может сэкономить время при дорогих вычислениях, если функция периодически вызывается с теми же аргументами.\n",
    "\n",
    "Поскольку в качестве кэша используется словарь, все аргументы должны быть хешируемыми.\n",
    "\n",
    "Если maxsize установлен в None, кэш может возрастать бесконечно, но это сильно нагружает оперативную память. Также функция наиболее эффективна, если maxsize это степень двойки.\n",
    "\n",
    "Если typed = True, аргументы функции с разными типами будут кэшироваться отдельно. Например, *f(3)* и *f(3.0)* будут считаться разными вызовами, возвращающие, возможно, различный результат.\n",
    "\n",
    "Похож на декоратор - *memoized*"
   ]
  },
  {
   "cell_type": "code",
   "execution_count": null,
   "metadata": {},
   "outputs": [],
   "source": [
    "@functools.lru_cache(maxsize = 64)\n",
    "def fibonacci(n: int = 1) -> int:\n",
    "    return 1 if n < 3 else fibonacci(n - 1) + fibonacci(n - 2)"
   ]
  },
  {
   "cell_type": "code",
   "execution_count": null,
   "metadata": {},
   "outputs": [],
   "source": [
    "fibonacci(100)"
   ]
  },
  {
   "cell_type": "code",
   "execution_count": null,
   "metadata": {},
   "outputs": [],
   "source": [
    "fibonacci.cache_info()    # hits - сколько раз мы попали в кэш\n",
    "                          # misses - сколько раз мы не попали в кэш и пришлось считать значения\n",
    "                          # maxsize - размер кэша\n",
    "                          # currentsize - последний размер кэша"
   ]
  },
  {
   "cell_type": "code",
   "execution_count": null,
   "metadata": {
    "scrolled": true
   },
   "outputs": [],
   "source": [
    "fibonacci.cache_clear()   # очищаем кэш\n",
    "fibonacci.cache_info()"
   ]
  },
  {
   "cell_type": "markdown",
   "metadata": {},
   "source": [
    "### @functools.singledispatch"
   ]
  },
  {
   "cell_type": "markdown",
   "metadata": {},
   "source": [
    "В Python есть обобщённые функции или мультиметоды\n",
    "\n",
    "Это функции, которые можно применять к множеству объектов\n",
    "\n",
    "Например функции: <font color='blue'>*len()*</font>, <font color='blue'>*sum()*</font>, <font color='blue'>*str()*</font> и другие\n"
   ]
  },
  {
   "cell_type": "markdown",
   "metadata": {},
   "source": [
    "*Примеры:*"
   ]
  },
  {
   "cell_type": "code",
   "execution_count": null,
   "metadata": {},
   "outputs": [],
   "source": [
    "# Пример c len()\n",
    "print(len([1, 2, 3, 4]))          # для списков\n",
    "print(len('Hello World!!!'))      # для строк\n",
    "print(len((1, 2, 3, 4, 5, 6)))    # для кортежей\n",
    "print(len(range(0, 10, 2)))       # для range"
   ]
  },
  {
   "cell_type": "code",
   "execution_count": null,
   "metadata": {},
   "outputs": [],
   "source": [
    "# Пример с str()\n",
    "print(str([1, 2, 3, 4]))          # для списков\n",
    "print(str(12))                    # для чисел\n",
    "print(str(range(0, 10, 2)))       # для range\n",
    "print(str((1, 2, 3, 4, 5, 6)))    # для кортежей"
   ]
  },
  {
   "cell_type": "code",
   "execution_count": null,
   "metadata": {
    "scrolled": true
   },
   "outputs": [],
   "source": [
    "# Пример с sum()\n",
    "print(sum([1, 2, 3, 4]))          # для списков\n",
    "print(sum((1, 2, 3, 4, 5, 6)))    # для кортежей\n",
    "print(sum(range(0, 10, 2)))       # для range\n",
    "print(sum([[1], [2]], [3]))       # для конкатенации (соединения) списков"
   ]
  },
  {
   "cell_type": "markdown",
   "metadata": {},
   "source": [
    "\n",
    "**@functools.singledispatch** — декоратор, который превращает функцию в мультиметод (или обобщённую функцию)."
   ]
  },
  {
   "cell_type": "markdown",
   "metadata": {},
   "source": [
    "*Пример с* **@functools.singledispatch**:"
   ]
  },
  {
   "cell_type": "markdown",
   "metadata": {},
   "source": [
    "Создадим функцию <font color='blue'>pack()</font>, которая будет переводить объекты в шестнадцатиричную СС и указывать тип объекта, который она перевела"
   ]
  },
  {
   "cell_type": "code",
   "execution_count": null,
   "metadata": {},
   "outputs": [],
   "source": [
    "@functools.singledispatch\n",
    "def pack(obj):\n",
    "    type_name = type(obj).__name__\n",
    "    assert False, 'Некорректный тип: ' + type_name   # assert проверяет на ошибку, когда у нас\n",
    "                                                     # нет типа к которому мы обратились"
   ]
  },
  {
   "cell_type": "code",
   "execution_count": null,
   "metadata": {},
   "outputs": [],
   "source": [
    "@pack.register(int)                                  # регистрируем новый тип объекта\n",
    "def _(obj):\n",
    "    return b'Int: ' + hex(obj).encode('ascii')       # литерал 'b' показывает, что мы хотим \n",
    "                                                     # увидеть объект типа bytes, а не str"
   ]
  },
  {
   "cell_type": "code",
   "execution_count": null,
   "metadata": {},
   "outputs": [],
   "source": [
    "@pack.register(list)                                 # регистрируем новый тип объекта\n",
    "def _(obj):\n",
    "    return b'List: ' + b', '.join(map(pack, obj))"
   ]
  },
  {
   "cell_type": "code",
   "execution_count": null,
   "metadata": {},
   "outputs": [],
   "source": [
    "print(pack([1, 2, 3]))                               # работает со списком\n",
    "print(pack(2 ** 13))                                 # работает с целыми числами"
   ]
  },
  {
   "cell_type": "code",
   "execution_count": null,
   "metadata": {},
   "outputs": [],
   "source": [
    "print(pack(10.))                                     # не работает с вещественными числами"
   ]
  },
  {
   "cell_type": "markdown",
   "metadata": {},
   "source": [
    "### functools.partial"
   ]
  },
  {
   "cell_type": "markdown",
   "metadata": {},
   "source": [
    "**functools.partial(func, \\*args, **kwargs)** — возвращает partial-объект (по сути, функцию), который при вызове вызывается как функция *func*, но дополнительно передают туда позиционные аргументы *args*, и именованные аргументы *kwargs*. Если другие аргументы передаются при вызове функции, то позиционные добавляются в конец, а именованные расширяют и перезаписывают."
   ]
  },
  {
   "cell_type": "markdown",
   "metadata": {},
   "source": [
    "*Пример использования*  **finctools.partial**:"
   ]
  },
  {
   "cell_type": "code",
   "execution_count": null,
   "metadata": {},
   "outputs": [],
   "source": [
    "def count_animals(number, kind, *, adjective = 'big'):           # аргумент adjective - ключевой\n",
    "    print(f'{number} {adjective} {kind}')"
   ]
  },
  {
   "cell_type": "markdown",
   "metadata": {},
   "source": [
    "<center> <b> Мы будем считать корги! </b> </center>\n",
    "\n",
    "<img src=\"https://miro.medium.com/max/580/1*tKM7HOZ4JUoMZMRLP3XbzA.png\" width=\"550\" height=\"500\"/>"
   ]
  },
  {
   "cell_type": "code",
   "execution_count": null,
   "metadata": {},
   "outputs": [],
   "source": [
    "count_animals_trace = trace(count_animals)\n",
    "count_animals_trace(10, 'corgi', adjective = 'small')"
   ]
  },
  {
   "cell_type": "code",
   "execution_count": null,
   "metadata": {},
   "outputs": [],
   "source": [
    "count_corgi = functools.partial(count_animals, kind = 'corgi') # назначам ключевое значение kind\n",
    "count_corgi(10)"
   ]
  },
  {
   "cell_type": "code",
   "execution_count": null,
   "metadata": {},
   "outputs": [],
   "source": [
    "count_corgi(10, kind = 'corgi', adjective = 'cutest')          # изменили ключевое значение kind"
   ]
  },
  {
   "cell_type": "code",
   "execution_count": null,
   "metadata": {},
   "outputs": [],
   "source": [
    "count_corgi.keywords                                           # смотрим на ключевые значения"
   ]
  },
  {
   "cell_type": "code",
   "execution_count": null,
   "metadata": {
    "scrolled": true
   },
   "outputs": [],
   "source": [
    "count_corgi(10, 'puppies')                                     # без ключа теперь у нас \n",
    "                                                               # не получиться посчитать корги\n",
    "                                                               # и это грустно :("
   ]
  },
  {
   "cell_type": "markdown",
   "metadata": {},
   "source": [
    "*Ещё один пример, но уже с позиционным аргументом*:"
   ]
  },
  {
   "cell_type": "code",
   "execution_count": null,
   "metadata": {},
   "outputs": [],
   "source": [
    "def add(x, y):\n",
    "    return x + y"
   ]
  },
  {
   "cell_type": "code",
   "execution_count": null,
   "metadata": {},
   "outputs": [],
   "source": [
    "p_add = functools.partial(add, 2)                              # теперь первое позиционное \n",
    "                                                               # значение x получило значение 2"
   ]
  },
  {
   "cell_type": "code",
   "execution_count": null,
   "metadata": {},
   "outputs": [],
   "source": [
    "p_add(y = 4)                                                   # теперь для запуска функции \n",
    "                                                               # достаточно 1 аргумента - x\n",
    "p_add(4)"
   ]
  },
  {
   "cell_type": "code",
   "execution_count": null,
   "metadata": {},
   "outputs": [],
   "source": [
    "p_add.args                                                     # смотрим значения позиционных \n",
    "                                                               # аргументов "
   ]
  },
  {
   "cell_type": "code",
   "execution_count": null,
   "metadata": {},
   "outputs": [],
   "source": [
    "p2_add = functools.partial(add, 2, 4)                          # теперь назначили 2 позиционных\n",
    "                                                               # аргумента"
   ]
  },
  {
   "cell_type": "code",
   "execution_count": null,
   "metadata": {},
   "outputs": [],
   "source": [
    "p2_add()                                                       # можно вообще не назначать \n",
    "                                                               # аргументы :)"
   ]
  },
  {
   "cell_type": "code",
   "execution_count": null,
   "metadata": {},
   "outputs": [],
   "source": [
    "p2_add.args                                                    # смотрим позиционные аргументы"
   ]
  },
  {
   "cell_type": "code",
   "execution_count": null,
   "metadata": {},
   "outputs": [],
   "source": [
    "p2_add = functools.partial(add, 2, 10)                         # можем перезаписать аргументы\n",
    "p2_add()"
   ]
  },
  {
   "cell_type": "markdown",
   "metadata": {},
   "source": [
    "### functools.reduce"
   ]
  },
  {
   "cell_type": "markdown",
   "metadata": {},
   "source": [
    "**functools.reduce(function, iterable)** — берёт два первых элемента, применяет к ним функцию *function*, берёт результирующее значение и третий элемент, применяет к ним функцию *function* и таким образом сворачивает *iterable* в одно значение.\n",
    "\n",
    "Короче, это как *Fold* в *Wolfram Mathematica*!"
   ]
  },
  {
   "cell_type": "markdown",
   "metadata": {},
   "source": [
    "*Пример с*  **functools.reduce(function, iterable)**:"
   ]
  },
  {
   "cell_type": "code",
   "execution_count": null,
   "metadata": {},
   "outputs": [],
   "source": [
    "functools.reduce(lambda x, y: x + y, [1, 2, 3, 4, 5])  # алгоритм вычислений ((((1+2)+3)+4)+5)"
   ]
  },
  {
   "cell_type": "code",
   "execution_count": null,
   "metadata": {},
   "outputs": [],
   "source": [
    "functools.reduce(lambda x, y: f'({x} + {y})', [1, 2, 3, 4, 5])"
   ]
  },
  {
   "cell_type": "code",
   "execution_count": null,
   "metadata": {},
   "outputs": [],
   "source": [
    "functools.reduce(lambda x, y: x * y, [1, 2, 3, 4, 5])  # алгоритм вычислений ((((1*2)*3)*4)*5)"
   ]
  },
  {
   "cell_type": "markdown",
   "metadata": {},
   "source": [
    "<center> <i>Факт про </i> <b> reduce </b> : </center>\n",
    "\n",
    "Изначально, в версии Python 2, *reduce* был в модуле *buildins*, но когда делали версию Python 3 мистер Ван Россум грозился со страшной силой выпилить *map*, *filter*, *reduce*, но потом ему позвонил Стивен Вольфрам и они договорились, что просто уберут *reduce* в модуль *functools*\n",
    "\n",
    "Всё так и было, честное слово!"
   ]
  },
  {
   "cell_type": "markdown",
   "metadata": {},
   "source": [
    "## itertools: функции-итераторы"
   ]
  },
  {
   "cell_type": "markdown",
   "metadata": {},
   "source": [
    "[*ссылка на все методы в модуле itertools*](https://docs.python.org/3/library/itertools.html)"
   ]
  },
  {
   "cell_type": "code",
   "execution_count": null,
   "metadata": {},
   "outputs": [],
   "source": [
    "import itertools"
   ]
  },
  {
   "cell_type": "markdown",
   "metadata": {},
   "source": [
    "### Объединение и разделение итераторов"
   ]
  },
  {
   "cell_type": "markdown",
   "metadata": {},
   "source": [
    "**itertools.chain(*iterables)** — возвращает по одному элементу из первого итератора, потом из второго, до тех пор, пока итераторы не кончатся."
   ]
  },
  {
   "cell_type": "markdown",
   "metadata": {},
   "source": [
    "По всему, что может итерироваться, можно итерироваться :)"
   ]
  },
  {
   "cell_type": "markdown",
   "metadata": {},
   "source": [
    "*Пример:*"
   ]
  },
  {
   "cell_type": "code",
   "execution_count": null,
   "metadata": {
    "scrolled": true
   },
   "outputs": [],
   "source": [
    "for element in itertools.chain(\n",
    "    [1, 2, 3], 'abc', (True, False), {'animal': 'corgi', 'type of animal': 'welsh'}):\n",
    "    \n",
    "    print(element, end = ' ')  # хочу чтобы всё печаталось в строчку - 'end': \\n → *space*"
   ]
  },
  {
   "cell_type": "markdown",
   "metadata": {},
   "source": [
    "**itertools.islice(iterable, start = 0, stop, step)** — создает итератор, который возвращает итератор, выдающий входные элементы в соответствии c заданными индексами. Просто итератор, который работает аналогично простым срезам данных.\n",
    "\n",
    "Стоит заметить, что выборка происходит следующим образом: [start, stop) !\n",
    "\n",
    "Что и в случае с range"
   ]
  },
  {
   "cell_type": "markdown",
   "metadata": {},
   "source": [
    "*Примеры:*"
   ]
  },
  {
   "cell_type": "code",
   "execution_count": null,
   "metadata": {},
   "outputs": [],
   "source": [
    "print('Верни мне только пять первых элементов:')\n",
    "for i in itertools.islice(range(100), 5):                  # в данном примере start - задаётся\n",
    "                                                           # поумолчанию равным нулю, как и \n",
    "                                                           # в случае с range\n",
    "    print(i, end = ' ')"
   ]
  },
  {
   "cell_type": "code",
   "execution_count": null,
   "metadata": {},
   "outputs": [],
   "source": [
    "print('Верни мне элементы начиная с 5 и заканчиваю 9:')\n",
    "for i in itertools.islice(range(100), 5, 10):\n",
    "    print(i, end = ' ')"
   ]
  },
  {
   "cell_type": "code",
   "execution_count": null,
   "metadata": {},
   "outputs": [],
   "source": [
    "print('Верни мне элементы от 0 до 100 с шагом 10:')\n",
    "for i in itertools.islice(range(101), 0, 101, 10):\n",
    "    print(i, end = ' ')"
   ]
  },
  {
   "cell_type": "markdown",
   "metadata": {},
   "source": [
    "**itertools.tee(iterables, n = 2)** — создаёт несколько независимых итераторов на основе одного и того же итерируемого объекта."
   ]
  },
  {
   "cell_type": "code",
   "execution_count": null,
   "metadata": {},
   "outputs": [],
   "source": [
    "r = itertools.islice(range(101), 0, 101, 10)\n",
    "i1, i2, i3 = itertools.tee(r, 3)                            # создаётся просто кортеж итераторов\n",
    "print('Итератор 1:', list(i1))\n",
    "print('Итератор 2:', list(i2))\n",
    "print('Итератор 3:', list(i3))"
   ]
  },
  {
   "cell_type": "markdown",
   "metadata": {},
   "source": [
    "### Создание новых данных"
   ]
  },
  {
   "cell_type": "markdown",
   "metadata": {},
   "source": [
    "**itertools.count(start = 0, step = 1)** — создаёт бесконечную арифметическая прогрессия с первым членом *start* и шагом *step*."
   ]
  },
  {
   "cell_type": "code",
   "execution_count": null,
   "metadata": {},
   "outputs": [],
   "source": [
    "list(itertools.islice(itertools.count(0, 10), 11))           # ещё один способ создавать списки\n",
    "                                                             # но не лучший"
   ]
  },
  {
   "cell_type": "code",
   "execution_count": null,
   "metadata": {},
   "outputs": [],
   "source": [
    "for element in zip(itertools.count(1), ['a', 'b', 'c']):\n",
    "    print(element)"
   ]
  },
  {
   "cell_type": "markdown",
   "metadata": {},
   "source": [
    "**itertools.cycle(iterable)** — создает итератор, повторяющий содержимое аргументов\n",
    "бесконечное количество раз."
   ]
  },
  {
   "cell_type": "code",
   "execution_count": null,
   "metadata": {},
   "outputs": [],
   "source": [
    "for _ in zip(range(5), itertools.cycle('abc')):              # кол-во элементов в первом \n",
    "    print(_)                                                 # аргументе zip и во втором \n",
    "                                                             # не равное, но за счёт cycle, нам\n",
    "                                                             # удалось компенсировать это,\n",
    "                                                             \n",
    "                                                             # В противном случае мы бы просто\n",
    "                                                             # получили сокращение кол-ва \n",
    "                                                             # элементов по наименьшему кол-ву \n",
    "                                                             # элементов из двух объектов в zip"
   ]
  },
  {
   "cell_type": "markdown",
   "metadata": {},
   "source": [
    "**itertools.repeat(element, n = 'inf')** — создает итератор, возвращающий одно и то же значение при каждом обращении к нему."
   ]
  },
  {
   "cell_type": "code",
   "execution_count": null,
   "metadata": {},
   "outputs": [],
   "source": [
    "for element in itertools.repeat('Привет, меня зовут repeat!', 5):\n",
    "    print(element)"
   ]
  },
  {
   "cell_type": "markdown",
   "metadata": {},
   "source": [
    "**Задачка** (наглейшим образом украденная!):\n"
   ]
  },
  {
   "cell_type": "markdown",
   "metadata": {},
   "source": [
    "Дан массив длины N, заполненный произвольными целыми числами. Необходимо передвинуть все нули в конец массива, сохранив при этом порядок остальных чисел.\n",
    "\n",
    "*Пример:*\n",
    "\n",
    "[2, 0, 3, 1, 0, 6, 6, 0, 7] → [2, 3, 1, 6, 6, 7, 0, 0, 0]\n",
    "\n",
    "*Как бы решал я:*"
   ]
  },
  {
   "cell_type": "code",
   "execution_count": null,
   "metadata": {},
   "outputs": [],
   "source": [
    "def zero_sort(array: list) -> list :\n",
    "    without_zero = list(filter(lambda _: _ != 0, array))\n",
    "    return without_zero + list(itertools.repeat(0, len(array) - len(without_zero)))"
   ]
  },
  {
   "cell_type": "code",
   "execution_count": null,
   "metadata": {},
   "outputs": [],
   "source": [
    "print(zero_sort([]))\n",
    "print(zero_sort([0, 1]))\n",
    "print(zero_sort([2, 0, 3, 1, 0, 6, 6, 0, 7]))"
   ]
  },
  {
   "cell_type": "markdown",
   "metadata": {},
   "source": [
    "### Фильтрация"
   ]
  },
  {
   "cell_type": "markdown",
   "metadata": {},
   "source": [
    "**itertools.dropwhile(func, iterable)** — создает итератор, который начинает воспроизводить\n",
    "элементы входного итераторируемого объекта сразу же после того, как для заданного условия будет получено ложное значение. Функция не тестирует все элементы входной последовательности. Как только условие принимает ложное значение, она начинает возвращать все оставшиеся элементы."
   ]
  },
  {
   "cell_type": "code",
   "execution_count": null,
   "metadata": {},
   "outputs": [],
   "source": [
    "list(itertools.dropwhile(lambda _: _ < 5, [1, 4, 6, 4, 1, 6]))"
   ]
  },
  {
   "cell_type": "code",
   "execution_count": null,
   "metadata": {},
   "outputs": [],
   "source": [
    "for element in itertools.dropwhile(lambda _: _ < 5, [1, -1, 2, 101, 3, 10, 30]):\n",
    "    print(element, end = ' ')"
   ]
  },
  {
   "cell_type": "markdown",
   "metadata": {},
   "source": [
    "Если есть *dropwhile*, то есть и *takewhile*"
   ]
  },
  {
   "cell_type": "markdown",
   "metadata": {},
   "source": [
    "**itertools.takewhile(func, iterable)** — создает итератор, который выдает элементы из входного итерируемого объекта, пока тестирующая функция возвращает истинное значение."
   ]
  },
  {
   "cell_type": "code",
   "execution_count": null,
   "metadata": {},
   "outputs": [],
   "source": [
    "list(itertools.takewhile(lambda _: _ < 5, [1, 4, 6, 4, 1]))"
   ]
  },
  {
   "cell_type": "code",
   "execution_count": null,
   "metadata": {},
   "outputs": [],
   "source": [
    "for element in itertools.takewhile(lambda _: _ < 5, [1, -1, 2, 101, 3, 10, 30]):\n",
    "    print(element, end = ' ')   "
   ]
  },
  {
   "cell_type": "markdown",
   "metadata": {},
   "source": [
    "**itertools.compress(iterable, selector)** — предлагает другой способ фильтрации содержимого итерируемого объекта. Вместо того чтобы вызывать функцию, она использует значения другого итерируемого объекта для индикации того, следует ли принять значение или игнорировать его.\n",
    "\n",
    "*Привет! Я Pick из Wolfram Mathematica, не узнали?*"
   ]
  },
  {
   "cell_type": "code",
   "execution_count": null,
   "metadata": {},
   "outputs": [],
   "source": [
    "print(list(itertools.compress('ABCDEF', [1, 0, 1, 0, 1, 1])))\n",
    "print(list(itertools.compress((1, 2, 3, 4), [True, False, False, True])))"
   ]
  },
  {
   "cell_type": "markdown",
   "metadata": {},
   "source": [
    "### Группирование данных"
   ]
  },
  {
   "cell_type": "markdown",
   "metadata": {},
   "source": [
    "**itertools.groupby(iterable, key = None)** — группирует элементы по значению. Значение получается применением функции *key* к элементу."
   ]
  },
  {
   "cell_type": "code",
   "execution_count": null,
   "metadata": {},
   "outputs": [],
   "source": [
    "[(k, len(list(v))) for k, v in itertools.groupby(iterable = 'AAAABBBCCDAAAACCC')]"
   ]
  },
  {
   "cell_type": "code",
   "execution_count": null,
   "metadata": {},
   "outputs": [],
   "source": [
    "{k: list(v) for k, v in itertools.groupby([('a', 'b'), ('a', 'c'), ('b', 'c')], lambda _: _[0])}"
   ]
  },
  {
   "cell_type": "code",
   "execution_count": null,
   "metadata": {},
   "outputs": [],
   "source": [
    "things = [\n",
    "            ('животное', 'медведь'), \n",
    "            ('животное', 'олень'), \n",
    "            ('растение', 'кактус'),\n",
    "            ('машина', 'автобус')\n",
    "         ]"
   ]
  },
  {
   "cell_type": "code",
   "execution_count": null,
   "metadata": {},
   "outputs": [],
   "source": [
    "for key, group in itertools.groupby(things, lambda _: _[0]):\n",
    "    for value in group:\n",
    "        print(f'{value[1]} - это {key}')"
   ]
  },
  {
   "cell_type": "markdown",
   "metadata": {},
   "source": [
    "### Комбинирование входных данных"
   ]
  },
  {
   "cell_type": "markdown",
   "metadata": {},
   "source": [
    "**itertools.accumulate(iterable, func = operator.add)** — аккумулирует *iterable* по *func*, в частном случае - \"частичная сумма\" объекта *iterable*."
   ]
  },
  {
   "cell_type": "code",
   "execution_count": null,
   "metadata": {},
   "outputs": [],
   "source": [
    "list(\n",
    "    itertools.accumulate(\n",
    "        iterable = list(itertools.islice(itertools.count(1), 5))\n",
    "        )\n",
    "    )"
   ]
  },
  {
   "cell_type": "code",
   "execution_count": null,
   "metadata": {},
   "outputs": [],
   "source": [
    "list(itertools.accumulate(\"Hello World!\"))"
   ]
  },
  {
   "cell_type": "markdown",
   "metadata": {},
   "source": [
    "Можно задать какую-нибудь кастомную функцию и сделать **itertools.accumulate** по этой функции"
   ]
  },
  {
   "cell_type": "code",
   "execution_count": null,
   "metadata": {},
   "outputs": [],
   "source": [
    "def func(a, b):\n",
    "    print(a,b)\n",
    "    return a + 2 * b"
   ]
  },
  {
   "cell_type": "code",
   "execution_count": null,
   "metadata": {},
   "outputs": [],
   "source": [
    "list(itertools.accumulate('abcde', func))"
   ]
  },
  {
   "cell_type": "markdown",
   "metadata": {},
   "source": [
    "**itertools.product(*iterable, repeat = 1)** — аналог вложенных циклов. Возвращает эта функция конечно же объект типа *itertools.product*, но если его конвертировать в *list*, то элементы списка будут в виде кортежа.\n",
    "\n",
    "Стоит заметить, что аргумент *repeat* является ключевым!"
   ]
  },
  {
   "cell_type": "code",
   "execution_count": null,
   "metadata": {},
   "outputs": [],
   "source": [
    "[i + j for i in 'ABCD' for j in 'xy']"
   ]
  },
  {
   "cell_type": "code",
   "execution_count": null,
   "metadata": {},
   "outputs": [],
   "source": [
    "print(list(itertools.product('ABCD', 'xy')), end = ' ')"
   ]
  },
  {
   "cell_type": "code",
   "execution_count": null,
   "metadata": {},
   "outputs": [],
   "source": [
    "list(map(lambda _: _[0] + _[1], list(itertools.product('ABCD', 'xy'))))"
   ]
  },
  {
   "cell_type": "markdown",
   "metadata": {},
   "source": [
    "Не знаю почему, но у меня возникла сразу же ассоциация с Outer из *Wolfram Mathematica*\n",
    "\n",
    "Может не у меня одного\n",
    "\n",
    "Но что-то в этом есть"
   ]
  },
  {
   "cell_type": "markdown",
   "metadata": {},
   "source": [
    "```\n",
    "In[1]:= Outer[StringJoin, Characters[\"ABCD\"], Characters[\"xy\"]]\n",
    "Out[1]:= {{Ax, Ay}, {Bx, By}, {Cx, Cy}, {Dx, Dy}}\n",
    "```"
   ]
  },
  {
   "cell_type": "code",
   "execution_count": null,
   "metadata": {},
   "outputs": [],
   "source": [
    "print(list(itertools.product('ABCD', 'xy', repeat = 2)), end = ' ')"
   ]
  },
  {
   "cell_type": "markdown",
   "metadata": {},
   "source": [
    "**itertools.permutations(iterable, r = None)** — перестановки длиной *r* из *iterable*."
   ]
  },
  {
   "cell_type": "code",
   "execution_count": null,
   "metadata": {},
   "outputs": [],
   "source": [
    "print(list(itertools.permutations(['a', 'b', 'c'])))"
   ]
  },
  {
   "cell_type": "code",
   "execution_count": null,
   "metadata": {},
   "outputs": [],
   "source": [
    "print(list(itertools.permutations(['a','b','c','d'], 3)))"
   ]
  },
  {
   "cell_type": "markdown",
   "metadata": {},
   "source": [
    "**itertools.combinations(iterable, r)** — комбинации длиной *r* из *iterable* без повторяющихся элементов.\n",
    "\n",
    "*Subsets из Wolfram Mathematica передаёт всем \"Привет\" в этом чатике*"
   ]
  },
  {
   "cell_type": "markdown",
   "metadata": {},
   "source": [
    "```\n",
    "In[2]:= Subsets[Characters[\"ABCD\"], {2}]\n",
    "Out[2]:= {{A, B}, {A, C}, {A, D}, {B, C}, {B, D}, {C, D}}\n",
    "```"
   ]
  },
  {
   "cell_type": "markdown",
   "metadata": {},
   "source": [
    "*Python* : — \"Дашь списать домашку?\"\n",
    "\n",
    "*Wolfram Mathematica* : — \"Да, только не списывай точь-в-точь, чтобы не спалили.\"\n",
    "\n",
    "*Python* : — \"Ок\""
   ]
  },
  {
   "cell_type": "code",
   "execution_count": null,
   "metadata": {},
   "outputs": [],
   "source": [
    "list(itertools.combinations('ABCD', 2))"
   ]
  },
  {
   "cell_type": "markdown",
   "metadata": {},
   "source": [
    "## operator: функциональный интерфейс встроенных операторов"
   ]
  },
  {
   "cell_type": "markdown",
   "metadata": {},
   "source": [
    "[*ссылка на все методы в модуле operator*](https://docs.python.org/3/library/operator.html)"
   ]
  },
  {
   "cell_type": "markdown",
   "metadata": {},
   "source": [
    "Время от времени в процессе программирования c использованием итераторов возникает необходимость в создании небольших функций для вычисления простых выражений. Иногда это можно реализовать c помощью анонимных функий, но для некоторых операций новые функции вообще не нужны. Модуль **operator** содержит функции, которые соответствуют встроенным арифметическим операгорам, операторам сравнения и другим стандартным операторам."
   ]
  },
  {
   "cell_type": "code",
   "execution_count": null,
   "metadata": {},
   "outputs": [],
   "source": [
    "import operator"
   ]
  },
  {
   "cell_type": "markdown",
   "metadata": {},
   "source": [
    "### Логические операции"
   ]
  },
  {
   "cell_type": "markdown",
   "metadata": {},
   "source": [
    "\\*тут всё просто, так что будет только 1 пример\\*"
   ]
  },
  {
   "cell_type": "markdown",
   "metadata": {},
   "source": [
    "**operator.truth(obj)** — возвращает *True* если объект - true, *False* в противном случае. (это тупо, но так написал сам Гвидо ван Россум в документации к модулю)\n",
    "\n",
    "Абсолютный эквивалент *bool(obj)*"
   ]
  },
  {
   "cell_type": "code",
   "execution_count": null,
   "metadata": {
    "scrolled": true
   },
   "outputs": [],
   "source": [
    "help(operator.truth)              # вот и кончились хиханьки да хахоньки"
   ]
  },
  {
   "cell_type": "code",
   "execution_count": null,
   "metadata": {},
   "outputs": [],
   "source": [
    "lst_obj = [10, 0, -10, None, (1, 2), 'корги', False, [1]]"
   ]
  },
  {
   "cell_type": "code",
   "execution_count": null,
   "metadata": {},
   "outputs": [],
   "source": [
    "print(list(map(operator.truth, lst_obj)))\n",
    "list(map(operator.truth, lst_obj)) == list(map(bool, lst_obj))"
   ]
  },
  {
   "cell_type": "markdown",
   "metadata": {},
   "source": [
    "**operator.not_(obj)** — возвращает логическое отрицание от *obj*."
   ]
  },
  {
   "cell_type": "code",
   "execution_count": null,
   "metadata": {},
   "outputs": [],
   "source": [
    "help(operator.not_)                 # время крутых документаций от мистера Гвидо"
   ]
  },
  {
   "cell_type": "code",
   "execution_count": null,
   "metadata": {},
   "outputs": [],
   "source": [
    "print(list(map(operator.not_, lst_obj)))\n",
    "list(map(operator.not_, lst_obj)) == list(map(lambda _: not bool(_), lst_obj))"
   ]
  },
  {
   "cell_type": "markdown",
   "metadata": {},
   "source": [
    "**operator.is_(a, b)** — возвращает логическое значение после проверки: *a* - это *b* (?).  Проверяет идентичность объекта."
   ]
  },
  {
   "cell_type": "markdown",
   "metadata": {},
   "source": [
    "<center> <i> мемы, которые мы заслужили!!! </i> </center>\n",
    "\n",
    "<img src=\"meme.png\" width=\"550\" height=\"500\"/>"
   ]
  },
  {
   "cell_type": "code",
   "execution_count": null,
   "metadata": {},
   "outputs": [],
   "source": [
    "list(map(lambda _: operator.is_(*_), itertools.product('abcdaaa', 'a')))"
   ]
  },
  {
   "cell_type": "code",
   "execution_count": null,
   "metadata": {},
   "outputs": [],
   "source": [
    "list(map(lambda _: _[0] is _[1], itertools.product('abcdaaa', 'a')))"
   ]
  },
  {
   "cell_type": "markdown",
   "metadata": {},
   "source": [
    "**operator.is_not(a, b)** — возвращает логическое значение после проверки: *a* - это не *b* (?).  Проверяет идентичность объекта.\n",
    "\n",
    "*мема не будет, можно расходиться*"
   ]
  },
  {
   "cell_type": "code",
   "execution_count": null,
   "metadata": {},
   "outputs": [],
   "source": [
    "list(map(lambda _: operator.is_not(*_), itertools.product('abcdaaa', 'a')))"
   ]
  },
  {
   "cell_type": "code",
   "execution_count": null,
   "metadata": {},
   "outputs": [],
   "source": [
    "list(map(lambda _: _[0] is not _[1], itertools.product('abcdaaa', 'a')))"
   ]
  },
  {
   "cell_type": "markdown",
   "metadata": {},
   "source": [
    "### Операторы сравнения"
   ]
  },
  {
   "cell_type": "markdown",
   "metadata": {},
   "source": [
    "\\*тут тоже всё просто, поэтому будет только 1 пример на весь блок\\*"
   ]
  },
  {
   "cell_type": "markdown",
   "metadata": {},
   "source": [
    "**operator.lt(a, b)** — возвращает логическое значение после проверки: *a* < *b* (?).\n",
    "\n",
    "Эквивалент: *a* < *b*"
   ]
  },
  {
   "cell_type": "markdown",
   "metadata": {},
   "source": [
    "**operator.le(a, b)** — возвращает логическое значение после проверки: *a* <= *b* (?).\n",
    "\n",
    "Эквивалент: *a* <= *b*"
   ]
  },
  {
   "cell_type": "markdown",
   "metadata": {},
   "source": [
    "**operator.eq(a, b)** — возвращает логическое значение после проверки: *a* == *b* (?).\n",
    "\n",
    "Эквивалент: *a* == *b*"
   ]
  },
  {
   "cell_type": "markdown",
   "metadata": {},
   "source": [
    "**operator.ne(a, b)** — возвращает логическое значение после проверки: *a* != *b* (?).\n",
    "\n",
    "Эквивалент: *a* != *b*"
   ]
  },
  {
   "cell_type": "markdown",
   "metadata": {},
   "source": [
    "**operator.gt(a, b)** — возвращает логическое значение после проверки: *a* > *b* (?).\n",
    "\n",
    "Эквивалент: *a* > *b*"
   ]
  },
  {
   "cell_type": "markdown",
   "metadata": {},
   "source": [
    "**operator.ge(a, b)** — возвращает логическое значение после проверки: *a* >= *b* (?).\n",
    "\n",
    "Эквивалент: *a* >= *b*"
   ]
  },
  {
   "cell_type": "code",
   "execution_count": null,
   "metadata": {},
   "outputs": [],
   "source": [
    "a = 0.566\n",
    "b = 3.14\n",
    "\n",
    "print('a =', a)\n",
    "print('b =', b)\n",
    "\n",
    "for func in (operator.lt, operator.le, operator.eq, operator.ne, operator.gt, operator.ge):\n",
    "    print(f'{func.__name__}(a, b): {func(a,b)}')"
   ]
  },
  {
   "cell_type": "markdown",
   "metadata": {},
   "source": [
    "### Простейшие операторы"
   ]
  },
  {
   "cell_type": "code",
   "execution_count": null,
   "metadata": {},
   "outputs": [],
   "source": [
    "a = -1\n",
    "b = 5.0\n",
    "c = 3\n",
    "d = 6\n",
    "\n",
    "print('Значение:')\n",
    "for _ in [('a', a), ('b', b), ('c', c), ('d', d)]:\n",
    "    print(f'{_[0]} = {_[1]}')"
   ]
  },
  {
   "cell_type": "code",
   "execution_count": null,
   "metadata": {},
   "outputs": [],
   "source": [
    "def show_func(functions: tuple, *arguments) -> None:\n",
    "    for func in functions:\n",
    "        for arg in arguments:\n",
    "            print(f'{func.__name__}{arg}: {func(*arg)}')"
   ]
  },
  {
   "cell_type": "markdown",
   "metadata": {},
   "source": [
    "#### Позитивные и негативные операторы"
   ]
  },
  {
   "cell_type": "markdown",
   "metadata": {},
   "source": [
    "**operator.abs(obj)** — возвращает абсолютное значение (модуль) *obj*."
   ]
  },
  {
   "cell_type": "markdown",
   "metadata": {},
   "source": [
    "**operator.neg(obj)** — возвращает \"отрицание\" значения *obj* → *(-obj)*."
   ]
  },
  {
   "cell_type": "markdown",
   "metadata": {},
   "source": [
    "**operator.pos(obj)** — возвращает \"положительное\" значения *obj* → *(+obj)*."
   ]
  },
  {
   "cell_type": "code",
   "execution_count": null,
   "metadata": {},
   "outputs": [],
   "source": [
    "print('Позитивные / Негативные операторы:\\n')\n",
    "show_func(\n",
    "            (operator.abs, operator.neg, operator.pos), \n",
    "            {a}, \n",
    "            {b}\n",
    "        )"
   ]
  },
  {
   "cell_type": "markdown",
   "metadata": {},
   "source": [
    "#### Арифметические операторы"
   ]
  },
  {
   "cell_type": "markdown",
   "metadata": {},
   "source": [
    "**operator.add(a, b)** — возвращает значение *a* + *b*."
   ]
  },
  {
   "cell_type": "markdown",
   "metadata": {},
   "source": [
    "**operator.floodiv(a, b)** — возвращает значение *a* // *b*."
   ]
  },
  {
   "cell_type": "markdown",
   "metadata": {},
   "source": [
    "**operator.mod(a, b)** — возвращает значение *a* % *b*."
   ]
  },
  {
   "cell_type": "markdown",
   "metadata": {},
   "source": [
    "**operator.mul(a, b)** — возвращает значение *a* * *b*."
   ]
  },
  {
   "cell_type": "markdown",
   "metadata": {},
   "source": [
    "**operator.pow(a, b)** — возвращает значение *a* \\** *b*."
   ]
  },
  {
   "cell_type": "markdown",
   "metadata": {},
   "source": [
    "**operator.sub(a, b)** — возвращает значение *a* - *b*."
   ]
  },
  {
   "cell_type": "markdown",
   "metadata": {},
   "source": [
    "**operator.truediv(a, b)** — возвращает значение *a* / *b*."
   ]
  },
  {
   "cell_type": "code",
   "execution_count": null,
   "metadata": {},
   "outputs": [],
   "source": [
    "print('Арифметические операторы:\\n')\n",
    "show_func(\n",
    "            (operator.add, operator.floordiv, operator.mod, operator.mul, operator.pow, \n",
    "             operator.sub, operator.truediv),\n",
    "            {c, d}\n",
    "        )"
   ]
  },
  {
   "cell_type": "markdown",
   "metadata": {},
   "source": [
    "#### Побитовые операторы"
   ]
  },
  {
   "cell_type": "markdown",
   "metadata": {},
   "source": [
    "**operator.and_(a, b)** — возвращает побитовое значение *a* *and* *b*."
   ]
  },
  {
   "cell_type": "markdown",
   "metadata": {},
   "source": [
    "**operator.or_(a, b)** — возвращает побитовое значение *a* *or* *b*."
   ]
  },
  {
   "cell_type": "markdown",
   "metadata": {},
   "source": [
    "**operator.xor(a, b)** — возвращает побитовое исключающее ИЛИ значение *a* и *b*."
   ]
  },
  {
   "cell_type": "markdown",
   "metadata": {},
   "source": [
    "**operator.lshift(a, b)** — возвращает значение *a*, сдвинутое влево на *b* бит."
   ]
  },
  {
   "cell_type": "markdown",
   "metadata": {},
   "source": [
    "**operator.rshift(a, b)** — возвращает значение *a*, сдвинутое вправо на *b* бит."
   ]
  },
  {
   "cell_type": "markdown",
   "metadata": {},
   "source": [
    "**operator.invert(a)** — возвращает побитовое обратное число *a*."
   ]
  },
  {
   "cell_type": "code",
   "execution_count": null,
   "metadata": {},
   "outputs": [],
   "source": [
    "print('Побитовые операторы:\\n')\n",
    "show_func(\n",
    "            (operator.and_, operator.or_, operator.xor, operator.lshift, operator.rshift),\n",
    "            {c, d}\n",
    "        )\n",
    "print(f'invert({d}): {operator.invert(d)}')"
   ]
  },
  {
   "cell_type": "markdown",
   "metadata": {},
   "source": [
    "### Операторы для работы с последовательностями"
   ]
  },
  {
   "cell_type": "markdown",
   "metadata": {},
   "source": [
    "\\* в данном контексте под последовательностями подразумевается объект типа *list* или *dict* \\*"
   ]
  },
  {
   "cell_type": "code",
   "execution_count": null,
   "metadata": {},
   "outputs": [],
   "source": [
    "a = [1, 2, 3, 1]\n",
    "b = ['a', 'b', 'c']\n",
    "\n",
    "print('Значения:\\n')\n",
    "print('a =', a)\n",
    "print('b =', b)"
   ]
  },
  {
   "cell_type": "markdown",
   "metadata": {},
   "source": [
    "**operator.concat(a, b)** — возвращает значение *a* + *b* для последовательностей *a* и *b*. (конкатенация последовательностей)"
   ]
  },
  {
   "cell_type": "code",
   "execution_count": null,
   "metadata": {},
   "outputs": [],
   "source": [
    "print(f'concat({a}, {b}):', operator.concat(a, b))"
   ]
  },
  {
   "cell_type": "markdown",
   "metadata": {},
   "source": [
    "#### Операторы поиска"
   ]
  },
  {
   "cell_type": "markdown",
   "metadata": {},
   "source": [
    "**operator.contains(a, b)** — возвращает логическое значение после проверки *b* *in* *a*.\n",
    "\n",
    "Стоит обратить внимание на перевёрнутый порядок аргументов функции!"
   ]
  },
  {
   "cell_type": "markdown",
   "metadata": {},
   "source": [
    "**operator.countOf(a, b)** — возвращает количество вхождений *b* в последовательности *a*."
   ]
  },
  {
   "cell_type": "markdown",
   "metadata": {},
   "source": [
    "**operator.indexOf(a, b)** — возвращает позицию первого вхождения *b* в последовательности *a*."
   ]
  },
  {
   "cell_type": "code",
   "execution_count": null,
   "metadata": {},
   "outputs": [],
   "source": [
    "print('Операторы поиска:\\n')\n",
    "show_func(\n",
    "            (operator.contains, operator.countOf, operator.indexOf),\n",
    "            (a, 3),\n",
    "            (b, 'b')\n",
    "    )"
   ]
  },
  {
   "cell_type": "markdown",
   "metadata": {},
   "source": [
    "#### Операторы, которые предоставляют доступ к элементам"
   ]
  },
  {
   "cell_type": "markdown",
   "metadata": {},
   "source": [
    "**operator.getitem(a, b)** — возвращает значение элемента на позиции *b* в последовательности *a*."
   ]
  },
  {
   "cell_type": "markdown",
   "metadata": {},
   "source": [
    "**operator.setitem(a, b, c)** — меняет значение элемента, который находится на позиции *b* на значение *c* в последовательности *a*. В случае словаря мы будем менять значение, а не ключ. Перезаписывает последовательность *а*."
   ]
  },
  {
   "cell_type": "code",
   "execution_count": null,
   "metadata": {},
   "outputs": [],
   "source": [
    "print('Операторы, которые предоставляют доступ к элементам:\\n')\n",
    "print(f'getitem{b, 1}:', operator.getitem(b, 1))                            # можно забирать\n",
    "                                                                            # позиции\n",
    "print(f'getitem{a, slice(1, 3, 1)}:', operator.getitem(a, slice(1, 3)))     # и срезы\n",
    "\n",
    "print(f'setitem{b, 1}:', operator.setitem(b, 1, 'a'), b)\n",
    "print(f'setitem{a, slice(1, 3, 1), [-10, 10]}:', operator.setitem(a, slice(1, 3), [-10, 10]), a)"
   ]
  },
  {
   "cell_type": "markdown",
   "metadata": {},
   "source": [
    "**operator.delitem(a, b)** — удаляет элемент на позиции *b* в последовательности *a*. Перезаписывает последовательность *а*."
   ]
  },
  {
   "cell_type": "code",
   "execution_count": null,
   "metadata": {},
   "outputs": [],
   "source": [
    "print(f'delitem{b, 1}: {b} {operator.delitem(b, 1)} {b}')\n",
    "print(f'delitem{a, slice(1, 3, 1)}: {a} {operator.delitem(a, slice(1, 3, 1))} {a}')"
   ]
  },
  {
   "cell_type": "markdown",
   "metadata": {},
   "source": [
    "### Операторы, изменяющие операнды"
   ]
  },
  {
   "cell_type": "markdown",
   "metadata": {},
   "source": [
    "**operator.iadd(a, b)** — **a = operator.add(a, b)** - эквивалентно *a* += *b*."
   ]
  },
  {
   "cell_type": "code",
   "execution_count": null,
   "metadata": {},
   "outputs": [],
   "source": [
    "help(operator.iadd)                                     # крутые документации продолжаются\n",
    "                                                        # лучше в данном случае и не сказать :)"
   ]
  },
  {
   "cell_type": "markdown",
   "metadata": {},
   "source": [
    "**operator.iconcat(a, b)** — **a = operator.concat(a, b)** - эквивалентно *a* += *b* для последовательностей."
   ]
  },
  {
   "cell_type": "code",
   "execution_count": null,
   "metadata": {},
   "outputs": [],
   "source": [
    "help(operator.iconcat)                                 # спасибо, дядюшка Гвидо - ты лучший!"
   ]
  },
  {
   "cell_type": "code",
   "execution_count": null,
   "metadata": {},
   "outputs": [],
   "source": [
    "a = 1\n",
    "b = 5.0\n",
    "c = [1, 2, 3]\n",
    "d = ['a', 'b', 'c']"
   ]
  },
  {
   "cell_type": "code",
   "execution_count": null,
   "metadata": {},
   "outputs": [],
   "source": [
    "a = operator.iadd(a, b)\n",
    "a"
   ]
  },
  {
   "cell_type": "code",
   "execution_count": null,
   "metadata": {},
   "outputs": [],
   "source": [
    "c = operator.iconcat(c, d)\n",
    "c"
   ]
  },
  {
   "cell_type": "markdown",
   "metadata": {},
   "source": [
    "### Функции доступа к элементам и атрибутам"
   ]
  },
  {
   "cell_type": "markdown",
   "metadata": {},
   "source": [
    "Одна из наиболее необычных возможностей, предлагаемых модулем **operator**, связана c понятием “получателей свойств” (getters). Это понятие относится к вызываемым объектам, которые создаются во время выполнения программы и предназначены для получения атрибутов объектов или содержимого последовательностей. Получатели свойств особенно полезны при работе c итераторами или генераторами последовательностей, <u><i> поскольку работают быстрее и потребляют меньше памяти</i></u>, чем лямбда-функции и функции Python."
   ]
  },
  {
   "cell_type": "markdown",
   "metadata": {},
   "source": [
    "**operator.attrgetter(\\*attrs)** — возвращает вызываемый объект, который извлекает *attrs* из своего операнда. Если запрошено более одного атрибута, возвращает кортеж атрибутов. Имена атрибутов также могут содержать точки."
   ]
  },
  {
   "cell_type": "code",
   "execution_count": null,
   "metadata": {},
   "outputs": [],
   "source": [
    "class MyObject:\n",
    "    \n",
    "    ''' Образец класса для operator.attrgetter '''\n",
    "    \n",
    "    def __init__(self, arg):\n",
    "        self.arg = arg\n",
    "        self.factorial_arg = factorial(arg)\n",
    "\n",
    "    def __repr__(self):                                   # чтобы у нас не печаталось при\n",
    "        return f'MyObject{self.arg, self.factorial_arg}'  # объявлении страшное:\n",
    "                                                   # <__main__.MyObject object at 0x7fd150370d30>\n",
    "                                                   # мы используем атрибут repr (magic method)"
   ]
  },
  {
   "cell_type": "code",
   "execution_count": null,
   "metadata": {},
   "outputs": [],
   "source": [
    "objects = [MyObject(_) for _ in range(5)]\n",
    "print('Objects:', objects)"
   ]
  },
  {
   "cell_type": "code",
   "execution_count": null,
   "metadata": {},
   "outputs": [],
   "source": [
    "g = operator.attrgetter('arg', 'factorial_arg')\n",
    "vals = [g(_) for _ in objects]\n",
    "print('attr values:', vals)"
   ]
  },
  {
   "cell_type": "code",
   "execution_count": null,
   "metadata": {},
   "outputs": [],
   "source": [
    "objects.reverse()                              # переварачиваем лист с нашими объектами\n",
    "print('reversed:', objects)                    \n",
    "print('sorted:', sorted(objects, key = g))     # сортируем список с объектами по оператору g\n",
    "                                               # т.е. по атрибутам"
   ]
  },
  {
   "cell_type": "markdown",
   "metadata": {},
   "source": [
    "**operator.itemgetter(\\*items)** — возвращает вызываемый объект, который извлекает элемент из своего операнда, используя метод операнда __getitem __ ()."
   ]
  },
  {
   "cell_type": "code",
   "execution_count": null,
   "metadata": {
    "scrolled": true
   },
   "outputs": [],
   "source": [
    "operator.itemgetter('name')({'name': 'Gvido', 'age': 64})"
   ]
  },
  {
   "cell_type": "markdown",
   "metadata": {},
   "source": [
    "*Пример с словарями:*"
   ]
  },
  {
   "cell_type": "code",
   "execution_count": null,
   "metadata": {},
   "outputs": [],
   "source": [
    "list_of_dicts = [dict(value = -_, fact = factorial(_)) for _ in range(4)]\n",
    "print('Изначальный список:', list_of_dicts)\n",
    "\n",
    "g = operator.itemgetter('value')\n",
    "vals = [g(_) for _ in list_of_dicts]            # list(map(lambda _: _['value'], list_of_dicts))\n",
    "print('values:', vals)\n",
    "print('sorted:', sorted(list_of_dicts, key = g))"
   ]
  },
  {
   "cell_type": "markdown",
   "metadata": {},
   "source": [
    "*Пример с кортежами:*"
   ]
  },
  {
   "cell_type": "code",
   "execution_count": null,
   "metadata": {},
   "outputs": [],
   "source": [
    "list_of_tuples = [(_, -2 * _) for _ in range(4)]\n",
    "print('Изначальный список:', list_of_tuples)\n",
    "\n",
    "g = operator.itemgetter(1)\n",
    "vals = [g(_) for _ in list_of_tuples]\n",
    "print('values:', vals)\n",
    "print('sorted:', sorted(list_of_tuples, key = g))"
   ]
  },
  {
   "cell_type": "markdown",
   "metadata": {},
   "source": [
    "## contextlib: утилиты менеджеров контекста"
   ]
  },
  {
   "cell_type": "markdown",
   "metadata": {},
   "source": [
    "[*ссылка на все методы в модуле contextlib*](https://docs.python.org/3/library/contextlib.html)"
   ]
  },
  {
   "cell_type": "markdown",
   "metadata": {},
   "source": [
    "Модуль **contextlib** содержит вспомогательные функции для работы c менеджерами контекста и инструкцией *with*."
   ]
  },
  {
   "cell_type": "markdown",
   "metadata": {},
   "source": [
    "### Да кто такой этот ваш контекст?"
   ]
  },
  {
   "cell_type": "markdown",
   "metadata": {},
   "source": [
    "**Менеджер контекста** — это специальный класс, в котором реализованы 2 специальных метода: **\\_\\_enter__()** и **\\_\\_exit__()**."
   ]
  },
  {
   "cell_type": "markdown",
   "metadata": {},
   "source": [
    "Менеджер контекста активизируется инструкцией *with*, а соответствующий API включает 2 метода: **\\_\\_enter__()** и **\\_\\_exit__()**."
   ]
  },
  {
   "cell_type": "code",
   "execution_count": null,
   "metadata": {},
   "outputs": [],
   "source": [
    "with open('example.txt', 'r') as f:                  # ← выполняется метод __enter__()\n",
    "    file = f.readline()\n",
    "                                                     # ← выполняется метод __exit__()\n",
    "file"
   ]
  },
  {
   "cell_type": "markdown",
   "metadata": {},
   "source": [
    "Напишем класс *Context* для того, чтобы более явно это продемонстрировать:"
   ]
  },
  {
   "cell_type": "code",
   "execution_count": null,
   "metadata": {},
   "outputs": [],
   "source": [
    "class Context:\n",
    "    \n",
    "    def __init__(self):\n",
    "        print('\\t __init__()')\n",
    "    \n",
    "    def __enter__(self):\n",
    "        print('\\t __enter__()')\n",
    "        return self\n",
    "    \n",
    "    def __exit__(self, exc_type, exc_val, exc_tb):\n",
    "        print('\\t __exit__()')\n",
    "        return self"
   ]
  },
  {
   "cell_type": "code",
   "execution_count": null,
   "metadata": {},
   "outputs": [],
   "source": [
    "with Context():\n",
    "    print('Я что-нибудь делаю в этом контексте')"
   ]
  },
  {
   "cell_type": "markdown",
   "metadata": {},
   "source": [
    "Так же можно создать новый объект, который будет возвращаться методом **\\_\\_enter__()** и который будет иметь свой набор методов."
   ]
  },
  {
   "cell_type": "code",
   "execution_count": null,
   "metadata": {},
   "outputs": [],
   "source": [
    "class WithinContext:\n",
    "    \n",
    "    def __init__(self, context):\n",
    "        print(f'\\t WithinContext.__init__({context})')\n",
    "    \n",
    "    def do_something(self):\n",
    "        print('\\t WithinContext.do_something()')"
   ]
  },
  {
   "cell_type": "code",
   "execution_count": null,
   "metadata": {},
   "outputs": [],
   "source": [
    "class Context:\n",
    "    \n",
    "    def __init__(self):\n",
    "        print('\\t Context.__init__()')\n",
    "    \n",
    "    def __enter__(self):\n",
    "        print('\\t Context.__enter__()')\n",
    "        return WithinContext(self)\n",
    "    \n",
    "    def __exit__(self, exc_type, exc_val, exc_tb):\n",
    "        print('\\t Context.__exit__()')"
   ]
  },
  {
   "cell_type": "code",
   "execution_count": null,
   "metadata": {},
   "outputs": [],
   "source": [
    "with Context() as c:\n",
    "    c.do_something()"
   ]
  },
  {
   "cell_type": "markdown",
   "metadata": {},
   "source": [
    "Метод **\\_\\_exit__()** получает аргументы, которые содержат подробную информацию о любом исключении, возникающему в пределах блока *with*."
   ]
  },
  {
   "cell_type": "code",
   "execution_count": null,
   "metadata": {},
   "outputs": [],
   "source": [
    "class Context:\n",
    "    \n",
    "    def __init__(self, handle_error):\n",
    "        print(f'\\t __init__({handle_error})')\n",
    "        self.handle_error = handle_error\n",
    "    \n",
    "    def __enter__(self):\n",
    "        print('\\t __enter__()')\n",
    "        return self\n",
    "    \n",
    "    def __exit__(self, exc_type, exc_val, exc_tb):\n",
    "        print('\\t __exit__()')\n",
    "        print('exc_type =', exc_type)\n",
    "        print('exc_val =', exc_val)\n",
    "        print('exc_tb =', exc_tb)\n",
    "        return self.handle_error"
   ]
  },
  {
   "cell_type": "markdown",
   "metadata": {},
   "source": [
    "Если менеджер контекста может обрабатывать исключения, то метод **\\_\\_exit__()** должен возвращать истинное значение, указывающее на то, что исключение не должно вываливаться. Если возвращается ложное значение в методе **\\_\\_exit__()**, то это приводит к повторному возбуждению исключения после выхода из метода **\\_\\_exit__()**."
   ]
  },
  {
   "cell_type": "code",
   "execution_count": null,
   "metadata": {},
   "outputs": [],
   "source": [
    "with Context(True):\n",
    "    raise RuntimeError('Мы обработали исключение в методе __exit__()')"
   ]
  },
  {
   "cell_type": "code",
   "execution_count": null,
   "metadata": {},
   "outputs": [],
   "source": [
    "with Context(False):\n",
    "    raise RuntimeError('Мы НЕ обработали исключение в методе __exit__()')"
   ]
  },
  {
   "cell_type": "markdown",
   "metadata": {},
   "source": [
    "### Менеджеры контекста как декораторы функций"
   ]
  },
  {
   "cell_type": "markdown",
   "metadata": {},
   "source": [
    "Класс **ContextDecorator** добавляет в класс контекстного менеджера поддержку, позволяющую использовать его не только в качетсве менеджера контекста, но и в качестве декоратора функции."
   ]
  },
  {
   "cell_type": "code",
   "execution_count": null,
   "metadata": {},
   "outputs": [],
   "source": [
    "import contextlib"
   ]
  },
  {
   "cell_type": "code",
   "execution_count": null,
   "metadata": {},
   "outputs": [],
   "source": [
    "class Context(contextlib.ContextDecorator):\n",
    "    \n",
    "    def __init__(self, how_used):\n",
    "        self.how_used = how_used\n",
    "        print(f'\\t __init__({how_used})')\n",
    "    \n",
    "    def __enter__(self):\n",
    "        print(f'\\t __enter__({self.how_used})')\n",
    "        return self\n",
    "    \n",
    "    def __exit__(self, exc_type, exc_val, exc_tb):\n",
    "        print(f'\\t __exit__({self.how_used})')"
   ]
  },
  {
   "cell_type": "code",
   "execution_count": null,
   "metadata": {},
   "outputs": [],
   "source": [
    "@Context('контекст как декоратор')\n",
    "def example(x):\n",
    "    print(x)"
   ]
  },
  {
   "cell_type": "code",
   "execution_count": null,
   "metadata": {},
   "outputs": [],
   "source": [
    "example('конекст как декоратор')"
   ]
  },
  {
   "cell_type": "code",
   "execution_count": null,
   "metadata": {},
   "outputs": [],
   "source": [
    "with Context('контекст как менеджер'):\n",
    "    print('Мы тут что-то делаем в контексте')"
   ]
  },
  {
   "cell_type": "markdown",
   "metadata": {},
   "source": [
    "### От генератора к менеджеру контекста"
   ]
  },
  {
   "cell_type": "markdown",
   "metadata": {},
   "source": [
    "Пока мы научились создавать менеджеры контекстов только традиционным способом, но каждый раз писать такую конструкцию просто лень, поэтому в модуле предусмотрен декоратор **@contextlib.contextmanager**, который преобразует функцию-генератор в менеджер контекста."
   ]
  },
  {
   "cell_type": "code",
   "execution_count": null,
   "metadata": {},
   "outputs": [],
   "source": [
    "@contextlib.contextmanager\n",
    "def make_context():\n",
    "    print('\\t enter')\n",
    "    try:\n",
    "        yield {}\n",
    "    except RuntimeError as err:\n",
    "        print('Error:', err)\n",
    "    finally:\n",
    "        print('\\t exiting')"
   ]
  },
  {
   "cell_type": "markdown",
   "metadata": {},
   "source": [
    "Нормальная работа менеджера контекста через функцию-генератор:"
   ]
  },
  {
   "cell_type": "code",
   "execution_count": null,
   "metadata": {},
   "outputs": [],
   "source": [
    "with make_context() as value:\n",
    "    print('Тут что-то должно происходить:', value)"
   ]
  },
  {
   "cell_type": "markdown",
   "metadata": {},
   "source": [
    "Обработка исключения менеджера контекста через функцию-генератор:"
   ]
  },
  {
   "cell_type": "code",
   "execution_count": null,
   "metadata": {},
   "outputs": [],
   "source": [
    "with make_context() as value:\n",
    "    raise RuntimeError('Пример обработки исключения')"
   ]
  },
  {
   "cell_type": "markdown",
   "metadata": {},
   "source": [
    "Вываливаемся с исключением через функцию-генератор:"
   ]
  },
  {
   "cell_type": "code",
   "execution_count": null,
   "metadata": {},
   "outputs": [],
   "source": [
    "with make_context() as value:\n",
    "    raise ValueError('Пример вываливания с исключением')"
   ]
  },
  {
   "cell_type": "markdown",
   "metadata": {},
   "source": [
    "Так же стоит отметить, что процесс, который обращается к открытому файлу, закрывается независимо от того, возникла или не возникла ошибка в блоке *with*."
   ]
  },
  {
   "cell_type": "markdown",
   "metadata": {},
   "source": [
    "### Игнорирование исключений"
   ]
  },
  {
   "cell_type": "markdown",
   "metadata": {},
   "source": [
    "**Задача:** надо написать программу так, чтобы она игнорировала абсолютно все исключения."
   ]
  },
  {
   "cell_type": "markdown",
   "metadata": {},
   "source": [
    "*1 вариант решения (классический):*"
   ]
  },
  {
   "cell_type": "code",
   "execution_count": null,
   "metadata": {},
   "outputs": [],
   "source": [
    "class NonFatalError(Exception):\n",
    "    pass\n",
    "\n",
    "def non_idempotent_operation():                                 # операция, которая всё ломает\n",
    "    raise NonFatalError('Некорректное значение, которое всё ломает')\n",
    "\n",
    "try:\n",
    "    print('Пытаемся тут сделать что-то ужастное и проигнорировать исключение')\n",
    "    non_idempotent_operation()\n",
    "    print('Удалось что-то выполнить!')\n",
    "except NonFatalError:\n",
    "    pass"
   ]
  },
  {
   "cell_type": "markdown",
   "metadata": {},
   "source": [
    "Но конструкцию **try:except** можно заменить формой **context.suppress(\\*exceptions)** для более явного подавления класса исключений, возникающих в пределах конструкции *with*."
   ]
  },
  {
   "cell_type": "markdown",
   "metadata": {},
   "source": [
    "*2 вариант решения:*"
   ]
  },
  {
   "cell_type": "code",
   "execution_count": null,
   "metadata": {},
   "outputs": [],
   "source": [
    "class NonFatalError(Exception):\n",
    "    pass\n",
    "\n",
    "def non_idempotent_operation():                                 # операция, которая всё ломает\n",
    "    raise NonFatalError('Некорректное значение, которое всё ломает')\n",
    "\n",
    "with contextlib.suppress(NonFatalError):\n",
    "    print('Пытаемся тут сделать что-то ужастное и проигнорировать исключение')\n",
    "    non_idempotent_operation()\n",
    "    print('Удалось что-то выполнить!')"
   ]
  },
  {
   "cell_type": "markdown",
   "metadata": {},
   "source": [
    "И я бы даже сказал, что это выглядит более читабельно и красиво"
   ]
  },
  {
   "cell_type": "markdown",
   "metadata": {},
   "source": [
    "### Стеки динамичестких менеджеров контекста"
   ]
  },
  {
   "cell_type": "markdown",
   "metadata": {},
   "source": [
    "Большинство менеджеров контекста работает каждый раз с одним объектом таким как одиночный файл (дескриптор одиночного файла) или база данных. В таких случях объект известен заранее, и код, использующий менеджер контекста, может центрироваться вокруг этого объекта. Однако в других случаях программа может нуждаться в создании неизвестного количества объектов, для которых необходимо предусмотреть освобождение неиспользуемых ресурсов при покидании контекста. Именно для таких динамических случаев и создавался стек **ExitStack**."
   ]
  },
  {
   "cell_type": "code",
   "execution_count": null,
   "metadata": {},
   "outputs": [],
   "source": [
    "@contextlib.contextmanager\n",
    "def make_context(i):                                            # будем создавать i контекстов\n",
    "    print(f'\\t context number {i} __entering__')\n",
    "    yield {}\n",
    "    print(f'\\t context number {i} __exiting__')\n",
    "\n",
    "def variable_stack(n):\n",
    "    with contextlib.ExitStack() as stack:\n",
    "        for i in range(1, n + 1):\n",
    "            stack.enter_context(make_context(i))\n",
    "        print('Что-то делаем в контекстах')\n",
    "\n",
    "variable_stack(2)"
   ]
  },
  {
   "cell_type": "markdown",
   "metadata": {},
   "source": [
    "Это может быть полезно, когда надо открыть сразу несколько вложенных контекстов."
   ]
  }
 ],
 "metadata": {
  "kernelspec": {
   "display_name": "Python 3",
   "language": "python",
   "name": "python3"
  },
  "language_info": {
   "codemirror_mode": {
    "name": "ipython",
    "version": 3
   },
   "file_extension": ".py",
   "mimetype": "text/x-python",
   "name": "python",
   "nbconvert_exporter": "python",
   "pygments_lexer": "ipython3",
   "version": "3.8.2"
  }
 },
 "nbformat": 4,
 "nbformat_minor": 4
}

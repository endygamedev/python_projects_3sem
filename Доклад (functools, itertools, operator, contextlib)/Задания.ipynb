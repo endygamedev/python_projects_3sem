{
 "cells": [
  {
   "cell_type": "markdown",
   "metadata": {},
   "source": [
    "# Задания"
   ]
  },
  {
   "cell_type": "markdown",
   "metadata": {},
   "source": [
    "*Перед выполнением заданий ещё раз просмотрите доклад!*"
   ]
  },
  {
   "cell_type": "markdown",
   "metadata": {},
   "source": [
    "<img src = \"https://pbs.twimg.com/media/D0SKMCcWsAEy1OM.jpg:large\" width = 500 />"
   ]
  },
  {
   "cell_type": "markdown",
   "metadata": {},
   "source": [
    "## Задание 1\n",
    "С помощью методов **itertools.compress** и **itertools.cycle** создать список чётных чисел в интервале [0; 10]."
   ]
  },
  {
   "cell_type": "code",
   "execution_count": null,
   "metadata": {},
   "outputs": [],
   "source": [
    "import itertools\n",
    "\n",
    "\n",
    "def even_nums():\n",
    "    pass\n",
    "\n",
    "\n",
    "assert even_nums() == [0, 2, 4, 6, 8, 10]"
   ]
  },
  {
   "cell_type": "markdown",
   "metadata": {},
   "source": [
    "## Задание 2"
   ]
  },
  {
   "cell_type": "markdown",
   "metadata": {},
   "source": [
    "Реализовать функцию **from_digits**, которая с помощью метода **functools.reduce** превращает список цифр в число. Аргумент функции **from_digits** — *digits* обязательно должен быть ключевым. <br><br>\n",
    "**Тесты:**\n",
    "\n",
    "**from_digits(digits = [1, 0, 2])** → *102*\n",
    "\n",
    "**from_digits(digits = [3, 2, 1, 4, 5, 7])** → *321457*\n",
    "\n",
    "**from_digits(digits = [])** → \"Error: 'Список цифр должен быть не пуст!'\"\n"
   ]
  },
  {
   "cell_type": "code",
   "execution_count": null,
   "metadata": {},
   "outputs": [],
   "source": [
    "import functools\n",
    "\n",
    "\n",
    "def from_digits():\n",
    "    pass\n",
    "\n",
    "\n",
    "assert from_digits(digits = [1, 0, 2]) == 102\n",
    "assert from_digits(digits = [3, 2, 1, 4, 5, 7]) == 321457\n",
    "assert from_digits(digits = []) == \"Error: 'Список цифр должен быть не пуст!'\""
   ]
  },
  {
   "cell_type": "markdown",
   "metadata": {},
   "source": [
    "## Задание 3"
   ]
  },
  {
   "cell_type": "markdown",
   "metadata": {},
   "source": [
    "С помощью метода из модуля **operator** создайте функцию, которая отсортирует словарь по возрастанию его значений <br><br>\n",
    "\n",
    "**Тесты:**\n",
    "\n",
    "**sort_dict({1: -10, 2: 10, 3: 0})** → *{1: -10, 3: 0, 2: 10}*\n",
    "\n",
    "**sort_dict({1: -1, 2: -2, 3: -6})** → *{3: -6, 2: -2, 1: -1}*\n",
    "\n",
    "**sort_dict({})** → *{}*"
   ]
  },
  {
   "cell_type": "code",
   "execution_count": null,
   "metadata": {},
   "outputs": [],
   "source": [
    "import operator\n",
    "\n",
    "\n",
    "def sort_dict():\n",
    "    pass\n",
    "\n",
    "\n",
    "assert sort_dict({1: -10, 2: 10, 3: 0}) == {1: -10, 3: 0, 2: 10}\n",
    "assert sort_dict({1: -1, 2: -2, 3: -6}) == {3: -6, 2: -2, 1: -1}\n",
    "assert sort_dict({}) == {}"
   ]
  }
 ],
 "metadata": {
  "kernelspec": {
   "display_name": "Python 3",
   "language": "python",
   "name": "python3"
  },
  "language_info": {
   "codemirror_mode": {
    "name": "ipython",
    "version": 3
   },
   "file_extension": ".py",
   "mimetype": "text/x-python",
   "name": "python",
   "nbconvert_exporter": "python",
   "pygments_lexer": "ipython3",
   "version": "3.8.2"
  }
 },
 "nbformat": 4,
 "nbformat_minor": 4
}

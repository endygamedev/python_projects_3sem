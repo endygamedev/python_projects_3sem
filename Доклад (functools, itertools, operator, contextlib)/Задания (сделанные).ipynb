{
 "cells": [
  {
   "cell_type": "markdown",
   "metadata": {},
   "source": [
    "<a href=\"https://colab.research.google.com/drive/1YPY_SLuU_Y0NhtWRT8rvLg7vYCyVUROz?usp=sharing\" target=\"_blank\"><img align=\"left\" src=\"https://colab.research.google.com/assets/colab-badge.svg\" alt=\"Open in Colab\" title=\"Open and Execute in Google Colaboratory\"></a>"
   ]
  },
  {
   "cell_type": "markdown",
   "metadata": {},
   "source": [
    "*Перед выполнением заданий ещё раз просмотрите доклад*"
   ]
  },
  {
   "cell_type": "markdown",
   "metadata": {},
   "source": [
    "## Задание 1\n",
    "С помощью методов **itertools.compress** и **itertools.cycle** создать список чётных чисел в интервале [0; 10]."
   ]
  },
  {
   "cell_type": "code",
   "execution_count": null,
   "metadata": {},
   "outputs": [],
   "source": [
    "import itertools\n",
    "\n",
    "\n",
    "def even_nums():\n",
    "    return [_ for _ in itertools.compress(range(0, 11), itertools.cycle([True, False]))]\n",
    "\n",
    "\n",
    "assert even_nums() == [0, 2, 4, 6, 8, 10]"
   ]
  },
  {
   "cell_type": "markdown",
   "metadata": {},
   "source": [
    "## Задание 2"
   ]
  },
  {
   "cell_type": "markdown",
   "metadata": {},
   "source": [
    "Реализовать функцию **from_digits**, которая с помощью метода **functools.reduce** превращает список цифр в число. Аргумент функции **from_digits** — *digits* обязательно должен быть ключевым. <br><br>\n",
    "**Тесты:**\n",
    "\n",
    "**from_digits(digits = [1, 0, 2])** → *102*\n",
    "\n",
    "**from_digits(digits = [3, 2, 1, 4, 5, 7])** → *321457*\n",
    "\n",
    "**from_digits(digits = [])** → \"Error: 'Список цифр должен быть не пуст!'\"\n"
   ]
  },
  {
   "cell_type": "code",
   "execution_count": null,
   "metadata": {},
   "outputs": [],
   "source": [
    "import functools\n",
    "\n",
    "\n",
    "next_digit = lambda a, b: 10 * a + b\n",
    "\n",
    "def from_digits(*, digits: list) -> int:\n",
    "    msg = \"Error: 'Список цифр должен быть не пуст!'\"\n",
    "    try:\n",
    "        return functools.reduce(next_digit, digits)\n",
    "    except TypeError:\n",
    "        return msg\n",
    "\n",
    "\n",
    "assert from_digits(digits = [1, 0, 2]) == 102\n",
    "assert from_digits(digits = [3, 2, 1, 4, 5, 7]) == 321457\n",
    "assert from_digits(digits = []) == \"Error: 'Список цифр должен быть не пуст!'\""
   ]
  },
  {
   "cell_type": "markdown",
   "metadata": {},
   "source": [
    "## Задание 3"
   ]
  },
  {
   "cell_type": "markdown",
   "metadata": {},
   "source": [
    "С помощью метода из модуля **operator** создайте функцию, которая отсортирует словарь по возрастанию его значений. <br><br>\n",
    "\n",
    "**Тесты:**\n",
    "\n",
    "**sort_dict({1: -10, 2: 10, 3: 0})** → *{1: -10, 3: 0, 2: 10}*\n",
    "\n",
    "**sort_dict({1: -1, 2: -2, 3: -6})** → *{3: -6, 2: -2, 1: -1}*\n",
    "\n",
    "**sort_dict({})** → *{}*"
   ]
  },
  {
   "cell_type": "code",
   "execution_count": null,
   "metadata": {},
   "outputs": [],
   "source": [
    "import operator\n",
    "\n",
    "\n",
    "def sort_dict(d: dict) -> dict:\n",
    "    return dict(sorted(d.items(), key = operator.itemgetter(1)))\n",
    "\n",
    "\n",
    "assert sort_dict({1: -10, 2: 10, 3: 0}) == {1: -10, 3: 0, 2: 10}\n",
    "assert sort_dict({1: -1, 2: -2, 3: -6}) == {3: -6, 2: -2, 1: -1}\n",
    "assert sort_dict({}) == {}"
   ]
  }
 ],
 "metadata": {
  "kernelspec": {
   "display_name": "Python 3",
   "language": "python",
   "name": "python3"
  },
  "language_info": {
   "codemirror_mode": {
    "name": "ipython",
    "version": 3
   },
   "file_extension": ".py",
   "mimetype": "text/x-python",
   "name": "python",
   "nbconvert_exporter": "python",
   "pygments_lexer": "ipython3",
   "version": "3.8.2"
  }
 },
 "nbformat": 4,
 "nbformat_minor": 4
}

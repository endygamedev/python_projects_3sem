{
 "cells": [
  {
   "cell_type": "markdown",
   "metadata": {},
   "source": [
    "<h1 align = 'center'> <font size = '16' face = 'times new roman' color = '#205'>  Модуль os.path и pathlib </font> </h1>"
   ]
  },
  {
   "cell_type": "markdown",
   "metadata": {},
   "source": [
    "<h1 align = 'center'> <font size = '14' face = 'times new roman' color = '#205'>  Модуль os.path </font> </h1>"
   ]
  },
  {
   "cell_type": "markdown",
   "metadata": {},
   "source": [
    "**Os.path** является вложенным модулем в модуль os, и реализует некоторые полезные функции для работы с путями к файлам и папкам."
   ]
  },
  {
   "cell_type": "markdown",
   "metadata": {},
   "source": [
    "<h1 align = 'center'> <font size = '6' face = 'times new roman' color = '#205'>  Функции </font> </h1>"
   ]
  },
  {
   "cell_type": "markdown",
   "metadata": {},
   "source": [
    "os.path.**abspath(path)** возвращает полный пуль до папки или файла."
   ]
  },
  {
   "cell_type": "code",
   "execution_count": 12,
   "metadata": {},
   "outputs": [
    {
     "data": {
      "text/plain": [
       "'C:\\\\Users\\\\think\\\\semestr3_python'"
      ]
     },
     "execution_count": 12,
     "metadata": {},
     "output_type": "execute_result"
    }
   ],
   "source": [
    "import os\n",
    "os.path.abspath(\"semestr3_python\")"
   ]
  },
  {
   "cell_type": "markdown",
   "metadata": {},
   "source": [
    "os.path.**isabs(path)** проверяет путь на абсолютность."
   ]
  },
  {
   "cell_type": "code",
   "execution_count": 47,
   "metadata": {},
   "outputs": [
    {
     "data": {
      "text/plain": [
       "True"
      ]
     },
     "execution_count": 47,
     "metadata": {},
     "output_type": "execute_result"
    }
   ],
   "source": [
    "os.path.isabs('C:\\\\Users\\\\think\\\\semestr3_python')"
   ]
  },
  {
   "cell_type": "markdown",
   "metadata": {},
   "source": [
    "os.path.**expanduser(username)** возвращает путь к пользовательской папке."
   ]
  },
  {
   "cell_type": "code",
   "execution_count": 30,
   "metadata": {},
   "outputs": [
    {
     "data": {
      "text/plain": [
       "'C:\\\\Users\\\\think'"
      ]
     },
     "execution_count": 30,
     "metadata": {},
     "output_type": "execute_result"
    }
   ],
   "source": [
    "os.path.expanduser(\"~\")"
   ]
  },
  {
   "cell_type": "markdown",
   "metadata": {},
   "source": [
    "## Получение имени файла или пути"
   ]
  },
  {
   "cell_type": "markdown",
   "metadata": {},
   "source": [
    "os.path.**basename(path)** возвращает строку, имя файла или папки."
   ]
  },
  {
   "cell_type": "code",
   "execution_count": 16,
   "metadata": {},
   "outputs": [
    {
     "data": {
      "text/plain": [
       "'semestr3_python'"
      ]
     },
     "execution_count": 16,
     "metadata": {},
     "output_type": "execute_result"
    }
   ],
   "source": [
    "os.path.basename(\"C:\\\\Users\\\\think\\\\my_project\\\\semestr3_python\")"
   ]
  },
  {
   "cell_type": "markdown",
   "metadata": {},
   "source": [
    "os.path.**dirname(path)** возвращает строку, путь к родительской папки файла."
   ]
  },
  {
   "cell_type": "code",
   "execution_count": 4,
   "metadata": {},
   "outputs": [
    {
     "data": {
      "text/plain": [
       "'C:\\\\Users\\\\think\\\\my_project'"
      ]
     },
     "execution_count": 4,
     "metadata": {},
     "output_type": "execute_result"
    }
   ],
   "source": [
    "os.path.dirname('C:\\\\Users\\\\think\\\\my_project\\\\semestr3_python')"
   ]
  },
  {
   "cell_type": "markdown",
   "metadata": {},
   "source": [
    "## Проверка существования пути"
   ]
  },
  {
   "cell_type": "markdown",
   "metadata": {},
   "source": [
    "os.path.**exists(path)** возвращает True/False, существует ли указанный путь в системе."
   ]
  },
  {
   "cell_type": "code",
   "execution_count": 11,
   "metadata": {},
   "outputs": [
    {
     "data": {
      "text/plain": [
       "True"
      ]
     },
     "execution_count": 11,
     "metadata": {},
     "output_type": "execute_result"
    }
   ],
   "source": [
    "os.path.exists(\"C:\\\\Users\\\\think\\\\my_project\\\\semestr3_python\")"
   ]
  },
  {
   "cell_type": "code",
   "execution_count": 15,
   "metadata": {},
   "outputs": [
    {
     "data": {
      "text/plain": [
       "False"
      ]
     },
     "execution_count": 15,
     "metadata": {},
     "output_type": "execute_result"
    }
   ],
   "source": [
    "os.path.exists(\"C:\\\\Users\\\\think\\\\semestr3_python\")"
   ]
  },
  {
   "cell_type": "markdown",
   "metadata": {},
   "source": [
    "os.path.**isfile(path)** проверяет указывает ли путь к файлу."
   ]
  },
  {
   "cell_type": "code",
   "execution_count": 35,
   "metadata": {},
   "outputs": [
    {
     "data": {
      "text/plain": [
       "True"
      ]
     },
     "execution_count": 35,
     "metadata": {},
     "output_type": "execute_result"
    }
   ],
   "source": [
    "os.path.isfile(\"C:\\\\Users\\\\think\\\\my_project\\\\semestr3_python\\\\Практика_по_докладам\\\\Доклад№8.ipynb\")"
   ]
  },
  {
   "cell_type": "code",
   "execution_count": 36,
   "metadata": {},
   "outputs": [
    {
     "data": {
      "text/plain": [
       "False"
      ]
     },
     "execution_count": 36,
     "metadata": {},
     "output_type": "execute_result"
    }
   ],
   "source": [
    "os.path.isfile(\"C:\\\\Users\\\\think\\\\my_project\\\\semestr3_python\\\\Практика_по_докладам\")"
   ]
  },
  {
   "cell_type": "markdown",
   "metadata": {},
   "source": [
    "os.path.**isdir(path)** возвращает True/False, является ли указанный путь каталогом."
   ]
  },
  {
   "cell_type": "code",
   "execution_count": 37,
   "metadata": {},
   "outputs": [
    {
     "data": {
      "text/plain": [
       "True"
      ]
     },
     "execution_count": 37,
     "metadata": {},
     "output_type": "execute_result"
    }
   ],
   "source": [
    "os.path.isdir(\"C:\\\\Users\\\\think\\\\my_project\\\\semestr3_python\\\\Практика_по_докладам\")"
   ]
  },
  {
   "cell_type": "code",
   "execution_count": 38,
   "metadata": {},
   "outputs": [
    {
     "data": {
      "text/plain": [
       "False"
      ]
     },
     "execution_count": 38,
     "metadata": {},
     "output_type": "execute_result"
    }
   ],
   "source": [
    "os.path.isdir(\"C:\\\\Users\\\\think\\\\my_project\\\\semestr3_python\\\\Практика_по_докладам\\\\Доклад№8.ipynb\")"
   ]
  },
  {
   "cell_type": "markdown",
   "metadata": {},
   "source": [
    "## Получение информации о времени или дате"
   ]
  },
  {
   "cell_type": "markdown",
   "metadata": {},
   "source": [
    "os.path.**getatime(path)** возвращает время последнего доступа к файлу или папке в виде количества секунд, прошедших с начала эпохи."
   ]
  },
  {
   "cell_type": "code",
   "execution_count": 27,
   "metadata": {},
   "outputs": [
    {
     "data": {
      "text/plain": [
       "1602614260.8881388"
      ]
     },
     "execution_count": 27,
     "metadata": {},
     "output_type": "execute_result"
    }
   ],
   "source": [
    "os.path.getatime(\"C:\\\\Users\\\\think\\\\my_project\\\\semestr3_python\\\\\")"
   ]
  },
  {
   "cell_type": "markdown",
   "metadata": {},
   "source": [
    "os.path.**getctime(path)** возвращает дату создания файла или папки в виде количества секунд, прошедших с начала эпохи."
   ]
  },
  {
   "cell_type": "code",
   "execution_count": 25,
   "metadata": {},
   "outputs": [
    {
     "data": {
      "text/plain": [
       "1602611822.5997217"
      ]
     },
     "execution_count": 25,
     "metadata": {},
     "output_type": "execute_result"
    }
   ],
   "source": [
    "os.path.getctime(\"C:\\\\Users\\\\think\\\\my_project\\\\semestr3_python\")"
   ]
  },
  {
   "cell_type": "markdown",
   "metadata": {},
   "source": [
    "os.path.**getmtime(path)** возвращает время последнего внесения изменения в файл или папку в виде количества секунд, прошедших с начала эпохи."
   ]
  },
  {
   "cell_type": "code",
   "execution_count": 26,
   "metadata": {},
   "outputs": [
    {
     "data": {
      "text/plain": [
       "1602615017.888399"
      ]
     },
     "execution_count": 26,
     "metadata": {},
     "output_type": "execute_result"
    }
   ],
   "source": [
    "os.path.getmtime(\"C:\\\\Users\\\\think\\\\my_project\\\\semestr3_python\")"
   ]
  },
  {
   "cell_type": "markdown",
   "metadata": {},
   "source": [
    "## Вычисление размера"
   ]
  },
  {
   "cell_type": "markdown",
   "metadata": {},
   "source": [
    "os.path.**getsize(path)** возвращает размер файла или папки в байтах."
   ]
  },
  {
   "cell_type": "code",
   "execution_count": 28,
   "metadata": {},
   "outputs": [
    {
     "data": {
      "text/plain": [
       "4096"
      ]
     },
     "execution_count": 28,
     "metadata": {},
     "output_type": "execute_result"
    }
   ],
   "source": [
    "os.path.getsize(\"C:\\\\Users\\\\think\\\\my_project\\\\semestr3_python\\\\Практика_по_докладам\")"
   ]
  },
  {
   "cell_type": "markdown",
   "metadata": {},
   "source": [
    "## Обработка путей"
   ]
  },
  {
   "cell_type": "markdown",
   "metadata": {},
   "source": [
    "os.path.**join(path1,path2,..)** соединяет пути с учётом особенностей операционной системы."
   ]
  },
  {
   "cell_type": "code",
   "execution_count": 6,
   "metadata": {},
   "outputs": [
    {
     "data": {
      "text/plain": [
       "'C:\\\\Users\\\\think\\\\my_project\\\\semestr3_python\\\\Практика_по_докладам\\\\Доклад№8.ipynb'"
      ]
     },
     "execution_count": 6,
     "metadata": {},
     "output_type": "execute_result"
    }
   ],
   "source": [
    "os.path.join(\"C:\\\\\", \"Users\\\\think\\\\my_project\\\\\",\"semestr3_python\",\"Практика_по_докладам\\\\Доклад№8.ipynb\")"
   ]
  },
  {
   "cell_type": "markdown",
   "metadata": {},
   "source": [
    "os.path.**split(path)** возвращает пару из строк - (путь к родительской папке, название файла)."
   ]
  },
  {
   "cell_type": "code",
   "execution_count": 39,
   "metadata": {},
   "outputs": [
    {
     "data": {
      "text/plain": [
       "('C:\\\\Users\\\\think\\\\my_project\\\\semestr3_python\\\\Практика_по_докладам',\n",
       " 'Доклад№8.ipynb')"
      ]
     },
     "execution_count": 39,
     "metadata": {},
     "output_type": "execute_result"
    }
   ],
   "source": [
    "os.path.split(\"C:\\\\Users\\\\think\\\\my_project\\\\semestr3_python\\\\Практика_по_докладам\\\\Доклад№8.ipynb\")"
   ]
  },
  {
   "cell_type": "markdown",
   "metadata": {},
   "source": [
    "os.path.**splitdrive(path)** возвращает пару строк - (имя диска, остальная часть пути)."
   ]
  },
  {
   "cell_type": "code",
   "execution_count": 45,
   "metadata": {},
   "outputs": [
    {
     "data": {
      "text/plain": [
       "('C:',\n",
       " '\\\\Users\\\\think\\\\my_project\\\\semestr3_python\\\\Практика_по_докладам\\\\Доклад№8.ipynb')"
      ]
     },
     "execution_count": 45,
     "metadata": {},
     "output_type": "execute_result"
    }
   ],
   "source": [
    "os.path.splitdrive(\"C:\\\\Users\\\\think\\\\my_project\\\\semestr3_python\\\\Практика_по_докладам\\\\Доклад№8.ipynb\")"
   ]
  },
  {
   "cell_type": "markdown",
   "metadata": {},
   "source": [
    "os.path.**splitext(path)** возвращает пару строк - (путь к файлу без расширения, расширение файла)."
   ]
  },
  {
   "cell_type": "code",
   "execution_count": 46,
   "metadata": {},
   "outputs": [
    {
     "data": {
      "text/plain": [
       "('C:\\\\Users\\\\think\\\\my_project\\\\semestr3_python\\\\Практика_по_докладам\\\\Доклад№8',\n",
       " '.ipynb')"
      ]
     },
     "execution_count": 46,
     "metadata": {},
     "output_type": "execute_result"
    }
   ],
   "source": [
    "os.path.splitext(\"C:\\\\Users\\\\think\\\\my_project\\\\semestr3_python\\\\Практика_по_докладам\\\\Доклад№8.ipynb\")"
   ]
  },
  {
   "cell_type": "markdown",
   "metadata": {},
   "source": [
    "<h1 align = 'center'> <font size = '16' face = 'times new roman' color = '#205'>  Модуль pathlib </font> </h1>"
   ]
  },
  {
   "cell_type": "markdown",
   "metadata": {},
   "source": [
    "Модуль pathlib упрощает работу с файлами и папками. Pathlib сочетает в себе лучшее из модулей файловой системы Python - os, os.path, glob и так далее."
   ]
  },
  {
   "cell_type": "markdown",
   "metadata": {},
   "source": [
    "[Python official documentation](https://docs.python.org/3/library/pathlib.html)"
   ]
  },
  {
   "cell_type": "markdown",
   "metadata": {},
   "source": [
    "<h1 align = 'center'> <font size = '6' face = 'times new roman' color = '#205'>  Функции </font> </h1>"
   ]
  },
  {
   "cell_type": "markdown",
   "metadata": {},
   "source": [
    "Path.**cwd()** возвращает путь объекта текущей рабочей директории\n",
    "\n",
    "Path.**home()** возвращает путь объекта домашней директории"
   ]
  },
  {
   "cell_type": "code",
   "execution_count": 81,
   "metadata": {},
   "outputs": [
    {
     "name": "stdout",
     "output_type": "stream",
     "text": [
      "Current directory: C:\\Users\\think\n",
      "Home directory: C:\\Users\\think\n"
     ]
    }
   ],
   "source": [
    "print(f\"Current directory: {Path.cwd()}\")\n",
    "print(f\"Home directory: {Path.home()}\")"
   ]
  },
  {
   "cell_type": "markdown",
   "metadata": {},
   "source": [
    "Path.**stat()** возвращает информацию о пути"
   ]
  },
  {
   "cell_type": "code",
   "execution_count": 12,
   "metadata": {},
   "outputs": [
    {
     "data": {
      "text/plain": [
       "os.stat_result(st_mode=33206, st_ino=9288674231592095, st_dev=2731475245, st_nlink=1, st_uid=0, st_gid=0, st_size=1722, st_atime=1602612134, st_mtime=1601215944, st_ctime=1602612134)"
      ]
     },
     "execution_count": 12,
     "metadata": {},
     "output_type": "execute_result"
    }
   ],
   "source": [
    "from pathlib import Path\n",
    "path4=Path(\"C:\\\\Users\\\\think\\\\my_project\\\\semestr3_python\\\\Практика_по_докладам\\\\Доклад№8.ipynb\")\n",
    "path4.stat()"
   ]
  },
  {
   "cell_type": "markdown",
   "metadata": {},
   "source": [
    "Path.**chmod()** меняет режим и уровень доступа файла"
   ]
  },
  {
   "cell_type": "markdown",
   "metadata": {},
   "source": [
    "Path.**glob(pattern)** получение всех файлов которые соответствую паттерну, например *.jpg (все картинки) или *.mp3 (все песни)"
   ]
  },
  {
   "cell_type": "code",
   "execution_count": null,
   "metadata": {},
   "outputs": [],
   "source": [
    "path.glob('*.ipynb')"
   ]
  },
  {
   "cell_type": "markdown",
   "metadata": {},
   "source": [
    "Path.**mkdir()** создает новую папку по данному пути"
   ]
  },
  {
   "cell_type": "code",
   "execution_count": 86,
   "metadata": {},
   "outputs": [],
   "source": [
    "from pathlib import Path\n",
    "\n",
    "path = Path.cwd() / 'new1'\n",
    "\n",
    "path.mkdir()"
   ]
  },
  {
   "cell_type": "markdown",
   "metadata": {},
   "source": [
    "Path.**open()** открывает файл, созданный в пути"
   ]
  },
  {
   "cell_type": "markdown",
   "metadata": {},
   "source": [
    "Path.**rename()** переименовывает файл или директорию указанной цели"
   ]
  },
  {
   "cell_type": "code",
   "execution_count": null,
   "metadata": {},
   "outputs": [],
   "source": [
    "from pathlib import Path\n",
    "\n",
    "path = Path('names.txt')\n",
    "\n",
    "path.rename('mynames.txt')"
   ]
  },
  {
   "cell_type": "markdown",
   "metadata": {},
   "source": [
    "Path.**rmdir()** удаляет пустую директорию"
   ]
  },
  {
   "cell_type": "markdown",
   "metadata": {},
   "source": [
    "## Получение информации о пути"
   ]
  },
  {
   "cell_type": "markdown",
   "metadata": {},
   "source": [
    "**drive** - возвращается строка, представляющая название жесткого диска.\n",
    "\n",
    "**parts** - возвращает компоненты пути.\n",
    "\n",
    "**name** - возвращает компонент пути без директории.\n",
    "\n",
    "**parent** - обеспечивает доступ к логическим предкам пути.\n",
    "\n",
    "**stem** - финальный компонент пути без суффикса.\n",
    "\n",
    "**suffix** - разрешение файла финального компонента.\n",
    "\n",
    "**match(pattern)** - возвращает True/False, основываясь на совпадении пути с предоставленным шаблоном поиска."
   ]
  },
  {
   "cell_type": "markdown",
   "metadata": {},
   "source": [
    "Пусть у нас есть данный путь: C:\\\\Users\\\\think\\\\my_project\\\\semestr3_python\\\\Практика_по_докладам\\\\Доклад№8.ipynb"
   ]
  },
  {
   "cell_type": "code",
   "execution_count": 124,
   "metadata": {},
   "outputs": [
    {
     "name": "stdout",
     "output_type": "stream",
     "text": [
      "C:\n",
      "('C:\\\\', 'Users', 'think', 'my_project', 'semestr3_python', 'Практика_по_докладам', 'Доклад№8.ipynb')\n",
      "Доклад№8.ipynb\n",
      "C:\\Users\\think\\my_project\\semestr3_python\\Практика_по_докладам\n",
      "Доклад№8\n",
      ".ipynb\n",
      "True\n"
     ]
    }
   ],
   "source": [
    "path1 = \"C:\\\\Users\\\\think\\\\my_project\\\\semestr3_python\\\\Практика_по_докладам\\\\Доклад№8.ipynb\"\n",
    "print(Path(path1).drive)\n",
    "print(Path(path1).parts)\n",
    "print(Path(path1).name)\n",
    "print(Path(path1).parent)\n",
    "print(Path(path1).stem)\n",
    "print(Path(path1).suffix)\n",
    "print(Path(path1).match('*.ipynb'))"
   ]
  },
  {
   "cell_type": "markdown",
   "metadata": {},
   "source": [
    "## Чтение и запись файлов"
   ]
  },
  {
   "cell_type": "markdown",
   "metadata": {},
   "source": [
    "**read_text** файл открывается в текстовом режиме для чтения содержимого файла и его закрытия после чтения.\n",
    "\n",
    "**read_bytes** используется для открытия файла в бинарном режиме, возвращения содержимого в бинарном форме и последующего закрытия файла.\n",
    "\n",
    "**write_text** используется для открытия файла, записи туда текста и последующего закрытия.\n",
    "\n",
    "**write_bytes** используется для записи бинарных данных в файл и закрытия файла по завершении процесса."
   ]
  },
  {
   "cell_type": "markdown",
   "metadata": {},
   "source": [
    "# Практическое задание"
   ]
  },
  {
   "cell_type": "markdown",
   "metadata": {},
   "source": [
    "Используя модули os.path и pathlib, создать в текущей рабочей директории папку ***Path.example***, в данной папке создать тектовый файл ***ExampleTextFile***, в котором будет написано ***Образец данных для записи в файл***."
   ]
  }
 ],
 "metadata": {
  "kernelspec": {
   "display_name": "Python 3",
   "language": "python",
   "name": "python3"
  },
  "language_info": {
   "codemirror_mode": {
    "name": "ipython",
    "version": 3
   },
   "file_extension": ".py",
   "mimetype": "text/x-python",
   "name": "python",
   "nbconvert_exporter": "python",
   "pygments_lexer": "ipython3",
   "version": "3.7.4"
  }
 },
 "nbformat": 4,
 "nbformat_minor": 4
}

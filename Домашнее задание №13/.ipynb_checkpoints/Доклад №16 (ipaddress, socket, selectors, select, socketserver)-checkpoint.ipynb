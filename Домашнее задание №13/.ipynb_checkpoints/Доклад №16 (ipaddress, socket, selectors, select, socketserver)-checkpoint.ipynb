{
 "cells": [
  {
   "cell_type": "markdown",
   "metadata": {
    "id": "PAbf-Njr6L0Z"
   },
   "source": [
    "# Ipaddress"
   ]
  },
  {
   "cell_type": "markdown",
   "metadata": {
    "id": "FFn2fMne3YD5"
   },
   "source": [
    "Модуль ipaddress включает классы для работы c сетевыми адресами, соответствующими протоколам IPv4 и IPv6. Эти классы поддерживают проверку и поиск адресов и хостов в сети, а также другие часто используемые операции."
   ]
  },
  {
   "cell_type": "code",
   "execution_count": 1,
   "metadata": {
    "colab": {
     "base_uri": "https://localhost:8080/"
    },
    "id": "3_uDz1Z1wxjG",
    "outputId": "f8165998-0b76-4eea-9f9d-3cda8c1b86f2"
   },
   "outputs": [
    {
     "name": "stdout",
     "output_type": "stream",
     "text": [
      "IPv4Address('10.9.0.6')\n",
      " IP version: 4\n",
      " is private: True\n",
      " packed form: b'0a090006'\n",
      " integer: 168361990\n",
      "\n",
      "IPv6Address('fdfd:87b5:b475:5e3e:b1bc:e121:a8eb:14aa')\n",
      " IP version: 6\n",
      " is private: True\n",
      " packed form: b'fdfd87b5b4755e3eb1bce121a8eb14aa'\n",
      " integer: 337611086560236126439725644408160982186\n",
      "\n"
     ]
    }
   ],
   "source": [
    "import binascii\n",
    "import ipaddress\n",
    "ADDRESSES = [\n",
    "             '10.9.0.6',\n",
    "             'fdfd:87b5:b475:5e3e:b1bc:e121:a8eb:14aa',\n",
    "]\n",
    "for ip in ADDRESSES:\n",
    "    addr = ipaddress.ip_address(ip)\n",
    "    print('{!r}'.format(addr))\n",
    "    print(' IP version:', addr.version)\n",
    "    print(' is private:', addr.is_private)\n",
    "    print(' packed form:', binascii.hexlify(addr.packed))\n",
    "    print(' integer:', int(addr))\n",
    "    print()"
   ]
  },
  {
   "cell_type": "markdown",
   "metadata": {
    "id": "9jWw3JxW3O4P"
   },
   "source": [
    " Сеть определяется диапазоном адресов. Обычно диапазон адресов записывается в виде базового адреса и маски сети, указывающей, какие части адреса представляют сеть, а какие — адреса хостов в этой сети. Маска может быть выражена либо явным образом, либо c использованием системы обозначений “префикс/число битов”"
   ]
  },
  {
   "cell_type": "code",
   "execution_count": null,
   "metadata": {
    "colab": {
     "base_uri": "https://localhost:8080/"
    },
    "id": "N8NvBSXi3eS1",
    "outputId": "5e74e442-37b4-466e-f8b3-4f975de270e3"
   },
   "outputs": [
    {
     "name": "stdout",
     "output_type": "stream",
     "text": [
      "IPv4Network('10.9.0.0/24')\n",
      " is private: True\n",
      " broadcast: 10.9.0.255\n",
      " compressed: 10.9.0.0/24\n",
      " with netmask: 10.9.0.0/255.255.255.0\n",
      " with hostmask: 10.9.0.0/0.0.0.255\n",
      " num addresses: 256\n",
      "\n",
      "IPv6Network('fdfd:87b5:b475:5e3e::/64')\n",
      " is private: True\n",
      " broadcast: fdfd:87b5:b475:5e3e:ffff:ffff:ffff:ffff\n",
      " compressed: fdfd:87b5:b475:5e3e::/64\n",
      " with netmask: fdfd:87b5:b475:5e3e::/ffff:ffff:ffff:ffff::\n",
      " with hostmask: fdfd:87b5:b475:5e3e::/::ffff:ffff:ffff:ffff\n",
      " num addresses: 18446744073709551616\n",
      "\n"
     ]
    }
   ],
   "source": [
    "NETWORKS = [\n",
    "             '10.9.0.0/24',\n",
    "             'fdfd:87b5:b475:5e3e::/64',\n",
    "]\n",
    "\n",
    "for n in NETWORKS:\n",
    "    net = ipaddress.ip_network(n)\n",
    "    print('{!r}'.format(net))\n",
    "    print(' is private:', net.is_private)\n",
    "    print(' broadcast:', net.broadcast_address)\n",
    "    print(' compressed:', net.compressed)\n",
    "    print(' with netmask:', net.with_netmask)\n",
    "    print(' with hostmask:', net.with_hostmask)\n",
    "    print(' num addresses:', net.num_addresses)\n",
    "    print()"
   ]
  },
  {
   "cell_type": "markdown",
   "metadata": {
    "id": "a9TzCSMb41u9"
   },
   "source": [
    "Экземпляр сети является итерируемым объектом, который возвращает сетевые адреса."
   ]
  },
  {
   "cell_type": "code",
   "execution_count": null,
   "metadata": {
    "colab": {
     "base_uri": "https://localhost:8080/"
    },
    "id": "zTRjvAyq3wm3",
    "outputId": "ab025606-cb74-42a4-bfcf-4d695db433ae"
   },
   "outputs": [
    {
     "name": "stdout",
     "output_type": "stream",
     "text": [
      "IPv4Network('10.9.0.0/24')\n",
      "10.9.0.0\n",
      "10.9.0.1\n",
      "10.9.0.2\n",
      "\n",
      "IPv6Network('fdfd:87b5:b475:5e3e::/64')\n",
      "fdfd:87b5:b475:5e3e::\n",
      "fdfd:87b5:b475:5e3e::1\n",
      "fdfd:87b5:b475:5e3e::2\n",
      "\n"
     ]
    }
   ],
   "source": [
    "import ipaddress\n",
    "NETWORKS = [\n",
    "  '10.9.0.0/24',\n",
    "  'fdfd:87b5:b475:5e3e::/64',\n",
    "]\n",
    "for n in NETWORKS:\n",
    "    net = ipaddress.ip_network(n)\n",
    "    print('{!r}'.format(net))\n",
    "    for i, ip in zip(range(3), net):\n",
    "        print(ip)\n",
    "    print()"
   ]
  },
  {
   "cell_type": "markdown",
   "metadata": {
    "id": "dGAlWPM95z3G"
   },
   "source": [
    "Итерирование но экземпляру сети возвращает адреса, но не все они являются\n",
    "корректными адресами хостов. Например, в число этих адресов входят базовый и широковещательный адреса сети. Для нахождения адресов, которые могут ис-\n",
    "пользоваться обычными сетевыми хостами, следует использовать метод hosts(),возвращающий генератор."
   ]
  },
  {
   "cell_type": "code",
   "execution_count": 1,
   "metadata": {
    "colab": {
     "base_uri": "https://localhost:8080/"
    },
    "id": "Tv5FtPmk5Fvz",
    "outputId": "34aa1a50-9741-4a53-9bb4-82b6944c3656"
   },
   "outputs": [
    {
     "name": "stdout",
     "output_type": "stream",
     "text": [
      "IPv4Network('10.9.0.0/24')\n",
      "10.9.0.1\n",
      "10.9.0.2\n",
      "10.9.0.3\n",
      "\n",
      "IPv6Network('fdfd:87b5:b475:5e3e::/64')\n",
      "fdfd:87b5:b475:5e3e::1\n",
      "fdfd:87b5:b475:5e3e::2\n",
      "fdfd:87b5:b475:5e3e::3\n",
      "\n"
     ]
    }
   ],
   "source": [
    "import ipaddress\n",
    "NETWORKS = [\n",
    "  '10.9.0.0/24',\n",
    "  'fdfd:87b5:b475:5e3e::/64',\n",
    "]\n",
    "for n in NETWORKS:\n",
    "    net = ipaddress.ip_network(n)\n",
    "    print('{!r}'.format(net))\n",
    "    for i, ip in zip(range(3), net.hosts()):\n",
    "        print(ip)\n",
    "    print()"
   ]
  },
  {
   "cell_type": "markdown",
   "metadata": {
    "id": "7dU0Ntjm6JPZ"
   },
   "source": [
    "Кроме протокола итератора экземпляры сети поддерживают оператор in, позволяющий тестировать принадлежность адреса к данной сети."
   ]
  },
  {
   "cell_type": "markdown",
   "metadata": {
    "id": "F-QEECXu6W-G"
   },
   "source": [
    "# Socket"
   ]
  },
  {
   "cell_type": "markdown",
   "metadata": {
    "id": "f4SJKR-JNTbG"
   },
   "source": [
    "Сокет — это конечная точка соединения, используемого программами как для\n",
    "локального обмена данными между процессами, так и для обмена через Интернет. За управление процессом передачи данных отвечают два основных свойства сокетов: семейство адресов, задающее используемый сетевой протокол, и тип сокета, соответствующий протоколу транспортного уровня."
   ]
  },
  {
   "cell_type": "markdown",
   "metadata": {
    "id": "jkl3PXCGNiO-"
   },
   "source": [
    "Имя хоста локального компьютера можно пределить с помощью socket.gethostname()"
   ]
  },
  {
   "cell_type": "code",
   "execution_count": 5,
   "metadata": {
    "colab": {
     "base_uri": "https://localhost:8080/"
    },
    "id": "meO0S-MM5-2K",
    "outputId": "b6d2692a-acef-41cd-f924-5e177c02276c"
   },
   "outputs": [
    {
     "name": "stdout",
     "output_type": "stream",
     "text": [
      "pc\n"
     ]
    }
   ],
   "source": [
    "import socket\n",
    "\n",
    "print(socket.gethostname())"
   ]
  },
  {
   "cell_type": "markdown",
   "metadata": {
    "id": "j5RWzmrWNx2x"
   },
   "source": [
    "Функция gethostbyname () позволяет запросить у операционной системы преобразование имени сервера в его числовой адрес."
   ]
  },
  {
   "cell_type": "code",
   "execution_count": null,
   "metadata": {
    "colab": {
     "base_uri": "https://localhost:8080/"
    },
    "id": "6bR0KoIFEoba",
    "outputId": "a9e96fba-40bd-4808-edd7-0b40e8286c1b"
   },
   "outputs": [
    {
     "name": "stdout",
     "output_type": "stream",
     "text": [
      "apu : [Errno -2] Name or service not known\n",
      "pymotw.com : 66.33.211.242\n",
      "www.python.org : 151.101.248.223\n",
      "nosuchname : [Errno -2] Name or service not known\n"
     ]
    }
   ],
   "source": [
    "import socket\n",
    "HOSTS = [\n",
    "  'apu',\n",
    "  'pymotw.com',\n",
    "  'www.python.org',\n",
    "  'nosuchname'\n",
    "]\n",
    "for host in HOSTS:\n",
    "    try:\n",
    "        print('{} : {}'.format(host, socket.gethostbyname(host)))\n",
    "    except socket.error as msg:\n",
    "        print('{} : {}'.format(host, msg))"
   ]
  },
  {
   "cell_type": "markdown",
   "metadata": {
    "id": "yCHvSl58PtYe"
   },
   "source": [
    "Если известен адрес сервера, то функция gethostbyaddr () позволяет выполнить обратный поиск для нахождения имени."
   ]
  },
  {
   "cell_type": "code",
   "execution_count": null,
   "metadata": {
    "colab": {
     "base_uri": "https://localhost:8080/"
    },
    "id": "cGPejyOhN-e1",
    "outputId": "47cd372c-b413-474a-fce1-250023021b77"
   },
   "outputs": [
    {
     "name": "stdout",
     "output_type": "stream",
     "text": [
      "Hostname:  apache2-zoo.george-washington.dreamhost.com\n",
      "Aliases:  []\n",
      "Addresses:  ['66.33.211.242']\n"
     ]
    }
   ],
   "source": [
    "hostname, aliases, addresses = socket.gethostbyaddr('66.33.211.242')\n",
    "\n",
    "print('Hostname: ', hostname)\n",
    "print('Aliases: ', aliases)\n",
    "print('Addresses: ', addresses)"
   ]
  },
  {
   "cell_type": "markdown",
   "metadata": {
    "id": "qTHsFh8fQoVm"
   },
   "source": [
    "Помимо IP-адреса каждый адрес сокета включает целочисленный номер портa. Многие приложения могут выполняться на одном и том же компьютере, прослушивая один и тот же IP-адрес, но в каждый момент времени только один сокет может использовать порт по этому адресу. Комбинация IP-адреса, протокола и номepa порта однозначно идентифицирует канал передачи данных и гарантирует, что сообщения, отправленные через сокет, будут корректно доставлены в пункт назначения. В этом нам помогут функции getservbyname() и getservbyport(), получающие имя порта по адресу сайта."
   ]
  },
  {
   "cell_type": "markdown",
   "metadata": {
    "id": "C4T3xK5aTSxj"
   },
   "source": [
    "Функция getaddrinfo () преобразует базовый адрес сервера в список кортежей содержащих всю необходимую информацию для установления соединения. Каждый кортеж может содержать различные семейства адресов или протоколы. К сожалению из-за особенностей колаба, эта функция здесь не работает."
   ]
  },
  {
   "cell_type": "code",
   "execution_count": 6,
   "metadata": {
    "id": "FjgkYNsoQ9zM"
   },
   "outputs": [
    {
     "name": "stdout",
     "output_type": "stream",
     "text": [
      "Family : AF_INET\n",
      "Type : SOCK_STREAM\n",
      "Protocol : IPPROTO_TCP\n",
      "Canonical name: \n",
      "Socket address: ('151.101.36.223', 80)\n",
      "\n",
      "Family : AF_INET6\n",
      "Type : SOCK_STREAM\n",
      "Protocol : IPPROTO_TCP\n",
      "Canonical name: \n",
      "Socket address: ('2a04:4e42:9::223', 80, 0, 0)\n",
      "\n"
     ]
    }
   ],
   "source": [
    "def get_constants(prefix):\n",
    "    \"\"\"Создать словарь, сопоставляющий константы модуля socket c их именами.\"\"\"\n",
    "    return {\n",
    "        getattr(socket, n): n\n",
    "        for n in dir(socket)\n",
    "        if n.startswith(prefix)\n",
    "    }\n",
    "families = get_constants('AF_')\n",
    "types = get_constants('SOCK_')\n",
    "protocols = get_constants('IPPROTO_')\n",
    "for response in socket.getaddrinfo('www.python.org', 'http'):\n",
    "  # Распаковка кортежа ответа\n",
    "    family, socktype, proto, canonname, sockaddr = response\n",
    "    print('Family :', families[family])\n",
    "    print('Type :', types[socktype])\n",
    "    print('Protocol :', protocols[proto])\n",
    "    print('Canonical name:', canonname)\n",
    "    print('Socket address:', sockaddr)\n",
    "    print()"
   ]
  },
  {
   "cell_type": "markdown",
   "metadata": {
    "id": "pS-PKHldVupT"
   },
   "source": [
    "Сетевые программы, написанные на языке C, используют тип данных struct\n",
    "sockaddr для представления IP-адресов в виде двоичных значений (а не в виде\n",
    "строк, обычно применяемых ддя этой цели в программах на языке Python). Для\n",
    "выполнения взаимных преобразований адресов IPv4 между их представлениями в\n",
    "Python и C следует использовать функции inet_aton() и inet_ntoa(). Также есть функции inet_pton() и inet_ntop(),предназначеннные для работы  как с IPv6 так и с IPv4 адресами."
   ]
  },
  {
   "cell_type": "code",
   "execution_count": 7,
   "metadata": {
    "colab": {
     "base_uri": "https://localhost:8080/"
    },
    "id": "i9yRBT_vT1gV",
    "outputId": "323a869f-3c0b-4330-956a-853a0c6fc9b5"
   },
   "outputs": [
    {
     "name": "stdout",
     "output_type": "stream",
     "text": [
      "Original: 192.168.1.1\n",
      "Packed : b'\\xc0\\xa8\\x01\\x01'\n",
      "Unpacked: 192.168.1.1\n",
      "\n",
      "Original: 127.0.0.1\n",
      "Packed : b'\\x7f\\x00\\x00\\x01'\n",
      "Unpacked: 127.0.0.1\n",
      "\n"
     ]
    }
   ],
   "source": [
    "import binascii\n",
    "import socket\n",
    "import struct\n",
    "import sys\n",
    "\n",
    "for string_address in ['192.168.1.1', '127.0.0.1']:\n",
    "    packed = socket.inet_aton(string_address)\n",
    "    print('Original:', string_address)\n",
    "    print('Packed :', packed)\n",
    "    print('Unpacked:', socket.inet_ntoa(packed))\n",
    "    print()"
   ]
  },
  {
   "cell_type": "markdown",
   "metadata": {
    "id": "o4RbqpykXA-i"
   },
   "source": [
    "В зависимости от того, как сконфигурирован сокет, он может функционировать в качестве сервера, слушая входящие сообщения, или в качестве клиента,устанавливая соединение c другим приложением. После того как между обеими конечными точками устанавливается соединение, канал связи становится двусторонним."
   ]
  },
  {
   "cell_type": "markdown",
   "metadata": {
    "id": "UD4Xt5c3al0e"
   },
   "source": [
    "Серверное и клиентский приложения нужно запускать с двух разных вкладок консоли!!!"
   ]
  },
  {
   "cell_type": "markdown",
   "metadata": {
    "id": "TGtUOCGraHl3"
   },
   "source": [
    "Серверное приложение:"
   ]
  },
  {
   "cell_type": "code",
   "execution_count": null,
   "metadata": {
    "id": "0f_FEfroV2Uq"
   },
   "outputs": [],
   "source": [
    "import socket\n",
    "import sys\n",
    "# Создать сокет TCP/IP\n",
    "sock = socket.socket(socket.AF_INET, socket.SOCK_STREAM)\n",
    "# Привязать сокет к прослушиваемому порту\n",
    "server_address = ('localhost', 10000)\n",
    "print('starting up on {} port {}'.format(*server_address))\n",
    "sock.bind(server_address)\n",
    "# Слушать входящие соединения\n",
    "sock.listen(1)\n",
    "while True:\n",
    "  # Ждать соединения\n",
    "    print('waiting for а connection')\n",
    "    connection, client_address = sock.accept()\n",
    "    try:\n",
    "        print('connection from', client_address)\n",
    "        # Получать данные небольшими порциями и\n",
    "        # отправлять их обратно\n",
    "        while True:\n",
    "            data = connection.recv(1024)\n",
    "            print('received {!r}'.format(data))\n",
    "            if data:\n",
    "                print('sending data back to the client')\n",
    "                connection.sendall(data)\n",
    "        else:\n",
    "            print('no data from', client_address)\n",
    "            break\n",
    "    finally:\n",
    "        # Закрыть соединение\n",
    "        connection.close()"
   ]
  },
  {
   "cell_type": "markdown",
   "metadata": {
    "id": "WNRwd_TdaLdq"
   },
   "source": [
    "Клиентское приложение:"
   ]
  },
  {
   "cell_type": "code",
   "execution_count": 8,
   "metadata": {
    "id": "wiXICqo1Z4ex"
   },
   "outputs": [
    {
     "name": "stdout",
     "output_type": "stream",
     "text": [
      "connecting to localhost port 10000\n"
     ]
    },
    {
     "ename": "ConnectionRefusedError",
     "evalue": "[Errno 111] Connection refused",
     "output_type": "error",
     "traceback": [
      "\u001b[0;31m---------------------------------------------------------------------------\u001b[0m",
      "\u001b[0;31mConnectionRefusedError\u001b[0m                    Traceback (most recent call last)",
      "\u001b[0;32m<ipython-input-8-24d19c98ac46>\u001b[0m in \u001b[0;36m<module>\u001b[0;34m\u001b[0m\n\u001b[1;32m      6\u001b[0m \u001b[0mserver_address\u001b[0m \u001b[0;34m=\u001b[0m \u001b[0;34m(\u001b[0m\u001b[0;34m'localhost'\u001b[0m\u001b[0;34m,\u001b[0m \u001b[0;36m10000\u001b[0m\u001b[0;34m)\u001b[0m\u001b[0;34m\u001b[0m\u001b[0;34m\u001b[0m\u001b[0m\n\u001b[1;32m      7\u001b[0m \u001b[0mprint\u001b[0m\u001b[0;34m(\u001b[0m\u001b[0;34m'connecting to {} port {}'\u001b[0m\u001b[0;34m.\u001b[0m\u001b[0mformat\u001b[0m\u001b[0;34m(\u001b[0m\u001b[0;34m*\u001b[0m\u001b[0mserver_address\u001b[0m\u001b[0;34m)\u001b[0m\u001b[0;34m)\u001b[0m\u001b[0;34m\u001b[0m\u001b[0;34m\u001b[0m\u001b[0m\n\u001b[0;32m----> 8\u001b[0;31m \u001b[0msock\u001b[0m\u001b[0;34m.\u001b[0m\u001b[0mconnect\u001b[0m\u001b[0;34m(\u001b[0m\u001b[0mserver_address\u001b[0m\u001b[0;34m)\u001b[0m\u001b[0;34m\u001b[0m\u001b[0;34m\u001b[0m\u001b[0m\n\u001b[0m\u001b[1;32m      9\u001b[0m \u001b[0;32mtry\u001b[0m\u001b[0;34m:\u001b[0m\u001b[0;34m\u001b[0m\u001b[0;34m\u001b[0m\u001b[0m\n\u001b[1;32m     10\u001b[0m     \u001b[0;31m# Отправить данные\u001b[0m\u001b[0;34m\u001b[0m\u001b[0;34m\u001b[0m\u001b[0;34m\u001b[0m\u001b[0m\n",
      "\u001b[0;31mConnectionRefusedError\u001b[0m: [Errno 111] Connection refused"
     ]
    }
   ],
   "source": [
    "import socket\n",
    "import sys\n",
    "# Создать сокет TCP/IP\n",
    "sock = socket.socket(socket.AF_INET, socket.SOCK_STREAM)\n",
    "# Подключить сокет к порту, который прослушивается сервером\n",
    "server_address = ('localhost', 10000)\n",
    "print('connecting to {} port {}'.format(*server_address))\n",
    "sock.connect(server_address)\n",
    "try:\n",
    "    # Отправить данные\n",
    "    message = b'This is the message. It will be repeated.'\n",
    "    print('sending {!r}'.format(message))\n",
    "    sock.sendall(message)\n",
    "    # Ждать ответа\n",
    "    amount_received = 0\n",
    "    amount_expected = len(message)\n",
    "    while amount_received < amount_expected:\n",
    "        data = sock.recv(1024)\n",
    "        amount_received += len(data)\n",
    "        print('received {!r}'.format(data))\n",
    "finally:\n",
    "    print('closing socket')\n",
    "    sock.close()"
   ]
  },
  {
   "cell_type": "markdown",
   "metadata": {
    "id": "ltWx2D7zfeC9"
   },
   "source": [
    "Во многих случаях двухточечных соединений, или соединений “точка — точка”, вполне хватает для того, чтобы обеспечить обмен данными, но передача одной и той же информации многим равноправным узлам становится все более затруднительной по мере роста количества прямых соединений. Отправка сообщений каждой конечной точке требует дополнительных затрат процессорного времени и полосы пропускания, что может создавать проблемы при передаче потоковой видео- или аудиоинформации. Использование многоадресатного вещания, или мулътивещания (multicasting), для доставки сообщений более чем одной конечной точке за один раз обеспечивает более высокую эффективность, поскольку сетевая инфраструктура гарантирует доставку пакетов всем получателям. Для рассылки многоадресатных сообщений всегда используется протокол UDP, в отличии от примера с TCP, приведенного выше."
   ]
  },
  {
   "cell_type": "markdown",
   "metadata": {
    "id": "XnslaIvXrjj1"
   },
   "source": [
    "Серверное приложение"
   ]
  },
  {
   "cell_type": "code",
   "execution_count": null,
   "metadata": {
    "id": "dXpciG2vadaD"
   },
   "outputs": [],
   "source": [
    "import socket\n",
    "import struct\n",
    "import sys\n",
    "\n",
    "message = b'very important data'\n",
    "multicast_group = ('224.3.29.71', 10000)\n",
    "# Создать сокет для датаграмм\n",
    "sock = socket.socket(socket.AF_INET, socket.SOCK_DGRAM)\n",
    "# Задать тайм-аут, чтобы избежать бесконечной блокировки сокета\n",
    "# при попытках получения данных\n",
    "sock.settimeout(0.2)\n",
    "# Установить для сообщений значение ttl, равное 1, чтобы\n",
    "# они не выходили за пределы сегмента локальной сети\n",
    "ttl = struct.pack('b', 1)\n",
    "sock.setsockopt(socket.IPPROTO_IP, socket.IP_MULTICAST_TTL, ttl)\n",
    "try:\n",
    "    # Послать данные мультикастной группе\n",
    "    print('sending {!r}'.format(message))\n",
    "    sent = sock.sendto(message, multicast_group)\n",
    "    # Ожидать ответы от всех получателей\n",
    "    while True:\n",
    "        print('waiting to receive')\n",
    "        try:\n",
    "            data, server = sock.recvfrom(16)\n",
    "        except socket.timeout:\n",
    "            print('timed out, no more responses')\n",
    "            break\n",
    "        else:\n",
    "            print('received {!r} from {}'.format(data, server))\n",
    "\n",
    "finally:\n",
    "    print('closing socket')\n",
    "    sock.close()\n"
   ]
  },
  {
   "cell_type": "markdown",
   "metadata": {
    "id": "fL9d9ay_rmAe"
   },
   "source": [
    "Клиентское приложение"
   ]
  },
  {
   "cell_type": "code",
   "execution_count": null,
   "metadata": {
    "id": "n9ICHXCCrng1"
   },
   "outputs": [],
   "source": [
    "import socket\n",
    "import struct\n",
    "import sys\n",
    "\n",
    "multicast_group = '224.3.29.71'\n",
    "server_address = ('', 10000)\n",
    "# Создать сокет\n",
    "sock = socket.socket(socket.AF_INET, socket.SOCK_DGRAM)\n",
    "# Привязать сокет к адресу сервера\n",
    "sock.bind(server_address)\n",
    "# Приказать операционной системе добавить сокет в\n",
    "# мультикастную группу на всех интерфейсах\n",
    "group = socket.inet_aton(multicast_group)\n",
    "mreq = struct.pack('4sL', group, socket.INADDR_ANY)\n",
    "sock.setsockopt(\n",
    "    socket.IPPROTO_IP,\n",
    "    socket.IP_ADD_MEMBERSHIP,\n",
    "    mreq\n",
    ")\n",
    "# Цикл получения сообщений и отправки ответов\n",
    "while True:\n",
    "    print('\\nwaiting to receive message')\n",
    "    data, address = sock.recvfrom(1024)\n",
    "    print('received {} bytes from {}'.format(len(data), address))\n",
    "    print(data)\n",
    "    print('sending acknowledgement to', address)\n",
    "    sock.sendto(b'ack', address)\n"
   ]
  },
  {
   "cell_type": "markdown",
   "metadata": {
    "id": "SmN0ylYYsh-J"
   },
   "source": [
    "# Selectors"
   ]
  },
  {
   "cell_type": "markdown",
   "metadata": {
    "id": "_qGtm0Zlx2Ww"
   },
   "source": [
    "Этот модуль обеспечивает высокоуровневое и эффективное мультиплексирование ввода-вывода, основанное на примитивах модуля select. Пользователям рекомендуется использовать этот модуль, если они не хотят точного контроля над используемыми примитивами уровня ОС.\n",
    "\n",
    "Мультиплексирование - передача нескольких потоков данных с меньшей скоростью по одному каналу."
   ]
  },
  {
   "cell_type": "markdown",
   "metadata": {
    "id": "YVve9TMHyWki"
   },
   "source": [
    "**class selectors.SelectorKey**\n",
    "\n",
    "SelectorKey это namedtuple, используемый для связывания файла с его дескрипторами, маской и вложенными данными. Он возвращается несколькими методами BaseSelector.\n",
    "\n",
    "**fileobj**\n",
    "File object registered.\n",
    "\n",
    "**fd**\n",
    "Underlying file descriptor.\n",
    "\n",
    "**events**\n",
    "Events that must be waited for on this file object.\n",
    "\n",
    "**data**\n",
    "Optional opaque data associated to this file object: for example, this could be used to store a per-client session ID."
   ]
  },
  {
   "cell_type": "markdown",
   "metadata": {
    "id": "4Vz4JMD2y9Io"
   },
   "source": [
    "Некоторые методы класса **DefaultSelector()**:\n",
    "\n",
    "**register()** - регистрирует поток для просмотра событий ввода/вывода\n",
    "\n",
    "**unregister()** - удаляет зарегестрированный файл\n",
    "\n",
    "**select()** - ждет до момента, когда выбранный файл станет доступен для чтения/записи"
   ]
  },
  {
   "cell_type": "code",
   "execution_count": null,
   "metadata": {
    "id": "i3pEtbQhxCw_"
   },
   "outputs": [],
   "source": [
    "import selectors\n",
    "import socket\n",
    "\n",
    "sel = selectors.DefaultSelector()\n",
    "\n",
    "def accept(sock, mask):\n",
    "    conn, addr = sock.accept()  # Should be ready\n",
    "    print('accepted', conn, 'from', addr)\n",
    "    conn.setblocking(False)\n",
    "    sel.register(conn, selectors.EVENT_READ, read)\n",
    "\n",
    "def read(conn, mask):\n",
    "    data = conn.recv(1000)  # Should be ready\n",
    "    if data:\n",
    "        print('echoing', repr(data), 'to', conn)\n",
    "        conn.send(data)  # Hope it won't block\n",
    "    else:\n",
    "        print('closing', conn)\n",
    "        sel.unregister(conn)\n",
    "        conn.close()\n",
    "\n",
    "sock = socket.socket()\n",
    "sock.bind(('localhost', 1234))\n",
    "sock.listen(100)\n",
    "sock.setblocking(False)\n",
    "sel.register(sock, selectors.EVENT_READ, accept)\n",
    "\n",
    "while True:\n",
    "    events = sel.select()\n",
    "    for key, mask in events:\n",
    "        callback = key.data\n",
    "        callback(key.fileobj, mask)"
   ]
  },
  {
   "cell_type": "markdown",
   "metadata": {
    "id": "GDAe4Uas5d2K"
   },
   "source": [
    "# Select"
   ]
  },
  {
   "cell_type": "markdown",
   "metadata": {
    "id": "VDyiHWhi6g37"
   },
   "source": [
    "В отличии от модуля selectors, select предоставляет возможность точного контроля над используемыми примитивами уровня операционной системы, в остальном этот модуль создан для тех же целей, что и selectors. К сожалению модуль сильно зависит от операционной системы. "
   ]
  },
  {
   "cell_type": "markdown",
   "metadata": {
    "id": "jra5sZ-Z_fS0"
   },
   "source": [
    "**select.select(rlist, wlist, xlist[, timeout])**\n",
    "\n",
    "Первые три аргумента являются итерируемыми: либо целыми числами, представляющих файловые дескрипторы, либо объектами с методом без параметров с именем fileno(), возвращающим такое целое число:\n",
    "\n",
    "**rlist**: ожидающие готовности к чтению\n",
    "\n",
    "**wlist**: ожидающие готовности к записи\n",
    "\n",
    "**xlist**: ожидающие «исключительного состояния» (каждая операционная система определяет это по своему)\n",
    "\n",
    "Пустые итерации разрешены, но принятие трех пустых итераций зависит от платформы. (Известно, что он работает в Unix, но не в Windows.) Необязательный аргумент **timeout** указывает время ожидания как число с плавающей запятой в секундах. Если аргумент timeout опущен, функциональные блоки блокируются до тех пор, пока не будет готов хотя бы один дескриптор файла.\n",
    "\n",
    "Возвращаемое значение - тройка списков готовых объектов: подмножества первых трех аргументов. Если истекает время ожидания, а файловый дескриптор не готов, возвращаются три пустых списка."
   ]
  },
  {
   "cell_type": "markdown",
   "metadata": {
    "id": "XX5nBJvRBkaV"
   },
   "source": [
    "Примеры использования этого модуля есть здесь: https://pythontic.com/modules/select/introduction"
   ]
  },
  {
   "cell_type": "markdown",
   "metadata": {
    "id": "QD0mS07sSIZo"
   },
   "source": [
    "# socketserver"
   ]
  },
  {
   "cell_type": "markdown",
   "metadata": {
    "id": "XYUfnzbSGWkZ"
   },
   "source": [
    "Модуль socketserver упрощает задачу написания сетевых серверов. Существует четыре основных конкретных класса серверов:\n",
    "\n",
    "\n",
    "1.   TCPServer\n",
    "При этом используется протокол Internet TCP, который обеспечивает непрерывные потоки данных между клиентом и сервером. Если bind_and_activate истинно, конструктор автоматически пытается вызвать server_bind () и server_activate (). Остальные параметры передаются базовому классу BaseServer.\n",
    "\n",
    "2.   UDPServer\n",
    "При этом используются дейтаграммы, которые представляют собой дискретные пакеты информации, которые могут поступать не по порядку или быть потеряны во время передачи. Параметры такие же, как у TCPServer.\n",
    "\n",
    "3.   UnixStreamServer\n",
    "4.   UnixDatagramServer\n",
    "\n",
    "3 и 4 классы могут быть использованы только в unix системах и используются намного реже первых двух.\n",
    "\n",
    "Эти четыре класса обрабатывают запросы синхронно; каждый запрос должен быть выполнен до того, как можно будет начать следующий запрос.\n"
   ]
  },
  {
   "cell_type": "markdown",
   "metadata": {
    "id": "x9OdIYWeJqZH"
   },
   "source": [
    "Рассмотрим общий для всех этих классов функционал классов **BaseServer** и **RequestHandlerClass**, от которых перечисленные выше классы наследуются.\n",
    "\n",
    "#BaseServer\n",
    "\n",
    "**fileno()**\n",
    "\n",
    "Вернуть целочисленный файловый дескриптор для сокета, который прослушивает сервер. Эта функция чаще всего передается селекторам, чтобы можно было контролировать несколько серверов в одном процессе.\n",
    "\n",
    "**handle_request()**\n",
    "\n",
    "Обработывает единичный запрос. Эта функция вызывает следующие методы по порядку: get_request (), verify_request () и process_request (). Если предоставленный пользователем метод handle () класса обработчика вызывает исключение, будет вызван серверный метод handle_error (). Если в течение timeout секунд ожидания не будет получен запрос, будет вызвана функция handle_timeout (), и функция handle_request () вернется.\n",
    "\n",
    "**serve_forever(poll_interval=0.5)**\n",
    "\n",
    "Обрабатывать запросы до явного запроса shutdown (). Опрос на выключение каждые poll_interval секунд. Игнорирует атрибут тайм-аута. Он также вызывает service_actions (), который может использоваться подклассом или миксином для предоставления действий, специфичных для данной службы. Например, класс ForkingMixIn использует service_actions () для очистки дочерних процессов зомби.\n",
    "\n",
    "**service_actions()**\n",
    "\n",
    "Это вызывается в цикле serve_forever(). Этот метод может быть переопределен подклассами или классами миксинов для выполнения действий, специфичных для данной службы, таких как действия по очистке.\n",
    "\n",
    "**shutdown()**\n",
    "\n",
    "Говорит циклу serve_forever () остановиться и ждет, пока он остановится. Shutdown () необходимо вызывать, пока serve_forever () работает в другом потоке, иначе произойдет взаимоблокировка.\n",
    "\n",
    "**server_close()**\n",
    "\n",
    "Очищает сервер. Может быть переопределено.\n",
    "\n",
    "\n",
    "#BaseRequestHandler\n",
    "**setup()**\n",
    "\n",
    "Вызывается перед **handle()**, чтобы произвести необходимую инициализацю, по дефолту метод ничего не делает \n",
    "\n",
    "**handle()**\n",
    "\n",
    "Код этой функции должен обрабатывать весь запрос, по дефолту метод ничего не делает. Можно получить запрос по **self.request**, ip отправителя по **self.client_address** и сервер по **self.server**.\n",
    "\n",
    "**finish()**\n",
    "\n",
    "Вызывается после двух предыдущих методов. По дефолту ничего не делает. Если **setup()** завершается с ошибкой, то метод вызван не будет\n",
    "\n",
    "\n",
    "Есть встроенные версии этого класса, о них можно прочитать тут: https://docs.python.org/3.8/library/socketserver.html"
   ]
  },
  {
   "cell_type": "markdown",
   "metadata": {
    "id": "CSlZgqTvJlPB"
   },
   "source": [
    "Серверное приложение:"
   ]
  },
  {
   "cell_type": "code",
   "execution_count": null,
   "metadata": {
    "id": "nv7SVhZJBKA1"
   },
   "outputs": [],
   "source": [
    "import socketserver\n",
    "\n",
    "class MyTCPHandler(socketserver.BaseRequestHandler):\n",
    "    \"\"\"\n",
    "    The request handler class for our server.\n",
    "\n",
    "    It is instantiated once per connection to the server, and must\n",
    "    override the handle() method to implement communication to the\n",
    "    client.\n",
    "    \"\"\"\n",
    "\n",
    "    def handle(self):\n",
    "        # self.request is the TCP socket connected to the client\n",
    "        self.data = self.request.recv(1024).strip()\n",
    "        print(\"{} wrote:\".format(self.client_address[0]))\n",
    "        print(self.data)\n",
    "        # just send back the same data, but upper-cased\n",
    "        self.request.sendall(self.data.upper())\n",
    "\n",
    "if __name__ == \"__main__\":\n",
    "    HOST, PORT = \"localhost\", 9999\n",
    "\n",
    "    # Create the server, binding to localhost on port 9999\n",
    "    with socketserver.TCPServer((HOST, PORT), MyTCPHandler) as server:\n",
    "        # Activate the server; this will keep running until you\n",
    "        # interrupt the program with Ctrl-C\n",
    "        server.serve_forever()"
   ]
  },
  {
   "cell_type": "markdown",
   "metadata": {
    "id": "q76pXMPKJnFH"
   },
   "source": [
    "Клиентское приложение:"
   ]
  },
  {
   "cell_type": "code",
   "execution_count": null,
   "metadata": {
    "id": "rSEgXcePJsqU"
   },
   "outputs": [],
   "source": [
    "import socket\n",
    "import sys\n",
    "\n",
    "HOST, PORT = \"localhost\", 9999\n",
    "data = \" \".join(sys.argv[1:])\n",
    "\n",
    "# Create a socket (SOCK_STREAM means a TCP socket)\n",
    "with socket.socket(socket.AF_INET, socket.SOCK_STREAM) as sock:\n",
    "    # Connect to server and send data\n",
    "    sock.connect((HOST, PORT))\n",
    "    sock.sendall(bytes(data + \"\\n\", \"utf-8\"))\n",
    "\n",
    "    # Receive data from the server and shut down\n",
    "    received = str(sock.recv(1024), \"utf-8\")\n",
    "\n",
    "print(\"Sent:     {}\".format(data))\n",
    "print(\"Received: {}\".format(received))"
   ]
  },
  {
   "cell_type": "markdown",
   "metadata": {
    "id": "AZ8T0aGoN7kh"
   },
   "source": [
    "**Задание:** модифицировать приведенный выше код socketserver так, чтобы сервер возвращал отправленные сообщения длиной менее 10 символов в исходном виде, в ином случае от сообщения должны браться первые 10 символов сообщения, а после них ставиться многоточие."
   ]
  },
  {
   "cell_type": "markdown",
   "metadata": {
    "id": "Nw9pCGOMbOlE"
   },
   "source": []
  }
 ],
 "metadata": {
  "colab": {
   "collapsed_sections": [],
   "name": "дз по сокетам.ipynb",
   "provenance": []
  },
  "kernelspec": {
   "display_name": "Python 3",
   "language": "python",
   "name": "python3"
  },
  "language_info": {
   "codemirror_mode": {
    "name": "ipython",
    "version": 3
   },
   "file_extension": ".py",
   "mimetype": "text/x-python",
   "name": "python",
   "nbconvert_exporter": "python",
   "pygments_lexer": "ipython3",
   "version": "3.8.5"
  }
 },
 "nbformat": 4,
 "nbformat_minor": 1
}

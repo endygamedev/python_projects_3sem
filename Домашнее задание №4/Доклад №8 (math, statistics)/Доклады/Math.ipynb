{
 "cells": [
  {
   "cell_type": "markdown",
   "metadata": {},
   "source": [
    "# Модуль Math"
   ]
  },
  {
   "cell_type": "markdown",
   "metadata": {},
   "source": [
    "## Ceil and Floor - верхняя и нижняя граница"
   ]
  },
  {
   "cell_type": "code",
   "execution_count": 1,
   "metadata": {},
   "outputs": [
    {
     "name": "stdout",
     "output_type": "stream",
     "text": [
      "6\n",
      "5\n"
     ]
    }
   ],
   "source": [
    "import math\n",
    "ceil = math.ceil(5.3)\n",
    "floor = math.floor(5.3)\n",
    "print(ceil)\n",
    "print(floor)"
   ]
  },
  {
   "cell_type": "markdown",
   "metadata": {},
   "source": [
    "## Fabs - модуль числа"
   ]
  },
  {
   "cell_type": "code",
   "execution_count": 2,
   "metadata": {},
   "outputs": [
    {
     "data": {
      "text/plain": [
       "32.0"
      ]
     },
     "execution_count": 2,
     "metadata": {},
     "output_type": "execute_result"
    }
   ],
   "source": [
    "import math\n",
    "math.fabs(-32)"
   ]
  },
  {
   "cell_type": "markdown",
   "metadata": {},
   "source": [
    "## Factorial "
   ]
  },
  {
   "cell_type": "code",
   "execution_count": 4,
   "metadata": {},
   "outputs": [
    {
     "data": {
      "text/plain": [
       "120"
      ]
     },
     "execution_count": 4,
     "metadata": {},
     "output_type": "execute_result"
    }
   ],
   "source": [
    "import math\n",
    "math.factorial(5)"
   ]
  },
  {
   "cell_type": "markdown",
   "metadata": {},
   "source": [
    "## Fmod - остаток по модулю"
   ]
  },
  {
   "cell_type": "code",
   "execution_count": 5,
   "metadata": {},
   "outputs": [
    {
     "data": {
      "text/plain": [
       "2.0"
      ]
     },
     "execution_count": 5,
     "metadata": {},
     "output_type": "execute_result"
    }
   ],
   "source": [
    "import math\n",
    "math.fmod(17,3)"
   ]
  },
  {
   "cell_type": "markdown",
   "metadata": {},
   "source": [
    "## Fsum - сумма"
   ]
  },
  {
   "cell_type": "code",
   "execution_count": 6,
   "metadata": {},
   "outputs": [
    {
     "name": "stdout",
     "output_type": "stream",
     "text": [
      "25.0\n",
      "55.0\n",
      "1.7499999999999998\n",
      "1.75\n"
     ]
    }
   ],
   "source": [
    "import math\n",
    "print(math.fsum([4,6,7,8]))\n",
    "print(math.fsum(range(1,11)))\n",
    "print(sum([2/3,3/4,1/3]))\n",
    "print(math.fsum([2/3,3/4,1/3]))"
   ]
  },
  {
   "cell_type": "markdown",
   "metadata": {},
   "source": [
    "## Exp and expm1"
   ]
  },
  {
   "cell_type": "code",
   "execution_count": 7,
   "metadata": {},
   "outputs": [
    {
     "data": {
      "text/plain": [
       "20.085536923187668"
      ]
     },
     "execution_count": 7,
     "metadata": {},
     "output_type": "execute_result"
    }
   ],
   "source": [
    "import math\n",
    "math.exp(3)"
   ]
  },
  {
   "cell_type": "code",
   "execution_count": 12,
   "metadata": {},
   "outputs": [
    {
     "name": "stdout",
     "output_type": "stream",
     "text": [
      "19.085536923187668\n",
      "19.085536923187668\n"
     ]
    }
   ],
   "source": [
    "import math\n",
    "print(math.exp(3)-1)\n",
    "print(math.expm1(3))"
   ]
  },
  {
   "cell_type": "markdown",
   "metadata": {},
   "source": [
    "## Log, log1p and log10"
   ]
  },
  {
   "cell_type": "code",
   "execution_count": 13,
   "metadata": {},
   "outputs": [
    {
     "name": "stdout",
     "output_type": "stream",
     "text": [
      "0.6931471805599453\n",
      "6.0\n"
     ]
    }
   ],
   "source": [
    "import math\n",
    "print(math.log(2))\n",
    "print(math.log(64,2))"
   ]
  },
  {
   "cell_type": "code",
   "execution_count": 14,
   "metadata": {},
   "outputs": [
    {
     "name": "stdout",
     "output_type": "stream",
     "text": [
      "1.0986122886681096\n",
      "1.0986122886681098\n"
     ]
    }
   ],
   "source": [
    "import math\n",
    "print(math.log1p(2))\n",
    "print(math.log(3))"
   ]
  },
  {
   "cell_type": "code",
   "execution_count": 15,
   "metadata": {},
   "outputs": [
    {
     "data": {
      "text/plain": [
       "3.0"
      ]
     },
     "execution_count": 15,
     "metadata": {},
     "output_type": "execute_result"
    }
   ],
   "source": [
    "import math\n",
    "math.log10(1000)"
   ]
  },
  {
   "cell_type": "markdown",
   "metadata": {},
   "source": [
    "## Pow and sqrt"
   ]
  },
  {
   "cell_type": "code",
   "execution_count": 16,
   "metadata": {},
   "outputs": [
    {
     "data": {
      "text/plain": [
       "125.0"
      ]
     },
     "execution_count": 16,
     "metadata": {},
     "output_type": "execute_result"
    }
   ],
   "source": [
    "import math\n",
    "math.pow(5,3)"
   ]
  },
  {
   "cell_type": "code",
   "execution_count": 17,
   "metadata": {},
   "outputs": [
    {
     "data": {
      "text/plain": [
       "8.0"
      ]
     },
     "execution_count": 17,
     "metadata": {},
     "output_type": "execute_result"
    }
   ],
   "source": [
    "import math\n",
    "math.sqrt(64)"
   ]
  },
  {
   "cell_type": "markdown",
   "metadata": {},
   "source": [
    "## Trigonometry"
   ]
  },
  {
   "cell_type": "code",
   "execution_count": 47,
   "metadata": {},
   "outputs": [
    {
     "name": "stdout",
     "output_type": "stream",
     "text": [
      "синус PI/2 : 1.0\n",
      "косинус 0 : 1.0\n",
      "тангенс PI/4 : 0.9999999999999999\n",
      "\n",
      "арксинус 0 : 0.0\n",
      "арккосинус 1 : 0.0\n",
      "арктангенс 0.5 : 0.4636476090008061\n",
      "\n",
      "гиперболический синус 1 : 1.1752011936438014\n",
      "гиперболический косинус 0 : 1.0\n",
      "гиперболический тангенс 1 : 0.7615941559557649\n",
      "\n",
      "обратный гиперболический синус 1 : 0.8813735870195429\n",
      "обратный гиперболический косинус 1 : 0.0\n",
      "обратный гиперболический тангенс 0.5 : 0.5493061443340549\n"
     ]
    }
   ],
   "source": [
    "import math  \n",
    "print(\"синус PI/2 :\", math.sin(math.pi/2))  \n",
    "print(\"косинус 0 :\", math.cos(0))  \n",
    "print(\"тангенс PI/4 :\", math.tan(math.pi/4))  \n",
    "  \n",
    "print()  \n",
    "  \n",
    "print(\"арксинус 0 :\", math.asin(0))  \n",
    "print(\"арккосинус 1 :\", math.acos(1))  \n",
    "print(\"арктангенс 0.5 :\", math.atan(0.5))  \n",
    "  \n",
    "print()  \n",
    "  \n",
    "print(\"гиперболический синус 1 :\", math.sinh(1))  \n",
    "print(\"гиперболический косинус 0 :\", math.cosh(0))  \n",
    "print(\"гиперболический тангенс 1 :\", math.tanh(1))  \n",
    "  \n",
    "print()  \n",
    "   \n",
    "print(\"обратный гиперболический синус 1 :\", math.asinh(1))  \n",
    "print(\"обратный гиперболический косинус 1 :\", math.acosh(1))  \n",
    "print(\"обратный гиперболический тангенс 0.5 :\", math.atanh(0.5))  "
   ]
  },
  {
   "cell_type": "markdown",
   "metadata": {},
   "source": [
    "## Degrees"
   ]
  },
  {
   "cell_type": "code",
   "execution_count": 33,
   "metadata": {},
   "outputs": [
    {
     "name": "stdout",
     "output_type": "stream",
     "text": [
      "87.08958485988514\n",
      "0.7853981633974483\n"
     ]
    }
   ],
   "source": [
    "import math  \n",
    "\n",
    "print(math.degrees(1.52))\n",
    "print(math.radians(45))"
   ]
  },
  {
   "cell_type": "markdown",
   "metadata": {},
   "source": [
    "## Constants"
   ]
  },
  {
   "cell_type": "code",
   "execution_count": 34,
   "metadata": {},
   "outputs": [
    {
     "name": "stdout",
     "output_type": "stream",
     "text": [
      "значение PI 3.141592653589793\n",
      "значение e 2.718281828459045\n"
     ]
    }
   ],
   "source": [
    "import math  \n",
    "\n",
    "print(\"значение PI\", math.pi)\n",
    "\n",
    "print(\"значение e\", math.e)"
   ]
  },
  {
   "cell_type": "markdown",
   "metadata": {},
   "source": [
    "## Задание"
   ]
  },
  {
   "cell_type": "markdown",
   "metadata": {},
   "source": [
    "### С помощью модуля math вычислить площадь круга с радиусом = логорифм e по основанию 2"
   ]
  },
  {
   "cell_type": "code",
   "execution_count": 20,
   "metadata": {},
   "outputs": [
    {
     "name": "stdout",
     "output_type": "stream",
     "text": [
      "Площадь круга: 6.538813500136891\n"
     ]
    }
   ],
   "source": [
    "from math import log, e, pi\n",
    "r = math.log(e, 2)\n",
    "print(f'Площадь круга: {pi*r**2}')"
   ]
  },
  {
   "cell_type": "code",
   "execution_count": null,
   "metadata": {},
   "outputs": [],
   "source": []
  }
 ],
 "metadata": {
  "kernelspec": {
   "display_name": "Python 3",
   "language": "python",
   "name": "python3"
  },
  "language_info": {
   "codemirror_mode": {
    "name": "ipython",
    "version": 3
   },
   "file_extension": ".py",
   "mimetype": "text/x-python",
   "name": "python",
   "nbconvert_exporter": "python",
   "pygments_lexer": "ipython3",
   "version": "3.8.2"
  }
 },
 "nbformat": 4,
 "nbformat_minor": 4
}

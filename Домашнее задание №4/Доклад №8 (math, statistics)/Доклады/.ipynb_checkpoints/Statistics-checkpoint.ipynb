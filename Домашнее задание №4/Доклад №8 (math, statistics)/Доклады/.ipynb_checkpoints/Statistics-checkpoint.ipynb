{
 "cells": [
  {
   "cell_type": "markdown",
   "metadata": {},
   "source": [
    "# Модуль Statistics"
   ]
  },
  {
   "cell_type": "markdown",
   "metadata": {},
   "source": [
    "## Sample arithmetic mean (Среднее арифметическое)"
   ]
  },
  {
   "cell_type": "code",
   "execution_count": 54,
   "metadata": {},
   "outputs": [
    {
     "name": "stdout",
     "output_type": "stream",
     "text": [
      "16.8\n",
      "5.0625\n"
     ]
    }
   ],
   "source": [
    "import statistics as st\n",
    "print(st.mean([11,2,13,14,44]))\n",
    "print(st.mean([1.5,5.75,10.625,2.375]))"
   ]
  },
  {
   "cell_type": "markdown",
   "metadata": {},
   "source": [
    "##  Geometric mean (Среднее геометрическое) - корень n степени из произведения n элементов"
   ]
  },
  {
   "cell_type": "code",
   "execution_count": 61,
   "metadata": {},
   "outputs": [
    {
     "data": {
      "text/plain": [
       "1.8171205928321397"
      ]
     },
     "execution_count": 61,
     "metadata": {},
     "output_type": "execute_result"
    }
   ],
   "source": [
    "import statistics as st\n",
    "st.geometric_mean([1,2,3])\n",
    "# 6^(1/3) = 1.81..."
   ]
  },
  {
   "cell_type": "markdown",
   "metadata": {},
   "source": [
    "## Harmonic mean (Среднее гармоническое) - частное n и суммы обратных элементов"
   ]
  },
  {
   "cell_type": "code",
   "execution_count": 62,
   "metadata": {},
   "outputs": [
    {
     "data": {
      "text/plain": [
       "1.6363636363636365"
      ]
     },
     "execution_count": 62,
     "metadata": {},
     "output_type": "execute_result"
    }
   ],
   "source": [
    "import statistics as st\n",
    "st.harmonic_mean([1,2,3])\n",
    "# 3/(1 + 1/2 + 1/3) = 1.63..."
   ]
  },
  {
   "cell_type": "markdown",
   "metadata": {},
   "source": [
    "## Mode - возращает единственную наиболее распространенную точку данных"
   ]
  },
  {
   "cell_type": "code",
   "execution_count": 14,
   "metadata": {},
   "outputs": [
    {
     "name": "stdout",
     "output_type": "stream",
     "text": [
      "2\n",
      "dog\n",
      "1\n"
     ]
    }
   ],
   "source": [
    "import statistics as st\n",
    "print(st.mode([11,2,11,2,11,2,2]))\n",
    "print(st.mode([\"cat\", \"dog\", \"dog\", \"cat\", \"monkey\", \"monkey\", \"dog\"]))\n",
    "print(st.mode([1,2,3,4]))"
   ]
  },
  {
   "cell_type": "markdown",
   "metadata": {},
   "source": [
    "## Median - возвращает медиану (среднее значение) числовых данных, используя общий метод “среднее из двух средних”."
   ]
  },
  {
   "cell_type": "code",
   "execution_count": 83,
   "metadata": {},
   "outputs": [
    {
     "name": "stdout",
     "output_type": "stream",
     "text": [
      "1.5\n",
      "1\n",
      "1.0\n",
      "2.0\n",
      "2\n",
      "1\n"
     ]
    }
   ],
   "source": [
    "import statistics as st\n",
    "print(st.median([1,2,1,2]))\n",
    "print(st.mode([1,2,1,2]))\n",
    "print(st.median([1,2,1,1]))\n",
    "print(st.median([1,2,2,2]))\n",
    "print(st.median_high([1,2,1,2]))\n",
    "print(st.median_low([1,2,1,2]))"
   ]
  },
  {
   "cell_type": "markdown",
   "metadata": {},
   "source": [
    "## Population variance (Дисперсия популяции) - сумма квадратов отклонений значений от среднего, деленная на общее количество "
   ]
  },
  {
   "cell_type": "code",
   "execution_count": 71,
   "metadata": {},
   "outputs": [
    {
     "data": {
      "text/plain": [
       "0.4"
      ]
     },
     "execution_count": 71,
     "metadata": {},
     "output_type": "execute_result"
    }
   ],
   "source": [
    "import statistics as st\n",
    "st.pvariance([1,2,2,2,3])\n",
    "# mean - 2\n",
    "# 1 + 0 + 0 + 0 + 1 = 2\n",
    "# 2/5 = 0.4"
   ]
  },
  {
   "cell_type": "markdown",
   "metadata": {},
   "source": [
    "## Population standard deviation (Стандартное отклонение) - квадратный корень из дисперсии популяции"
   ]
  },
  {
   "cell_type": "code",
   "execution_count": 65,
   "metadata": {},
   "outputs": [
    {
     "data": {
      "text/plain": [
       "0.6324555320336759"
      ]
     },
     "execution_count": 65,
     "metadata": {},
     "output_type": "execute_result"
    }
   ],
   "source": [
    "import statistics as st\n",
    "st.pstdev([1,2,2,2,3])\n",
    "# 0.4^(1/2) = 0.63..."
   ]
  },
  {
   "cell_type": "markdown",
   "metadata": {},
   "source": [
    "## Sample variance (Выборочная дисперсия) - сумма квадратов отклонений значений от среднего, деленная на общее количество - 1"
   ]
  },
  {
   "cell_type": "code",
   "execution_count": 50,
   "metadata": {},
   "outputs": [
    {
     "data": {
      "text/plain": [
       "1.6666666666666667"
      ]
     },
     "execution_count": 50,
     "metadata": {},
     "output_type": "execute_result"
    }
   ],
   "source": [
    "import statistics as st\n",
    "st.variance([1,2,3,4])\n",
    "# mean - 2.5\n",
    "# 1.5^2 + 0,5^2 + 0.5^2 + 1.5^2 = 5\n",
    "# 5/3 = 1.66..."
   ]
  },
  {
   "cell_type": "markdown",
   "metadata": {},
   "source": [
    "## Sample standard deviation (Стандартное отклонение выборки) - квадратный корень из выборочной дисперсии"
   ]
  },
  {
   "cell_type": "code",
   "execution_count": 51,
   "metadata": {},
   "outputs": [
    {
     "data": {
      "text/plain": [
       "1.2909944487358056"
      ]
     },
     "execution_count": 51,
     "metadata": {},
     "output_type": "execute_result"
    }
   ],
   "source": [
    "import statistics as st\n",
    "st.stdev([1,2,3,4])\n",
    "# 1.66...^(1/2) = 1.29..."
   ]
  },
  {
   "cell_type": "markdown",
   "metadata": {},
   "source": [
    "## Задание "
   ]
  },
  {
   "cell_type": "markdown",
   "metadata": {},
   "source": [
    "### С помощью модуля statistics найдите population variance и population standart deviation от последовательности среднего арифметического, среднего геометрического и среднего гармонического от 30 случайных чисел"
   ]
  },
  {
   "cell_type": "code",
   "execution_count": 21,
   "metadata": {},
   "outputs": [],
   "source": [
    "from random import randint\n",
    "import statistics"
   ]
  },
  {
   "cell_type": "code",
   "execution_count": 27,
   "metadata": {},
   "outputs": [
    {
     "name": "stdout",
     "output_type": "stream",
     "text": [
      "[9, 9, 6, 8, 7, 7, 7, 4, 7, 1, 10, 2, 7, 4, 9, 4, 3, 8, 6, 8, 2, 4, 5, 6, 1, 1, 4, 6, 1, 6]\n"
     ]
    }
   ],
   "source": [
    "lst = [randint(0, 10) for _ in range(30)]\n",
    "print(lst)"
   ]
  },
  {
   "cell_type": "code",
   "execution_count": 28,
   "metadata": {},
   "outputs": [
    {
     "data": {
      "text/plain": [
       "5.4"
      ]
     },
     "execution_count": 28,
     "metadata": {},
     "output_type": "execute_result"
    }
   ],
   "source": [
    "st.mean(lst)"
   ]
  },
  {
   "cell_type": "code",
   "execution_count": 29,
   "metadata": {},
   "outputs": [
    {
     "data": {
      "text/plain": [
       "4.45885317348092"
      ]
     },
     "execution_count": 29,
     "metadata": {},
     "output_type": "execute_result"
    }
   ],
   "source": [
    "statistics.geometric_mean(lst)"
   ]
  },
  {
   "cell_type": "code",
   "execution_count": 30,
   "metadata": {},
   "outputs": [
    {
     "data": {
      "text/plain": [
       "3.28253223915592"
      ]
     },
     "execution_count": 30,
     "metadata": {},
     "output_type": "execute_result"
    }
   ],
   "source": [
    "statistics.harmonic_mean(lst)"
   ]
  },
  {
   "cell_type": "code",
   "execution_count": null,
   "metadata": {},
   "outputs": [],
   "source": []
  }
 ],
 "metadata": {
  "kernelspec": {
   "display_name": "Python 3",
   "language": "python",
   "name": "python3"
  },
  "language_info": {
   "codemirror_mode": {
    "name": "ipython",
    "version": 3
   },
   "file_extension": ".py",
   "mimetype": "text/x-python",
   "name": "python",
   "nbconvert_exporter": "python",
   "pygments_lexer": "ipython3",
   "version": "3.8.2"
  }
 },
 "nbformat": 4,
 "nbformat_minor": 4
}

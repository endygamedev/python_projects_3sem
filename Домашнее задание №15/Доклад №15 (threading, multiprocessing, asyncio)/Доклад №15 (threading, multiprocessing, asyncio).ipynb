{
 "cells": [
  {
   "cell_type": "markdown",
   "metadata": {},
   "source": [
    "Процесс- запущенная программа. Процессы удобны для одновреманного выполнения нескольких задач. Поток похож на процесс, но ключевое отличие в том что поток разделяет ресурсы процессора и память. Потоки нужны когда у вас есть общий ресурс который вы намеренно хотите раздеялть."
   ]
  },
  {
   "cell_type": "markdown",
   "metadata": {},
   "source": [
    "При использовании потоков программа работает только на одном процессоре. Различные задачи, внутри потоков выполняются на одном ядре, а операционная система управляет, когда ваша программа работает с каким потоком."
   ]
  },
  {
   "cell_type": "markdown",
   "metadata": {},
   "source": [
    "Модуль threading в python нужет для упарвления потоками. При помощи класса Thread мы создаём поток, target указывет какую функцию будет исполнять поток, а args передаёт этой функции аргументы. Что бы поток начал действовать нажно написать t.start()"
   ]
  },
  {
   "cell_type": "code",
   "execution_count": 12,
   "metadata": {},
   "outputs": [
    {
     "name": "stdout",
     "output_type": "stream",
     "text": [
      "2 left\n",
      "1 left\n",
      "0 left\n"
     ]
    }
   ],
   "source": [
    "import time\n",
    "import threading\n",
    "\n",
    "def countdown(n):\n",
    "    for i in range(n):\n",
    "        print(n - i - 1, \"left\")\n",
    "        time.sleep(1)\n",
    "        \n",
    "t = threading.Thread(target=countdown, args=(3, ))\n",
    "t.start()"
   ]
  },
  {
   "cell_type": "markdown",
   "metadata": {},
   "source": [
    "Поток так же можно создавать с помощью наследования класса Thread"
   ]
  },
  {
   "cell_type": "code",
   "execution_count": 8,
   "metadata": {},
   "outputs": [
    {
     "name": "stdout",
     "output_type": "stream",
     "text": [
      "2 left\n",
      "1 left\n",
      "0 left\n"
     ]
    }
   ],
   "source": [
    "import time\n",
    "import threading\n",
    "\n",
    "class CountdownThread(threading.Thread):\n",
    "    def __init__(self, n):\n",
    "        super().__init__()\n",
    "        self.n = n\n",
    "        \n",
    "    def run(self): # вызывается методом start.\n",
    "        for i in range(self.n):\n",
    "            print(self.n - i - 1, \"left\")\n",
    "            time.sleep(1)\n",
    "\n",
    "t = CountdownThread(3)\n",
    "t.start()"
   ]
  },
  {
   "cell_type": "markdown",
   "metadata": {},
   "source": [
    "У каждого потока есть имя и идентификатор. По умолчанию потокам даётся имя \"Thread-N\""
   ]
  },
  {
   "cell_type": "code",
   "execution_count": 11,
   "metadata": {},
   "outputs": [
    {
     "name": "stdout",
     "output_type": "stream",
     "text": [
      "Thread-9\n",
      "NumberCruncher\n"
     ]
    },
    {
     "data": {
      "text/plain": [
       "13800"
      ]
     },
     "execution_count": 11,
     "metadata": {},
     "output_type": "execute_result"
    }
   ],
   "source": [
    "import threading\n",
    "\n",
    "print(threading.Thread().name)\n",
    "print(threading.Thread(name=\"NumberCruncher\").name)\n",
    "\n",
    "t = threading.Thread()\n",
    "t.start()\n",
    "t.ident"
   ]
  },
  {
   "cell_type": "markdown",
   "metadata": {},
   "source": [
    "При помощи функции enumerate() можно получить список всех потоков"
   ]
  },
  {
   "cell_type": "code",
   "execution_count": 13,
   "metadata": {},
   "outputs": [
    {
     "data": {
      "text/plain": [
       "[<_MainThread(MainThread, started 6880)>,\n",
       " <Thread(Thread-4, started daemon 12012)>,\n",
       " <Heartbeat(Thread-5, started daemon 6028)>,\n",
       " <HistorySavingThread(IPythonHistorySavingThread, started 1808)>,\n",
       " <ParentPollerWindows(Thread-3, started daemon 5700)>]"
      ]
     },
     "execution_count": 13,
     "metadata": {},
     "output_type": "execute_result"
    }
   ],
   "source": [
    "import threading\n",
    "\n",
    "threading.enumerate()"
   ]
  },
  {
   "cell_type": "markdown",
   "metadata": {},
   "source": [
    "Чтобы указать одному потоку дождаться завершения другого потока, вам нужно вызывать .join()"
   ]
  },
  {
   "cell_type": "code",
   "execution_count": 20,
   "metadata": {},
   "outputs": [
    {
     "name": "stdout",
     "output_type": "stream",
     "text": [
      "10\n"
     ]
    }
   ],
   "source": [
    "import threading\n",
    "import time\n",
    "\n",
    "def arf(a):\n",
    "    time.sleep(a)\n",
    "    print(10)\n",
    "\n",
    "t = threading.Thread(target=arf, args=(5, ))\n",
    "\n",
    "t.start()\n",
    "t.join()"
   ]
  },
  {
   "cell_type": "markdown",
   "metadata": {},
   "source": [
    "Проверить, выполняется ли поток, можно с помощью метода is_alive:"
   ]
  },
  {
   "cell_type": "code",
   "execution_count": 14,
   "metadata": {},
   "outputs": [
    {
     "name": "stdout",
     "output_type": "stream",
     "text": [
      "True\n",
      "False\n"
     ]
    }
   ],
   "source": [
    "import threading\n",
    "import time\n",
    "\n",
    "t = threading.Thread(target=time.sleep, args=(5, ))\n",
    "\n",
    "t.start()\n",
    "print(t.is_alive())\n",
    "t.join()\n",
    "time.sleep(5)\n",
    "print(t.is_alive())"
   ]
  },
  {
   "cell_type": "markdown",
   "metadata": {},
   "source": [
    "Демон — это поток, созданный с аргументом daemon=True. Отличие потока-демона от обычного потока в том, что\n",
    "потоки-демоны автоматически уничтожаются при выходе из интерпретатора. Уничтожение потока-демона не подразумевает процедуру финализации, поэтому следует быть аккуратным при использовании демонов для задач, работающих с ресурсами."
   ]
  },
  {
   "cell_type": "markdown",
   "metadata": {},
   "source": [
    "Если в программе запущены потоки, которые не являются демонами, то программа будет ожидать завершения этих потоков, прежде чем сможет завершится. Тем не менее, потоки, которые являются демонами, при закрытие программы просто убиваются, в каком бы они состояние ни находились."
   ]
  },
  {
   "cell_type": "code",
   "execution_count": 15,
   "metadata": {},
   "outputs": [
    {
     "name": "stderr",
     "output_type": "stream",
     "text": [
      "13:00:22: Main    : before creating thread\n",
      "13:00:22: Main    : before running thread\n",
      "13:00:22: Thread 1: starting\n",
      "13:00:22: Main    : wait for the thread to finish\n",
      "13:00:22: Main    : all done\n",
      "13:00:24: Thread 1: finishing\n"
     ]
    }
   ],
   "source": [
    "import logging\n",
    "import threading\n",
    "import time\n",
    "\n",
    "def thread_function(name):\n",
    "    logging.info(\"Thread %s: starting\", name)\n",
    "    time.sleep(2)\n",
    "    logging.info(\"Thread %s: finishing\", name)\n",
    "\n",
    "if __name__ == \"__main__\":\n",
    "    format = \"%(asctime)s: %(message)s\"\n",
    "    logging.basicConfig(format=format, level=logging.INFO,\n",
    "                        datefmt=\"%H:%M:%S\")\n",
    "    logging.info(\"Main    : before creating thread\")\n",
    "    x = threading.Thread(target=thread_function, args=(1,), daemon=True)\n",
    "    logging.info(\"Main    : before running thread\")\n",
    "    x.start()\n",
    "    logging.info(\"Main    : wait for the thread to finish\")\n",
    "    logging.info(\"Main    : all done\")"
   ]
  },
  {
   "cell_type": "code",
   "execution_count": 1,
   "metadata": {},
   "outputs": [
    {
     "data": {
      "text/plain": [
       "True"
      ]
     },
     "execution_count": 1,
     "metadata": {},
     "output_type": "execute_result"
    }
   ],
   "source": [
    "import threading\n",
    "import time\n",
    "\n",
    "t = threading.Thread(target=time.sleep, args=(5, ), daemon=True)\n",
    "t.start()\n",
    "\n",
    "t.daemon"
   ]
  },
  {
   "cell_type": "markdown",
   "metadata": {},
   "source": [
    "С потоками возникает некоторая проблема. Например, два потока имеют чередующийся доступ к одному общему объекту, перезаписывая результаты друг друга. Подобные условия могут возникнуть, когда один поток освобождает память или закрывает дескриптор файла, прежде чем другой поток завершит доступ к нему. \n",
    "\n",
    "С помощью Lock можно избежать этой проблемы"
   ]
  },
  {
   "cell_type": "code",
   "execution_count": 18,
   "metadata": {},
   "outputs": [],
   "source": [
    "import logging\n",
    "import random\n",
    "import threading\n",
    "import time\n",
    "\n",
    "class Counter:\n",
    "    \n",
    "    def __init__(self, start=0):\n",
    "        self.lock = threading.Lock()\n",
    "        self.value = start\n",
    "        \n",
    "    def increment(self):\n",
    "        logging.debug('Waiting for lock')\n",
    "        self.lock.acquire()\n",
    "     \n",
    "        try:\n",
    "            logging.debug('Acquired lock')\n",
    "            self.value = self.value + 1\n",
    "        finally:\n",
    "            self.lock.release()\n",
    "\n",
    "def worker(c):\n",
    "    for i in range(2):\n",
    "        pause = random.random()\n",
    "        logging.debug('Sleeping %0.02f', pause)\n",
    "        time.sleep(pause)\n",
    "        c.increment()\n",
    "    logging.debug('Done')\n",
    "        \n",
    "logging.basicConfig(\n",
    "    level=logging.DEBUG,\n",
    "    format='(%(threadName)-10s) %(message)s',\n",
    ")\n",
    "\n",
    "counter = Counter()\n",
    "for i in range(2):\n",
    "    t = threading.Thread(target=worker, args=(counter,))\n",
    "    t.start()\n",
    "\n",
    "logging.debug('Waiting for worker threads')\n",
    "main_thread = threading.main_thread()"
   ]
  },
  {
   "cell_type": "code",
   "execution_count": 19,
   "metadata": {},
   "outputs": [],
   "source": [
    "logging.debug('Counter: %d', counter.value)"
   ]
  },
  {
   "cell_type": "markdown",
   "metadata": {},
   "source": [
    "функция acquire даёт блокировку, а release реализует"
   ]
  },
  {
   "cell_type": "markdown",
   "metadata": {},
   "source": [
    "Модуль multiprocessing"
   ]
  },
  {
   "cell_type": "markdown",
   "metadata": {},
   "source": [
    "Этот модуль нужен для управления процессами. Местами он похож на предыдущий"
   ]
  },
  {
   "cell_type": "code",
   "execution_count": 11,
   "metadata": {},
   "outputs": [],
   "source": [
    "import multiprocessing\n",
    "\n",
    "\n",
    "def worker(num):\n",
    "    \"\"\"Рабочая функция\"\"\"\n",
    "    print('Worker:', num)\n",
    "\n",
    "\n",
    "if __name__ == '__main__':\n",
    "    jobs = []\n",
    "    for i in range(5):\n",
    "        p = multiprocessing.Process(target=worker, args=(i,))\n",
    "        jobs.append(p)\n",
    "        p.start()\n"
   ]
  },
  {
   "cell_type": "code",
   "execution_count": 5,
   "metadata": {},
   "outputs": [],
   "source": [
    "import os\n",
    "from multiprocessing import Process\n",
    " \n",
    " \n",
    "def doubler(number):\n",
    "    \"\"\"\n",
    "    Функция умножитель на два\n",
    "    \"\"\"\n",
    "    result = number * 2\n",
    "    proc = os.getpid()\n",
    "    print('{0} doubled to {1} by process id: {2}'.format(\n",
    "        number, result, proc))\n",
    " \n",
    " \n",
    "if __name__ == '__main__':\n",
    "    numbers = [5, 10, 15, 20, 25]\n",
    "    procs = []\n",
    "    \n",
    "    for index, number in enumerate(numbers):\n",
    "        proc = Process(target=doubler, args=(number,))\n",
    "        procs.append(proc)\n",
    "        proc.start()\n",
    "    \n",
    "    for proc in procs:\n",
    "        proc.join()"
   ]
  },
  {
   "cell_type": "markdown",
   "metadata": {},
   "source": [
    "Как и у потоков у процессов есть свои имена"
   ]
  },
  {
   "cell_type": "code",
   "execution_count": 8,
   "metadata": {},
   "outputs": [],
   "source": [
    "import multiprocessing\n",
    "import time\n",
    "\n",
    "\n",
    "def worker():\n",
    "    name = multiprocessing.current_process().name\n",
    "    print(name, 'Starting')\n",
    "    time.sleep(2)\n",
    "    print(name, 'Exiting')\n",
    "\n",
    "def my_service():\n",
    "    name = multiprocessing.current_process().name\n",
    "    print(name, 'Starting')\n",
    "    time.sleep(3)\n",
    "    print(name, 'Exiting')\n",
    "\n",
    "if __name__ == \"__main__\":\n",
    "    service = multiprocessing.Process(\n",
    "    name=\"my_service\",\n",
    "    target=my_service,\n",
    "    )\n",
    "    worker_l = multiprocessing.Process(\n",
    "    name='worker 1',\n",
    "    target=worker,\n",
    "    )\n",
    "    \n",
    "    worker_2 = multiprocessing.Process(\n",
    "    target=worker,\n",
    "    )\n",
    "    \n",
    "    worker_l.start()\n",
    "    worker_2.start()\n",
    "    service.start()"
   ]
  },
  {
   "cell_type": "markdown",
   "metadata": {},
   "source": [
    "Демон-процессы. По умолчанию выход из основной программы осуществляется лишь после\n",
    "того, как завершатся все дочерние процессы. Но иногда запускаются фоновые\n",
    "процессы, которые выполняются, не блокируя выход из основной программы"
   ]
  },
  {
   "cell_type": "code",
   "execution_count": 9,
   "metadata": {},
   "outputs": [],
   "source": [
    "import multiprocessing\n",
    "import time\n",
    "import sys\n",
    "\n",
    "\n",
    "def daemon():\n",
    "    p = multiprocessing.current_process()\n",
    "    print('Starting:', p.name, p.pid)\n",
    "    sys.stdout.flush()\n",
    "    time.sleep(2)\n",
    "    print('Exiting :', p.name, p.pid)\n",
    "    sys.stdout.flush()\n",
    "\n",
    "\n",
    "def non_daemon():\n",
    "    p = multiprocessing.current_process()\n",
    "    print('Starting:', p.name, p.pid)\n",
    "    sys.stdout.flush()\n",
    "    print('Exiting :', p.name, p.pid)\n",
    "    sys.stdout.flush()\n",
    "\n",
    "\n",
    "if __name__ == '__main__':\n",
    "    d = multiprocessing.Process(\n",
    "        name='daemon',\n",
    "        target=daemon,\n",
    "    )\n",
    "    d.daemon = True\n",
    "    n = multiprocessing.Process(\n",
    "        name='non-daemon',\n",
    "        target=non_daemon,\n",
    "    )\n",
    "    n.daemon = False\n",
    "    d.start()\n",
    "    time.sleep(1)\n",
    "    n.start()\n"
   ]
  },
  {
   "cell_type": "markdown",
   "metadata": {},
   "source": [
    "Вывод не включает сообщение “Exiting” из процесса-демона, поскольку все процессы, не являющиеся демонами (включая основную программу), успевают завершиться, прежде чем процесс-демон пробудится после приостановки на 2 секунды.\n"
   ]
  },
  {
   "cell_type": "markdown",
   "metadata": {},
   "source": [
    "Join. На этот раз, поскольку основной процесс ожидает завершения процесса-демона, используя метод join (), соответствующая строка “Exiting” есть в выводе."
   ]
  },
  {
   "cell_type": "code",
   "execution_count": null,
   "metadata": {},
   "outputs": [],
   "source": [
    "import multiprocessing\n",
    "import time\n",
    "import sys\n",
    "\n",
    "\n",
    "def daemon():\n",
    "    p = multiprocessing.current_process()\n",
    "    print('Starting:', p.name, p.pid)\n",
    "    sys.stdout.flush()\n",
    "    time.sleep(2)\n",
    "    print('Exiting :', p.name, p.pid)\n",
    "    sys.stdout.flush()\n",
    "\n",
    "\n",
    "def non_daemon():\n",
    "    p = multiprocessing.current_process()\n",
    "    print('Starting:', p.name, p.pid)\n",
    "    sys.stdout.flush()\n",
    "    print('Exiting :', p.name, p.pid)\n",
    "    sys.stdout.flush()\n",
    "\n",
    "\n",
    "if __name__ == '__main__':\n",
    "    d = multiprocessing.Process(\n",
    "        name='daemon',\n",
    "        target=daemon,\n",
    "    )\n",
    "    d.daemon = True\n",
    "    n = multiprocessing.Process(\n",
    "        name='non-daemon',\n",
    "        target=non_daemon,\n",
    "    )\n",
    "    n.daemon = False\n",
    "    d.start()\n",
    "    time.sleep(1)\n",
    "    n.start()\n",
    "\n",
    "    d.join()\n",
    "    n.join()"
   ]
  },
  {
   "cell_type": "markdown",
   "metadata": {},
   "source": [
    "terminate останавливает процесс принудительно, важно вызвать метод join() для процесса после принудительного прекращения его работы"
   ]
  },
  {
   "cell_type": "code",
   "execution_count": null,
   "metadata": {},
   "outputs": [],
   "source": [
    "import multiprocessing\n",
    "import time\n",
    "\n",
    "\n",
    "def slow_worker():\n",
    "    print('Starting worker')\n",
    "    time.sleep(0.1)\n",
    "    print('Finished worker')\n",
    "\n",
    "\n",
    "if __name__ == '__main__' :\n",
    "    p = multiprocessing.Process(target=slow_worker)\n",
    "\n",
    "    print('BEFORE:', p, p.is_alive())\n",
    "    p.start()\n",
    "\n",
    "    print('DURING:', p, p.is_alive())\n",
    "    p.terminate()\n",
    "    print('TERMINATED:', p, p.is_alive())\n",
    "\n",
    "    p.join()\n",
    "    print('JOINED:', p, p.is_alive())"
   ]
  },
  {
   "cell_type": "markdown",
   "metadata": {},
   "source": [
    "Создание процессов с помощью подклассов"
   ]
  },
  {
   "cell_type": "code",
   "execution_count": 10,
   "metadata": {},
   "outputs": [],
   "source": [
    "import multiprocessing\n",
    "\n",
    "\n",
    "class Worker(multiprocessing.Process):\n",
    "    def run(self):\n",
    "        print('In {}'.format(self.name))\n",
    "        return\n",
    "    \n",
    "    \n",
    "if __name__ == '__main__' :\n",
    "    jobs = []\n",
    "    for i in range(5):\n",
    "        p = Worker()\n",
    "        jobs.append(p)\n",
    "        p.start()\n",
    "    for j in jobs:\n",
    "        j.join()\n"
   ]
  },
  {
   "cell_type": "markdown",
   "metadata": {},
   "source": [
    "Для выполнения возложенной на него работы производный класс должен переопределить метод run ()."
   ]
  },
  {
   "cell_type": "markdown",
   "metadata": {},
   "source": [
    "Lokc есть и у процессов. Чтобы не дать процессам конфликтовать друг с другом, мы используем объект Lock. Этот код зациклится над нашим списком трех объектов и создаст процесс для каждого из них. Каждый процесс будет вызывать нашу функцию, и передавать её одному из объектов. Так как мы используем замки, следующий процесс в строке будет ждать, пока замок не снимается, после чего он сможет продолжить."
   ]
  },
  {
   "cell_type": "code",
   "execution_count": null,
   "metadata": {},
   "outputs": [],
   "source": [
    "from multiprocessing import Process, Lock\n",
    "\n",
    "\n",
    "def printer(item, lock):\n",
    "    \"\"\"\n",
    "    Выводим то что передали\n",
    "    \"\"\"\n",
    "    lock.acquire()\n",
    "    try:\n",
    "        print(item)\n",
    "    finally:\n",
    "        lock.release()\n",
    "\n",
    "\n",
    "if __name__ == '__main__':\n",
    "    lock = Lock()\n",
    "    items = ['tango', 'foxtrot', 10]\n",
    "\n",
    "    for item in items:\n",
    "        p = Process(target=printer, args=(item, lock))\n",
    "        p.start()"
   ]
  },
  {
   "cell_type": "markdown",
   "metadata": {},
   "source": [
    "Pool ещё один способ создавать процессы Здесь мы создали экземпляр Pool и указали ему создать три рабочих процесса. Далее мы используем метод map для отображения функции для каждого процесса. Наконец мы выводим результат, что в нашем случае является списком: [10, 20, 40]."
   ]
  },
  {
   "cell_type": "code",
   "execution_count": null,
   "metadata": {},
   "outputs": [],
   "source": [
    "from multiprocessing import Pool\n",
    "\n",
    "\n",
    "def doubler(number):\n",
    "    return number * 2\n",
    "\n",
    "\n",
    "if __name__ == '__main__':\n",
    "    numbers = [5, 10, 20]\n",
    "    pool = Pool(processes=3)\n",
    "    print(pool.map(doubler, numbers))"
   ]
  },
  {
   "cell_type": "markdown",
   "metadata": {},
   "source": [
    "Модуль asyncio"
   ]
  },
  {
   "cell_type": "markdown",
   "metadata": {},
   "source": [
    "Допустим, у вас есть скрипт, который запрашивает данные от трех разных серверов. Иногда выполнение запроса к одному из этих серверов может неожиданно занять слишком много времени. Представьте, что получение данных со второго сервера занимает 10 секунд. Пока вы ждете, весь сценарий фактически ничего не делает.\n",
    "\n",
    "Что если не дожидаться второго запроса, выполнить третий, а затем вернуться ко второму и продолжит с того места, где он был прерван? Это и будет асинхронный подход – переключение между задачами для минимизации времени простоя."
   ]
  },
  {
   "cell_type": "markdown",
   "metadata": {},
   "source": [
    "Этот модул основан на трёх китах\n",
    "\n",
    "цикл событий (event loop) по большей части всего лишь управляет выполнением различных задач: регистрирует поступление и запускает в подходящий момент\n",
    "\n",
    "сопрограммы — специальные функции, похожие на генераторы python, от которых ожидают (await), что они будут отдавать управление обратно в цикл событий. Необходимо, чтобы они были запущены именно через цикл событий\n",
    "\n",
    "Фьючерсы — объекты, в которых хранится текущий результат выполнения какой-либо задачи. Это может быть информация о том, что задача ещё не обработана или уже полученный результат; а может быть вообще исключение\n"
   ]
  },
  {
   "cell_type": "code",
   "execution_count": null,
   "metadata": {},
   "outputs": [],
   "source": [
    "import asyncio  \n",
    "import time  \n",
    "from datetime import datetime\n",
    "\n",
    "async def custom_sleep():  \n",
    "    print('SLEEP', datetime.now())\n",
    "    time.sleep(1)\n",
    "    \n",
    "async def factorial(name, number):  \n",
    "    f = 1\n",
    "    for i in range(2, number+1):\n",
    "        print('Task {}: Compute factorial({})'.format(name, i))\n",
    "        await custom_sleep()\n",
    "        f *= i\n",
    "    print('Task {}: factorial({}) is {}\\n'.format(name, number, f))\n",
    "\n",
    "    \n",
    "start = time.time()  \n",
    "loop = asyncio.get_event_loop()\n",
    "tasks = [  \n",
    "    asyncio.ensure_future(factorial(\"A\", 3)),\n",
    "    asyncio.ensure_future(factorial(\"B\", 4)),\n",
    "]\n",
    "\n",
    "loop.run_until_complete(asyncio.wait(tasks))  \n",
    "loop.close()\n",
    "end = time.time()  \n",
    "print(\"Total time: {}\".format(end - start))"
   ]
  },
  {
   "cell_type": "code",
   "execution_count": null,
   "metadata": {},
   "outputs": [],
   "source": [
    "import asyncio  \n",
    "import time  \n",
    "from datetime import datetime\n",
    "\n",
    "async def custom_sleep():  \n",
    "    print('SLEEP {}\\n'.format(datetime.now()))\n",
    "    await asyncio.sleep(1)\n",
    "\n",
    "async def factorial(name, number):  \n",
    "    f = 1\n",
    "    for i in range(2, number+1):\n",
    "        print('Task {}: Compute factorial({})'.format(name, i))\n",
    "        await custom_sleep()\n",
    "        f *= i\n",
    "    print('Task {}: factorial({}) is {}\\n'.format(name, number, f))\n",
    "\n",
    "start = time.time()  \n",
    "loop = asyncio.get_event_loop()\n",
    "tasks = [  \n",
    "    asyncio.ensure_future(factorial(\"A\", 3)),\n",
    "    asyncio.ensure_future(factorial(\"B\", 4)),\n",
    "]\n",
    "loop.run_until_complete(asyncio.wait(tasks))  \n",
    "loop.close()\n",
    "end = time.time()  \n",
    "print(\"Total time: {}\".format(end - start))"
   ]
  },
  {
   "cell_type": "markdown",
   "metadata": {},
   "source": [
    "Сопрограмма могут быть запущены только из другой сопрограммы, или обёрнуты в задачу с помощью create_task\n",
    "\n",
    "После того, как у нас оказались 2 задачи, объединим их, используя wait\n",
    "\n",
    "И, наконец, отправим на выполнение в цикл событий через run_until_complete\n"
   ]
  },
  {
   "cell_type": "markdown",
   "metadata": {},
   "source": [
    "Используя await в какой-либо корутине, мы таким образом объявляем, что корутина может отдавать управление обратно в event loop, который, в свою очередь, запустит какую-либо следующую задачу"
   ]
  },
  {
   "cell_type": "markdown",
   "metadata": {},
   "source": [
    "Задание\n",
    "\n",
    "При помощимодуля threading создайте два потока, один поток пусть выполняет функцию сложения двух чисел, второй пусть умножает два числа."
   ]
  },
  {
   "cell_type": "code",
   "execution_count": null,
   "metadata": {},
   "outputs": [],
   "source": []
  }
 ],
 "metadata": {
  "kernelspec": {
   "display_name": "Python 3",
   "language": "python",
   "name": "python3"
  },
  "language_info": {
   "codemirror_mode": {
    "name": "ipython",
    "version": 3
   },
   "file_extension": ".py",
   "mimetype": "text/x-python",
   "name": "python",
   "nbconvert_exporter": "python",
   "pygments_lexer": "ipython3",
   "version": "3.8.3"
  }
 },
 "nbformat": 4,
 "nbformat_minor": 4
}

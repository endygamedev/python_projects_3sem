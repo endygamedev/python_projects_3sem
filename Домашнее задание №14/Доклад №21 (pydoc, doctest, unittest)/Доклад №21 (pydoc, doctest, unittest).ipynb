{
 "cells": [
  {
   "cell_type": "markdown",
   "metadata": {},
   "source": [
    "pydoc, doctest, unittest"
   ]
  },
  {
   "cell_type": "markdown",
   "metadata": {},
   "source": [
    "Модуль pydoc - это генератор документации и онлайн справочная система."
   ]
  },
  {
   "cell_type": "markdown",
   "metadata": {},
   "source": [
    "Модуль автоматически генерирует документацию из модулей Python.\n",
    "Документация может быть представлена в виде страниц текста на консоли,\n",
    "отправлена в веб-браузер или сохранена в файлы HTML."
   ]
  },
  {
   "cell_type": "code",
   "execution_count": 16,
   "metadata": {},
   "outputs": [
    {
     "name": "stdout",
     "output_type": "stream",
     "text": [
      "Help on built-in function sum in module builtins:\n",
      "\n",
      "sum(iterable, start=0, /)\n",
      "    Return the sum of a 'start' value (default: 0) plus an iterable of numbers\n",
      "    \n",
      "    When the iterable is empty, return the start value.\n",
      "    This function is intended specifically for use with numeric values and may\n",
      "    reject non-numeric types.\n",
      "\n"
     ]
    }
   ],
   "source": [
    "help(sum)"
   ]
  },
  {
   "cell_type": "markdown",
   "metadata": {},
   "source": [
    "Встроенная функция help () вызывает интерактивную справочную систему в интерактивном интерпретаторе, который использует pydoc для создания документации в виде текста на консоли. Ту же текстовую документацию можно также просмотреть извне интерпретатора Python, запустив pydoc в качестве сценария в командной строке операционной системы. "
   ]
  },
  {
   "cell_type": "markdown",
   "metadata": {},
   "source": [
    "Модуль doctest"
   ]
  },
  {
   "cell_type": "markdown",
   "metadata": {},
   "source": [
    "Модуль doctest ищет фрагменты текста, которые выглядят как интерактивные сеансы Python, а затем выполняет эти сеансы, чтобы убедиться, что они работают точно так, как показано. "
   ]
  },
  {
   "cell_type": "markdown",
   "metadata": {},
   "source": [
    "Способы использования doctest:\n",
    "    \n",
    "-Чтобы убедиться, что строки документации модуля актуальны, убедившись, что все интерактивные примеры по-прежнему работают, как задокументировано.\n",
    "\n",
    "-Выполнить регрессионное тестирование, убедившись, что интерактивные примеры из тестового файла или тестового объекта работают должным образом.\n",
    "\n",
    "-Написать учебную документацию для пакета, обильно иллюстрированную примерами ввода-вывода."
   ]
  },
  {
   "cell_type": "code",
   "execution_count": 6,
   "metadata": {},
   "outputs": [],
   "source": [
    "%run example.py "
   ]
  },
  {
   "cell_type": "markdown",
   "metadata": {},
   "source": [
    "Выхода нет. Это нормально и означает, что все примеры коретно работали.\n",
    "Если добавить -v doctest распечатает подробный журнал действий."
   ]
  },
  {
   "cell_type": "code",
   "execution_count": 7,
   "metadata": {},
   "outputs": [
    {
     "name": "stdout",
     "output_type": "stream",
     "text": [
      "Trying:\n",
      "    [factorial(n) for n in range(6)]\n",
      "Expecting:\n",
      "    [1, 1, 2, 6, 24, 120]\n",
      "ok\n",
      "Trying:\n",
      "    factorial(30)\n",
      "Expecting:\n",
      "    265252859812191058636308480000000\n",
      "ok\n",
      "Trying:\n",
      "    factorial(-1)\n",
      "Expecting:\n",
      "    Traceback (most recent call last):\n",
      "        ...\n",
      "    ValueError: n must be >= 0\n",
      "ok\n",
      "Trying:\n",
      "    factorial(30.1)\n",
      "Expecting:\n",
      "    Traceback (most recent call last):\n",
      "        ...\n",
      "    ValueError: n must be exact integer\n",
      "ok\n",
      "Trying:\n",
      "    factorial(30.0)\n",
      "Expecting:\n",
      "    265252859812191058636308480000000\n",
      "ok\n",
      "Trying:\n",
      "    factorial(1e100)\n",
      "Expecting:\n",
      "    Traceback (most recent call last):\n",
      "        ...\n",
      "    OverflowError: n too large\n",
      "ok\n",
      "1 items had no tests:\n",
      "    __main__\n",
      "1 items passed all tests:\n",
      "   6 tests in __main__.factorial\n",
      "6 tests in 2 items.\n",
      "6 passed and 0 failed.\n",
      "Test passed.\n"
     ]
    }
   ],
   "source": [
    "%run example.py -v"
   ]
  },
  {
   "cell_type": "markdown",
   "metadata": {},
   "source": [
    "Еще одно простое применение doctest - тестирование интерактивных примеров в текстовом файле. \n",
    "\n",
    "Это можно сделать с помощью функции testfile():"
   ]
  },
  {
   "cell_type": "code",
   "execution_count": 8,
   "metadata": {},
   "outputs": [
    {
     "name": "stdout",
     "output_type": "stream",
     "text": [
      "**********************************************************************\n",
      "File \"C:\\testdoc.txt\", line 14, in testdoc.txt\n",
      "Failed example:\n",
      "    factorial(6)\n",
      "Expected:\n",
      "    120\n",
      "Got:\n",
      "    720\n",
      "**********************************************************************\n",
      "1 items had failures:\n",
      "   1 of   2 in testdoc.txt\n",
      "***Test Failed*** 1 failures.\n"
     ]
    },
    {
     "data": {
      "text/plain": [
       "TestResults(failed=1, attempted=2)"
      ]
     },
     "execution_count": 8,
     "metadata": {},
     "output_type": "execute_result"
    }
   ],
   "source": [
    "import doctest\n",
    "doctest.testfile(\"C:\\\\testdoc.txt\")"
   ]
  },
  {
   "cell_type": "markdown",
   "metadata": {},
   "source": [
    "Модуль unittest"
   ]
  },
  {
   "cell_type": "markdown",
   "metadata": {},
   "source": [
    "Модуль предоставляет набор инструментов для построения и выполнения тестов."
   ]
  },
  {
   "cell_type": "markdown",
   "metadata": {},
   "source": [
    "Тестовый набор создается путем создания подклассов unittest.TestCase. Три отдельных теста определяются методами, имена которых начинаются с test. Это соглашение об именовании сообщает исполнителю тестов, какие методы представляют тесты."
   ]
  },
  {
   "cell_type": "code",
   "execution_count": 9,
   "metadata": {},
   "outputs": [
    {
     "name": "stderr",
     "output_type": "stream",
     "text": [
      "...\n",
      "----------------------------------------------------------------------\n",
      "Ran 3 tests in 0.030s\n",
      "\n",
      "OK\n"
     ]
    }
   ],
   "source": [
    "%run test3.py"
   ]
  },
  {
   "cell_type": "code",
   "execution_count": 10,
   "metadata": {},
   "outputs": [
    {
     "name": "stderr",
     "output_type": "stream",
     "text": [
      "..F.\n",
      "======================================================================\n",
      "FAIL: test_pow (__main__.CalcTests)\n",
      "----------------------------------------------------------------------\n",
      "Traceback (most recent call last):\n",
      "  File \"C:\\Users\\30042205\\Desktop\\test2.py\", line 4, in test_pow\n",
      "    self.assertEqual(pow(1, 2), 3)\n",
      "AssertionError: 1 != 3\n",
      "\n",
      "----------------------------------------------------------------------\n",
      "Ran 4 tests in 0.008s\n",
      "\n",
      "FAILED (failures=1)\n"
     ]
    },
    {
     "ename": "SystemExit",
     "evalue": "True",
     "output_type": "error",
     "traceback": [
      "An exception has occurred, use %tb to see the full traceback.\n",
      "\u001b[1;31mSystemExit\u001b[0m\u001b[1;31m:\u001b[0m True\n"
     ]
    }
   ],
   "source": [
    "%run test2.py"
   ]
  },
  {
   "cell_type": "markdown",
   "metadata": {},
   "source": [
    "Суть каждого теста - это вызов assertEqual(), чтобы проверить ожидаемый результат; assertTrue()или assertFalse() для проверки состояния; или assertRaises()чтобы убедиться, что возникает конкретное исключение."
   ]
  },
  {
   "cell_type": "code",
   "execution_count": 12,
   "metadata": {},
   "outputs": [
    {
     "name": "stderr",
     "output_type": "stream",
     "text": [
      "test_isupper (__main__.TestStringMethods) ... ok\n",
      "test_split (__main__.TestStringMethods) ... ok\n",
      "test_upper (__main__.TestStringMethods) ... ok\n",
      "\n",
      "----------------------------------------------------------------------\n",
      "Ran 3 tests in 0.034s\n",
      "\n",
      "OK\n"
     ]
    }
   ],
   "source": [
    "%run test3.py -v"
   ]
  },
  {
   "cell_type": "markdown",
   "metadata": {},
   "source": [
    "Домашнее задание \n",
    "\n",
    "Используя unittest, написать 4 теста с использованием assertEqual(), assertTrue() или assertFalse()"
   ]
  },
  {
   "cell_type": "code",
   "execution_count": null,
   "metadata": {},
   "outputs": [],
   "source": []
  }
 ],
 "metadata": {
  "kernelspec": {
   "display_name": "Python 3",
   "language": "python",
   "name": "python3"
  },
  "language_info": {
   "codemirror_mode": {
    "name": "ipython",
    "version": 3
   },
   "file_extension": ".py",
   "mimetype": "text/x-python",
   "name": "python",
   "nbconvert_exporter": "python",
   "pygments_lexer": "ipython3",
   "version": "3.7.4"
  }
 },
 "nbformat": 4,
 "nbformat_minor": 4
}

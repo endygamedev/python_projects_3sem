{
 "cells": [
  {
   "cell_type": "raw",
   "metadata": {},
   "source": [
    "                                            Модуль String"
   ]
  },
  {
   "cell_type": "raw",
   "metadata": {},
   "source": [
    "    Базовые операции:"
   ]
  },
  {
   "cell_type": "raw",
   "metadata": {},
   "source": [
    "1) Конкатенация (сложение)"
   ]
  },
  {
   "cell_type": "code",
   "execution_count": 1,
   "metadata": {},
   "outputs": [
    {
     "name": "stdout",
     "output_type": "stream",
     "text": [
      "spameggs\n"
     ]
    }
   ],
   "source": [
    "S1 = 'spam'\n",
    "S2 = 'eggs'\n",
    "print(S1 + S2)"
   ]
  },
  {
   "cell_type": "raw",
   "metadata": {},
   "source": [
    "2) Дублирование строки"
   ]
  },
  {
   "cell_type": "code",
   "execution_count": 2,
   "metadata": {},
   "outputs": [
    {
     "name": "stdout",
     "output_type": "stream",
     "text": [
      "spamspamspam\n"
     ]
    }
   ],
   "source": [
    "print('spam' * 3)"
   ]
  },
  {
   "cell_type": "raw",
   "metadata": {},
   "source": [
    "3) Длина строки (функция len)"
   ]
  },
  {
   "cell_type": "code",
   "execution_count": 3,
   "metadata": {},
   "outputs": [
    {
     "data": {
      "text/plain": [
       "4"
      ]
     },
     "execution_count": 3,
     "metadata": {},
     "output_type": "execute_result"
    }
   ],
   "source": [
    "len('spam')"
   ]
  },
  {
   "cell_type": "raw",
   "metadata": {},
   "source": [
    "4) Доступ по индексу"
   ]
  },
  {
   "cell_type": "code",
   "execution_count": 4,
   "metadata": {},
   "outputs": [
    {
     "data": {
      "text/plain": [
       "'a'"
      ]
     },
     "execution_count": 4,
     "metadata": {},
     "output_type": "execute_result"
    }
   ],
   "source": [
    "S = 'spam'\n",
    "S[-2]"
   ]
  },
  {
   "cell_type": "raw",
   "metadata": {},
   "source": [
    "5) Извлечение среза"
   ]
  },
  {
   "cell_type": "code",
   "execution_count": 5,
   "metadata": {},
   "outputs": [
    {
     "data": {
      "text/plain": [
       "'me'"
      ]
     },
     "execution_count": 5,
     "metadata": {},
     "output_type": "execute_result"
    }
   ],
   "source": [
    "s = 'spameggs'\n",
    "s[3:5]"
   ]
  },
  {
   "cell_type": "markdown",
   "metadata": {},
   "source": [
    "Кроме того, можно задать шаг, с которым нужно извлекать срез."
   ]
  },
  {
   "cell_type": "code",
   "execution_count": 6,
   "metadata": {},
   "outputs": [
    {
     "data": {
      "text/plain": [
       "'sggemaps'"
      ]
     },
     "execution_count": 6,
     "metadata": {},
     "output_type": "execute_result"
    }
   ],
   "source": [
    "s[::-1]"
   ]
  },
  {
   "cell_type": "raw",
   "metadata": {},
   "source": [
    "В Python для строк есть множество методов. Посмотреть их можно по команде dir(str), получить информацию по каждому – help(str.имя_метода). Рассмотрим наиболее интересные из них."
   ]
  },
  {
   "cell_type": "raw",
   "metadata": {},
   "source": [
    "    Методы split() и join()"
   ]
  },
  {
   "cell_type": "raw",
   "metadata": {},
   "source": [
    "Метод split осуществляет разбиение строки в массив по указанному разделителю.\n",
    "\n",
    "Разделитель указывается первым необязательным параметром. Если он не задан - вернется вся строка. Если он задан как пустые кавычки '' - то каждый символ строки попадет в отдельный элемент массива.\n",
    "\n",
    "Вторым необязательным параметром можно указать максимальное количество элементов в получившемся массиве."
   ]
  },
  {
   "cell_type": "raw",
   "metadata": {},
   "source": [
    "Синтаксис: строка.split([разделитель], [максимальное количество элементов])"
   ]
  },
  {
   "cell_type": "raw",
   "metadata": {},
   "source": [
    "Примеры:"
   ]
  },
  {
   "cell_type": "code",
   "execution_count": 7,
   "metadata": {},
   "outputs": [
    {
     "data": {
      "text/plain": [
       "['1', '2', '3']"
      ]
     },
     "execution_count": 7,
     "metadata": {},
     "output_type": "execute_result"
    }
   ],
   "source": [
    "'1,2,3'.split(',')"
   ]
  },
  {
   "cell_type": "code",
   "execution_count": 8,
   "metadata": {},
   "outputs": [
    {
     "data": {
      "text/plain": [
       "['4', '3', '23']"
      ]
     },
     "execution_count": 8,
     "metadata": {},
     "output_type": "execute_result"
    }
   ],
   "source": [
    "'40030023'.split('00')"
   ]
  },
  {
   "cell_type": "raw",
   "metadata": {},
   "source": [
    "    Метод строк join() выполняет обратное действие. Он формирует из списка строку. Поскольку это метод строки, то впереди ставится строка-разделитель, а в скобках — передается список:"
   ]
  },
  {
   "cell_type": "code",
   "execution_count": 9,
   "metadata": {},
   "outputs": [
    {
     "data": {
      "text/plain": [
       "'red-blue-orange-white'"
      ]
     },
     "execution_count": 9,
     "metadata": {},
     "output_type": "execute_result"
    }
   ],
   "source": [
    "s = ['red', 'blue', 'orange', 'white']\n",
    "'-'.join(s)"
   ]
  },
  {
   "cell_type": "raw",
   "metadata": {},
   "source": [
    "Если разделитель не нужен, то метод применяется к пустой строке:"
   ]
  },
  {
   "cell_type": "code",
   "execution_count": 10,
   "metadata": {},
   "outputs": [
    {
     "data": {
      "text/plain": [
       "'redblueorangewhite'"
      ]
     },
     "execution_count": 10,
     "metadata": {},
     "output_type": "execute_result"
    }
   ],
   "source": [
    " ''.join(s)"
   ]
  },
  {
   "cell_type": "raw",
   "metadata": {},
   "source": [
    "    Методы find() и replace()"
   ]
  },
  {
   "cell_type": "raw",
   "metadata": {},
   "source": [
    "Данные методы строк работают с подстроками. \n",
    "Метод find() ищет подстроку в строке и возвращает индекс первого элемента найденной подстроки. Если подстрока не найдена, то возвращает -1."
   ]
  },
  {
   "cell_type": "code",
   "execution_count": 11,
   "metadata": {},
   "outputs": [],
   "source": [
    "s = 'red blue orange white'"
   ]
  },
  {
   "cell_type": "code",
   "execution_count": 12,
   "metadata": {},
   "outputs": [
    {
     "data": {
      "text/plain": [
       "4"
      ]
     },
     "execution_count": 12,
     "metadata": {},
     "output_type": "execute_result"
    }
   ],
   "source": [
    "s.find('blue')"
   ]
  },
  {
   "cell_type": "code",
   "execution_count": 13,
   "metadata": {},
   "outputs": [
    {
     "data": {
      "text/plain": [
       "-1"
      ]
     },
     "execution_count": 13,
     "metadata": {},
     "output_type": "execute_result"
    }
   ],
   "source": [
    "s.find('green')"
   ]
  },
  {
   "cell_type": "raw",
   "metadata": {},
   "source": [
    "Поиск может производиться не во всей строке, а лишь на каком-то ее отрезке. В этом случае указывается первый и последний индексы отрезка. Если последний не указан, то ищется до конца строки:"
   ]
  },
  {
   "cell_type": "code",
   "execution_count": 14,
   "metadata": {},
   "outputs": [
    {
     "data": {
      "text/plain": [
       "4"
      ]
     },
     "execution_count": 14,
     "metadata": {},
     "output_type": "execute_result"
    }
   ],
   "source": [
    "letters = 'ABCDACFDA'\n",
    "letters.find('A', 3)"
   ]
  },
  {
   "cell_type": "code",
   "execution_count": 15,
   "metadata": {},
   "outputs": [
    {
     "data": {
      "text/plain": [
       "3"
      ]
     },
     "execution_count": 15,
     "metadata": {},
     "output_type": "execute_result"
    }
   ],
   "source": [
    "letters.find('DA', 0, 6)"
   ]
  },
  {
   "cell_type": "raw",
   "metadata": {},
   "source": [
    "    Метод replace() заменяет одну подстроку на другую:"
   ]
  },
  {
   "cell_type": "code",
   "execution_count": 16,
   "metadata": {},
   "outputs": [
    {
     "data": {
      "text/plain": [
       "'ABCNETCFNET'"
      ]
     },
     "execution_count": 16,
     "metadata": {},
     "output_type": "execute_result"
    }
   ],
   "source": [
    "letters.replace('DA', 'NET')"
   ]
  },
  {
   "cell_type": "raw",
   "metadata": {},
   "source": [
    "    Модуль string также предоставляет несколько полезных атрибутов:"
   ]
  },
  {
   "cell_type": "code",
   "execution_count": 17,
   "metadata": {},
   "outputs": [],
   "source": [
    "import string"
   ]
  },
  {
   "cell_type": "code",
   "execution_count": 18,
   "metadata": {},
   "outputs": [
    {
     "data": {
      "text/plain": [
       "'0123456789'"
      ]
     },
     "execution_count": 18,
     "metadata": {},
     "output_type": "execute_result"
    }
   ],
   "source": [
    "string.digits #Содержит все десятичные знаковые символы"
   ]
  },
  {
   "cell_type": "code",
   "execution_count": 19,
   "metadata": {},
   "outputs": [
    {
     "data": {
      "text/plain": [
       "'ABCDEFGHIJKLMNOPQRSTUVWXYZ'"
      ]
     },
     "execution_count": 19,
     "metadata": {},
     "output_type": "execute_result"
    }
   ],
   "source": [
    "string.ascii_uppercase #Содержит все символы ASCII верхнего регистра"
   ]
  },
  {
   "cell_type": "code",
   "execution_count": 20,
   "metadata": {},
   "outputs": [
    {
     "data": {
      "text/plain": [
       "'abcdefghijklmnopqrstuvwxyz'"
      ]
     },
     "execution_count": 20,
     "metadata": {},
     "output_type": "execute_result"
    }
   ],
   "source": [
    "string.ascii_lowercase #Содержит все символы ASCII нижнего регистра"
   ]
  },
  {
   "cell_type": "code",
   "execution_count": 7,
   "metadata": {},
   "outputs": [
    {
     "data": {
      "text/plain": [
       "'abcdefghijklmnopqrstuvwxyzABCDEFGHIJKLMNOPQRSTUVWXYZ'"
      ]
     },
     "execution_count": 7,
     "metadata": {},
     "output_type": "execute_result"
    }
   ],
   "source": [
    "string.ascii_letters #Конкатенация ascii_lowercase и ascii_uppercase"
   ]
  },
  {
   "cell_type": "code",
   "execution_count": 21,
   "metadata": {},
   "outputs": [
    {
     "data": {
      "text/plain": [
       "'01234567'"
      ]
     },
     "execution_count": 21,
     "metadata": {},
     "output_type": "execute_result"
    }
   ],
   "source": [
    "string.octdigits #Содержит все символы восьмеричной цифры"
   ]
  },
  {
   "cell_type": "code",
   "execution_count": 22,
   "metadata": {},
   "outputs": [
    {
     "data": {
      "text/plain": [
       "'0123456789abcdefABCDEF'"
      ]
     },
     "execution_count": 22,
     "metadata": {},
     "output_type": "execute_result"
    }
   ],
   "source": [
    "string.hexdigits #Содержит все символы шестнадцатеричной цифры"
   ]
  },
  {
   "cell_type": "code",
   "execution_count": 23,
   "metadata": {},
   "outputs": [
    {
     "data": {
      "text/plain": [
       "'!\"#$%&\\'()*+,-./:;<=>?@[\\\\]^_`{|}~'"
      ]
     },
     "execution_count": 23,
     "metadata": {},
     "output_type": "execute_result"
    }
   ],
   "source": [
    "string.punctuation #Содержит все символы, которые считаются пунктуацией в локали C"
   ]
  },
  {
   "cell_type": "code",
   "execution_count": 24,
   "metadata": {},
   "outputs": [
    {
     "data": {
      "text/plain": [
       "' \\t\\n\\r\\x0b\\x0c'"
      ]
     },
     "execution_count": 24,
     "metadata": {},
     "output_type": "execute_result"
    }
   ],
   "source": [
    "string.whitespace #Содержит все символы ASCII, считанные пробелами"
   ]
  },
  {
   "cell_type": "code",
   "execution_count": 25,
   "metadata": {},
   "outputs": [
    {
     "data": {
      "text/plain": [
       "'0123456789abcdefghijklmnopqrstuvwxyzABCDEFGHIJKLMNOPQRSTUVWXYZ!\"#$%&\\'()*+,-./:;<=>?@[\\\\]^_`{|}~ \\t\\n\\r\\x0b\\x0c'"
      ]
     },
     "execution_count": 25,
     "metadata": {},
     "output_type": "execute_result"
    }
   ],
   "source": [
    "string.printable #Содержит все символы, которые считаются пригодными для печати; \n",
    "                 #комбинация string.digits , string.ascii_letters , string.punctuation и string.whitespace"
   ]
  },
  {
   "cell_type": "raw",
   "metadata": {},
   "source": [
    "    Пользовательские строки форматирования"
   ]
  },
  {
   "cell_type": "raw",
   "metadata": {},
   "source": [
    "Встроенный строковый класс предоставляет возможность выполнять сложные подстановки переменных и форматирование значений с помощью format()метода. Formatter Класс в string модуле позволяет создавать и настраивать свои собственные строки форматирования поведения, используя ту же реализацию в качестве встроенного format()метода."
   ]
  },
  {
   "cell_type": "raw",
   "metadata": {},
   "source": [
    "    Форматирование строк с помощью метода format"
   ]
  },
  {
   "cell_type": "raw",
   "metadata": {},
   "source": [
    "Если для подстановки требуется только один аргумент, то значение - сам аргумент:"
   ]
  },
  {
   "cell_type": "code",
   "execution_count": 26,
   "metadata": {},
   "outputs": [
    {
     "data": {
      "text/plain": [
       "'Hello, Vasya!'"
      ]
     },
     "execution_count": 26,
     "metadata": {},
     "output_type": "execute_result"
    }
   ],
   "source": [
    "'Hello, {}!'.format('Vasya')"
   ]
  },
  {
   "cell_type": "raw",
   "metadata": {},
   "source": [
    "А если несколько, то значениями будут являться все аргументы со строками подстановки (обычных или именованных):"
   ]
  },
  {
   "cell_type": "code",
   "execution_count": 27,
   "metadata": {},
   "outputs": [
    {
     "data": {
      "text/plain": [
       "'a, b, c'"
      ]
     },
     "execution_count": 27,
     "metadata": {},
     "output_type": "execute_result"
    }
   ],
   "source": [
    "'{0}, {1}, {2}'.format('a', 'b', 'c')"
   ]
  },
  {
   "cell_type": "raw",
   "metadata": {},
   "source": [
    "                                                               Модуль textwrap"
   ]
  },
  {
   "cell_type": "raw",
   "metadata": {},
   "source": [
    "    Функции wrap и fill модуля textwrap"
   ]
  },
  {
   "cell_type": "raw",
   "metadata": {},
   "source": [
    "Модуль textwrap может использоваться для форматирования текста в ситуациях, когда требуется красиво оформленный вывод. \n",
    "Он предоставляет функциональность, аналогичную средствам автоматического выравнивания и распределения текста в пределах абзаца,\n",
    "предлагаемым многими текстовыми редакторами и издательскими системами."
   ]
  },
  {
   "cell_type": "raw",
   "metadata": {},
   "source": [
    "    Заполнение абзацев с помощью функции fill"
   ]
  },
  {
   "cell_type": "raw",
   "metadata": {},
   "source": [
    "Функция fill() получает текст в качестве входных данных и возвращает\n",
    "текст, отформатированный с учетом ширины заданной области."
   ]
  },
  {
   "cell_type": "code",
   "execution_count": 30,
   "metadata": {},
   "outputs": [],
   "source": [
    "import textwrap"
   ]
  },
  {
   "cell_type": "code",
   "execution_count": 31,
   "metadata": {},
   "outputs": [],
   "source": [
    "sample_text = '''\n",
    "    The textwrap module can be used to format text for output in\n",
    "    situations where pretty-printing is desired.  It offers\n",
    "    programmatic functionality similar to the paragraph wrapping\n",
    "    or filling features found in many text editors.\n",
    "    '''"
   ]
  },
  {
   "cell_type": "code",
   "execution_count": 32,
   "metadata": {},
   "outputs": [
    {
     "name": "stdout",
     "output_type": "stream",
     "text": [
      "     The textwrap module can be used to format\n",
      "text for output in     situations where pretty-\n",
      "printing is desired.  It offers     programmatic\n",
      "functionality similar to the paragraph wrapping\n",
      "or filling features found in many text editors.\n"
     ]
    }
   ],
   "source": [
    "print(textwrap.fill(sample_text, width=50))"
   ]
  },
  {
   "cell_type": "raw",
   "metadata": {},
   "source": [
    "    Удаление существующего отступа."
   ]
  },
  {
   "cell_type": "code",
   "execution_count": 41,
   "metadata": {},
   "outputs": [
    {
     "name": "stdout",
     "output_type": "stream",
     "text": [
      "Dedented:\n",
      "\n",
      "The textwrap module can be used to format text for output in\n",
      "situations where pretty-printing is desired.  It offers\n",
      "programmatic functionality similar to the paragraph wrapping\n",
      "or filling features found in many text editors.\n",
      "\n"
     ]
    }
   ],
   "source": [
    "dedented_text = textwrap.dedent(sample_text)\n",
    "print('Dedented:')\n",
    "print(dedented_text)"
   ]
  },
  {
   "cell_type": "raw",
   "metadata": {},
   "source": [
    "    Объединение Dedent и Fill. "
   ]
  },
  {
   "cell_type": "raw",
   "metadata": {},
   "source": [
    "Затем можно передать выделенный текст fill()с несколькими разными width значениями"
   ]
  },
  {
   "cell_type": "code",
   "execution_count": 33,
   "metadata": {},
   "outputs": [
    {
     "name": "stdout",
     "output_type": "stream",
     "text": [
      "45 Columns:\n",
      "\n",
      "The textwrap module can be used to format\n",
      "text for output in situations where pretty-\n",
      "printing is desired.  It offers programmatic\n",
      "functionality similar to the paragraph\n",
      "wrapping or filling features found in many\n",
      "text editors.\n",
      "\n",
      "60 Columns:\n",
      "\n",
      "The textwrap module can be used to format text for output in\n",
      "situations where pretty-printing is desired.  It offers\n",
      "programmatic functionality similar to the paragraph wrapping\n",
      "or filling features found in many text editors.\n",
      "\n"
     ]
    }
   ],
   "source": [
    "dedented_text = textwrap.dedent(sample_text).strip()\n",
    "for width in [45, 60]:\n",
    "    print('{} Columns:\\n'.format(width))\n",
    "    print(textwrap.fill(dedented_text, width=width))\n",
    "    print()"
   ]
  },
  {
   "cell_type": "raw",
   "metadata": {},
   "source": [
    "    Отступы блоков."
   ]
  },
  {
   "cell_type": "raw",
   "metadata": {},
   "source": [
    "Используйте indent() функцию, чтобы добавить согласованный префиксный текст ко всем строкам в строке. \n",
    "Этот пример форматирует тот же текст примера, как если бы он был частью сообщения электронной почты, цитируемого в ответе,\n",
    "используя в качестве префикса для каждой строки."
   ]
  },
  {
   "cell_type": "code",
   "execution_count": 39,
   "metadata": {},
   "outputs": [
    {
     "name": "stdout",
     "output_type": "stream",
     "text": [
      "Quoted block:\n",
      "\n",
      "|  The textwrap module can\n",
      "| be used to format text for\n",
      "| output in situations where\n",
      "| pretty-printing is\n",
      "| desired.  It offers\n",
      "| programmatic functionality\n",
      "| similar to the paragraph\n",
      "| wrapping or filling\n",
      "| features found in many\n",
      "| text editors.\n",
      "\n",
      "| Second paragraph after a blank line.\n"
     ]
    }
   ],
   "source": [
    "dedented_text = textwrap.dedent(sample_text)\n",
    "wrapped = textwrap.fill(dedented_text, width = 26)\n",
    "wrapped += '\\n\\nSecond paragraph after a blank line.'\n",
    "final = textwrap.indent(wrapped, '| ')\n",
    "\n",
    "print('Quoted block:\\n')\n",
    "print(final)"
   ]
  },
  {
   "cell_type": "raw",
   "metadata": {},
   "source": [
    "    Висячие отступы."
   ]
  },
  {
   "cell_type": "raw",
   "metadata": {},
   "source": [
    "Точно так же, как можно установить ширину вывода, отступ первой строки можно контролировать независимо от последующих строк."
   ]
  },
  {
   "cell_type": "code",
   "execution_count": 35,
   "metadata": {},
   "outputs": [
    {
     "name": "stdout",
     "output_type": "stream",
     "text": [
      "The textwrap module can be used to format text for\n",
      "    output in situations where pretty-printing is\n",
      "    desired.  It offers programmatic functionality\n",
      "    similar to the paragraph wrapping or filling\n",
      "    features found in many text editors.\n"
     ]
    }
   ],
   "source": [
    "dedented_text = textwrap.dedent(sample_text).strip()\n",
    "print(textwrap.fill(dedented_text,\n",
    "                    initial_indent='',\n",
    "                    subsequent_indent=' ' * 4,\n",
    "                    width=50,\n",
    "                    ))"
   ]
  },
  {
   "cell_type": "raw",
   "metadata": {},
   "source": [
    "    Усечение длинного текста."
   ]
  },
  {
   "cell_type": "raw",
   "metadata": {},
   "source": [
    "Чтобы обрезать текст для создания сводки или предварительного просмотра, используйте shorten(). Все существующие пробелы, такие как табуляции, новые строки и серии из нескольких пробелов, будут стандартизированы до одного пробела. Затем текст будет усечен до длины, меньшей или равной запрошенной, между границами слов, чтобы не включать частичные слова."
   ]
  },
  {
   "cell_type": "code",
   "execution_count": 36,
   "metadata": {},
   "outputs": [
    {
     "name": "stdout",
     "output_type": "stream",
     "text": [
      "Original:\n",
      "\n",
      " The textwrap module can be used to format text\n",
      "for output in situations where pretty-printing is\n",
      "desired.  It offers programmatic functionality\n",
      "similar to the paragraph wrapping or filling\n",
      "features found in many text editors.\n",
      "\n",
      "Shortened:\n",
      "\n",
      "The textwrap module can be used to format text for\n",
      "output in situations where pretty-printing [...]\n"
     ]
    }
   ],
   "source": [
    "dedented_text = textwrap.dedent(sample_text)\n",
    "original = textwrap.fill(dedented_text, width=50)\n",
    "\n",
    "print('Original:\\n')\n",
    "print(original)\n",
    "\n",
    "shortened = textwrap.shorten(original, 100)\n",
    "shortened_wrapped = textwrap.fill(shortened, width=50)\n",
    "\n",
    "print('\\nShortened:\\n')\n",
    "print(shortened_wrapped)"
   ]
  },
  {
   "cell_type": "raw",
   "metadata": {},
   "source": [
    "Если непробельный текст удаляется из исходного текста как часть усечения, он заменяется значением заполнителя. Значение по умолчанию [...]можно заменить, указав placeholder аргумент shorten()."
   ]
  },
  {
   "cell_type": "raw",
   "metadata": {},
   "source": [
    "Задание.\n",
    "Нужно ввести предложение и сделать динамическую границу вокруг этого предложения. Граница должна иметь ширину, которая вводится. Когда длина предложения превышает заданную ширину, необходимо напечатать новую строку и изменить высоту границы . Предложение также должно быть центрировано в динамической границе."
   ]
  },
  {
   "cell_type": "raw",
   "metadata": {},
   "source": [
    "Ввод: \n",
    "sentence = \"You are only young once, but you can stay immature indefinitely.\"\n",
    "width = 26\n",
    " \n",
    "Вывод: https://sun9-51.userapi.com/_qRZ1Zqd1LonD1PgP5wZqQrMjFujxr3BQi5TCQ/7EWJD-rY1cM.jpg"
   ]
  },
  {
   "cell_type": "raw",
   "metadata": {},
   "source": [
    "                                                            Модуль re"
   ]
  },
  {
   "cell_type": "raw",
   "metadata": {},
   "source": [
    "    Регулярное выражение конструируется на основе строки, представляющей шаблон. \n",
    "Функциональность регулярных выражений позволяет сравнивать с шаблоном любую строку и находить те ее части, \n",
    "которые соответствуют данному шаблону."
   ]
  },
  {
   "cell_type": "code",
   "execution_count": null,
   "metadata": {},
   "outputs": [],
   "source": [
    "Чаще всего регулярные выражения используются для:\n",
    "- поиска в строке;\n",
    "- разбиения строки на подстроки;\n",
    "- замены части строки."
   ]
  },
  {
   "cell_type": "raw",
   "metadata": {},
   "source": [
    "Основные функции модуля re:\n",
    "1) match() - ищет последовательность в начале строки\n",
    "2) search() - ищет первое совпадение с шаблоном\n",
    "3) findall() - ищет все совпадения с шаблоном. Возвращает результирующие строки в виде списка\n",
    "4) split() - для разделения строки на части\n",
    "5) sub() - для замены в строках\n",
    "5) compile() - компилирует регулярное выражение. К этому объекту затем можно применять все перечисленные функции\n",
    "6) fullmatch() - вся строка должна соответствовать описанному регулярному выражению"
   ]
  },
  {
   "cell_type": "raw",
   "metadata": {},
   "source": [
    "1) re.match(pattern, string):\n",
    "Этот метод ищет последовательность по заданному шаблону в начале строки. Например, если мы вызовем метод match() на строке «AV Analytics AV» с шаблоном «AV», то он завершится успешно. Однако если мы будем искать «Analytics», то результат будет отрицательный."
   ]
  },
  {
   "cell_type": "code",
   "execution_count": 4,
   "metadata": {},
   "outputs": [
    {
     "name": "stdout",
     "output_type": "stream",
     "text": [
      "<re.Match object; span=(0, 2), match='AV'>\n"
     ]
    }
   ],
   "source": [
    "import re\n",
    "result = re.match(r'AV', 'AV Analytics Vidhya AV')\n",
    "print (result)"
   ]
  },
  {
   "cell_type": "code",
   "execution_count": 6,
   "metadata": {},
   "outputs": [
    {
     "name": "stdout",
     "output_type": "stream",
     "text": [
      "AV\n"
     ]
    }
   ],
   "source": [
    "result = re.match(r'AV', 'AV Analytics Vidhya AV')\n",
    "print (result.group(0))"
   ]
  },
  {
   "cell_type": "code",
   "execution_count": 7,
   "metadata": {},
   "outputs": [
    {
     "name": "stdout",
     "output_type": "stream",
     "text": [
      "None\n"
     ]
    }
   ],
   "source": [
    "result = re.match(r'Analytics', 'AV Analytics Vidhya AV')\n",
    "print (result)"
   ]
  },
  {
   "cell_type": "raw",
   "metadata": {},
   "source": [
    "Также есть методы start() и end() для того, чтобы узнать начальную и конечную позицию найденной строки."
   ]
  },
  {
   "cell_type": "code",
   "execution_count": 8,
   "metadata": {},
   "outputs": [
    {
     "name": "stdout",
     "output_type": "stream",
     "text": [
      "0\n",
      "2\n"
     ]
    }
   ],
   "source": [
    "result = re.match(r'AV', 'AV Analytics Vidhya AV')\n",
    "print (result.start())\n",
    "print (result.end())"
   ]
  },
  {
   "cell_type": "raw",
   "metadata": {},
   "source": [
    "2) re.search(pattern, string)\n",
    "Этот метод похож на match(), но он ищет не только в начале строки. В отличие от предыдущего, search() вернет объект, если мы попытаемся найти «Analytics»."
   ]
  },
  {
   "cell_type": "code",
   "execution_count": 10,
   "metadata": {},
   "outputs": [
    {
     "name": "stdout",
     "output_type": "stream",
     "text": [
      "Analytics\n"
     ]
    }
   ],
   "source": [
    "result = re.search(r'Analytics', 'AV Analytics Vidhya AV')\n",
    "print (result.group(0))"
   ]
  },
  {
   "cell_type": "raw",
   "metadata": {},
   "source": [
    "3) re.findall(pattern, string)\n",
    "Этот метод возвращает список всех найденных совпадений. У метода findall() нет ограничений на поиск в начале или конце строки. Если мы будем искать «AV» в нашей строке, он вернет все вхождения «AV»."
   ]
  },
  {
   "cell_type": "code",
   "execution_count": 11,
   "metadata": {},
   "outputs": [
    {
     "name": "stdout",
     "output_type": "stream",
     "text": [
      "['AV', 'AV']\n"
     ]
    }
   ],
   "source": [
    "result = re.findall(r'AV', 'AV Analytics Vidhya AV')\n",
    "print (result)"
   ]
  },
  {
   "cell_type": "raw",
   "metadata": {},
   "source": [
    "4) re.split(pattern, string, [maxsplit=0]):\n",
    "Этот метод разделяет строку по заданному шаблону."
   ]
  },
  {
   "cell_type": "code",
   "execution_count": 12,
   "metadata": {},
   "outputs": [
    {
     "name": "stdout",
     "output_type": "stream",
     "text": [
      "['Anal', 'tics']\n"
     ]
    }
   ],
   "source": [
    "result = re.split(r'y', 'Analytics')\n",
    "print (result)"
   ]
  },
  {
   "cell_type": "code",
   "execution_count": 13,
   "metadata": {},
   "outputs": [
    {
     "name": "stdout",
     "output_type": "stream",
     "text": [
      "['Analyt', 'cs V', 'dhya']\n"
     ]
    }
   ],
   "source": [
    "result = re.split(r'i', 'Analytics Vidhya')\n",
    "print (result) # все возможные участки"
   ]
  },
  {
   "cell_type": "code",
   "execution_count": 15,
   "metadata": {},
   "outputs": [
    {
     "name": "stdout",
     "output_type": "stream",
     "text": [
      "['Analyt', 'cs Vidhya']\n"
     ]
    }
   ],
   "source": [
    "result = re.split(r'i', 'Analytics Vidhya',maxsplit=1)\n",
    "print (result)"
   ]
  },
  {
   "cell_type": "raw",
   "metadata": {},
   "source": [
    "Мы установили параметр maxsplit равным 1, и в результате строка была разделена на две части вместо трех."
   ]
  },
  {
   "cell_type": "raw",
   "metadata": {},
   "source": [
    "5) re.sub(pattern, repl, string):\n",
    "Этот метод ищет шаблон в строке и заменяет его на указанную подстроку. Если шаблон не найден, строка остается неизменной."
   ]
  },
  {
   "cell_type": "code",
   "execution_count": 16,
   "metadata": {},
   "outputs": [
    {
     "name": "stdout",
     "output_type": "stream",
     "text": [
      "AV is largest Analytics community of the World\n"
     ]
    }
   ],
   "source": [
    "result = re.sub(r'India', 'the World', 'AV is largest Analytics community of India')\n",
    "print (result)"
   ]
  },
  {
   "cell_type": "raw",
   "metadata": {},
   "source": [
    "6) re.compile(pattern, repl, string):\n",
    "Мы можем собрать регулярное выражение в отдельный объект, который может быть использован для поиска. Это также избавляет от переписывания одного и того же выражения."
   ]
  },
  {
   "cell_type": "code",
   "execution_count": 17,
   "metadata": {},
   "outputs": [
    {
     "name": "stdout",
     "output_type": "stream",
     "text": [
      "['AV', 'AV']\n",
      "['AV']\n"
     ]
    }
   ],
   "source": [
    "pattern = re.compile('AV')\n",
    "result = pattern.findall('AV Analytics Vidhya AV')\n",
    "print (result)\n",
    "result2 = pattern.findall('AV is largest analytics community of India')\n",
    "print (result2)"
   ]
  },
  {
   "cell_type": "raw",
   "metadata": {},
   "source": [
    "Метод fullmatch() требует, чтобы вся входная строка соответствовала шаблону."
   ]
  },
  {
   "cell_type": "code",
   "execution_count": 9,
   "metadata": {},
   "outputs": [
    {
     "name": "stdout",
     "output_type": "stream",
     "text": [
      "Text       : This is some text -- with punctuation.\n",
      "Pattern    : is\n",
      "Search     : <re.Match object; span=(2, 4), match='is'>\n",
      "Full match : None\n"
     ]
    }
   ],
   "source": [
    "text = 'This is some text -- with punctuation.'\n",
    "pattern = 'is'\n",
    "\n",
    "print('Text       :', text)\n",
    "print('Pattern    :', pattern)\n",
    "\n",
    "m = re.search(pattern, text)\n",
    "print('Search     :', m)\n",
    "s = re.fullmatch(pattern, text)\n",
    "print('Full match :', s)"
   ]
  },
  {
   "cell_type": "raw",
   "metadata": {},
   "source": [
    "Здесь search() показывает, что шаблон действительно появляется во входных данных, но он не использует все входные данные, поэтому fullmatch()не сообщает о совпадении."
   ]
  },
  {
   "cell_type": "raw",
   "metadata": {},
   "source": [
    "    Коды."
   ]
  },
  {
   "cell_type": "raw",
   "metadata": {},
   "source": [
    "Еще более компактное представление использует escape-коды для нескольких предопределенных наборов символов. Коды выхода, распознаваемые с помощью re, перечислены в таблице ниже."
   ]
  },
  {
   "cell_type": "raw",
   "metadata": {},
   "source": [
    " Код             Смысл\n",
    "\\d           цифра\n",
    "\\D           нецифровый\n",
    "\\s           пробелы (табуляция, пробел, новая строка и т. д.)\n",
    "\\S           непробельный\n",
    "\\w           буквенно-цифровой\n",
    "\\W           не буквенно-цифровой"
   ]
  },
  {
   "cell_type": "raw",
   "metadata": {},
   "source": [
    "Задание.\n",
    "Дана строка, содержащая натуральные числа и слова. Необходимо сформировать список из чисел, содержащихся в этой строке. Например, задана строка \"abc83 cde7 1 b 24\". На выходе мы должны получить список [83, 7, 1, 24]"
   ]
  },
  {
   "cell_type": "raw",
   "metadata": {},
   "source": [
    "                                                            Модуль difflib"
   ]
  },
  {
   "cell_type": "raw",
   "metadata": {},
   "source": [
    "Модуль difflib содержит классы и функции для сравнения последовательностей. Модуль может быть использован, для сравнения текста и включает в себя классы и функции, которые создают отчеты в нескольких распространенных форматах, включая HTML."
   ]
  },
  {
   "cell_type": "raw",
   "metadata": {},
   "source": [
    "Основные функции модуля difflib:\n",
    "1) context_diff()\n",
    "2) ndiff()\n",
    "3) get_close_matches()\n",
    "4) restore()\n",
    "А также два класса: Класс Differ() и  Класс SequenceMatcher()"
   ]
  },
  {
   "cell_type": "raw",
   "metadata": {},
   "source": [
    "1) Функция context_diff() модуля difflib сравнивает a и b - списки строк и возвращает дельту - генератор дельта-строк в формате context_diff()."
   ]
  },
  {
   "cell_type": "raw",
   "metadata": {},
   "source": [
    "Пример использования:"
   ]
  },
  {
   "cell_type": "code",
   "execution_count": 13,
   "metadata": {},
   "outputs": [
    {
     "name": "stdout",
     "output_type": "stream",
     "text": [
      "*** before.py\n",
      "--- after.py\n",
      "***************\n",
      "*** 1,4 ****\n",
      "! bacon\n",
      "! eggs\n",
      "! ham\n",
      "  guido\n",
      "--- 1,4 ----\n",
      "! python\n",
      "! eggy\n",
      "! hamster\n",
      "  guido\n"
     ]
    }
   ],
   "source": [
    "import sys, difflib as df\n",
    "s1 = ['bacon\\n', 'eggs\\n', 'ham\\n', 'guido\\n']\n",
    "s2 = ['python\\n', 'eggy\\n', 'hamster\\n', 'guido\\n']\n",
    "diff = df.context_diff(s1, s2, fromfile='before.py', tofile='after.py')\n",
    "sys.stdout.writelines(diff)"
   ]
  },
  {
   "cell_type": "raw",
   "metadata": {},
   "source": [
    "2) Функция ndiff() модуля difflib сравнивает списки строк a и b и возвращает список строк с указанием различий в строках как генератор строк дельты в стиле Unix утилиты 'diff'."
   ]
  },
  {
   "cell_type": "raw",
   "metadata": {},
   "source": [
    "Пример использования:"
   ]
  },
  {
   "cell_type": "code",
   "execution_count": 14,
   "metadata": {},
   "outputs": [
    {
     "name": "stdout",
     "output_type": "stream",
     "text": [
      "- one\n",
      "?  ^\n",
      "+ ore\n",
      "?  ^\n",
      "- two\n",
      "- three\n",
      "?  -\n",
      "+ tree\n",
      "+ emu\n"
     ]
    }
   ],
   "source": [
    "import difflib\n",
    "txt1 = 'one\\ntwo\\nthree\\n'.splitlines(keepends=True)\n",
    "txt2 = 'ore\\ntree\\nemu\\n'.splitlines(keepends=True)\n",
    "diff = difflib.ndiff(txt1, txt2)\n",
    "print(''.join(diff), end=\"\")"
   ]
  },
  {
   "cell_type": "raw",
   "metadata": {},
   "source": [
    "3) Функция get_close_matches() модуля difflib вернет список лучших совпадений из списка possibilities.\n",
    "(word - это последовательность, для которой требуется найти близкое совпадение - обычно это строка, а possibilities - это список последовательностей - обычно это список строк, с которыми сопоставляется word)."
   ]
  },
  {
   "cell_type": "raw",
   "metadata": {},
   "source": [
    "Пример использования:"
   ]
  },
  {
   "cell_type": "code",
   "execution_count": 18,
   "metadata": {},
   "outputs": [
    {
     "data": {
      "text/plain": [
       "['apple', 'ape']"
      ]
     },
     "execution_count": 18,
     "metadata": {},
     "output_type": "execute_result"
    }
   ],
   "source": [
    "import difflib\n",
    "difflib.get_close_matches('appel', ['ape', 'apple', 'peach', 'puppy'])"
   ]
  },
  {
   "cell_type": "raw",
   "metadata": {},
   "source": [
    "4) Функция restore() модуля difflib вернет одну из двух последовательностей, которые сгенерировали дельту.\n",
    "\n",
    "Функция restore() принимает последовательность sequence, созданную с помощью класса Differ.compare() или функцией ndiff(), извлекает строки, происходящие из строк 1 или 2 - параметр which, при этом префиксы различий удаляются. (sequence - последовательность, созданная с помощью класса Differ.compare() или функцией ndiff(), which - 1 или 2 - это первая или вторая строка, переданные в Differ.compare() или ndiff())."
   ]
  },
  {
   "cell_type": "raw",
   "metadata": {},
   "source": [
    "Пример использования:"
   ]
  },
  {
   "cell_type": "code",
   "execution_count": 15,
   "metadata": {},
   "outputs": [],
   "source": [
    "txt_list1 = 'one\\ntwo\\nthree\\n'.splitlines(keepends=True)\n",
    "txt_list2 = 'ore\\ntree\\nemu\\n'.splitlines(keepends=True)\n",
    "diff = difflib.ndiff(txt_list1, txt_list2)"
   ]
  },
  {
   "cell_type": "code",
   "execution_count": 16,
   "metadata": {},
   "outputs": [
    {
     "name": "stdout",
     "output_type": "stream",
     "text": [
      "one\n",
      "two\n",
      "three\n"
     ]
    }
   ],
   "source": [
    "# преобразовать сгенерированную дельту в список в список\n",
    "diff = list(diff) \n",
    "print(''.join(difflib.restore(diff, 1)), end=\"\")"
   ]
  },
  {
   "cell_type": "code",
   "execution_count": 17,
   "metadata": {},
   "outputs": [
    {
     "name": "stdout",
     "output_type": "stream",
     "text": [
      "ore\n",
      "tree\n",
      "emu\n"
     ]
    }
   ],
   "source": [
    "print(''.join(difflib.restore(diff, 2)), end=\"\")"
   ]
  },
  {
   "cell_type": "raw",
   "metadata": {},
   "source": [
    "    Класс Differ() модуля difflib"
   ]
  },
  {
   "cell_type": "raw",
   "metadata": {},
   "source": [
    "Класс Differ() модуля difflib сравнивает списки строк a и b и возвращает список строк с указанием различий в строках как генератор строк понятных человеку."
   ]
  },
  {
   "cell_type": "raw",
   "metadata": {},
   "source": [
    "Каждая строка класса Differ() дельты начинается с двухбуквенного кода:\n",
    "'- ' - строка, уникальная для последовательности 1\n",
    "'+ ' - строка, уникальная для последовательности 2\n",
    "' ' - линия, общая для обеих последовательностей\n",
    "'? ' - строка не присутствует ни в одной из входных последовательностей"
   ]
  },
  {
   "cell_type": "raw",
   "metadata": {},
   "source": [
    "Строки, начинающиеся с '? ', пытаются направить взгляд на внутрипочвенные различия и не присутствуют ни в одной из входных последовательностей. Эти строки могут сбивать с толку, если последовательности содержат символы табуляции."
   ]
  },
  {
   "cell_type": "raw",
   "metadata": {},
   "source": [
    "Пример использования:"
   ]
  },
  {
   "cell_type": "code",
   "execution_count": 36,
   "metadata": {},
   "outputs": [],
   "source": [
    "txt1 = '''  1. Beautiful is better than ugly.\n",
    "  2. Explicit is better than implicit.\n",
    "  3. Simple is better than complex.\n",
    "  4. Complex is better than complicated.\n",
    "'''\n",
    "txt2 = '''  1. Beautiful is better than ugly.\n",
    "  3.   Simple is better than complex.\n",
    "  4. Complicated is better than complex.\n",
    "  5. Flat is better than nested.\n",
    "'''\n",
    "text1 = txt1.splitlines(keepends=True)\n",
    "text2 = txt2.splitlines(keepends=True)"
   ]
  },
  {
   "cell_type": "raw",
   "metadata": {},
   "source": [
    "Создадим экземпляр объекта Differ:"
   ]
  },
  {
   "cell_type": "code",
   "execution_count": 24,
   "metadata": {},
   "outputs": [],
   "source": [
    "import difflib as df\n",
    "d = df.Differ()"
   ]
  },
  {
   "cell_type": "raw",
   "metadata": {},
   "source": [
    "Теперь сравним:"
   ]
  },
  {
   "cell_type": "code",
   "execution_count": 35,
   "metadata": {},
   "outputs": [],
   "source": [
    "result = list(d.compare(text1, text2))"
   ]
  },
  {
   "cell_type": "code",
   "execution_count": 37,
   "metadata": {},
   "outputs": [
    {
     "name": "stdout",
     "output_type": "stream",
     "text": [
      "['    1. Beautiful is better than ugly.\\n',\n",
      " '-   2. Explicit is better than implicit.\\n',\n",
      " '-   3. Simple is better than complex.\\n',\n",
      " '+   3.   Simple is better than complex.\\n',\n",
      " '?     ++\\n',\n",
      " '-   4. Complex is better than complicated.\\n',\n",
      " '?            ^                     ---- ^\\n',\n",
      " '+   4. Complicated is better than complex.\\n',\n",
      " '?           ++++ ^                      ^\\n',\n",
      " '+   5. Flat is better than nested.\\n']\n"
     ]
    }
   ],
   "source": [
    "from pprint import pprint as prt\n",
    "prt(result)"
   ]
  },
  {
   "cell_type": "raw",
   "metadata": {},
   "source": [
    "Задание.\n",
    "Выделите общую часть из двух строк с помошью модуля difflib:\n",
    "s1 = u'А роза упала на лапу Азора'\n",
    "s2 = u'Дай, Джим, на счастье лапу мне' "
   ]
  }
 ],
 "metadata": {
  "kernelspec": {
   "display_name": "Python 3",
   "language": "python",
   "name": "python3"
  },
  "language_info": {
   "codemirror_mode": {
    "name": "ipython",
    "version": 3
   },
   "file_extension": ".py",
   "mimetype": "text/x-python",
   "name": "python",
   "nbconvert_exporter": "python",
   "pygments_lexer": "ipython3",
   "version": "3.8.5"
  }
 },
 "nbformat": 4,
 "nbformat_minor": 4
}
